{
 "cells": [
  {
   "cell_type": "markdown",
   "metadata": {},
   "source": [
    "# Instructor Turn: Activity 1 Mean Median Mode \n",
    "\n",
    "### Prices\n",
    "\n",
    "The best measure for summarizing the price of electronics is the **median**, 425.\n",
    "\n",
    "The mean is a poor choice, because the extreme prices of 4 and 2932 skew the average. The mode is also insufficient, as all prices occur exactly once.\n",
    "\n",
    "### Bootcamp Ages\n",
    "\n",
    "The best measures for summarizing the ages of Bootcamp students are the **mean**, 36, and the **median**, also 36.\n",
    "\n",
    "The mean is a good choice, because the lowest and highest ages are not substantially higher or lower than the average. The median is also a good choice, as it returns the same result, and would not change if there _were_ extreme ages in the data set.\n",
    "\n",
    "### Children's Party Ages\n",
    "\n",
    "The best measure for summarizing the ages of children and chaperones at a birthday party is the **mode**.\n",
    "\n",
    "The mean, 19, is a poor choice, because it characterizes the average attendee as a teenager, when no one at the party is older than 6 or younger than 35.\n",
    "\n",
    "The median, 6, works well in this case. _But_, it is fragile: If we had just one more 34 year old parent, the median would be 34, _not_ 6.\n",
    "\n",
    "### Geography Test Scores\n",
    "\n",
    "The best measure for summarizing this test score data is the **mean**, since the lowest and highest scores are close to the average. The median is also a good choice.\n",
    "\n",
    "The mode is not particularly informative, because all test scores occur exactly once.\n",
    "\n",
    "### Quantum Mechanics Test Scores\n",
    "\n",
    "Finally, the best measures for summarizing this test score data are the **median** and the **mode**.\n",
    "\n",
    "The median, 58, gives a fairly good description of how the test went for the class. Some students scored very low (scores of 8 and 13); one scored very high (98); and the rest were somewhere in the middle, which the median detects.\n",
    "\n",
    "In this case, the mean, 45, would reveal similar information — that the class mostly did poorly — but does not give the best picture as to what scores students actually ended up with."
   ]
  },
  {
   "cell_type": "markdown",
   "metadata": {},
   "source": [
    "# Dependencies from the stats.py provided\n",
    "\n",
    "```python\n",
    "from collections import Counter\n",
    "\n",
    "def mean(arr):\n",
    "    \"\"\"\n",
    "    Calculates the mean of a list of numbers.\n",
    "    Usage: mean([3, 4, 5, 6, 7]) # 5 \"\"\"\n",
    "\n",
    "    return sum(arr) / len(arr)\n",
    "\n",
    "\n",
    "def median(arr):\n",
    "    \"\"\"Calculates the median of a list of numbers.\n",
    "    Usage: median([3, 4, 5, 6, 7]) # 5\"\"\"\n",
    "    arr.sort()\n",
    "    if len(arr) % 2 == 1:\n",
    "        return arr[len(arr) // 2]\n",
    "    else:\n",
    "        mid1 = len(arr) // 2\n",
    "        mid2 = mid1 - 1\n",
    "        return (arr[mid1] + arr[mid2])/2\n",
    "\n",
    "\n",
    "def mode(arr):\n",
    "    \"\"\"Calculates the mode of a list of numbers as a tuple containing the\n",
    "    most frequently occurring element in the first slot, and the number\n",
    "    of times it occurs in the second. If there are multiple modes,\n",
    "    returns only one.\n",
    "    Usage: mode([1, 1, 2, 3]) # (1, 2)\"\"\"\n",
    "    return Counter(arr).most_common(1)[0]\n",
    "\n",
    "\n",
    "def multi_mode(arr):\n",
    "    \"\"\"Calculates the mode of a list of numbers as an array of tuples\n",
    "    containing the most frequently occurring elements. Each tuple\n",
    "    contains the item itself in the first slot, and the number of times\n",
    "    it occurs in the second. If there are multiple modes, returns all.\n",
    "    Usage: mode([1, 1, 2, 2, 3]) # [(1, 2), (2, 2)]\"\"\"\n",
    "\n",
    "    # Count items\n",
    "    counter = Counter(arr)\n",
    "\n",
    "    # Get number of times most frequently occurring item appears\n",
    "    freq = counter.most_common(1)[0][1]\n",
    "\n",
    "    # Return list of tuples containing most frequently occurring elements\n",
    "    return [(key, val) for key, val in counter.items() if val == freq]\n",
    "```"
   ]
  },
  {
   "cell_type": "code",
   "execution_count": 1,
   "metadata": {},
   "outputs": [],
   "source": [
    "# Dependencies\n",
    "# this is imported from the stats.py file already created it is not a built in python function \n",
    "from stats import mean, median, mode, multi_mode"
   ]
  },
  {
   "cell_type": "code",
   "execution_count": 2,
   "metadata": {},
   "outputs": [
    {
     "name": "stdout",
     "output_type": "stream",
     "text": [
      "Median Price: 425\n"
     ]
    }
   ],
   "source": [
    "# Prices of random electronics at Best Buy\n",
    "prices = [4, 425, 984, 2932, 49]\n",
    "print(f\"Median Price: {median(prices)}\")"
   ]
  },
  {
   "cell_type": "code",
   "execution_count": 3,
   "metadata": {},
   "outputs": [
    {
     "name": "stdout",
     "output_type": "stream",
     "text": [
      "Mean Bootcamp Age: 36.666666666666664\n",
      "Median Bootcamp Age: 35.5\n"
     ]
    }
   ],
   "source": [
    "# Ages of students in bootcamp\n",
    "bootcamp_classroom_ages = [27, 35, 42, 52, 36, 28]\n",
    "print(f\"Mean Bootcamp Age: {mean(bootcamp_classroom_ages)}\")\n",
    "print(f\"Median Bootcamp Age: {median(bootcamp_classroom_ages)}\")"
   ]
  },
  {
   "cell_type": "code",
   "execution_count": 4,
   "metadata": {},
   "outputs": [
    {
     "name": "stdout",
     "output_type": "stream",
     "text": [
      "Mode of Birthday Party Ages: 19.142857142857142\n"
     ]
    }
   ],
   "source": [
    "# Ages of children and parents at child's party# Ages  \n",
    "birthday_party_ages = [6, 5, 6, 6, 35, 42, 34]\n",
    "print(f\"Mode of Birthday Party Ages: {mean(birthday_party_ages)}\")"
   ]
  },
  {
   "cell_type": "code",
   "execution_count": 5,
   "metadata": {},
   "outputs": [
    {
     "name": "stdout",
     "output_type": "stream",
     "text": [
      "Mean of Geography Test Scores: 91.0\n"
     ]
    }
   ],
   "source": [
    "# Test score from a 2nd grade geography test\n",
    "geo_grades = [87, 89, 91, 93, 95]\n",
    "print(f\"Mean of Geography Test Scores: {mean(geo_grades)}\")"
   ]
  },
  {
   "cell_type": "code",
   "execution_count": 6,
   "metadata": {},
   "outputs": [
    {
     "name": "stdout",
     "output_type": "stream",
     "text": [
      "Median of QM Grades: 58\n",
      "Modes of QM Grades: [(13, 2), (63, 2)]\n",
      "45.142857142857146\n"
     ]
    }
   ],
   "source": [
    "# Test scores from a graduate quantum mechanics midterm\n",
    "quantum_grades = [63, 63, 98, 13, 58, 13, 8]\n",
    "print(f\"Median of QM Grades: {median(quantum_grades)}\")\n",
    "print(f\"Modes of QM Grades: {multi_mode(quantum_grades)}\")\n",
    "print(mean(quantum_grades))"
   ]
  },
  {
   "cell_type": "markdown",
   "metadata": {},
   "source": [
    "# Instructors Turn Activity 2 Variance and Z Score\n",
    "\n",
    "* Consider these two lists: [3, 4, 5, 6, 7] and [-1525, -200, 5, 745, 1000].\n",
    "    * For both of these data sets, the mean and median are 5 — but they are obviously different!\n",
    "    * Data sets are different in how spread out the data is, something that the mean, median, and mode cannot capture.\n",
    "* Variance of a data set is a single number that describes how \"far apart\" its values are. \n",
    "* The average of the squared differences from the Mean.\n",
    "\n",
    "![alt text](http://www.statisticshowto.com/wp-content/uploads/2009/08/usual.png)\n",
    "\n",
    "#### Example [17, 15, 23, 7, 9, 13 ] \n",
    "##### Step 1: Calculate mean\n",
    "##### mean: 14\n",
    "##### Step 2:  Subtract the mean from each data point. \n",
    "##### x1 - x:  (17 - 14)   =  3\n",
    "##### x2 - x: (15 - 14)    =  1\n",
    "##### x3 - x: (23 - 14)    =  9\n",
    "##### x4 - x: (7 - 14)      = -7\n",
    "##### x5 - x: (9 - 14)      = -5\n",
    "##### x6 - x: (13 - 14)    = -1\n",
    "##### Step 3: Square each result\n",
    "##### (x1 - x )^2 = (17 - 14)^2 = 3^2 = 9\n",
    "##### (x2 - x )^2 = (15 - 14)^2 = 1^2 = 1\n",
    "##### (x3 - x )^2 = (23 - 14)^2 = 9^2 = 81\n",
    "##### (x4 - x )^2 = (7 - 14)^2 = -7^2 = 49\n",
    "##### (x5 - x )^2 = (9 - 14)^2 = (-5^2) = 25\n",
    "##### (x6 - x )^2 = (13 - 14)^2 = -1^2 = 1\n",
    "#### Step 4: Find the sum of the squared values. \n",
    "#### 9 + 1 + 81 + 49 + 25 + 1 = 166\n",
    "#### Step 5: Divide by n - 1, where n is the number of data points.\n",
    "#### 166 / (7 - 1) = 33.2\n",
    "\n",
    "\n",
    "\n",
    "\n"
   ]
  },
  {
   "cell_type": "code",
   "execution_count": 7,
   "metadata": {},
   "outputs": [
    {
     "name": "stdout",
     "output_type": "stream",
     "text": [
      "14.0\n",
      "[3.0, 1.0, 9.0, -7.0, -5.0, -1.0]\n",
      "[9.0, 1.0, 81.0, 49.0, 25.0, 1.0]\n",
      "33.2\n"
     ]
    },
    {
     "data": {
      "text/plain": [
       "5.761944116355173"
      ]
     },
     "execution_count": 7,
     "metadata": {},
     "output_type": "execute_result"
    }
   ],
   "source": [
    "import math\n",
    "# Step 1 \n",
    "data = [17, 15, 23, 7, 9, 13]\n",
    "mean = sum(data) / len(data)\n",
    "print(mean)\n",
    "\n",
    "# Step 2\n",
    "step2 = []\n",
    "for d in data:\n",
    "    step2.append(d - mean)\n",
    "print(step2)\n",
    "\n",
    "# Step 3\n",
    "step3 = []\n",
    "for d in step2:\n",
    "    step3.append(d ** 2)\n",
    "print(step3)\n",
    "\n",
    "# Step 4\n",
    "sum(step3)\n",
    "\n",
    "# Step 5 \n",
    "variance = sum(step3)/(len(step3) - 1)\n",
    "print(variance)\n",
    "\n",
    "\n",
    "# Standard Deviation\n",
    "math.sqrt(variance)\n",
    "\n",
    "\n",
    "\n"
   ]
  },
  {
   "cell_type": "markdown",
   "metadata": {},
   "source": [
    "# Dependencies from spread.py provided \n",
    "```python \n",
    "from math import sqrt\n",
    "\n",
    "# this is imported from the stats.py \n",
    "from statistics import mean\n",
    "\n",
    "\n",
    "def variance(arr):\n",
    "    _mean = mean(arr)\n",
    "    normalized = [x - _mean for x in arr]\n",
    "    squares = [x ** 2 for x in normalized]\n",
    "    return sum(squares) / len(arr)\n",
    "\n",
    "\n",
    "def standard_deviation(arr):\n",
    "    return sqrt(variance(arr))\n",
    "\n",
    "\n",
    "def z_score(arr, index):\n",
    "    return (arr[index] - mean(arr)) / standard_deviation(arr)\n",
    "\n",
    "\n",
    "def z_scores(arr):\n",
    "    return [z_score(arr, ind) for ind in range(0, len(arr))]\n",
    "\n",
    "\n",
    "def zipped_z_scores(arr):\n",
    "    return list(zip(arr, z_scores(arr)))\n",
    "\n",
    "\n",
    "sample = [-2, -1, 0, 1, 2]\n",
    "\n",
    "print(variance(sample))\n",
    "print(standard_deviation(sample))\n",
    "print(zipped_z_scores(sample))```"
   ]
  },
  {
   "cell_type": "code",
   "execution_count": 8,
   "metadata": {},
   "outputs": [
    {
     "name": "stdout",
     "output_type": "stream",
     "text": [
      "2.0\n",
      "1.4142135623730951\n",
      "[(-2, -1.414213562373095), (-1, -0.7071067811865475), (0, 0.0), (1, 0.7071067811865475), (2, 1.414213562373095)]\n"
     ]
    }
   ],
   "source": [
    "# Dependencies\n",
    "from spread import variance, standard_deviation, zipped_z_scores"
   ]
  },
  {
   "cell_type": "code",
   "execution_count": 9,
   "metadata": {},
   "outputs": [],
   "source": [
    "def summarize(title, arr):\n",
    "    print(f\"Summarizing {title}\")\n",
    "    print(f\"Variance: {variance(arr)}\")\n",
    "    print(f\"Standard Deviation: {standard_deviation(arr)}\")\n",
    "    print(f\"Z-Scores: {zipped_z_scores(arr)}\")\n",
    "    print(\"======\")"
   ]
  },
  {
   "cell_type": "code",
   "execution_count": 10,
   "metadata": {},
   "outputs": [
    {
     "name": "stdout",
     "output_type": "stream",
     "text": [
      "Summarizing Prices\n",
      "Variance: 1177294.9599999997\n",
      "Standard Deviation: 1085.032239152367\n",
      "Z-Scores: [(4, -0.8062433247913429), (425, -0.41823642065650596), (984, 0.09695564445364577), (2932, 1.8922940037283782), (49, -0.7647699027341751)]\n",
      "======\n"
     ]
    }
   ],
   "source": [
    "# Prices of random electronics at Best Buy\n",
    "prices = [4, 425, 984, 2932, 49]\n",
    "summarize(\"Prices\", prices)"
   ]
  },
  {
   "cell_type": "code",
   "execution_count": 11,
   "metadata": {},
   "outputs": [
    {
     "name": "stdout",
     "output_type": "stream",
     "text": [
      "Summarizing Bootcamp Ages\n",
      "Variance: 72.55555555555556\n",
      "Standard Deviation: 8.517954892787092\n",
      "Z-Scores: [(27, -1.1348576962825065), (35, -0.19566512004870779), (42, 0.6261283841558661), (52, 1.8001191044481146), (36, -0.07826604801948295), (28, -1.0174586242532817)]\n",
      "======\n"
     ]
    }
   ],
   "source": [
    "# Ages of students in bootcamp\n",
    "bootcamp_classroom_ages = [27, 35, 42, 52, 36, 28]\n",
    "summarize(\"Bootcamp Ages\", bootcamp_classroom_ages)"
   ]
  },
  {
   "cell_type": "code",
   "execution_count": 12,
   "metadata": {},
   "outputs": [
    {
     "name": "stdout",
     "output_type": "stream",
     "text": [
      "Summarizing Birthday Party Ages\n",
      "Variance: 244.6938775510204\n",
      "Standard Deviation: 15.64269406307687\n",
      "Z-Scores: [(6, -0.8401914075580905), (5, -0.9041190146549017), (6, -0.8401914075580905), (6, -0.8401914075580905), (35, 1.0137091982494355), (34, 0.9497815911526242), (42, 1.4612024479271142)]\n",
      "======\n"
     ]
    }
   ],
   "source": [
    "# Ages of children and parents at child's party\n",
    "birthday_party_ages = [6, 5, 6, 6, 35, 34, 42]\n",
    "summarize(\"Birthday Party Ages\", birthday_party_ages)"
   ]
  },
  {
   "cell_type": "code",
   "execution_count": 13,
   "metadata": {},
   "outputs": [
    {
     "name": "stdout",
     "output_type": "stream",
     "text": [
      "Summarizing Geograph Grades\n",
      "Variance: 8.0\n",
      "Standard Deviation: 2.8284271247461903\n",
      "Z-Scores: [(87, -1.414213562373095), (89, -0.7071067811865475), (91, 0.0), (93, 0.7071067811865475), (95, 1.414213562373095)]\n",
      "======\n"
     ]
    }
   ],
   "source": [
    "# Test score from a 2nd grade geography test\n",
    "geo_grades = [87, 89, 91, 93, 95]\n",
    "summarize(\"Geograph Grades\", geo_grades)"
   ]
  },
  {
   "cell_type": "code",
   "execution_count": 14,
   "metadata": {},
   "outputs": [
    {
     "name": "stdout",
     "output_type": "stream",
     "text": [
      "Summarizing Quantum Mechanics Grades\n",
      "Variance: 1006.1224489795917\n",
      "Standard Deviation: 31.71943330167788\n",
      "Z-Scores: [(63, 0.5629716863888061), (63, 0.5629716863888061), (98, 1.6663961917108663), (13, -1.0133490354998513), (58, 0.4053396141999404), (13, -1.0133490354998513), (8, -1.170981107688717)]\n",
      "======\n"
     ]
    }
   ],
   "source": [
    "# Test scores from a graduate quantum mechanics midterm\n",
    "quantum_grades = [63, 63, 98, 13, 58, 13, 8]\n",
    "summarize(\"Quantum Mechanics Grades\", quantum_grades)"
   ]
  },
  {
   "cell_type": "code",
   "execution_count": 15,
   "metadata": {},
   "outputs": [
    {
     "name": "stdout",
     "output_type": "stream",
     "text": [
      "Summarizing Prices\n",
      "Variance: 92039.55555555556\n",
      "Standard Deviation: 303.3802161571442\n",
      "Z-Scores: [(30, -0.36917371019996403), (31, -0.36587751635889293), (31, -0.36587751635889293), (32, -0.3625813225178218), (32, -0.3625813225178218), (40, -0.33621177178925293), (41, -0.33291557794818183), (41, -0.33291557794818183), (1000, 2.82813431563901)]\n",
      "======\n"
     ]
    }
   ],
   "source": [
    "# Prices\n",
    "summarize(\"Prices\", [30, 31, 31, 32, 32, 40, 41, 41, 1000])"
   ]
  },
  {
   "cell_type": "markdown",
   "metadata": {},
   "source": [
    "# Instructors Turn Activity 3 Quartiles and Outliers"
   ]
  },
  {
   "cell_type": "markdown",
   "metadata": {},
   "source": [
    "Outliers are one of those statistical issues that everyone knows about, but most people aren’t sure how to deal with.  Most parametric statistics, like means, standard deviations, and correlations, and every statistic based on these, are highly sensitive to outliers.  And since the assumptions of common statistical procedures, like linear regression and ANOVA, are also based on these statistics, outliers can really mess up your analysis.\n",
    "\n",
    "Despite all this, as much as you’d like to, it is NOT acceptable to drop an observation just because it is an outlier.  They can be legitimate observations and are sometimes the most interesting ones.  It’s important to investigate the nature of the outlier before deciding.\n",
    "\n",
    "  * If the outliers _create_ trends that wouldn't exist without them, you _should_ drop them.\n",
    "\n",
    "    ![In this plot, the outlier creates a trend, and we should ignore it.](http://www.theanalysisfactor.com/images/graph-3.gif)\n",
    "\n",
    "* The outliers do _not_ change your results. In this case, it is okay to drop them, but it is best to make a note of having done so.\n",
    "\n",
    "  ![In this plot, the outlier does not change the line we draw.](http://www.theanalysisfactor.com/images/graph-1.gif)\n",
    "\n",
    "* If your outlier _does_ change your results, you _should not_ drop it.\n",
    "\n",
    "  ![In this plot, the outlier affects the line we draw, and so is significant.](http://www.theanalysisfactor.com/images/graph-2.gif)\n",
    "\n",
    "* The above plots are from an article on removing outliers on [The Analysis Factor](http://www.theanalysisfactor.com/outliers-to-drop-or-not-to-drop/).\n",
    "\n",
    "while useful, these essentially graphical guidelines are a little \"fuzzy\".\n",
    "\n",
    "* There are multiple ways to remove outliers from data sets that rely on \"hard numbers\".\n",
    "\n",
    "  * The simplest of these relies on removing data that is \"far away\" from the median.\n",
    "\n",
    "  * To quantify this, we need to understand the idea of **quartiles**.\n",
    "\n",
    "* **quartiles** are a way to divide our data into well-defined regions.\n",
    "\n",
    "  * The median is the midpoint of a data set — it divides the list in two.\n",
    "\n",
    "* Think of everything above the median and everything below the median as two separate data sets.\n",
    "\n",
    "* The median of the upper list is called the **upper quartile**, and the median of the lower list is called the **lower quartile**.\n",
    "\n",
    "* To remove outliers is to throw away anything _above_ the upper quartile, and everything _below_ the lower quartile."
   ]
  },
  {
   "cell_type": "code",
   "execution_count": 18,
   "metadata": {},
   "outputs": [
    {
     "name": "stdout",
     "output_type": "stream",
     "text": [
      "6\n",
      "Q1 is 4.5\n",
      "Q3 is 7.5\n"
     ]
    },
    {
     "data": {
      "image/png": "[encoded data removed]",
      "text/plain": [
       "<matplotlib.figure.Figure at 0x5a08470>"
      ]
     },
     "metadata": {},
     "output_type": "display_data"
    }
   ],
   "source": [
    "# Dependencies\n",
    "import numpy as np\n",
    "\n",
    "numbers = [3, 3, 4, 5, 5, 6, 7, 7, 8, 8, 9]\n",
    "\n",
    "median = 6\n",
    "lower_quartile = 4\n",
    "upper_quartile = 8\n",
    "\n",
    "# Dependencies\n",
    "import matplotlib.pyplot as plt\n",
    "from stats import median\n",
    "import numpy as np\n",
    "\n",
    "# Find the median\n",
    "mid = median(numbers)\n",
    "print(mid)\n",
    "\n",
    "# Use numpy to create quartiles\n",
    "q1 = np.percentile(numbers, 25)\n",
    "q3 = np.percentile(numbers,75)\n",
    "\n",
    "# Print the quartiles\n",
    "print(f\"Q1 is {q1}\")\n",
    "print(f\"Q3 is {q3}\")\n",
    "\n",
    "\n",
    "# Create box plot# Create \n",
    "plt.boxplot(numbers, showmeans=True)\n",
    "plt.grid()\n",
    "plt.show()\n"
   ]
  },
  {
   "cell_type": "markdown",
   "metadata": {
    "collapsed": true
   },
   "source": [
    "# Students Turn Activity 4\n",
    "# Quartiles and Outliers\n",
    "\n",
    "## Instructions\n",
    "\n",
    "* Take a look at the list in the in the `samples` notebook. Identify the median, upper quartile, and lower quartiles by hand.\n",
    "\n",
    "* Use code to determine the lower and upper quartiles and be sure to account for both odd and even lengths of a data set.\n",
    "\n",
    "  * Reference [https://www.wikihow.com/Calculate-Outliers](https://www.wikihow.com/Calculate-Outliers) to choose a method for best handling this.\n",
    "\n",
    "  * Use [numpy.percentile](https://het.as.utexas.edu/HET/Software/Numpy/reference/generated/numpy.percentile.html) to help with the calculations.\n",
    "\n",
    "* The difference between the upper and lower quartile is called the **interquartile range**, or IQR.\n",
    "\n",
    "  * Like the standard deviation, the IQR describes how \"spread out\" the data set is.\n",
    "\n",
    "  * Calculate the IQR for this list.\n",
    "\n",
    "* Determine the outliers\n",
    "\n",
    "  * Lower outliers are points that fall below the result of the equation Q1 - 1.5 * IQR\n",
    "\n",
    "  * Upper outliers are points that above the result of the equation Q3 + 1.5 * IQR\n",
    "  \n",
    "* Finally create a box plot of that data."
   ]
  },
  {
   "cell_type": "code",
   "execution_count": 19,
   "metadata": {},
   "outputs": [],
   "source": [
    "# Dependencies\n",
    "import matplotlib.pyplot as plt\n",
    "from stats import median\n",
    "import numpy as np"
   ]
  },
  {
   "cell_type": "code",
   "execution_count": 20,
   "metadata": {},
   "outputs": [
    {
     "data": {
      "text/plain": [
       "array([ 2.3, 10.2, 11.2, 12.3, 14.5, 14.6, 15. , 15.1, 19. , 24. ])"
      ]
     },
     "execution_count": 20,
     "metadata": {},
     "output_type": "execute_result"
    }
   ],
   "source": [
    "### Data Points\n",
    "arr = np.array([2.3, 10.2,11.2, 12.3, 14.5, 14.6, 15.0, 15.1, 19.0, 24.0])\n",
    "arr"
   ]
  },
  {
   "cell_type": "code",
   "execution_count": 21,
   "metadata": {},
   "outputs": [
    {
     "data": {
      "text/plain": [
       "14.55"
      ]
     },
     "execution_count": 21,
     "metadata": {},
     "output_type": "execute_result"
    }
   ],
   "source": [
    "# Find the median\n",
    "median(arr)"
   ]
  },
  {
   "cell_type": "code",
   "execution_count": 25,
   "metadata": {},
   "outputs": [],
   "source": [
    "# Use numpy to create quartiles\n",
    "q1 = np.percentile(arr, 25)\n",
    "q3 = np.percentile(arr, 75)"
   ]
  },
  {
   "cell_type": "code",
   "execution_count": 26,
   "metadata": {},
   "outputs": [
    {
     "name": "stdout",
     "output_type": "stream",
     "text": [
      "11.474999999999998\n",
      "15.075\n"
     ]
    }
   ],
   "source": [
    "# Print the quartiles\n",
    "print(q1)\n",
    "print(q3)"
   ]
  },
  {
   "cell_type": "code",
   "execution_count": 28,
   "metadata": {},
   "outputs": [
    {
     "name": "stdout",
     "output_type": "stream",
     "text": [
      "3.6000000000000014\n"
     ]
    }
   ],
   "source": [
    "# Calculate the interquartile range\n",
    "iqr = (q3 - q1)\n",
    "print(iqr)"
   ]
  },
  {
   "cell_type": "code",
   "execution_count": 30,
   "metadata": {},
   "outputs": [
    {
     "name": "stdout",
     "output_type": "stream",
     "text": [
      "6.074999999999996\n"
     ]
    }
   ],
   "source": [
    "# Find lower boundary\n",
    "lower = q1 - 1.5 * iqr\n",
    "print(lower)"
   ]
  },
  {
   "cell_type": "code",
   "execution_count": 31,
   "metadata": {},
   "outputs": [
    {
     "name": "stdout",
     "output_type": "stream",
     "text": [
      "20.475\n"
     ]
    }
   ],
   "source": [
    "# Find upper boundary\n",
    "upper = q3 + 1.5 * iqr\n",
    "print(upper)"
   ]
  },
  {
   "cell_type": "code",
   "execution_count": 51,
   "metadata": {},
   "outputs": [
    {
     "name": "stdout",
     "output_type": "stream",
     "text": [
      "[2.3]\n"
     ]
    }
   ],
   "source": [
    "# Check for any lower outliers\n",
    "lower_outliers = []\n",
    "for x in arr:\n",
    "    if x < lower:\n",
    "        lower_outliers.append(x)\n",
    "print(lower_outliers)"
   ]
  },
  {
   "cell_type": "code",
   "execution_count": 41,
   "metadata": {},
   "outputs": [
    {
     "data": {
      "text/plain": [
       "array([2.3])"
      ]
     },
     "execution_count": 41,
     "metadata": {},
     "output_type": "execute_result"
    }
   ],
   "source": [
    "#another way to check for lower outliers\n",
    "arr[arr < lower]"
   ]
  },
  {
   "cell_type": "code",
   "execution_count": 39,
   "metadata": {},
   "outputs": [
    {
     "name": "stdout",
     "output_type": "stream",
     "text": [
      "[24.0]\n"
     ]
    }
   ],
   "source": [
    "# Check for any upper outliers\n",
    "upper_outliers = []\n",
    "for x in arr:\n",
    "    if x > upper:\n",
    "        upper_outliers.append(x)\n",
    "print(upper_outliers)"
   ]
  },
  {
   "cell_type": "code",
   "execution_count": 40,
   "metadata": {},
   "outputs": [
    {
     "data": {
      "image/png": "[encoded data removed]",
      "text/plain": [
       "<matplotlib.figure.Figure at 0x8a70780>"
      ]
     },
     "metadata": {},
     "output_type": "display_data"
    }
   ],
   "source": [
    "# Create box plot\n",
    "plt.boxplot(arr, showmeans=True)\n",
    "plt.grid()\n",
    "plt.show()"
   ]
  },
  {
   "cell_type": "markdown",
   "metadata": {},
   "source": [
    "# Instructor Turn Activity 5 Standard Error\n",
    "\n",
    "* Establishing measures of trust, do we trust this data?"
   ]
  },
  {
   "cell_type": "code",
   "execution_count": 44,
   "metadata": {},
   "outputs": [],
   "source": [
    "# Dependencies\n",
    "from random import random\n",
    "import matplotlib.pyplot as plt\n",
    "import numpy as np\n",
    "from scipy.stats import sem"
   ]
  },
  {
   "cell_type": "code",
   "execution_count": 49,
   "metadata": {},
   "outputs": [],
   "source": [
    "# \"Will you vote for a republican in this election?\"\n",
    "sample_size = 100\n",
    "samples = [[True if random() < 0.5 else False for x in range(0, sample_size)]\n",
    "           for y in range(0, 10)] #10 samples\n",
    "x_axis = np.arange(0, len(samples), 1)"
   ]
  },
  {
   "cell_type": "code",
   "execution_count": 46,
   "metadata": {},
   "outputs": [],
   "source": [
    "means = [np.mean(s) for s in samples]\n",
    "standard_errors = [sem(s) for s in samples]"
   ]
  },
  {
   "cell_type": "code",
   "execution_count": 47,
   "metadata": {},
   "outputs": [
    {
     "name": "stdout",
     "output_type": "stream",
     "text": [
      "Figure(432x288)\n",
      "AxesSubplot(0.125,0.125;0.775x0.755)\n"
     ]
    },
    {
     "data": {
      "image/png": "[encoded data removed]",
      "text/plain": [
       "<matplotlib.figure.Figure at 0xaee0588>"
      ]
     },
     "metadata": {},
     "output_type": "display_data"
    }
   ],
   "source": [
    "# Setting up the plot\n",
    "fig, ax = plt.subplots()\n",
    "print(fig)\n",
    "print(ax)\n",
    "\n",
    "ax.errorbar(x_axis, means, standard_errors, fmt=\"o\")\n",
    "\n",
    "ax.set_xlim(-1, len(samples) + 1)\n",
    "\n",
    "ax.set_xlabel(\"Sample Number\")\n",
    "ax.set_ylabel(\"Proportion of People Voting Republican\")\n",
    "plt.show()"
   ]
  },
  {
   "cell_type": "markdown",
   "metadata": {},
   "source": [
    "# Students Turn Activity 6 Standard Error"
   ]
  },
  {
   "cell_type": "markdown",
   "metadata": {},
   "source": [
    "# Standard Error\n",
    "\n",
    "## Instructions\n",
    "\n",
    "* Open the starter file provided, and begin by inspecting the data. Which column contains house prices?\n",
    "\n",
    "* Create a number of samples of house prices.\n",
    "\n",
    "  * If you work with the non `sample.ipynb` file, this step is done for you.\n",
    "\n",
    "* Calculate the means for each sample.\n",
    "\n",
    "* Calculate the standard error for each sample.\n",
    "\n",
    "* Create a plot displaying the means for each sample, with the standard error as error bars."
   ]
  },
  {
   "cell_type": "code",
   "execution_count": 52,
   "metadata": {},
   "outputs": [],
   "source": [
    "# Dependencies\n",
    "from matplotlib import pyplot as plt\n",
    "import numpy as np\n",
    "import pandas as pd"
   ]
  },
  {
   "cell_type": "code",
   "execution_count": 53,
   "metadata": {},
   "outputs": [],
   "source": [
    "# Read and shuffle data\n",
    "housing_data = pd.read_csv(\"Resources/housing_data.csv\")\n",
    "housing_data = housing_data.sample(frac=1).reset_index(drop=True)"
   ]
  },
  {
   "cell_type": "code",
   "execution_count": 56,
   "metadata": {},
   "outputs": [],
   "source": [
    "# Create a bunch of samples, each with div items\n",
    "div = 20\n",
    "\n",
    "# Floor division - division that results into whole number adjusted to the left in the number line \n",
    "#aka rounds down eliminating decimal. 3//2 = 1, while 3/2 = 1.5\n",
    "lim = len(housing_data) // div\n",
    "\n",
    "# Create samples\n",
    "samples = [housing_data.iloc[(i * div):(i * div + div), 13]\n",
    "           for i in range(0, lim)]"
   ]
  },
  {
   "cell_type": "code",
   "execution_count": 58,
   "metadata": {},
   "outputs": [
    {
     "name": "stdout",
     "output_type": "stream",
     "text": [
      "[21.160000000000004, 21.104999999999997, 19.045, 24.669999999999995, 20.12, 22.784999999999997, 24.444999999999997, 23.970000000000002, 19.619999999999997, 23.900000000000006, 22.47, 22.985000000000003, 22.665, 26.135, 23.725, 21.5, 22.08, 22.615, 19.895000000000003, 20.615000000000002, 24.195, 26.755000000000006, 21.63, 22.825, 23.75]\n",
      "[1.6643063989162825, 1.5612490782096642, 1.3150040023953498, 2.426109078990039, 1.4225736499294803, 1.3905560228310037, 1.7483748092683704, 2.5227084442592336, 1.4744419104761033, 2.1432636205955675, 1.8943697743854715, 1.915316038233844, 1.9868684034509128, 2.5828001430516005, 2.4673966143754797, 1.3932733135733957, 2.013867711120752, 2.3216064651330055, 1.8624188431629496, 2.1324223315281614, 1.9440255981637147, 2.8184493216922255, 2.475129980637912, 2.2348068914573496, 2.7382716408251695]\n"
     ]
    }
   ],
   "source": [
    "# Calculate means\n",
    "means = [np.mean(s) for s in samples]\n",
    "print(means)\n",
    "# Calculate standard error on means\n",
    "standard_errors = [sem(s) for s in samples]\n",
    "print(standard_errors)"
   ]
  },
  {
   "cell_type": "code",
   "execution_count": 62,
   "metadata": {},
   "outputs": [
    {
     "name": "stdout",
     "output_type": "stream",
     "text": [
      "Figure(432x288)\n",
      "AxesSubplot(0.125,0.125;0.775x0.755)\n",
      "[ 0  1  2  3  4  5  6  7  8  9 10 11 12 13 14 15 16 17 18 19 20 21 22 23\n",
      " 24]\n"
     ]
    },
    {
     "data": {
      "text/plain": [
       "Text(0.5,0,'Sample Number')"
      ]
     },
     "execution_count": 62,
     "metadata": {},
     "output_type": "execute_result"
    },
    {
     "data": {
      "image/png": "[encoded data removed]",
      "text/plain": [
       "<matplotlib.figure.Figure at 0xb27d5f8>"
      ]
     },
     "metadata": {},
     "output_type": "display_data"
    }
   ],
   "source": [
    "# Plot sample means with error bars\n",
    "fig, ax = plt.subplots()\n",
    "print(fig)\n",
    "print(ax)\n",
    "\n",
    "x_axis = np.arange(0, len(samples), 1)\n",
    "print(x_axis)\n",
    "\n",
    "ax.errorbar(x_axis, means, standard_errors, fmt=\"o\")\n",
    "\n",
    "ax.set_xlim(-1, len(samples) + 1)\n",
    "\n",
    "ax.set_xlabel(\"Sample Number\")"
   ]
  },
  {
   "cell_type": "markdown",
   "metadata": {},
   "source": [
    "# Instructor Turn Activity 7 T Test\n",
    "The t-test is any statistical hypothesis test in which the test statistic "
   ]
  },
  {
   "cell_type": "code",
   "execution_count": 66,
   "metadata": {},
   "outputs": [],
   "source": [
    "# Dependencies\n",
    "import numpy as np\n",
    "import pandas as pd\n",
    "from scipy import stats\n",
    "\n",
    "# Read data\n",
    "housing_data = pd.read_csv(\"Resources/housing_data.csv\")\n",
    "housing_data = housing_data.sample(frac=1).reset_index(drop=True)\n"
   ]
  },
  {
   "cell_type": "code",
   "execution_count": 67,
   "metadata": {},
   "outputs": [],
   "source": [
    "# Create two samples\n",
    "s1 = housing_data.iloc[0:19, 13]\n",
    "s2 = housing_data.iloc[20:40, 13]"
   ]
  },
  {
   "cell_type": "code",
   "execution_count": 68,
   "metadata": {},
   "outputs": [
    {
     "name": "stdout",
     "output_type": "stream",
     "text": [
      "t-statistics is -0.0685602098006442.\n",
      "p-value is 0.9457088856789984.\n"
     ]
    }
   ],
   "source": [
    "# Run T test\n",
    "(t_stat, p) = stats.ttest_ind(s1, s2, equal_var=False)\n",
    "print(\"t-statistics is {}.\".format(t_stat))\n",
    "print(\"p-value is {}.\".format(p))"
   ]
  },
  {
   "cell_type": "code",
   "execution_count": 69,
   "metadata": {},
   "outputs": [],
   "source": [
    "# Silly sample T test \n",
    "# Dependencies\n",
    "from random import randint\n",
    "import matplotlib.pyplot as plt\n",
    "import numpy as np\n",
    "from scipy.stats import sem, ttest_ind"
   ]
  },
  {
   "cell_type": "code",
   "execution_count": 70,
   "metadata": {},
   "outputs": [],
   "source": [
    "# Generate\n",
    "high_prices = [randint(1, 5) * 1000 for x in range(1, 10)]\n",
    "high_means = np.mean(high_prices)\n",
    "high_sem = sem(high_prices)\n",
    "\n",
    "medium_prices = [randint(1, 5) * 500 for x in range(1, 10)]\n",
    "medium_means = np.mean(medium_prices)\n",
    "medium_sem = sem(medium_prices)\n",
    "\n",
    "low_prices = [randint(1, 5) * 200 for x in range(1, 10)]\n",
    "low_means = np.mean(low_prices)\n",
    "low_sem = sem(low_prices)\n",
    "\n",
    "means = [high_means, medium_means, low_means]\n",
    "sems = [high_sem, medium_sem, low_sem]\n",
    "labels = [\"High Prices\", \"Medium Prices\", \"Low Prices\"]"
   ]
  },
  {
   "cell_type": "code",
   "execution_count": 71,
   "metadata": {},
   "outputs": [
    {
     "data": {
      "image/png": "[encoded data removed]",
      "text/plain": [
       "<matplotlib.figure.Figure at 0xb2b16a0>"
      ]
     },
     "metadata": {},
     "output_type": "display_data"
    }
   ],
   "source": [
    "# Plot\n",
    "fig, ax = plt.subplots()\n",
    "\n",
    "ax.errorbar(np.arange(0, len(means)), means, yerr=sems, fmt=\"o\")\n",
    "\n",
    "ax.set_xlim(-0.5, 2.5)\n",
    "ax.set_xticklabels(labels)\n",
    "ax.set_xticks([0, 1, 2])\n",
    "\n",
    "ax.set_ylabel(\"Mean House Price\")\n",
    "\n",
    "plt.show()"
   ]
  },
  {
   "cell_type": "code",
   "execution_count": 72,
   "metadata": {},
   "outputs": [
    {
     "name": "stdout",
     "output_type": "stream",
     "text": [
      "The differences between the high and low prices are significant.\n"
     ]
    }
   ],
   "source": [
    "# t-test\n",
    "#use the comma in the variable bc this funciton returns 2 values\n",
    "(t_stat, p) = ttest_ind(high_prices, low_prices, equal_var=False) \n",
    "\n",
    "if p < 0.05:\n",
    "    print(\"The differences between the high and low prices are significant.\")\n",
    "else:\n",
    "    print(\"The differences between high and low prices are due to chance.\")"
   ]
  },
  {
   "cell_type": "markdown",
   "metadata": {},
   "source": [
    "# Student Turn Activity 7 - \"Student's T-Test\"\n",
    "\n",
    "## Instructions\n",
    "\n",
    "* Using the data, read both into a Pandas DataFrame.\n",
    "\n",
    "* Print the mean height of WBA players (last column in the DataFrame).\n",
    "\n",
    "* Print the mean height of women sampled.\n",
    "\n",
    "* Using a T-test, determine if difference in sample height means is significant or not and print a message stating the case.\n",
    "\n",
    "* Plot an error bar of the height means and include the standard error of the means.\n",
    "\n",
    "* Using an integer index starting at 0 for the X-axis and the list of means as the Y-axis create a final plot for for mean height."
   ]
  },
  {
   "cell_type": "code",
   "execution_count": 73,
   "metadata": {},
   "outputs": [],
   "source": [
    "# Dependencies\n",
    "import matplotlib.pyplot as plt\n",
    "import numpy as np\n",
    "import pandas as pd\n",
    "from scipy import stats\n",
    "from scipy.stats import sem, ttest_ind"
   ]
  },
  {
   "cell_type": "code",
   "execution_count": 76,
   "metadata": {},
   "outputs": [],
   "source": [
    "# Read in data\n",
    "general_heights = pd.read_csv(\"Resources/general_heights.csv\")\n",
    "\n",
    "wba_data = pd.read_csv(\"Resources/wba_data.csv\")\n",
    "wba_heights = wba_data.iloc[:, -1]"
   ]
  },
  {
   "cell_type": "code",
   "execution_count": 77,
   "metadata": {},
   "outputs": [
    {
     "name": "stdout",
     "output_type": "stream",
     "text": [
      "t-statistics is [16.94119778].\n",
      "p-value is [3.14741363e-33].\n"
     ]
    }
   ],
   "source": [
    "# Run the t-test\n",
    "(t_stat, p) = stats.ttest_ind(wba_heights, general_heights, equal_var=False)\n",
    "print(\"t-statistics is {}.\".format(t_stat))\n",
    "print(\"p-value is {}.\".format(p))"
   ]
  },
  {
   "cell_type": "code",
   "execution_count": 98,
   "metadata": {},
   "outputs": [
    {
     "name": "stdout",
     "output_type": "stream",
     "text": [
      "The mean height of WBA players is 72.32\n",
      "The mean height of women players is 64.68416666666667\n",
      "p = [3.14741363e-33]\n",
      "The differences between the high and low prices are significant.\n"
     ]
    }
   ],
   "source": [
    "# Report the data\n",
    "mean_wba = np.mean(wba_heights)\n",
    "mean_general = np.mean(general_heights[\"height\"])\n",
    "\n",
    "print(\"The mean height of WBA players is \" + str(mean_wba))\n",
    "print(\"The mean height of women players is \" + str(mean_general))\n",
    "print(\"p = \" + str(p).format(p[0]))\n",
    "\n",
    "if p < 0.05:\n",
    "    print(\"The differences between the high and low prices are significant.\")\n",
    "else:\n",
    "    print(\"The differences between high and low prices are due to chance.\")"
   ]
  },
  {
   "cell_type": "code",
   "execution_count": 95,
   "metadata": {},
   "outputs": [
    {
     "name": "stdout",
     "output_type": "stream",
     "text": [
      "[0 1]\n"
     ]
    },
    {
     "data": {
      "text/plain": [
       "[<matplotlib.axis.XTick at 0xb377eb8>,\n",
       " <matplotlib.axis.XTick at 0xb2b7978>,\n",
       " <matplotlib.axis.XTick at 0xb388a20>]"
      ]
     },
     "execution_count": 95,
     "metadata": {},
     "output_type": "execute_result"
    },
    {
     "data": {
      "image/png": "[encoded data removed]",
      "text/plain": [
       "<matplotlib.figure.Figure at 0xb691080>"
      ]
     },
     "metadata": {},
     "output_type": "display_data"
    }
   ],
   "source": [
    "# Determine sample means with error bars\n",
    "means = [mean_wba, mean_general]\n",
    "sems = [sem(wba_heights), sem(general_heights)]\n",
    "labels = [\"WBA Height\", \"General Height\"]"
   ]
  },
  {
   "cell_type": "code",
   "execution_count": 104,
   "metadata": {},
   "outputs": [
    {
     "name": "stdout",
     "output_type": "stream",
     "text": [
      "[0 1]\n"
     ]
    },
    {
     "data": {
      "text/plain": [
       "[<matplotlib.axis.XTick at 0xb3690b8>, <matplotlib.axis.XTick at 0xb369be0>]"
      ]
     },
     "execution_count": 104,
     "metadata": {},
     "output_type": "execute_result"
    },
    {
     "data": {
      "image/png": "[encoded data removed]",
      "text/plain": [
       "<matplotlib.figure.Figure at 0xb35d4a8>"
      ]
     },
     "metadata": {},
     "output_type": "display_data"
    }
   ],
   "source": [
    "# Plot mean height of players\n",
    "fig, ax = plt.subplots()\n",
    "\n",
    "x_axis = np.arange(0, len(means), 1)\n",
    "print(x_axis)\n",
    "\n",
    "ax.errorbar(x_axis, means, yerr=sems, fmt=\"o\")\n",
    "\n",
    "ax.set_xlim(-0.5, 1.5)\n",
    "ax.set_xticklabels(labels)\n",
    "ax.set_xticks([0, 1])"
   ]
  },
  {
   "cell_type": "markdown",
   "metadata": {},
   "source": [
    "# Instructor Turn Activity 9 Regression Line"
   ]
  },
  {
   "cell_type": "code",
   "execution_count": 105,
   "metadata": {
    "collapsed": true
   },
   "outputs": [],
   "source": [
    "# Dependencies\n",
    "from matplotlib import pyplot as plt\n",
    "from scipy.stats import linregress\n",
    "import numpy as np"
   ]
  },
  {
   "cell_type": "code",
   "execution_count": 106,
   "metadata": {
    "collapsed": true
   },
   "outputs": [],
   "source": [
    "# Set data\n",
    "x_axis = np.arange(0, 10, 1)\n",
    "fake = [1, 2.5, 2.75, 4.25, 5.5, 6, 7.25, 8, 8.75, 9.8]\n"
   ]
  },
  {
   "cell_type": "code",
   "execution_count": 109,
   "metadata": {},
   "outputs": [
    {
     "name": "stdout",
     "output_type": "stream",
     "text": [
      "LinregressResult(slope=0.96181818181818202, intercept=1.2518181818181811, rvalue=0.996055141381464, pvalue=1.0544997100920511e-09, stderr=0.030294695823547768)\n"
     ]
    }
   ],
   "source": [
    "# Set line\n",
    "print(linregress(x_axis, fake))\n",
    "(slope, intercept, _, _, _) = linregress(x_axis, fake)\n",
    "fit = slope * x_axis + intercept"
   ]
  },
  {
   "cell_type": "code",
   "execution_count": 108,
   "metadata": {},
   "outputs": [
    {
     "data": {
      "image/png": "[encoded data removed]",
      "text/plain": [
       "<matplotlib.figure.Figure at 0x10f956908>"
      ]
     },
     "metadata": {},
     "output_type": "display_data"
    }
   ],
   "source": [
    "# Plot data\n",
    "fig, ax = plt.subplots()\n",
    "\n",
    "fig.suptitle(\"Fake Banana Data!\", fontsize=16, fontweight=\"bold\")\n",
    "\n",
    "ax.set_xlim(0, 10)\n",
    "ax.set_ylim(0, 10)\n",
    "\n",
    "ax.set_xlabel(\"Fake Banana Ages (in days)\")\n",
    "ax.set_ylabel(\"Fake Banana Weights (in Hundres of Kilograms)\")\n",
    "\n",
    "ax.plot(x_axis, fake, linewidth=0, marker='o')\n",
    "ax.plot(x_axis, fit, 'b--')\n",
    "\n",
    "plt.show()"
   ]
  },
  {
   "cell_type": "markdown",
   "metadata": {},
   "source": [
    "# Students Turn Activity 10 "
   ]
  },
  {
   "cell_type": "markdown",
   "metadata": {},
   "source": [
    "# Fits and Regression\n",
    "\n",
    "This activity gives students an opportunity to use scipy to fit data, and matplotlib to display the fit.\n",
    "\n",
    "## Instructions\n",
    "\n",
    "* Import `stats` from the scipy module, along with `numpy` and `pandas`.\n",
    "\n",
    "* Use Pandas to read the `crime_data.csv` provided in the Resources directory.\n",
    "\n",
    "* Use `iloc` to isolate the year column.\n",
    "\n",
    "* Use `iloc` to isolate the total violent crime rate, murder rate, and aggravated assault rate columns.\n",
    "\n",
    "* Use `stats.linregress` to perform a linear regression with the year and violent crime rate columns.\n",
    "\n",
    "* Use `stats.linregress` to perform a linear regression with the year and murder rate columns.\n",
    "\n",
    "* Finally, use `stats.linregress` to perform a linear regression with the year and aggravated assault rate columns.\n",
    "\n",
    "* Use the information returned by `stats.linregress` to create an equation for a line describing each of the linear regressions you performed (see the hint below).\n",
    "\n",
    "  * You should end up with three separate lines.\n",
    "\n",
    "* Use `subplots` to create a figure with subplots that share an x-axis.\n",
    "\n",
    "* Use `plot` to plot each of the lines you created against the year.\n",
    "\n",
    "* Display the plot.\n",
    "\n",
    "## Bonus\n",
    "\n",
    "* Use the line you created for the total violent crime rate to determine what the violent crime rate will be in 2019.\n",
    "\n",
    "## Hints\n",
    "\n",
    "* See the documentation for [stats.linregress](https://docs.scipy.org/doc/scipy-0.19.0/reference/generated/scipy.stats.linregress.html).\n",
    "\n",
    "* Recall that `stats.linregress` returns a slope, called `m`, and a y-intercept, called `b`. These let you define a line for each fit by simply writing: `fit = m * year + b`, for each linear regression you perform."
   ]
  },
  {
   "cell_type": "markdown",
   "metadata": {},
   "source": []
  },
  {
   "cell_type": "code",
   "execution_count": 113,
   "metadata": {
    "collapsed": true
   },
   "outputs": [],
   "source": [
    "# Dependencies# Depen \n",
    "from matplotlib import pyplot as plt\n",
    "from scipy import stats\n",
    "import numpy as np\n",
    "import pandas as pd"
   ]
  },
  {
   "cell_type": "code",
   "execution_count": 119,
   "metadata": {
    "collapsed": true
   },
   "outputs": [],
   "source": [
    "crime_data = pd.read_csv(\"Resources/crime_data.csv\")\n",
    "year = crime_data.iloc[:, 0]"
   ]
  },
  {
   "cell_type": "code",
   "execution_count": 120,
   "metadata": {
    "collapsed": true
   },
   "outputs": [],
   "source": [
    "# Grab violent crime rates# Grab  \n"
   ]
  },
  {
   "cell_type": "code",
   "execution_count": 121,
   "metadata": {
    "collapsed": true
   },
   "outputs": [],
   "source": [
    "# Grab murder rate\n"
   ]
  },
  {
   "cell_type": "code",
   "execution_count": 122,
   "metadata": {
    "collapsed": true
   },
   "outputs": [],
   "source": [
    "# Grab aggravated assault rate\n"
   ]
  },
  {
   "cell_type": "code",
   "execution_count": 123,
   "metadata": {},
   "outputs": [
    {
     "data": {
      "text/plain": [
       "<matplotlib.text.Text at 0x1126432e8>"
      ]
     },
     "execution_count": 123,
     "metadata": {},
     "output_type": "execute_result"
    }
   ],
   "source": [
    "# Plot\n"
   ]
  },
  {
   "cell_type": "code",
   "execution_count": 124,
   "metadata": {},
   "outputs": [
    {
     "name": "stdout",
     "output_type": "stream",
     "text": [
      "The violent crime rate in 2019 will be 262.213759398.\n",
      "The murder rate in 2019 will be 3.23766917293.\n",
      "The aggravated assault rate in 2019 will be 72.8703759399.\n"
     ]
    }
   ],
   "source": [
    "# Print results and save image\n"
   ]
  },
  {
   "cell_type": "code",
   "execution_count": null,
   "metadata": {
    "collapsed": true
   },
   "outputs": [],
   "source": []
  }
 ],
 "metadata": {
  "kernelspec": {
   "display_name": "Python 3",
   "language": "python",
   "name": "python3"
  },
  "language_info": {
   "codemirror_mode": {
    "name": "ipython",
    "version": 3
   },
   "file_extension": ".py",
   "mimetype": "text/x-python",
   "name": "python",
   "nbconvert_exporter": "python",
   "pygments_lexer": "ipython3",
   "version": "3.6.4"
  }
 },
 "nbformat": 4,
 "nbformat_minor": 2
}
