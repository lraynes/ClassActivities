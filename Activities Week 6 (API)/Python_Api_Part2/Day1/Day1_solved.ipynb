{
 "cells": [
  {
   "cell_type": "markdown",
   "metadata": {},
   "source": [
    "# Instructor Turn Activity 1 Request Intro"
   ]
  },
  {
   "cell_type": "code",
   "execution_count": 1,
   "metadata": {
    "collapsed": true
   },
   "outputs": [],
   "source": [
    "# Dependencies\n",
    "import requests\n",
    "import json"
   ]
  },
  {
   "cell_type": "code",
   "execution_count": 2,
   "metadata": {
    "collapsed": true
   },
   "outputs": [],
   "source": [
    "# URL for GET requests to retrieve vehicle data\n",
    "url = \"https://api.spacexdata.com/v2/launchpads\""
   ]
  },
  {
   "cell_type": "code",
   "execution_count": 3,
   "metadata": {
    "collapsed": false
   },
   "outputs": [
    {
     "name": "stdout",
     "output_type": "stream",
     "text": [
      "<Response [200]>\n"
     ]
    }
   ],
   "source": [
    "# Print the response object to the console\n",
    "print(requests.get(url))"
   ]
  },
  {
   "cell_type": "code",
   "execution_count": 4,
   "metadata": {
    "collapsed": false
   },
   "outputs": [
    {
     "name": "stdout",
     "output_type": "stream",
     "text": [
      "[{'id': 'kwajalein_atoll', 'full_name': 'Kwajalein Atoll Omelek Island', 'status': 'retired', 'location': {'name': 'Omelek Island', 'region': 'Marshall Islands', 'latitude': 9.0477206, 'longitude': 167.7431292}, 'vehicles_launched': ['Falcon 1'], 'details': 'SpaceX original launch site, where all of the Falcon 1 launches occured. Abandoned as SpaceX decided against upgrading the pad to support Falcon 9.'}, {'id': 'ccafs_slc_40', 'full_name': 'Cape Canaveral Air Force Station Space Launch Complex 40', 'status': 'active', 'location': {'name': 'Cape Canaveral', 'region': 'Florida', 'latitude': 28.5618571, 'longitude': -80.577366}, 'vehicles_launched': ['Falcon 9'], 'details': 'SpaceX primary Falcon 9 launch pad, where all east coast Falcon 9s launched prior to the AMOS-6 anomaly. Initially used to launch Titan rockets for Lockheed Martin. Back online since CRS-13 on 2017-12-15.'}, {'id': 'ccafs_lc_13', 'full_name': 'Cape Canaveral Air Force Station Space Launch Complex 13', 'status': 'active', 'location': {'name': 'Cape Canaveral', 'region': 'Florida', 'latitude': 28.4857244, 'longitude': -80.5449222}, 'vehicles_launched': ['Falcon 9'], 'details': 'SpaceX east coast landing pad, where the historic first landing occurred. Originally used for early Atlas missiles and rockets from Lockheed Martin. Currently being expanded to add two smaller pads for Falcon Heavy RTLS missions.'}, {'id': 'ksc_lc_39a', 'full_name': 'Kennedy Space Center Historic Launch Complex 39A', 'status': 'active', 'location': {'name': 'Cape Canaveral', 'region': 'Florida', 'latitude': 28.6080585, 'longitude': -80.6039558}, 'vehicles_launched': ['Falcon 9', 'Falcon Heavy'], 'details': 'NASA historic launch pad that launched most of the Saturn V and Space Shuttle missions. Initially for Falcon Heavy launches, it is now launching all of SpaceX east coast missions due to the damage from the AMOS-6 anomaly. After SLC-40 repairs are complete, it will be upgraded to support Falcon Heavy, a process which will take about two months. In the future it will launch commercial crew missions and the Interplanetary Transport System.'}, {'id': 'vafb_slc_3w', 'full_name': 'Vandenberg Air Force Base Space Launch Complex 3W', 'status': 'retired', 'location': {'name': 'Vandenberg Air Force Base', 'region': 'California', 'latitude': 34.6440904, 'longitude': -120.5931438}, 'vehicles_launched': ['Falcon 1'], 'details': 'SpaceX original west coast launch pad for Falcon 1. Performed a static fire but was never used for a launch and abandoned due to scheduling conflicts.'}, {'id': 'vafb_slc_4e', 'full_name': 'Vandenberg Air Force Base Space Launch Complex 4E', 'status': 'active', 'location': {'name': 'Vandenberg Air Force Base', 'region': 'California', 'latitude': 34.632093, 'longitude': -120.610829}, 'vehicles_launched': ['Falcon 9'], 'details': 'SpaceX primary west coast launch pad for polar orbits and sun synchronous orbits, primarily used for Iridium. Also intended to be capable of launching Falcon Heavy.'}, {'id': 'vafb_slc_4w', 'full_name': 'Vandenberg Air Force Base Space Launch Complex 4W', 'status': 'active', 'location': {'name': 'Vandenberg Air Force Base', 'region': 'California', 'latitude': 34.6332043, 'longitude': -120.6156234}, 'vehicles_launched': ['Falcon 9'], 'details': 'SpaceX west coast landing pad, has not yet been used. Expected to first be used during the Formosat-5 launch.'}, {'id': 'stls', 'full_name': 'SpaceX South Texas Launch Site', 'status': 'under construction', 'location': {'name': 'Boca Chica Village', 'region': 'Texas', 'latitude': 25.9972641, 'longitude': -97.1560845}, 'vehicles_launched': ['Falcon 9'], 'details': 'SpaceX new launch site currently under construction to help keep up with the Falcon 9 and Heavy manifests. Expected to be completed in late 2018. Initially will be limited to 12 flights per year, and only GTO launches.'}]\n"
     ]
    }
   ],
   "source": [
    "# Retrieving data and converting it into JSON\n",
    "print(requests.get(url).json())"
   ]
  },
  {
   "cell_type": "code",
   "execution_count": 5,
   "metadata": {
    "collapsed": false
   },
   "outputs": [
    {
     "name": "stdout",
     "output_type": "stream",
     "text": [
      "[\n",
      "    {\n",
      "        \"details\": \"SpaceX original launch site, where all of the Falcon 1 launches occured. Abandoned as SpaceX decided against upgrading the pad to support Falcon 9.\",\n",
      "        \"full_name\": \"Kwajalein Atoll Omelek Island\",\n",
      "        \"id\": \"kwajalein_atoll\",\n",
      "        \"location\": {\n",
      "            \"latitude\": 9.0477206,\n",
      "            \"longitude\": 167.7431292,\n",
      "            \"name\": \"Omelek Island\",\n",
      "            \"region\": \"Marshall Islands\"\n",
      "        },\n",
      "        \"status\": \"retired\",\n",
      "        \"vehicles_launched\": [\n",
      "            \"Falcon 1\"\n",
      "        ]\n",
      "    },\n",
      "    {\n",
      "        \"details\": \"SpaceX primary Falcon 9 launch pad, where all east coast Falcon 9s launched prior to the AMOS-6 anomaly. Initially used to launch Titan rockets for Lockheed Martin. Back online since CRS-13 on 2017-12-15.\",\n",
      "        \"full_name\": \"Cape Canaveral Air Force Station Space Launch Complex 40\",\n",
      "        \"id\": \"ccafs_slc_40\",\n",
      "        \"location\": {\n",
      "            \"latitude\": 28.5618571,\n",
      "            \"longitude\": -80.577366,\n",
      "            \"name\": \"Cape Canaveral\",\n",
      "            \"region\": \"Florida\"\n",
      "        },\n",
      "        \"status\": \"active\",\n",
      "        \"vehicles_launched\": [\n",
      "            \"Falcon 9\"\n",
      "        ]\n",
      "    },\n",
      "    {\n",
      "        \"details\": \"SpaceX east coast landing pad, where the historic first landing occurred. Originally used for early Atlas missiles and rockets from Lockheed Martin. Currently being expanded to add two smaller pads for Falcon Heavy RTLS missions.\",\n",
      "        \"full_name\": \"Cape Canaveral Air Force Station Space Launch Complex 13\",\n",
      "        \"id\": \"ccafs_lc_13\",\n",
      "        \"location\": {\n",
      "            \"latitude\": 28.4857244,\n",
      "            \"longitude\": -80.5449222,\n",
      "            \"name\": \"Cape Canaveral\",\n",
      "            \"region\": \"Florida\"\n",
      "        },\n",
      "        \"status\": \"active\",\n",
      "        \"vehicles_launched\": [\n",
      "            \"Falcon 9\"\n",
      "        ]\n",
      "    },\n",
      "    {\n",
      "        \"details\": \"NASA historic launch pad that launched most of the Saturn V and Space Shuttle missions. Initially for Falcon Heavy launches, it is now launching all of SpaceX east coast missions due to the damage from the AMOS-6 anomaly. After SLC-40 repairs are complete, it will be upgraded to support Falcon Heavy, a process which will take about two months. In the future it will launch commercial crew missions and the Interplanetary Transport System.\",\n",
      "        \"full_name\": \"Kennedy Space Center Historic Launch Complex 39A\",\n",
      "        \"id\": \"ksc_lc_39a\",\n",
      "        \"location\": {\n",
      "            \"latitude\": 28.6080585,\n",
      "            \"longitude\": -80.6039558,\n",
      "            \"name\": \"Cape Canaveral\",\n",
      "            \"region\": \"Florida\"\n",
      "        },\n",
      "        \"status\": \"active\",\n",
      "        \"vehicles_launched\": [\n",
      "            \"Falcon 9\",\n",
      "            \"Falcon Heavy\"\n",
      "        ]\n",
      "    },\n",
      "    {\n",
      "        \"details\": \"SpaceX original west coast launch pad for Falcon 1. Performed a static fire but was never used for a launch and abandoned due to scheduling conflicts.\",\n",
      "        \"full_name\": \"Vandenberg Air Force Base Space Launch Complex 3W\",\n",
      "        \"id\": \"vafb_slc_3w\",\n",
      "        \"location\": {\n",
      "            \"latitude\": 34.6440904,\n",
      "            \"longitude\": -120.5931438,\n",
      "            \"name\": \"Vandenberg Air Force Base\",\n",
      "            \"region\": \"California\"\n",
      "        },\n",
      "        \"status\": \"retired\",\n",
      "        \"vehicles_launched\": [\n",
      "            \"Falcon 1\"\n",
      "        ]\n",
      "    },\n",
      "    {\n",
      "        \"details\": \"SpaceX primary west coast launch pad for polar orbits and sun synchronous orbits, primarily used for Iridium. Also intended to be capable of launching Falcon Heavy.\",\n",
      "        \"full_name\": \"Vandenberg Air Force Base Space Launch Complex 4E\",\n",
      "        \"id\": \"vafb_slc_4e\",\n",
      "        \"location\": {\n",
      "            \"latitude\": 34.632093,\n",
      "            \"longitude\": -120.610829,\n",
      "            \"name\": \"Vandenberg Air Force Base\",\n",
      "            \"region\": \"California\"\n",
      "        },\n",
      "        \"status\": \"active\",\n",
      "        \"vehicles_launched\": [\n",
      "            \"Falcon 9\"\n",
      "        ]\n",
      "    },\n",
      "    {\n",
      "        \"details\": \"SpaceX west coast landing pad, has not yet been used. Expected to first be used during the Formosat-5 launch.\",\n",
      "        \"full_name\": \"Vandenberg Air Force Base Space Launch Complex 4W\",\n",
      "        \"id\": \"vafb_slc_4w\",\n",
      "        \"location\": {\n",
      "            \"latitude\": 34.6332043,\n",
      "            \"longitude\": -120.6156234,\n",
      "            \"name\": \"Vandenberg Air Force Base\",\n",
      "            \"region\": \"California\"\n",
      "        },\n",
      "        \"status\": \"active\",\n",
      "        \"vehicles_launched\": [\n",
      "            \"Falcon 9\"\n",
      "        ]\n",
      "    },\n",
      "    {\n",
      "        \"details\": \"SpaceX new launch site currently under construction to help keep up with the Falcon 9 and Heavy manifests. Expected to be completed in late 2018. Initially will be limited to 12 flights per year, and only GTO launches.\",\n",
      "        \"full_name\": \"SpaceX South Texas Launch Site\",\n",
      "        \"id\": \"stls\",\n",
      "        \"location\": {\n",
      "            \"latitude\": 25.9972641,\n",
      "            \"longitude\": -97.1560845,\n",
      "            \"name\": \"Boca Chica Village\",\n",
      "            \"region\": \"Texas\"\n",
      "        },\n",
      "        \"status\": \"under construction\",\n",
      "        \"vehicles_launched\": [\n",
      "            \"Falcon 9\"\n",
      "        ]\n",
      "    }\n",
      "]\n"
     ]
    }
   ],
   "source": [
    "# Pretty Print the output of the JSON\n",
    "response = requests.get(url).json()\n",
    "print(json.dumps(response, indent=4, sort_keys=True))"
   ]
  },
  {
   "cell_type": "markdown",
   "metadata": {},
   "source": [
    "# Students Turn Activity 2 Space X\n",
    "# Instructions\n",
    "\n",
    "* Take a few minutes to explore the JSON Placeholder API: https://api.spacexdata.com\n",
    "\n",
    "* Once you understand the structure of the API and its endpoint, choose one of the endpoints that is _not_ `vehicles`, and do the following:\n",
    "\n",
    "  * Retrieve and print the JSON for _all_ of the records from your chosen endpoint.\n",
    "\n",
    "  * Retrieve and print the JSON for the a _specific_ record from your chosen endpoint.\n",
    "\n",
    "- - -"
   ]
  },
  {
   "cell_type": "code",
   "execution_count": 9,
   "metadata": {
    "collapsed": true
   },
   "outputs": [],
   "source": [
    "# Dependencies\n",
    "import requests\n",
    "import json"
   ]
  },
  {
   "cell_type": "code",
   "execution_count": 10,
   "metadata": {
    "collapsed": true
   },
   "outputs": [],
   "source": [
    "# URL for GET requests to retrieve vehicle data\n",
    "url = \"https://api.spacexdata.com/v2/launchpads\""
   ]
  },
  {
   "cell_type": "code",
   "execution_count": 13,
   "metadata": {
    "collapsed": true
   },
   "outputs": [],
   "source": [
    "# Pretty print JSON for all launchpads\n",
    "#response = requests.get(url).json()\n",
    "\n",
    "\n"
   ]
  },
  {
   "cell_type": "code",
   "execution_count": 14,
   "metadata": {
    "collapsed": false
   },
   "outputs": [],
   "source": [
    "# Pretty print JSON for a specific launchpad\n",
    "#response = requests.get(url + \"/vafb_slc_4w\").json()\n",
    "#print(json.dumps(response, indent=4, sort_keys=True))"
   ]
  },
  {
   "cell_type": "markdown",
   "metadata": {},
   "source": [
    "# Instructor Turn Activity 3 Manipulating JSON"
   ]
  },
  {
   "cell_type": "code",
   "execution_count": 15,
   "metadata": {
    "collapsed": true
   },
   "outputs": [],
   "source": [
    "# Dependencies\n",
    "import requests\n",
    "import json"
   ]
  },
  {
   "cell_type": "code",
   "execution_count": 16,
   "metadata": {
    "collapsed": false
   },
   "outputs": [
    {
     "name": "stdout",
     "output_type": "stream",
     "text": [
      "{\n",
      "    \"active\": true,\n",
      "    \"boosters\": 0,\n",
      "    \"company\": \"SpaceX\",\n",
      "    \"cost_per_launch\": 61200000,\n",
      "    \"country\": \"United States\",\n",
      "    \"description\": \"Falcon 9 is a two-stage rocket designed and manufactured by SpaceX for the reliable and safe transport of satellites and the Dragon spacecraft into orbit.\",\n",
      "    \"diameter\": {\n",
      "        \"feet\": 12,\n",
      "        \"meters\": 3.7\n",
      "    },\n",
      "    \"engines\": {\n",
      "        \"engine_loss_max\": 2,\n",
      "        \"layout\": \"octaweb\",\n",
      "        \"number\": 9,\n",
      "        \"propellant_1\": \"liquid oxygen\",\n",
      "        \"propellant_2\": \"RP-1 kerosene\",\n",
      "        \"thrust_sea_level\": {\n",
      "            \"kN\": 845,\n",
      "            \"lbf\": 190000\n",
      "        },\n",
      "        \"thrust_to_weight\": 180.1,\n",
      "        \"thrust_vacuum\": {\n",
      "            \"kN\": 914,\n",
      "            \"lbf\": 205500\n",
      "        },\n",
      "        \"type\": \"merlin\",\n",
      "        \"version\": \"1D+\"\n",
      "    },\n",
      "    \"first_flight\": \"2010-06-04\",\n",
      "    \"first_stage\": {\n",
      "        \"burn_time_sec\": 162,\n",
      "        \"engines\": 9,\n",
      "        \"fuel_amount_tons\": 385,\n",
      "        \"reusable\": true,\n",
      "        \"thrust_sea_level\": {\n",
      "            \"kN\": 7607,\n",
      "            \"lbf\": 1710000\n",
      "        },\n",
      "        \"thrust_vacuum\": {\n",
      "            \"kN\": 8227,\n",
      "            \"lbf\": 1849500\n",
      "        }\n",
      "    },\n",
      "    \"height\": {\n",
      "        \"feet\": 229.6,\n",
      "        \"meters\": 70\n",
      "    },\n",
      "    \"id\": \"falcon9\",\n",
      "    \"landing_legs\": {\n",
      "        \"material\": \"carbon fiber\",\n",
      "        \"number\": 4\n",
      "    },\n",
      "    \"mass\": {\n",
      "        \"kg\": 549054,\n",
      "        \"lb\": 1207920\n",
      "    },\n",
      "    \"name\": \"Falcon 9\",\n",
      "    \"payload_weights\": [\n",
      "        {\n",
      "            \"id\": \"leo\",\n",
      "            \"kg\": 22800,\n",
      "            \"lb\": 50265,\n",
      "            \"name\": \"Low Earth Orbit\"\n",
      "        },\n",
      "        {\n",
      "            \"id\": \"gto\",\n",
      "            \"kg\": 8300,\n",
      "            \"lb\": 18300,\n",
      "            \"name\": \"Geosynchronous Transfer Orbit\"\n",
      "        },\n",
      "        {\n",
      "            \"id\": \"mars\",\n",
      "            \"kg\": 4020,\n",
      "            \"lb\": 8860,\n",
      "            \"name\": \"Mars Orbit\"\n",
      "        }\n",
      "    ],\n",
      "    \"second_stage\": {\n",
      "        \"burn_time_sec\": 397,\n",
      "        \"engines\": 1,\n",
      "        \"fuel_amount_tons\": 90,\n",
      "        \"payloads\": {\n",
      "            \"composite_fairing\": {\n",
      "                \"diameter\": {\n",
      "                    \"feet\": 17.1,\n",
      "                    \"meters\": 5.2\n",
      "                },\n",
      "                \"height\": {\n",
      "                    \"feet\": 43,\n",
      "                    \"meters\": 13.1\n",
      "                }\n",
      "            },\n",
      "            \"option_1\": \"dragon\",\n",
      "            \"option_2\": \"composite fairing\"\n",
      "        },\n",
      "        \"thrust\": {\n",
      "            \"kN\": 934,\n",
      "            \"lbf\": 210000\n",
      "        }\n",
      "    },\n",
      "    \"stages\": 2,\n",
      "    \"success_rate_pct\": 94,\n",
      "    \"type\": \"rocket\"\n",
      "}\n"
     ]
    }
   ],
   "source": [
    "# Performing a GET Request and saving the \n",
    "# API's response within a variable\n",
    "url = \"https://api.spacexdata.com/v2/rockets/falcon9\"\n",
    "response = requests.get(url)\n",
    "response_json = response.json()\n",
    "print(json.dumps(response_json, indent=4, sort_keys=True))"
   ]
  },
  {
   "cell_type": "code",
   "execution_count": 17,
   "metadata": {
    "collapsed": false
   },
   "outputs": [
    {
     "name": "stdout",
     "output_type": "stream",
     "text": [
      "61200000\n"
     ]
    }
   ],
   "source": [
    "# It is possible to grab a specific value \n",
    "# from within the JSON object\n",
    "print(response_json[\"cost_per_launch\"])"
   ]
  },
  {
   "cell_type": "code",
   "execution_count": 18,
   "metadata": {
    "collapsed": false
   },
   "outputs": [
    {
     "name": "stdout",
     "output_type": "stream",
     "text": [
      "There are 3 payloads.\n"
     ]
    }
   ],
   "source": [
    "# It is also possible to perform some\n",
    "# analyses on values stored within the JSON object\n",
    "number_payloads = len(response_json[\"payload_weights\"])\n",
    "print(f\"There are {number_payloads} payloads.\")"
   ]
  },
  {
   "cell_type": "code",
   "execution_count": 19,
   "metadata": {
    "collapsed": false
   },
   "outputs": [
    {
     "name": "stdout",
     "output_type": "stream",
     "text": [
      "The first payload weighed 22800 Kilograms\n"
     ]
    }
   ],
   "source": [
    "# Finally, it is possible to reference the\n",
    "# values stored within sub-dictionaries and sub-lists\n",
    "payload_weight = response_json[\"payload_weights\"][0][\"kg\"]\n",
    "print(f\"The first payload weighed {payload_weight} Kilograms\")"
   ]
  },
  {
   "cell_type": "markdown",
   "metadata": {},
   "source": [
    "# Students Turn Activity 4 Far Far Away\n",
    "# Star War Api\n",
    "# Far Far Away \n",
    "\n",
    "* **Instructions:**\n",
    "\n",
    "  * Using the starter file provided, collect the following pieces of information from the Star Wars API.\n",
    "\n",
    "  * The name of the character\n",
    "\n",
    "  * The number of films they were in\n",
    "\n",
    "  * The name of their first starship\n",
    "\n",
    "  * Once the data has been collected, print it out to the console.\n",
    "\n",
    "* **Hints:**\n",
    "\n",
    "  * It would be in the programmer's best interest to print out the JSON from the initial request before anything else. This will let them know what keys they should reference.\n",
    "\n",
    "  * The \"starship\" values are links to another API call. This means that the programmer will need to create a request based off of the values of a previous request.\n",
    "\n",
    "* **Bonus:**\n",
    "\n",
    "  * Come up with a way in which to collect and print out all of the film names a character was in. \n",
    "  \n",
    "- - -"
   ]
  },
  {
   "cell_type": "code",
   "execution_count": 20,
   "metadata": {
    "collapsed": true
   },
   "outputs": [],
   "source": [
    "# Dependencies\n",
    "import requests\n",
    "import json"
   ]
  },
  {
   "cell_type": "code",
   "execution_count": 21,
   "metadata": {
    "collapsed": true
   },
   "outputs": [],
   "source": [
    "# URL for GET requests to retrieve Star Wars character data\n",
    "base_url = \"https://swapi.co/api/people/\""
   ]
  },
  {
   "cell_type": "code",
   "execution_count": 22,
   "metadata": {
    "collapsed": false
   },
   "outputs": [
    {
     "name": "stdout",
     "output_type": "stream",
     "text": [
      "https://swapi.co/api/people/4\n"
     ]
    }
   ],
   "source": [
    "# Create a url with a specific character id\n",
    "character_id = '4'\n",
    "url = base_url + character_id\n",
    "print(url)"
   ]
  },
  {
   "cell_type": "code",
   "execution_count": 23,
   "metadata": {
    "collapsed": false
   },
   "outputs": [
    {
     "name": "stdout",
     "output_type": "stream",
     "text": [
      "https://swapi.co/api/people/4/\n"
     ]
    }
   ],
   "source": [
    "# Perform a get request for this character\n",
    "response = requests.get(url)\n",
    "print(response.url)"
   ]
  },
  {
   "cell_type": "code",
   "execution_count": 24,
   "metadata": {
    "collapsed": true
   },
   "outputs": [],
   "source": [
    "# Storing the JSON response within a variable\n",
    "data = response.json()\n",
    "#print(json.dumps(data, indent=4, sort_keys=True))"
   ]
  },
  {
   "cell_type": "code",
   "execution_count": 25,
   "metadata": {
    "collapsed": true
   },
   "outputs": [],
   "source": [
    "# Collecting the name of the character collected\n",
    "# YOUR CODE HERE\n",
    "character_name = data[\"name\"]"
   ]
  },
  {
   "cell_type": "code",
   "execution_count": 26,
   "metadata": {
    "collapsed": true
   },
   "outputs": [],
   "source": [
    "# Print the character and the number of films that they were in\n",
    "# YOUR CODE HERE\n",
    "film_number = len(data[\"films\"])"
   ]
  },
  {
   "cell_type": "code",
   "execution_count": 27,
   "metadata": {
    "collapsed": true
   },
   "outputs": [],
   "source": [
    "# Figure out what their first starship was and print the ship\n",
    "# YOUR CODE HERE\n",
    "first_ship_url = data[\"starships\"][0]\n",
    "ship_response = requests.get(first_ship_url).json()\n",
    "ship_response\n",
    "first_ship = ship_response[\"name\"]"
   ]
  },
  {
   "cell_type": "code",
   "execution_count": 28,
   "metadata": {
    "collapsed": true
   },
   "outputs": [],
   "source": [
    "# Print character name and how many films they were in\n",
    "# YOUR CODE HERE\n",
    "print(f\"{character_name} was in {film_number} films\")"
   ]
  },
  {
   "cell_type": "code",
   "execution_count": 29,
   "metadata": {
    "collapsed": true
   },
   "outputs": [],
   "source": [
    "# Print what their first ship was\n",
    "# YOUR CODE HERE\n",
    "print(f\"Their first ship: {first_ship}\")"
   ]
  },
  {
   "cell_type": "code",
   "execution_count": 30,
   "metadata": {
    "collapsed": false
   },
   "outputs": [
    {
     "ename": "NameError",
     "evalue": "name 'character_name' is not defined",
     "output_type": "error",
     "traceback": [
      "\u001b[0;31m---------------------------------------------------------------------------\u001b[0m",
      "\u001b[0;31mNameError\u001b[0m                                 Traceback (most recent call last)",
      "\u001b[0;32m<ipython-input-30-8c761af2444f>\u001b[0m in \u001b[0;36m<module>\u001b[0;34m()\u001b[0m\n\u001b[1;32m      8\u001b[0m     \u001b[0mfilms\u001b[0m\u001b[0;34m.\u001b[0m\u001b[0mappend\u001b[0m\u001b[0;34m(\u001b[0m\u001b[0mfilm_title\u001b[0m\u001b[0;34m)\u001b[0m\u001b[0;34m\u001b[0m\u001b[0m\n\u001b[1;32m      9\u001b[0m \u001b[0;34m\u001b[0m\u001b[0m\n\u001b[0;32m---> 10\u001b[0;31m \u001b[0mprint\u001b[0m\u001b[0;34m(\u001b[0m\u001b[0;34mf\"{character_name} was in:\"\u001b[0m\u001b[0;34m)\u001b[0m\u001b[0;34m\u001b[0m\u001b[0m\n\u001b[0m\u001b[1;32m     11\u001b[0m \u001b[0mprint\u001b[0m\u001b[0;34m(\u001b[0m\u001b[0mfilms\u001b[0m\u001b[0;34m)\u001b[0m\u001b[0;34m\u001b[0m\u001b[0m\n",
      "\u001b[0;31mNameError\u001b[0m: name 'character_name' is not defined"
     ]
    }
   ],
   "source": [
    "# BONUS\n",
    "# YOUR CODE HERE\n",
    "films = []\n",
    "\n",
    "for film in data['films']:\n",
    "    cur_film = requests.get(film).json()\n",
    "    film_title = cur_film[\"title\"]\n",
    "    films.append(film_title)\n",
    "    \n",
    "print(f\"{character_name} was in:\")\n",
    "print(films)"
   ]
  },
  {
   "cell_type": "markdown",
   "metadata": {},
   "source": [
    "# Student Pair Turns Activity 5 Number Facts API"
   ]
  },
  {
   "cell_type": "markdown",
   "metadata": {},
   "source": [
    "# Number Facts API\n",
    "\n",
    "* **Instructions:**\n",
    "\n",
    "  * Using the [Numbers API](http://numbersapi.com), create an application that takes in a user's inputs and returns a number fact based upon it.\n",
    "\n",
    "* **Hints:**\n",
    "\n",
    "  * The URL to make your request to must have `?json` at its end so that the data format returned is JSON. The default response is pure text.\n",
    "\n",
    "  * Make sure to read through the documentation when creating your application. Some types require more or less data than others.\n",
    "  \n",
    "- - -"
   ]
  },
  {
   "cell_type": "code",
   "execution_count": 7,
   "metadata": {
    "collapsed": true
   },
   "outputs": [],
   "source": [
    "# Dependencies\n",
    "import requests\n",
    "import json"
   ]
  },
  {
   "cell_type": "code",
   "execution_count": 8,
   "metadata": {
    "collapsed": true
   },
   "outputs": [],
   "source": [
    "# Base URL for GET requests to retrieve number/date facts\n",
    "url = \"http://numbersapi.com/\""
   ]
  },
  {
   "cell_type": "code",
   "execution_count": 9,
   "metadata": {
    "collapsed": false
   },
   "outputs": [
    {
     "name": "stdout",
     "output_type": "stream",
     "text": [
      "What type of data would you like to search for? [Trivia, Math, Date, or Year] date\n"
     ]
    }
   ],
   "source": [
    "# Ask the user what kind of data they would like to search for\n",
    "question = (\"What type of data would you like to search for? \"\n",
    "            \"[Trivia, Math, Date, or Year] \")\n",
    "kind_of_search = input(question)"
   ]
  },
  {
   "cell_type": "code",
   "execution_count": 10,
   "metadata": {
    "collapsed": false
   },
   "outputs": [
    {
     "name": "stdout",
     "output_type": "stream",
     "text": [
      "What month would you like to search for? 5\n",
      "What day would you like to search for? 9\n",
      "May 9th is the day in 1961 that Jim Gentile of the Baltimore Orioles becomes the first player in baseball history to hit grand slams in consecutive innings.\n"
     ]
    }
   ],
   "source": [
    "# Create code to return a number fact\n",
    "\n",
    "# If the kind of search is \"date\" take in two numbers\n",
    "if(kind_of_search.lower() == \"date\"):\n",
    "\n",
    "  # Collect the month to search for\n",
    "  month = input(\"What month would you like to search for? \")\n",
    "  # Collect the day to search for\n",
    "  day = input(\"What day would you like to search for? \")\n",
    "\n",
    "  # Make an API call to the \"date\" API and convert response object to JSON\n",
    "  response = requests.get(f\"{url}{month}/{day}/{kind_of_search.lower()}?json\").json()\n",
    "  # Print the fact stored within the response\n",
    "  print(response[\"text\"])\n",
    "\n",
    "# If the kind of search is anything but \"date\" then take one number\n",
    "else:\n",
    "\n",
    "  # Collect the number to search for\n",
    "  number = input(\"What number would you like to search for? \")\n",
    "\n",
    "  # Make an API call to the API and convert response object to JSON\n",
    "  response = requests.get(url + number + \"/\" +  kind_of_search.lower()+ \"?json\").json()\n",
    "  # Print the fact stored within the response\n",
    "  print(response[\"text\"])"
   ]
  },
  {
   "cell_type": "markdown",
   "metadata": {},
   "source": [
    "# Instructor Turn Activity 6 OMDB Request"
   ]
  },
  {
   "cell_type": "code",
   "execution_count": 42,
   "metadata": {
    "collapsed": false
   },
   "outputs": [],
   "source": [
    "import  requests\n",
    "import json"
   ]
  },
  {
   "cell_type": "code",
   "execution_count": 43,
   "metadata": {
    "collapsed": true
   },
   "outputs": [],
   "source": [
    "# New Dependency! Use this to pretty print the JSON\n",
    "# https://docs.python.org/3/library/pprint.html\n",
    "from pprint import pprint"
   ]
  },
  {
   "cell_type": "code",
   "execution_count": 44,
   "metadata": {
    "collapsed": true
   },
   "outputs": [],
   "source": [
    "# Note that the ?t= is a query param for the t-itle of the\n",
    "# movie we want to search for.\n",
    "url = \"http://www.omdbapi.com/?t=\"\n",
    "api_key = \"&apikey=trilogy\""
   ]
  },
  {
   "cell_type": "code",
   "execution_count": 45,
   "metadata": {
    "collapsed": false
   },
   "outputs": [
    {
     "name": "stdout",
     "output_type": "stream",
     "text": [
      "http://www.omdbapi.com/?t=Aliens&apikey=trilogy\n"
     ]
    }
   ],
   "source": [
    "# Performing a GET request similar to the one we executed\n",
    "# earlier\n",
    "response = requests.get(url + \"Aliens\" + api_key)\n",
    "print(response.url)"
   ]
  },
  {
   "cell_type": "code",
   "execution_count": 46,
   "metadata": {
    "collapsed": false
   },
   "outputs": [
    {
     "name": "stdout",
     "output_type": "stream",
     "text": [
      "{'Actors': 'Sigourney Weaver, Carrie Henn, Michael Biehn, Paul Reiser',\n",
      " 'Awards': 'Won 2 Oscars. Another 18 wins & 22 nominations.',\n",
      " 'BoxOffice': 'N/A',\n",
      " 'Country': 'USA',\n",
      " 'DVD': '01 Jun 1999',\n",
      " 'Director': 'James Cameron',\n",
      " 'Genre': 'Action, Adventure, Sci-Fi',\n",
      " 'Language': 'English',\n",
      " 'Metascore': '86',\n",
      " 'Plot': 'Ellen Ripley is rescued by a deep salvage team after being in '\n",
      "         'hypersleep for 57 years. The moon that the Nostromo visited has been '\n",
      "         'colonized, but contact is lost. This time, colonial marines have '\n",
      "         'impressive firepower, but will that be enough?',\n",
      " 'Poster': 'https://ia.media-imdb.com/images/M/MV5BYzVlMWViZGEtYjEyYy00YWZmLThmZGEtYmM4MDZlN2Q5MmRmXkEyXkFqcGdeQXVyMTQxNzMzNDI@._V1_SX300.jpg',\n",
      " 'Production': '20th Century Fox Film Corporat',\n",
      " 'Rated': 'R',\n",
      " 'Ratings': [{'Source': 'Internet Movie Database', 'Value': '8.4/10'},\n",
      "             {'Source': 'Rotten Tomatoes', 'Value': '98%'},\n",
      "             {'Source': 'Metacritic', 'Value': '86/100'}],\n",
      " 'Released': '18 Jul 1986',\n",
      " 'Response': 'True',\n",
      " 'Runtime': '137 min',\n",
      " 'Title': 'Aliens',\n",
      " 'Type': 'movie',\n",
      " 'Website': 'N/A',\n",
      " 'Writer': 'James Cameron (story by), David Giler (story by), Walter Hill '\n",
      "           \"(story by), Dan O'Bannon (based on characters created by), Ronald \"\n",
      "           'Shusett (based on characters created by), James Cameron '\n",
      "           '(screenplay by)',\n",
      " 'Year': '1986',\n",
      " 'imdbID': 'tt0090605',\n",
      " 'imdbRating': '8.4',\n",
      " 'imdbVotes': '564,792'}\n"
     ]
    }
   ],
   "source": [
    "# Converting the response to JSON, and printing the result.\n",
    "data = response.json()\n",
    "pprint(data)"
   ]
  },
  {
   "cell_type": "code",
   "execution_count": 47,
   "metadata": {
    "collapsed": false
   },
   "outputs": [
    {
     "name": "stdout",
     "output_type": "stream",
     "text": [
      "Movie was directed by James Cameron.\n",
      "Movie was released in USA.\n"
     ]
    }
   ],
   "source": [
    "# Print a few keys from the response JSON.\n",
    "print(f\"Movie was directed by {data['Director']}.\")\n",
    "print(f\"Movie was released in {data['Country']}.\")"
   ]
  },
  {
   "cell_type": "markdown",
   "metadata": {},
   "source": [
    "# Students Turn Activity 7 Explore OMDb API\n",
    "# OMDb API\n",
    "\n",
    "* **Instructions:**\n",
    "\n",
    "  * Read the OMDb documentation, and make a few API calls to\n",
    "get some information about your favorite movie."
   ]
  },
  {
   "cell_type": "code",
   "execution_count": null,
   "metadata": {
    "collapsed": true
   },
   "outputs": [],
   "source": []
  },
  {
   "cell_type": "code",
   "execution_count": null,
   "metadata": {
    "collapsed": true
   },
   "outputs": [],
   "source": []
  },
  {
   "cell_type": "code",
   "execution_count": null,
   "metadata": {
    "collapsed": true
   },
   "outputs": [],
   "source": []
  },
  {
   "cell_type": "markdown",
   "metadata": {},
   "source": [
    "# Students Turn Activity 8 Movie Question"
   ]
  },
  {
   "cell_type": "code",
   "execution_count": 48,
   "metadata": {
    "collapsed": true
   },
   "outputs": [],
   "source": [
    "# Dependencies\n",
    "import requests\n",
    "\n",
    "url = \"http://www.omdbapi.com/?apikey=trilogy&t=\""
   ]
  },
  {
   "cell_type": "code",
   "execution_count": 49,
   "metadata": {
    "collapsed": true
   },
   "outputs": [],
   "source": [
    "# Who was the director of the movie Aliens?\n",
    "#movie = requests.get(url + \"Aliens\").json()\n",
    "#print(f'The director of Aliens was {movie[\"Director\"]}.')"
   ]
  },
  {
   "cell_type": "code",
   "execution_count": 50,
   "metadata": {
    "collapsed": true
   },
   "outputs": [],
   "source": [
    "# What was the movie Gladiator rated?\n",
    "#movie = requests.get(url + \"Gladiator\").json()\n",
    "#print(f'The rating of Gladiator was {movie[\"Rated\"]}.')"
   ]
  },
  {
   "cell_type": "code",
   "execution_count": 51,
   "metadata": {
    "collapsed": true
   },
   "outputs": [],
   "source": [
    "# What year was 50 First Dates released?\n",
    "#movie = requests.get(url + \"50 First Dates\").json()\n",
    "#print(f'The movie 50 First Dates was released in {movie[\"Year\"]}.')"
   ]
  },
  {
   "cell_type": "code",
   "execution_count": 52,
   "metadata": {
    "collapsed": true
   },
   "outputs": [],
   "source": [
    "# Who wrote Moana?\n",
    "#movie = requests.get(url + \"Moana\").json()\n",
    "#print(f'Moana was written by {movie[\"Writer\"]}.')"
   ]
  },
  {
   "cell_type": "code",
   "execution_count": 53,
   "metadata": {
    "collapsed": true
   },
   "outputs": [],
   "source": [
    "# What was the plot of the movie Sing?\n",
    "#movie = requests.get(url + \"Sing\").json()\n",
    "#print(f'The plot of Sing was: {movie[\"Plot\"]}')"
   ]
  },
  {
   "cell_type": "markdown",
   "metadata": {},
   "source": [
    "# Instructor Turn Activity 9 Iterative Request "
   ]
  },
  {
   "cell_type": "code",
   "execution_count": 54,
   "metadata": {
    "collapsed": true
   },
   "outputs": [],
   "source": [
    "# Dependencies\n",
    "import random\n",
    "import json\n",
    "import requests"
   ]
  },
  {
   "cell_type": "code",
   "execution_count": 55,
   "metadata": {
    "collapsed": true
   },
   "outputs": [],
   "source": [
    "# Let's get the JSON for 100 posts sequentially.\n",
    "url = \"http://jsonplaceholder.typicode.com/posts/\""
   ]
  },
  {
   "cell_type": "code",
   "execution_count": 56,
   "metadata": {
    "collapsed": true
   },
   "outputs": [],
   "source": [
    "# Create an empty list to store the responses\n",
    "response_json = []"
   ]
  },
  {
   "cell_type": "code",
   "execution_count": 57,
   "metadata": {
    "collapsed": false
   },
   "outputs": [
    {
     "data": {
      "text/plain": [
       "[9, 37, 36, 94, 53, 81, 19, 39, 62, 17]"
      ]
     },
     "execution_count": 57,
     "metadata": {},
     "output_type": "execute_result"
    }
   ],
   "source": [
    "# Create random indices representing\n",
    "# a user's choice of posts\n",
    "indices = random.sample(list(range(1, 100)), 10)\n",
    "indices"
   ]
  },
  {
   "cell_type": "code",
   "execution_count": 58,
   "metadata": {
    "collapsed": false
   },
   "outputs": [
    {
     "name": "stdout",
     "output_type": "stream",
     "text": [
      "Making request number: 0 for ID: 9\n",
      "Making request number: 1 for ID: 37\n",
      "Making request number: 2 for ID: 36\n",
      "Making request number: 3 for ID: 94\n",
      "Making request number: 4 for ID: 53\n",
      "Making request number: 5 for ID: 81\n",
      "Making request number: 6 for ID: 19\n",
      "Making request number: 7 for ID: 39\n",
      "Making request number: 8 for ID: 62\n",
      "Making request number: 9 for ID: 17\n"
     ]
    }
   ],
   "source": [
    "# Make a request for each of the indices\n",
    "for x in range(len(indices)):\n",
    "    print(f\"Making request number: {x} for ID: {indices[x]}\")\n",
    "\n",
    "    # Get one of the posts\n",
    "    post_response = requests.get(url + str(indices[x]))\n",
    "\n",
    "    # Save post's JSON\n",
    "    response_json.append(post_response.json())"
   ]
  },
  {
   "cell_type": "code",
   "execution_count": 59,
   "metadata": {
    "collapsed": false
   },
   "outputs": [
    {
     "name": "stdout",
     "output_type": "stream",
     "text": [
      "We have 10 posts!\n"
     ]
    }
   ],
   "source": [
    "# Now we have 10 post objects, \n",
    "# which we got by making 100 requests to the API.\n",
    "print(f\"We have {len(response_json)} posts!\")"
   ]
  },
  {
   "cell_type": "code",
   "execution_count": 60,
   "metadata": {
    "collapsed": false
   },
   "outputs": [
    {
     "data": {
      "text/plain": [
       "[{'body': 'consectetur animi nesciunt iure dolore\\nenim quia ad\\nveniam autem ut quam aut nobis\\net est aut quod aut provident voluptas autem voluptas',\n",
       "  'id': 9,\n",
       "  'title': 'nesciunt iure omnis dolorem tempora et accusantium',\n",
       "  'userId': 1},\n",
       " {'body': 'debitis et eaque non officia sed nesciunt pariatur vel\\nvoluptatem iste vero et ea\\nnumquam aut expedita ipsum nulla in\\nvoluptates omnis consequatur aut enim officiis in quam qui',\n",
       "  'id': 37,\n",
       "  'title': 'provident vel ut sit ratione est',\n",
       "  'userId': 4},\n",
       " {'body': 'ad mollitia et omnis minus architecto odit\\nvoluptas doloremque maxime aut non ipsa qui alias veniam\\nblanditiis culpa aut quia nihil cumque facere et occaecati\\nqui aspernatur quia eaque ut aperiam inventore',\n",
       "  'id': 36,\n",
       "  'title': 'fuga nam accusamus voluptas reiciendis itaque',\n",
       "  'userId': 4},\n",
       " {'body': 'aspernatur expedita soluta quo ab ut similique\\nexpedita dolores amet\\nsed temporibus distinctio magnam saepe deleniti\\nomnis facilis nam ipsum natus sint similique omnis',\n",
       "  'id': 94,\n",
       "  'title': 'qui qui voluptates illo iste minima',\n",
       "  'userId': 10},\n",
       " {'body': 'minima harum praesentium eum rerum illo dolore\\nquasi exercitationem rerum nam\\nporro quis neque quo\\nconsequatur minus dolor quidem veritatis sunt non explicabo similique',\n",
       "  'id': 53,\n",
       "  'title': 'ut quo aut ducimus alias',\n",
       "  'userId': 6},\n",
       " {'body': 'facere qui nesciunt est voluptatum voluptatem nisi\\nsequi eligendi necessitatibus ea at rerum itaque\\nharum non ratione velit laboriosam quis consequuntur\\nex officiis minima doloremque voluptas ut aut',\n",
       "  'id': 81,\n",
       "  'title': 'tempora rem veritatis voluptas quo dolores vero',\n",
       "  'userId': 9},\n",
       " {'body': 'illum quis cupiditate provident sit magnam\\nea sed aut omnis\\nveniam maiores ullam consequatur atque\\nadipisci quo iste expedita sit quos voluptas',\n",
       "  'id': 19,\n",
       "  'title': 'adipisci placeat illum aut reiciendis qui',\n",
       "  'userId': 2},\n",
       " {'body': 'corporis rerum ducimus vel eum accusantium\\nmaxime aspernatur a porro possimus iste omnis\\nest in deleniti asperiores fuga aut\\nvoluptas sapiente vel dolore minus voluptatem incidunt ex',\n",
       "  'id': 39,\n",
       "  'title': 'eos dolorem iste accusantium est eaque quam',\n",
       "  'userId': 4},\n",
       " {'body': 'enim aspernatur illo distinctio quae praesentium\\nbeatae alias amet delectus qui voluptate distinctio\\nodit sint accusantium autem omnis\\nquo molestiae omnis ea eveniet optio',\n",
       "  'id': 62,\n",
       "  'title': 'beatae enim quia vel',\n",
       "  'userId': 7},\n",
       " {'body': 'eos voluptas et aut odit natus earum\\naspernatur fuga molestiae ullam\\ndeserunt ratione qui eos\\nqui nihil ratione nemo velit ut aut id quo',\n",
       "  'id': 17,\n",
       "  'title': 'fugit voluptas sed molestias voluptatem provident',\n",
       "  'userId': 2}]"
      ]
     },
     "execution_count": 60,
     "metadata": {},
     "output_type": "execute_result"
    }
   ],
   "source": [
    "response_json"
   ]
  },
  {
   "cell_type": "markdown",
   "metadata": {},
   "source": [
    "# Student Activity 10 Turn MovieLoop\n",
    "# Instructions\n",
    "\n",
    "Consider the following list of movie titles.\n",
    "\n",
    "```python\n",
    "movies = [\"Aliens\", \"Sing\", \"Moana\"]\n",
    "```\n",
    "\n",
    "Make a request to the OMDb API for each movie in the list. Then:\n",
    "\n",
    "1. Print the director of each movie\n",
    "\n",
    "2. Save the responses in another list\n",
    "\n",
    "- - -"
   ]
  },
  {
   "cell_type": "code",
   "execution_count": 64,
   "metadata": {
    "collapsed": true
   },
   "outputs": [],
   "source": [
    "# Dependencies\n",
    "import requests\n",
    "\n",
    "url = \"http://www.omdbapi.com/?apikey=trilogy&t=\"\n",
    "\n",
    "movies = [\"Aliens\", \"Sing\", \"Moana\"]"
   ]
  },
  {
   "cell_type": "code",
   "execution_count": 65,
   "metadata": {
    "collapsed": false
   },
   "outputs": [
    {
     "name": "stdout",
     "output_type": "stream",
     "text": [
      "The director of Aliens is James Cameron\n",
      "The director of Sing is Garth Jennings, Christophe Lourdelet(co-director)\n",
      "The director of Moana is Ron Clements, John Musker, Don Hall(co-director), Chris Williams(co-director)\n"
     ]
    }
   ],
   "source": [
    "# Use a loop to store the movies in a list \n",
    "responses = [];\n",
    "\n",
    "for movie in movies:\n",
    "    movie_data = requests.get(url + movie).json()\n",
    "    responses.append(movie_data)\n",
    "    print(f'The director of {movie} is {movie_data[\"Director\"]}')"
   ]
  },
  {
   "cell_type": "code",
   "execution_count": 66,
   "metadata": {
    "collapsed": false
   },
   "outputs": [
    {
     "data": {
      "text/plain": [
       "[{'Actors': 'Sigourney Weaver, Carrie Henn, Michael Biehn, Paul Reiser',\n",
       "  'Awards': 'Won 2 Oscars. Another 18 wins & 22 nominations.',\n",
       "  'BoxOffice': 'N/A',\n",
       "  'Country': 'USA',\n",
       "  'DVD': '01 Jun 1999',\n",
       "  'Director': 'James Cameron',\n",
       "  'Genre': 'Action, Adventure, Sci-Fi',\n",
       "  'Language': 'English',\n",
       "  'Metascore': '86',\n",
       "  'Plot': 'Ellen Ripley is rescued by a deep salvage team after being in hypersleep for 57 years. The moon that the Nostromo visited has been colonized, but contact is lost. This time, colonial marines have impressive firepower, but will that be enough?',\n",
       "  'Poster': 'https://ia.media-imdb.com/images/M/MV5BYzVlMWViZGEtYjEyYy00YWZmLThmZGEtYmM4MDZlN2Q5MmRmXkEyXkFqcGdeQXVyMTQxNzMzNDI@._V1_SX300.jpg',\n",
       "  'Production': '20th Century Fox Film Corporat',\n",
       "  'Rated': 'R',\n",
       "  'Ratings': [{'Source': 'Internet Movie Database', 'Value': '8.4/10'},\n",
       "   {'Source': 'Rotten Tomatoes', 'Value': '98%'},\n",
       "   {'Source': 'Metacritic', 'Value': '86/100'}],\n",
       "  'Released': '18 Jul 1986',\n",
       "  'Response': 'True',\n",
       "  'Runtime': '137 min',\n",
       "  'Title': 'Aliens',\n",
       "  'Type': 'movie',\n",
       "  'Website': 'N/A',\n",
       "  'Writer': \"James Cameron (story by), David Giler (story by), Walter Hill (story by), Dan O'Bannon (based on characters created by), Ronald Shusett (based on characters created by), James Cameron (screenplay by)\",\n",
       "  'Year': '1986',\n",
       "  'imdbID': 'tt0090605',\n",
       "  'imdbRating': '8.4',\n",
       "  'imdbVotes': '564,792'},\n",
       " {'Actors': 'Matthew McConaughey, Reese Witherspoon, Seth MacFarlane, Scarlett Johansson',\n",
       "  'Awards': 'Nominated for 2 Golden Globes. Another 2 wins & 21 nominations.',\n",
       "  'BoxOffice': '$270,322,940',\n",
       "  'Country': 'Japan, USA',\n",
       "  'DVD': '21 Mar 2017',\n",
       "  'Director': 'Garth Jennings, Christophe Lourdelet(co-director)',\n",
       "  'Genre': 'Animation, Comedy, Family',\n",
       "  'Language': 'English, Japanese, Ukrainian',\n",
       "  'Metascore': '59',\n",
       "  'Plot': \"In a city of humanoid animals, a hustling theater impresario's attempt to save his theater with a singing competition becomes grander than he anticipates even as its finalists' find that their lives will never be the same.\",\n",
       "  'Poster': 'https://ia.media-imdb.com/images/M/MV5BMTYzODYzODU2Ml5BMl5BanBnXkFtZTgwNTc1MTA2NzE@._V1_SX300.jpg',\n",
       "  'Production': 'Illumination Entertainment',\n",
       "  'Rated': 'PG',\n",
       "  'Ratings': [{'Source': 'Internet Movie Database', 'Value': '7.1/10'},\n",
       "   {'Source': 'Rotten Tomatoes', 'Value': '72%'},\n",
       "   {'Source': 'Metacritic', 'Value': '59/100'}],\n",
       "  'Released': '21 Dec 2016',\n",
       "  'Response': 'True',\n",
       "  'Runtime': '108 min',\n",
       "  'Title': 'Sing',\n",
       "  'Type': 'movie',\n",
       "  'Website': 'http://www.singmovie.com/',\n",
       "  'Writer': 'Garth Jennings',\n",
       "  'Year': '2016',\n",
       "  'imdbID': 'tt3470600',\n",
       "  'imdbRating': '7.1',\n",
       "  'imdbVotes': '97,529'},\n",
       " {'Actors': \"Auli'i Cravalho, Dwayne Johnson, Rachel House, Temuera Morrison\",\n",
       "  'Awards': 'Nominated for 2 Oscars. Another 18 wins & 83 nominations.',\n",
       "  'BoxOffice': '$248,752,120',\n",
       "  'Country': 'USA',\n",
       "  'DVD': '07 Mar 2017',\n",
       "  'Director': 'Ron Clements, John Musker, Don Hall(co-director), Chris Williams(co-director)',\n",
       "  'Genre': 'Animation, Adventure, Comedy',\n",
       "  'Language': 'English',\n",
       "  'Metascore': '81',\n",
       "  'Plot': \"In Ancient Polynesia, when a terrible curse incurred by the Demigod Maui reaches Moana's island, she answers the Ocean's call to seek out the Demigod to set things right.\",\n",
       "  'Poster': 'https://ia.media-imdb.com/images/M/MV5BMjI4MzU5NTExNF5BMl5BanBnXkFtZTgwNzY1MTEwMDI@._V1_SX300.jpg',\n",
       "  'Production': 'Walt Disney Pictures',\n",
       "  'Rated': 'PG',\n",
       "  'Ratings': [{'Source': 'Internet Movie Database', 'Value': '7.6/10'},\n",
       "   {'Source': 'Rotten Tomatoes', 'Value': '96%'},\n",
       "   {'Source': 'Metacritic', 'Value': '81/100'}],\n",
       "  'Released': '23 Nov 2016',\n",
       "  'Response': 'True',\n",
       "  'Runtime': '107 min',\n",
       "  'Title': 'Moana',\n",
       "  'Type': 'movie',\n",
       "  'Website': 'http://movies.disney.com/moana',\n",
       "  'Writer': 'Jared Bush (screenplay by), Ron Clements (story by), John Musker (story by), Chris Williams (story by), Don Hall (story by), Pamela Ribon (story by), Aaron Kandell (story by), Jordan Kandell (story by)',\n",
       "  'Year': '2016',\n",
       "  'imdbID': 'tt3521164',\n",
       "  'imdbRating': '7.6',\n",
       "  'imdbVotes': '189,528'}]"
      ]
     },
     "execution_count": 66,
     "metadata": {},
     "output_type": "execute_result"
    }
   ],
   "source": [
    "responses"
   ]
  },
  {
   "cell_type": "markdown",
   "metadata": {},
   "source": [
    "# Instructors Turn Activity 11 NYT Api"
   ]
  },
  {
   "cell_type": "code",
   "execution_count": 67,
   "metadata": {
    "collapsed": true
   },
   "outputs": [],
   "source": [
    "# Dependencies\n",
    "import requests\n",
    "from pprint import pprint\n",
    "from config import api_key\n",
    "\n",
    "url = \"https://api.nytimes.com/svc/search/v2/articlesearch.json?\""
   ]
  },
  {
   "cell_type": "code",
   "execution_count": 68,
   "metadata": {
    "collapsed": true
   },
   "outputs": [],
   "source": [
    "# Search for articles that mention granola\n",
    "query = \"granola\""
   ]
  },
  {
   "cell_type": "code",
   "execution_count": 69,
   "metadata": {
    "collapsed": false
   },
   "outputs": [
    {
     "data": {
      "text/plain": [
       "'https://api.nytimes.com/svc/search/v2/articlesearch.json?api-key=164b73c522a8420c8e05343ef1da0a7e&q=granola'"
      ]
     },
     "execution_count": 69,
     "metadata": {},
     "output_type": "execute_result"
    }
   ],
   "source": [
    "# Build query URL\n",
    "query_url = url + \"api-key=\" + api_key + \"&q=\" + query\n",
    "query_url"
   ]
  },
  {
   "cell_type": "code",
   "execution_count": 70,
   "metadata": {
    "collapsed": false
   },
   "outputs": [
    {
     "name": "stdout",
     "output_type": "stream",
     "text": [
      "[{'_id': '5a8408c210f40f00018c0e60',\n",
      "  'blog': {},\n",
      "  'byline': {'organization': None,\n",
      "             'original': 'By MICHAEL POLLAN',\n",
      "             'person': [{'firstname': 'Michael',\n",
      "                         'lastname': 'POLLAN',\n",
      "                         'middlename': None,\n",
      "                         'organization': '',\n",
      "                         'qualifier': None,\n",
      "                         'rank': 1,\n",
      "                         'role': 'reported',\n",
      "                         'title': None}]},\n",
      "  'document_type': 'article',\n",
      "  'headline': {'content_kicker': 'Nonfiction',\n",
      "               'kicker': 'Nonfiction',\n",
      "               'main': 'How We Got From Twinkies to Tofu',\n",
      "               'name': None,\n",
      "               'print_headline': 'Granola',\n",
      "               'seo': None,\n",
      "               'sub': None},\n",
      "  'keywords': [{'major': 'N',\n",
      "                'name': 'subject',\n",
      "                'rank': 1,\n",
      "                'value': 'Books and Literature'},\n",
      "               {'major': 'N',\n",
      "                'name': 'creative_works',\n",
      "                'rank': 2,\n",
      "                'value': 'Hippie Food: How Back-to-the-Landers, Longhairs, and '\n",
      "                         'Revolutionaries Changed the Way We Eat (Book)'},\n",
      "               {'major': 'N',\n",
      "                'name': 'persons',\n",
      "                'rank': 3,\n",
      "                'value': 'Kauffman, Jonathan (1971- )'},\n",
      "               {'major': 'N',\n",
      "                'name': 'subject',\n",
      "                'rank': 4,\n",
      "                'value': 'Organic Foods and Products'},\n",
      "               {'major': 'N',\n",
      "                'name': 'subject',\n",
      "                'rank': 5,\n",
      "                'value': 'Hippies'}],\n",
      "  'multimedia': [{'caption': None,\n",
      "                  'credit': None,\n",
      "                  'crop_name': 'articleLarge',\n",
      "                  'height': 444,\n",
      "                  'legacy': {'xlarge': 'images/2018/02/18/books/review/18Pollan/18Pollan-articleLarge.jpg',\n",
      "                             'xlargeheight': 444,\n",
      "                             'xlargewidth': 600},\n",
      "                  'rank': 0,\n",
      "                  'subType': 'xlarge',\n",
      "                  'subtype': 'xlarge',\n",
      "                  'type': 'image',\n",
      "                  'url': 'images/2018/02/18/books/review/18Pollan/18Pollan-articleLarge.jpg',\n",
      "                  'width': 600},\n",
      "                 {'caption': None,\n",
      "                  'credit': None,\n",
      "                  'crop_name': 'thumbWide',\n",
      "                  'height': 126,\n",
      "                  'legacy': {'wide': 'images/2018/02/18/books/review/18Pollan/18Pollan-thumbWide.jpg',\n",
      "                             'wideheight': 126,\n",
      "                             'widewidth': 190},\n",
      "                  'rank': 0,\n",
      "                  'subType': 'wide',\n",
      "                  'subtype': 'wide',\n",
      "                  'type': 'image',\n",
      "                  'url': 'images/2018/02/18/books/review/18Pollan/18Pollan-thumbWide.jpg',\n",
      "                  'width': 190},\n",
      "                 {'caption': None,\n",
      "                  'credit': None,\n",
      "                  'crop_name': 'thumbStandard',\n",
      "                  'height': 75,\n",
      "                  'legacy': {'thumbnail': 'images/2018/02/18/books/review/18Pollan/18Pollan-thumbStandard.jpg',\n",
      "                             'thumbnailheight': 75,\n",
      "                             'thumbnailwidth': 75},\n",
      "                  'rank': 0,\n",
      "                  'subType': 'thumbnail',\n",
      "                  'subtype': 'thumbnail',\n",
      "                  'type': 'image',\n",
      "                  'url': 'images/2018/02/18/books/review/18Pollan/18Pollan-thumbStandard.jpg',\n",
      "                  'width': 75},\n",
      "                 {'caption': None,\n",
      "                  'credit': None,\n",
      "                  'crop_name': 'articleInline',\n",
      "                  'height': 141,\n",
      "                  'legacy': {},\n",
      "                  'rank': 0,\n",
      "                  'subType': 'articleInline',\n",
      "                  'subtype': 'articleInline',\n",
      "                  'type': 'image',\n",
      "                  'url': 'images/2018/02/18/books/review/18Pollan/18Pollan-articleInline.jpg',\n",
      "                  'width': 190},\n",
      "                 {'caption': None,\n",
      "                  'credit': None,\n",
      "                  'crop_name': 'blog225',\n",
      "                  'height': 167,\n",
      "                  'legacy': {},\n",
      "                  'rank': 0,\n",
      "                  'subType': 'blog225',\n",
      "                  'subtype': 'blog225',\n",
      "                  'type': 'image',\n",
      "                  'url': 'images/2018/02/18/books/review/18Pollan/18Pollan-blog225.jpg',\n",
      "                  'width': 225},\n",
      "                 {'caption': None,\n",
      "                  'credit': None,\n",
      "                  'crop_name': 'blog427',\n",
      "                  'height': 316,\n",
      "                  'legacy': {},\n",
      "                  'rank': 0,\n",
      "                  'subType': 'blog427',\n",
      "                  'subtype': 'blog427',\n",
      "                  'type': 'image',\n",
      "                  'url': 'images/2018/02/18/books/review/18Pollan/18Pollan-blog427.jpg',\n",
      "                  'width': 427},\n",
      "                 {'caption': None,\n",
      "                  'credit': None,\n",
      "                  'crop_name': 'blog480',\n",
      "                  'height': 355,\n",
      "                  'legacy': {},\n",
      "                  'rank': 0,\n",
      "                  'subType': 'blog480',\n",
      "                  'subtype': 'blog480',\n",
      "                  'type': 'image',\n",
      "                  'url': 'images/2018/02/18/books/review/18Pollan/18Pollan-blog480.jpg',\n",
      "                  'width': 480},\n",
      "                 {'caption': None,\n",
      "                  'credit': None,\n",
      "                  'crop_name': 'blog533',\n",
      "                  'height': 395,\n",
      "                  'legacy': {},\n",
      "                  'rank': 0,\n",
      "                  'subType': 'blog533',\n",
      "                  'subtype': 'blog533',\n",
      "                  'type': 'image',\n",
      "                  'url': 'images/2018/02/18/books/review/18Pollan/18Pollan-blog533.jpg',\n",
      "                  'width': 533},\n",
      "                 {'caption': None,\n",
      "                  'credit': None,\n",
      "                  'crop_name': 'blogSmallInline',\n",
      "                  'height': 112,\n",
      "                  'legacy': {},\n",
      "                  'rank': 0,\n",
      "                  'subType': 'blogSmallInline',\n",
      "                  'subtype': 'blogSmallInline',\n",
      "                  'type': 'image',\n",
      "                  'url': 'images/2018/02/18/books/review/18Pollan/18Pollan-blogSmallInline.jpg',\n",
      "                  'width': 151},\n",
      "                 {'caption': None,\n",
      "                  'credit': None,\n",
      "                  'crop_name': 'blogSmallThumb',\n",
      "                  'height': 50,\n",
      "                  'legacy': {},\n",
      "                  'rank': 0,\n",
      "                  'subType': 'blogSmallThumb',\n",
      "                  'subtype': 'blogSmallThumb',\n",
      "                  'type': 'image',\n",
      "                  'url': 'images/2018/02/18/books/review/18Pollan/18Pollan-blogSmallThumb.jpg',\n",
      "                  'width': 50},\n",
      "                 {'caption': None,\n",
      "                  'credit': None,\n",
      "                  'crop_name': 'facebookJumbo',\n",
      "                  'height': 550,\n",
      "                  'legacy': {},\n",
      "                  'rank': 0,\n",
      "                  'subType': 'facebookJumbo',\n",
      "                  'subtype': 'facebookJumbo',\n",
      "                  'type': 'image',\n",
      "                  'url': 'images/2018/02/18/books/review/18Pollan/18Pollan-facebookJumbo.jpg',\n",
      "                  'width': 1050},\n",
      "                 {'caption': None,\n",
      "                  'credit': None,\n",
      "                  'crop_name': 'filmstrip',\n",
      "                  'height': 190,\n",
      "                  'legacy': {},\n",
      "                  'rank': 0,\n",
      "                  'subType': 'filmstrip',\n",
      "                  'subtype': 'filmstrip',\n",
      "                  'type': 'image',\n",
      "                  'url': 'images/2018/02/18/books/review/18Pollan/18Pollan-filmstrip.jpg',\n",
      "                  'width': 190},\n",
      "                 {'caption': None,\n",
      "                  'credit': None,\n",
      "                  'crop_name': 'hpLarge',\n",
      "                  'height': 287,\n",
      "                  'legacy': {},\n",
      "                  'rank': 0,\n",
      "                  'subType': 'hpLarge',\n",
      "                  'subtype': 'hpLarge',\n",
      "                  'type': 'image',\n",
      "                  'url': 'images/2018/02/18/books/review/18Pollan/18Pollan-hpLarge.jpg',\n",
      "                  'width': 511},\n",
      "                 {'caption': None,\n",
      "                  'credit': None,\n",
      "                  'crop_name': 'hpSmall',\n",
      "                  'height': 121,\n",
      "                  'legacy': {},\n",
      "                  'rank': 0,\n",
      "                  'subType': 'hpSmall',\n",
      "                  'subtype': 'hpSmall',\n",
      "                  'type': 'image',\n",
      "                  'url': 'images/2018/02/18/books/review/18Pollan/18Pollan-hpSmall.jpg',\n",
      "                  'width': 163},\n",
      "                 {'caption': None,\n",
      "                  'credit': None,\n",
      "                  'crop_name': 'jumbo',\n",
      "                  'height': 758,\n",
      "                  'legacy': {},\n",
      "                  'rank': 0,\n",
      "                  'subType': 'jumbo',\n",
      "                  'subtype': 'jumbo',\n",
      "                  'type': 'image',\n",
      "                  'url': 'images/2018/02/18/books/review/18Pollan/18Pollan-jumbo.jpg',\n",
      "                  'width': 1024},\n",
      "                 {'caption': None,\n",
      "                  'credit': None,\n",
      "                  'crop_name': 'largeHorizontal375',\n",
      "                  'height': 250,\n",
      "                  'legacy': {},\n",
      "                  'rank': 0,\n",
      "                  'subType': 'largeHorizontal375',\n",
      "                  'subtype': 'largeHorizontal375',\n",
      "                  'type': 'image',\n",
      "                  'url': 'images/2018/02/18/books/review/18Pollan/18Pollan-largeHorizontal375.jpg',\n",
      "                  'width': 375},\n",
      "                 {'caption': None,\n",
      "                  'credit': None,\n",
      "                  'crop_name': 'largeHorizontalJumbo',\n",
      "                  'height': 683,\n",
      "                  'legacy': {},\n",
      "                  'rank': 0,\n",
      "                  'subType': 'largeHorizontalJumbo',\n",
      "                  'subtype': 'largeHorizontalJumbo',\n",
      "                  'type': 'image',\n",
      "                  'url': 'images/2018/02/18/books/review/18Pollan/18Pollan-largeHorizontalJumbo.jpg',\n",
      "                  'width': 1024},\n",
      "                 {'caption': None,\n",
      "                  'credit': None,\n",
      "                  'crop_name': 'largeWidescreen573',\n",
      "                  'height': 322,\n",
      "                  'legacy': {},\n",
      "                  'rank': 0,\n",
      "                  'subType': 'largeWidescreen573',\n",
      "                  'subtype': 'largeWidescreen573',\n",
      "                  'type': 'image',\n",
      "                  'url': 'images/2018/02/18/books/review/18Pollan/18Pollan-largeWidescreen573.jpg',\n",
      "                  'width': 573},\n",
      "                 {'caption': None,\n",
      "                  'credit': None,\n",
      "                  'crop_name': 'largeWidescreen1050',\n",
      "                  'height': 591,\n",
      "                  'legacy': {},\n",
      "                  'rank': 0,\n",
      "                  'subType': 'largeWidescreen1050',\n",
      "                  'subtype': 'largeWidescreen1050',\n",
      "                  'type': 'image',\n",
      "                  'url': 'images/2018/02/18/books/review/18Pollan/18Pollan-largeWidescreen1050.jpg',\n",
      "                  'width': 1050},\n",
      "                 {'caption': None,\n",
      "                  'credit': None,\n",
      "                  'crop_name': 'master1050',\n",
      "                  'height': 777,\n",
      "                  'legacy': {},\n",
      "                  'rank': 0,\n",
      "                  'subType': 'master1050',\n",
      "                  'subtype': 'master1050',\n",
      "                  'type': 'image',\n",
      "                  'url': 'images/2018/02/18/books/review/18Pollan/18Pollan-master1050.jpg',\n",
      "                  'width': 1050},\n",
      "                 {'caption': None,\n",
      "                  'credit': None,\n",
      "                  'crop_name': 'master180',\n",
      "                  'height': 133,\n",
      "                  'legacy': {},\n",
      "                  'rank': 0,\n",
      "                  'subType': 'master180',\n",
      "                  'subtype': 'master180',\n",
      "                  'type': 'image',\n",
      "                  'url': 'images/2018/02/18/books/review/18Pollan/18Pollan-master180.jpg',\n",
      "                  'width': 180},\n",
      "                 {'caption': None,\n",
      "                  'credit': None,\n",
      "                  'crop_name': 'master315',\n",
      "                  'height': 233,\n",
      "                  'legacy': {},\n",
      "                  'rank': 0,\n",
      "                  'subType': 'master315',\n",
      "                  'subtype': 'master315',\n",
      "                  'type': 'image',\n",
      "                  'url': 'images/2018/02/18/books/review/18Pollan/18Pollan-master315.jpg',\n",
      "                  'width': 315},\n",
      "                 {'caption': None,\n",
      "                  'credit': None,\n",
      "                  'crop_name': 'master495',\n",
      "                  'height': 367,\n",
      "                  'legacy': {},\n",
      "                  'rank': 0,\n",
      "                  'subType': 'master495',\n",
      "                  'subtype': 'master495',\n",
      "                  'type': 'image',\n",
      "                  'url': 'images/2018/02/18/books/review/18Pollan/18Pollan-master495.jpg',\n",
      "                  'width': 495},\n",
      "                 {'caption': None,\n",
      "                  'credit': None,\n",
      "                  'crop_name': 'master768',\n",
      "                  'height': 569,\n",
      "                  'legacy': {},\n",
      "                  'rank': 0,\n",
      "                  'subType': 'master768',\n",
      "                  'subtype': 'master768',\n",
      "                  'type': 'image',\n",
      "                  'url': 'images/2018/02/18/books/review/18Pollan/18Pollan-master768.jpg',\n",
      "                  'width': 768},\n",
      "                 {'caption': None,\n",
      "                  'credit': None,\n",
      "                  'crop_name': 'master675',\n",
      "                  'height': 500,\n",
      "                  'legacy': {},\n",
      "                  'rank': 0,\n",
      "                  'subType': 'master675',\n",
      "                  'subtype': 'master675',\n",
      "                  'type': 'image',\n",
      "                  'url': 'images/2018/02/18/books/review/18Pollan/18Pollan-master675.jpg',\n",
      "                  'width': 675},\n",
      "                 {'caption': None,\n",
      "                  'credit': None,\n",
      "                  'crop_name': 'mediumFlexible177',\n",
      "                  'height': 131,\n",
      "                  'legacy': {},\n",
      "                  'rank': 0,\n",
      "                  'subType': 'mediumFlexible177',\n",
      "                  'subtype': 'mediumFlexible177',\n",
      "                  'type': 'image',\n",
      "                  'url': 'images/2018/02/18/books/review/18Pollan/18Pollan-mediumFlexible177.jpg',\n",
      "                  'width': 177},\n",
      "                 {'caption': None,\n",
      "                  'credit': None,\n",
      "                  'crop_name': 'mediumSquare149',\n",
      "                  'height': 149,\n",
      "                  'legacy': {},\n",
      "                  'rank': 0,\n",
      "                  'subType': 'mediumSquare149',\n",
      "                  'subtype': 'mediumSquare149',\n",
      "                  'type': 'image',\n",
      "                  'url': 'images/2018/02/18/books/review/18Pollan/18Pollan-mediumSquare149.jpg',\n",
      "                  'width': 149},\n",
      "                 {'caption': None,\n",
      "                  'credit': None,\n",
      "                  'crop_name': 'mediumThreeByTwo210',\n",
      "                  'height': 140,\n",
      "                  'legacy': {},\n",
      "                  'rank': 0,\n",
      "                  'subType': 'mediumThreeByTwo210',\n",
      "                  'subtype': 'mediumThreeByTwo210',\n",
      "                  'type': 'image',\n",
      "                  'url': 'images/2018/02/18/books/review/18Pollan/18Pollan-mediumThreeByTwo210.jpg',\n",
      "                  'width': 210},\n",
      "                 {'caption': None,\n",
      "                  'credit': None,\n",
      "                  'crop_name': 'mediumThreeByTwo225',\n",
      "                  'height': 150,\n",
      "                  'legacy': {},\n",
      "                  'rank': 0,\n",
      "                  'subType': 'mediumThreeByTwo225',\n",
      "                  'subtype': 'mediumThreeByTwo225',\n",
      "                  'type': 'image',\n",
      "                  'url': 'images/2018/02/18/books/review/18Pollan/18Pollan-mediumThreeByTwo225.jpg',\n",
      "                  'width': 225},\n",
      "                 {'caption': None,\n",
      "                  'credit': None,\n",
      "                  'crop_name': 'mediumThreeByTwo440',\n",
      "                  'height': 293,\n",
      "                  'legacy': {},\n",
      "                  'rank': 0,\n",
      "                  'subType': 'mediumThreeByTwo440',\n",
      "                  'subtype': 'mediumThreeByTwo440',\n",
      "                  'type': 'image',\n",
      "                  'url': 'images/2018/02/18/books/review/18Pollan/18Pollan-mediumThreeByTwo440.jpg',\n",
      "                  'width': 440},\n",
      "                 {'caption': None,\n",
      "                  'credit': None,\n",
      "                  'crop_name': 'mediumThreeByTwo378',\n",
      "                  'height': 252,\n",
      "                  'legacy': {},\n",
      "                  'rank': 0,\n",
      "                  'subType': 'mediumThreeByTwo378',\n",
      "                  'subtype': 'mediumThreeByTwo378',\n",
      "                  'type': 'image',\n",
      "                  'url': 'images/2018/02/18/books/review/18Pollan/18Pollan-mediumThreeByTwo378.jpg',\n",
      "                  'width': 378},\n",
      "                 {'caption': None,\n",
      "                  'credit': None,\n",
      "                  'crop_name': 'mediumThreeByTwo252',\n",
      "                  'height': 168,\n",
      "                  'legacy': {},\n",
      "                  'rank': 0,\n",
      "                  'subType': 'mediumThreeByTwo252',\n",
      "                  'subtype': 'mediumThreeByTwo252',\n",
      "                  'type': 'image',\n",
      "                  'url': 'images/2018/02/18/books/review/18Pollan/18Pollan-mediumThreeByTwo252.jpg',\n",
      "                  'width': 252},\n",
      "                 {'caption': None,\n",
      "                  'credit': None,\n",
      "                  'crop_name': 'miniMoth',\n",
      "                  'height': 70,\n",
      "                  'legacy': {},\n",
      "                  'rank': 0,\n",
      "                  'subType': 'miniMoth',\n",
      "                  'subtype': 'miniMoth',\n",
      "                  'type': 'image',\n",
      "                  'url': 'images/2018/02/18/books/review/18Pollan/18Pollan-miniMoth.jpg',\n",
      "                  'width': 151},\n",
      "                 {'caption': None,\n",
      "                  'credit': None,\n",
      "                  'crop_name': 'moth',\n",
      "                  'height': 151,\n",
      "                  'legacy': {},\n",
      "                  'rank': 0,\n",
      "                  'subType': 'moth',\n",
      "                  'subtype': 'moth',\n",
      "                  'type': 'image',\n",
      "                  'url': 'images/2018/02/18/books/review/18Pollan/18Pollan-moth.jpg',\n",
      "                  'width': 151},\n",
      "                 {'caption': None,\n",
      "                  'credit': None,\n",
      "                  'crop_name': 'popup',\n",
      "                  'height': 481,\n",
      "                  'legacy': {},\n",
      "                  'rank': 0,\n",
      "                  'subType': 'popup',\n",
      "                  'subtype': 'popup',\n",
      "                  'type': 'image',\n",
      "                  'url': 'images/2018/02/18/books/review/18Pollan/18Pollan-popup.jpg',\n",
      "                  'width': 650},\n",
      "                 {'caption': None,\n",
      "                  'credit': None,\n",
      "                  'crop_name': 'sfSpan',\n",
      "                  'height': 263,\n",
      "                  'legacy': {},\n",
      "                  'rank': 0,\n",
      "                  'subType': 'sfSpan',\n",
      "                  'subtype': 'sfSpan',\n",
      "                  'type': 'image',\n",
      "                  'url': 'images/2018/02/18/books/review/18Pollan/18Pollan-sfSpan.jpg',\n",
      "                  'width': 395},\n",
      "                 {'caption': None,\n",
      "                  'credit': None,\n",
      "                  'crop_name': 'slide',\n",
      "                  'height': 444,\n",
      "                  'legacy': {},\n",
      "                  'rank': 0,\n",
      "                  'subType': 'slide',\n",
      "                  'subtype': 'slide',\n",
      "                  'type': 'image',\n",
      "                  'url': 'images/2018/02/18/books/review/18Pollan/18Pollan-slide.jpg',\n",
      "                  'width': 600},\n",
      "                 {'caption': None,\n",
      "                  'credit': None,\n",
      "                  'crop_name': 'smallSquare168',\n",
      "                  'height': 168,\n",
      "                  'legacy': {},\n",
      "                  'rank': 0,\n",
      "                  'subType': 'smallSquare168',\n",
      "                  'subtype': 'smallSquare168',\n",
      "                  'type': 'image',\n",
      "                  'url': 'images/2018/02/18/books/review/18Pollan/18Pollan-smallSquare168.jpg',\n",
      "                  'width': 168},\n",
      "                 {'caption': None,\n",
      "                  'credit': None,\n",
      "                  'crop_name': 'smallSquare252',\n",
      "                  'height': 252,\n",
      "                  'legacy': {},\n",
      "                  'rank': 0,\n",
      "                  'subType': 'smallSquare252',\n",
      "                  'subtype': 'smallSquare252',\n",
      "                  'type': 'image',\n",
      "                  'url': 'images/2018/02/18/books/review/18Pollan/18Pollan-smallSquare252.jpg',\n",
      "                  'width': 252},\n",
      "                 {'caption': None,\n",
      "                  'credit': None,\n",
      "                  'crop_name': 'square320',\n",
      "                  'height': 320,\n",
      "                  'legacy': {},\n",
      "                  'rank': 0,\n",
      "                  'subType': 'square320',\n",
      "                  'subtype': 'square320',\n",
      "                  'type': 'image',\n",
      "                  'url': 'images/2018/02/18/books/review/18Pollan/18Pollan-square320.jpg',\n",
      "                  'width': 320},\n",
      "                 {'caption': None,\n",
      "                  'credit': None,\n",
      "                  'crop_name': 'square640',\n",
      "                  'height': 640,\n",
      "                  'legacy': {},\n",
      "                  'rank': 0,\n",
      "                  'subType': 'square640',\n",
      "                  'subtype': 'square640',\n",
      "                  'type': 'image',\n",
      "                  'url': 'images/2018/02/18/books/review/18Pollan/18Pollan-square640.jpg',\n",
      "                  'width': 640},\n",
      "                 {'caption': None,\n",
      "                  'credit': None,\n",
      "                  'crop_name': 'superJumbo',\n",
      "                  'height': 1044,\n",
      "                  'legacy': {},\n",
      "                  'rank': 0,\n",
      "                  'subType': 'superJumbo',\n",
      "                  'subtype': 'superJumbo',\n",
      "                  'type': 'image',\n",
      "                  'url': 'images/2018/02/18/books/review/18Pollan/18Pollan-superJumbo.jpg',\n",
      "                  'width': 1410},\n",
      "                 {'caption': None,\n",
      "                  'credit': None,\n",
      "                  'crop_name': 'thumbLarge',\n",
      "                  'height': 150,\n",
      "                  'legacy': {},\n",
      "                  'rank': 0,\n",
      "                  'subType': 'thumbLarge',\n",
      "                  'subtype': 'thumbLarge',\n",
      "                  'type': 'image',\n",
      "                  'url': 'images/2018/02/18/books/review/18Pollan/18Pollan-thumbLarge.jpg',\n",
      "                  'width': 150},\n",
      "                 {'caption': None,\n",
      "                  'credit': None,\n",
      "                  'crop_name': 'tmagArticle',\n",
      "                  'height': 438,\n",
      "                  'legacy': {},\n",
      "                  'rank': 0,\n",
      "                  'subType': 'tmagArticle',\n",
      "                  'subtype': 'tmagArticle',\n",
      "                  'type': 'image',\n",
      "                  'url': 'images/2018/02/18/books/review/18Pollan/18Pollan-tmagArticle.jpg',\n",
      "                  'width': 592},\n",
      "                 {'caption': None,\n",
      "                  'credit': None,\n",
      "                  'crop_name': 'tmagSF',\n",
      "                  'height': 268,\n",
      "                  'legacy': {},\n",
      "                  'rank': 0,\n",
      "                  'subType': 'tmagSF',\n",
      "                  'subtype': 'tmagSF',\n",
      "                  'type': 'image',\n",
      "                  'url': 'images/2018/02/18/books/review/18Pollan/18Pollan-tmagSF.jpg',\n",
      "                  'width': 362},\n",
      "                 {'caption': None,\n",
      "                  'credit': None,\n",
      "                  'crop_name': 'videoFifteenBySeven1305',\n",
      "                  'height': 609,\n",
      "                  'legacy': {},\n",
      "                  'rank': 0,\n",
      "                  'subType': 'videoFifteenBySeven1305',\n",
      "                  'subtype': 'videoFifteenBySeven1305',\n",
      "                  'type': 'image',\n",
      "                  'url': 'images/2018/02/18/books/review/18Pollan/18Pollan-videoFifteenBySeven1305.jpg',\n",
      "                  'width': 1305},\n",
      "                 {'caption': None,\n",
      "                  'credit': None,\n",
      "                  'crop_name': 'videoHpMedium',\n",
      "                  'height': 211,\n",
      "                  'legacy': {},\n",
      "                  'rank': 0,\n",
      "                  'subType': 'videoHpMedium',\n",
      "                  'subtype': 'videoHpMedium',\n",
      "                  'type': 'image',\n",
      "                  'url': 'images/2018/02/18/books/review/18Pollan/18Pollan-videoHpMedium.jpg',\n",
      "                  'width': 375},\n",
      "                 {'caption': None,\n",
      "                  'credit': None,\n",
      "                  'crop_name': 'videoLarge',\n",
      "                  'height': 507,\n",
      "                  'legacy': {},\n",
      "                  'rank': 0,\n",
      "                  'subType': 'videoLarge',\n",
      "                  'subtype': 'videoLarge',\n",
      "                  'type': 'image',\n",
      "                  'url': 'images/2018/02/18/books/review/18Pollan/18Pollan-videoLarge.jpg',\n",
      "                  'width': 768},\n",
      "                 {'caption': None,\n",
      "                  'credit': None,\n",
      "                  'crop_name': 'videoSixteenByNine1050',\n",
      "                  'height': 591,\n",
      "                  'legacy': {},\n",
      "                  'rank': 0,\n",
      "                  'subType': 'videoSixteenByNine1050',\n",
      "                  'subtype': 'videoSixteenByNine1050',\n",
      "                  'type': 'image',\n",
      "                  'url': 'images/2018/02/18/books/review/18Pollan/18Pollan-videoSixteenByNine1050.jpg',\n",
      "                  'width': 1050},\n",
      "                 {'caption': None,\n",
      "                  'credit': None,\n",
      "                  'crop_name': 'videoSixteenByNine150',\n",
      "                  'height': 84,\n",
      "                  'legacy': {},\n",
      "                  'rank': 0,\n",
      "                  'subType': 'videoSixteenByNine150',\n",
      "                  'subtype': 'videoSixteenByNine150',\n",
      "                  'type': 'image',\n",
      "                  'url': 'images/2018/02/18/books/review/18Pollan/18Pollan-videoSixteenByNine150.jpg',\n",
      "                  'width': 150},\n",
      "                 {'caption': None,\n",
      "                  'credit': None,\n",
      "                  'crop_name': 'videoSixteenByNine225',\n",
      "                  'height': 126,\n",
      "                  'legacy': {},\n",
      "                  'rank': 0,\n",
      "                  'subType': 'videoSixteenByNine225',\n",
      "                  'subtype': 'videoSixteenByNine225',\n",
      "                  'type': 'image',\n",
      "                  'url': 'images/2018/02/18/books/review/18Pollan/18Pollan-videoSixteenByNine225.jpg',\n",
      "                  'width': 225},\n",
      "                 {'caption': None,\n",
      "                  'credit': None,\n",
      "                  'crop_name': 'videoSixteenByNine310',\n",
      "                  'height': 174,\n",
      "                  'legacy': {},\n",
      "                  'rank': 0,\n",
      "                  'subType': 'videoSixteenByNine310',\n",
      "                  'subtype': 'videoSixteenByNine310',\n",
      "                  'type': 'image',\n",
      "                  'url': 'images/2018/02/18/books/review/18Pollan/18Pollan-videoSixteenByNine310.jpg',\n",
      "                  'width': 310},\n",
      "                 {'caption': None,\n",
      "                  'credit': None,\n",
      "                  'crop_name': 'videoSixteenByNine390',\n",
      "                  'height': 219,\n",
      "                  'legacy': {},\n",
      "                  'rank': 0,\n",
      "                  'subType': 'videoSixteenByNine390',\n",
      "                  'subtype': 'videoSixteenByNine390',\n",
      "                  'type': 'image',\n",
      "                  'url': 'images/2018/02/18/books/review/18Pollan/18Pollan-videoSixteenByNine390.jpg',\n",
      "                  'width': 390},\n",
      "                 {'caption': None,\n",
      "                  'credit': None,\n",
      "                  'crop_name': 'videoSixteenByNine480',\n",
      "                  'height': 270,\n",
      "                  'legacy': {},\n",
      "                  'rank': 0,\n",
      "                  'subType': 'videoSixteenByNine480',\n",
      "                  'subtype': 'videoSixteenByNine480',\n",
      "                  'type': 'image',\n",
      "                  'url': 'images/2018/02/18/books/review/18Pollan/18Pollan-videoSixteenByNine480.jpg',\n",
      "                  'width': 480},\n",
      "                 {'caption': None,\n",
      "                  'credit': None,\n",
      "                  'crop_name': 'videoSixteenByNine495',\n",
      "                  'height': 278,\n",
      "                  'legacy': {},\n",
      "                  'rank': 0,\n",
      "                  'subType': 'videoSixteenByNine495',\n",
      "                  'subtype': 'videoSixteenByNine495',\n",
      "                  'type': 'image',\n",
      "                  'url': 'images/2018/02/18/books/review/18Pollan/18Pollan-videoSixteenByNine495.jpg',\n",
      "                  'width': 495},\n",
      "                 {'caption': None,\n",
      "                  'credit': None,\n",
      "                  'crop_name': 'videoSixteenByNine540',\n",
      "                  'height': 304,\n",
      "                  'legacy': {},\n",
      "                  'rank': 0,\n",
      "                  'subType': 'videoSixteenByNine540',\n",
      "                  'subtype': 'videoSixteenByNine540',\n",
      "                  'type': 'image',\n",
      "                  'url': 'images/2018/02/18/books/review/18Pollan/18Pollan-videoSixteenByNine540.jpg',\n",
      "                  'width': 540},\n",
      "                 {'caption': None,\n",
      "                  'credit': None,\n",
      "                  'crop_name': 'videoSixteenByNine600',\n",
      "                  'height': 338,\n",
      "                  'legacy': {},\n",
      "                  'rank': 0,\n",
      "                  'subType': 'videoSixteenByNine600',\n",
      "                  'subtype': 'videoSixteenByNine600',\n",
      "                  'type': 'image',\n",
      "                  'url': 'images/2018/02/18/books/review/18Pollan/18Pollan-videoSixteenByNine600.jpg',\n",
      "                  'width': 600},\n",
      "                 {'caption': None,\n",
      "                  'credit': None,\n",
      "                  'crop_name': 'videoSixteenByNine768',\n",
      "                  'height': 432,\n",
      "                  'legacy': {},\n",
      "                  'rank': 0,\n",
      "                  'subType': 'videoSixteenByNine768',\n",
      "                  'subtype': 'videoSixteenByNine768',\n",
      "                  'type': 'image',\n",
      "                  'url': 'images/2018/02/18/books/review/18Pollan/18Pollan-videoSixteenByNine768.jpg',\n",
      "                  'width': 768},\n",
      "                 {'caption': None,\n",
      "                  'credit': None,\n",
      "                  'crop_name': 'videoSixteenByNine96',\n",
      "                  'height': 54,\n",
      "                  'legacy': {},\n",
      "                  'rank': 0,\n",
      "                  'subType': 'videoSixteenByNine96',\n",
      "                  'subtype': 'videoSixteenByNine96',\n",
      "                  'type': 'image',\n",
      "                  'url': 'images/2018/02/18/books/review/18Pollan/18Pollan-videoSixteenByNine96.jpg',\n",
      "                  'width': 96},\n",
      "                 {'caption': None,\n",
      "                  'credit': None,\n",
      "                  'crop_name': 'videoSixteenByNineJumbo1600',\n",
      "                  'height': 793,\n",
      "                  'legacy': {},\n",
      "                  'rank': 0,\n",
      "                  'subType': 'videoSixteenByNineJumbo1600',\n",
      "                  'subtype': 'videoSixteenByNineJumbo1600',\n",
      "                  'type': 'image',\n",
      "                  'url': 'images/2018/02/18/books/review/18Pollan/18Pollan-videoSixteenByNineJumbo1600.jpg',\n",
      "                  'width': 1410},\n",
      "                 {'caption': None,\n",
      "                  'credit': None,\n",
      "                  'crop_name': 'videoSmall',\n",
      "                  'height': 281,\n",
      "                  'legacy': {},\n",
      "                  'rank': 0,\n",
      "                  'subType': 'videoSmall',\n",
      "                  'subtype': 'videoSmall',\n",
      "                  'type': 'image',\n",
      "                  'url': 'images/2018/02/18/books/review/18Pollan/18Pollan-videoSmall.jpg',\n",
      "                  'width': 500},\n",
      "                 {'caption': None,\n",
      "                  'credit': None,\n",
      "                  'crop_name': 'videoThumb',\n",
      "                  'height': 50,\n",
      "                  'legacy': {},\n",
      "                  'rank': 0,\n",
      "                  'subType': 'videoThumb',\n",
      "                  'subtype': 'videoThumb',\n",
      "                  'type': 'image',\n",
      "                  'url': 'images/2018/02/18/books/review/18Pollan/18Pollan-videoThumb.jpg',\n",
      "                  'width': 75},\n",
      "                 {'caption': None,\n",
      "                  'credit': None,\n",
      "                  'crop_name': 'watch268',\n",
      "                  'height': 303,\n",
      "                  'legacy': {},\n",
      "                  'rank': 0,\n",
      "                  'subType': 'watch268',\n",
      "                  'subtype': 'watch268',\n",
      "                  'type': 'image',\n",
      "                  'url': 'images/2018/02/18/books/review/18Pollan/18Pollan-watch268.jpg',\n",
      "                  'width': 272},\n",
      "                 {'caption': None,\n",
      "                  'credit': None,\n",
      "                  'crop_name': 'watch308',\n",
      "                  'height': 348,\n",
      "                  'legacy': {},\n",
      "                  'rank': 0,\n",
      "                  'subType': 'watch308',\n",
      "                  'subtype': 'watch308',\n",
      "                  'type': 'image',\n",
      "                  'url': 'images/2018/02/18/books/review/18Pollan/18Pollan-watch308.jpg',\n",
      "                  'width': 312},\n",
      "                 {'caption': None,\n",
      "                  'credit': None,\n",
      "                  'crop_name': 'windowsTile336H',\n",
      "                  'height': 336,\n",
      "                  'legacy': {},\n",
      "                  'rank': 0,\n",
      "                  'subType': 'windowsTile336H',\n",
      "                  'subtype': 'windowsTile336H',\n",
      "                  'type': 'image',\n",
      "                  'url': 'images/2018/02/18/books/review/18Pollan/18Pollan-windowsTile336H.jpg',\n",
      "                  'width': 694}],\n",
      "  'new_desk': 'BookReview',\n",
      "  'print_page': '11',\n",
      "  'pub_date': '2018-02-14T10:00:28+0000',\n",
      "  'score': 0.44495338,\n",
      "  'section_name': 'Book Review',\n",
      "  'snippet': 'In “Hippie Food,” Jonathan Kauffman tracks the emergence of the '\n",
      "             'organic, politicized diet so many Americans love today.',\n",
      "  'source': 'The New York Times',\n",
      "  'type_of_material': 'Review',\n",
      "  'uri': 'nyt://article/cc7409f9-12a0-5d35-998b-ee03ff6dde62',\n",
      "  'web_url': 'https://www.nytimes.com/2018/02/14/books/review/hippie-food-jonathan-kauffman.html',\n",
      "  'word_count': 1429},\n",
      " {'_id': '57c6e4a87c459f21c999847d',\n",
      "  'blog': {},\n",
      "  'byline': {'organization': None,\n",
      "             'original': \"By ANAHAD O'CONNOR\",\n",
      "             'person': [{'firstname': 'Anahad',\n",
      "                         'lastname': \"O'CONNOR\",\n",
      "                         'middlename': None,\n",
      "                         'organization': '',\n",
      "                         'qualifier': None,\n",
      "                         'rank': 1,\n",
      "                         'role': 'reported',\n",
      "                         'title': None}]},\n",
      "  'document_type': 'article',\n",
      "  'headline': {'content_kicker': 'Eat Well',\n",
      "               'kicker': 'Eat Well',\n",
      "               'main': 'Why Your Granola Is Really a Dessert',\n",
      "               'name': None,\n",
      "               'print_headline': 'Why Your Granola Is Really a Dessert',\n",
      "               'seo': None,\n",
      "               'sub': None},\n",
      "  'keywords': [{'major': 'N', 'name': 'subject', 'rank': 2, 'value': 'Cereals'},\n",
      "               {'major': 'N',\n",
      "                'name': 'subject',\n",
      "                'rank': 3,\n",
      "                'value': 'Health Foods'},\n",
      "               {'major': 'N',\n",
      "                'name': 'persons',\n",
      "                'rank': 4,\n",
      "                'value': 'Kellogg, John Harvey'},\n",
      "               {'major': 'N', 'name': 'subject', 'rank': 5, 'value': 'Sugar'},\n",
      "               {'major': 'N',\n",
      "                'name': 'subject',\n",
      "                'rank': 6,\n",
      "                'value': 'Diet and Nutrition'},\n",
      "               {'major': 'N',\n",
      "                'name': 'persons',\n",
      "                'rank': 7,\n",
      "                'value': 'Jackson, James Caleb (1811-95)'}],\n",
      "  'multimedia': [{'caption': None,\n",
      "                  'credit': None,\n",
      "                  'crop_name': None,\n",
      "                  'height': 367,\n",
      "                  'legacy': {'xlarge': 'images/2016/09/02/science/wellgranola/wellgranola-articleLarge.jpg',\n",
      "                             'xlargeheight': 367,\n",
      "                             'xlargewidth': 600},\n",
      "                  'rank': 0,\n",
      "                  'subType': 'xlarge',\n",
      "                  'subtype': 'xlarge',\n",
      "                  'type': 'image',\n",
      "                  'url': 'images/2016/09/02/science/wellgranola/wellgranola-articleLarge.jpg',\n",
      "                  'width': 600},\n",
      "                 {'caption': None,\n",
      "                  'credit': None,\n",
      "                  'crop_name': None,\n",
      "                  'height': 126,\n",
      "                  'legacy': {'wide': 'images/2016/09/02/science/wellgranola/wellgranola-thumbWide.jpg',\n",
      "                             'wideheight': 126,\n",
      "                             'widewidth': 190},\n",
      "                  'rank': 0,\n",
      "                  'subType': 'wide',\n",
      "                  'subtype': 'wide',\n",
      "                  'type': 'image',\n",
      "                  'url': 'images/2016/09/02/science/wellgranola/wellgranola-thumbWide.jpg',\n",
      "                  'width': 190},\n",
      "                 {'caption': None,\n",
      "                  'credit': None,\n",
      "                  'crop_name': None,\n",
      "                  'height': 75,\n",
      "                  'legacy': {'thumbnail': 'images/2016/09/02/science/wellgranola/wellgranola-thumbStandard.jpg',\n",
      "                             'thumbnailheight': 75,\n",
      "                             'thumbnailwidth': 75},\n",
      "                  'rank': 0,\n",
      "                  'subType': 'thumbnail',\n",
      "                  'subtype': 'thumbnail',\n",
      "                  'type': 'image',\n",
      "                  'url': 'images/2016/09/02/science/wellgranola/wellgranola-thumbStandard.jpg',\n",
      "                  'width': 75}],\n",
      "  'new_desk': 'Well',\n",
      "  'pub_date': '2016-08-30T09:00:05+0000',\n",
      "  'score': 0.01312647,\n",
      "  'section_name': 'Eat',\n",
      "  'snippet': 'Most people think granola is a health food. But commercial '\n",
      "             'varieties of it are often loaded with enough added sugar to '\n",
      "             'rival a slice of chocolate cake.',\n",
      "  'source': 'The New York Times',\n",
      "  'type_of_material': 'News',\n",
      "  'uri': 'nyt://article/892a8158-8ef3-5c4f-9407-fa99c47b0dec',\n",
      "  'web_url': 'https://www.nytimes.com/2016/08/30/well/eat/why-your-granola-is-really-a-dessert.html',\n",
      "  'word_count': 1072},\n",
      " {'_id': '57f3bdee7c459f6063987cd1',\n",
      "  'blog': {},\n",
      "  'byline': {'organization': None,\n",
      "             'original': 'By TOBY BILANOW',\n",
      "             'person': [{'firstname': 'Toby',\n",
      "                         'lastname': 'BILANOW',\n",
      "                         'middlename': None,\n",
      "                         'organization': '',\n",
      "                         'qualifier': None,\n",
      "                         'rank': 1,\n",
      "                         'role': 'reported',\n",
      "                         'title': None}]},\n",
      "  'document_type': 'multimedia',\n",
      "  'headline': {'content_kicker': None,\n",
      "               'kicker': None,\n",
      "               'main': 'The Weekly Health Quiz: Granola, Bikes and Depression',\n",
      "               'name': None,\n",
      "               'print_headline': None,\n",
      "               'seo': None,\n",
      "               'sub': None},\n",
      "  'keywords': [{'major': None,\n",
      "                'name': 'subject',\n",
      "                'rank': 1,\n",
      "                'value': 'Medicine and Health'}],\n",
      "  'multimedia': [{'caption': None,\n",
      "                  'credit': None,\n",
      "                  'crop_name': None,\n",
      "                  'height': 126,\n",
      "                  'legacy': {'wide': 'images/2016/09/02/science/wellgranola/wellgranola-thumbWide.jpg',\n",
      "                             'wideheight': '126',\n",
      "                             'widewidth': '190'},\n",
      "                  'rank': 0,\n",
      "                  'subType': 'wide',\n",
      "                  'subtype': 'wide',\n",
      "                  'type': 'image',\n",
      "                  'url': 'images/2016/09/02/science/wellgranola/wellgranola-thumbWide.jpg',\n",
      "                  'width': 190},\n",
      "                 {'caption': None,\n",
      "                  'credit': None,\n",
      "                  'crop_name': None,\n",
      "                  'height': 367,\n",
      "                  'legacy': {'xlarge': 'images/2016/09/02/science/wellgranola/wellgranola-articleLarge.jpg',\n",
      "                             'xlargeheight': '367',\n",
      "                             'xlargewidth': '600'},\n",
      "                  'rank': 0,\n",
      "                  'subType': 'xlarge',\n",
      "                  'subtype': 'xlarge',\n",
      "                  'type': 'image',\n",
      "                  'url': 'images/2016/09/02/science/wellgranola/wellgranola-articleLarge.jpg',\n",
      "                  'width': 600},\n",
      "                 {'caption': None,\n",
      "                  'credit': None,\n",
      "                  'crop_name': None,\n",
      "                  'height': 75,\n",
      "                  'legacy': {'thumbnail': 'images/2016/09/02/science/wellgranola/wellgranola-thumbStandard.jpg',\n",
      "                             'thumbnailheight': '75',\n",
      "                             'thumbnailwidth': '75'},\n",
      "                  'rank': 0,\n",
      "                  'subType': 'thumbnail',\n",
      "                  'subtype': 'thumbnail',\n",
      "                  'type': 'image',\n",
      "                  'url': 'images/2016/09/02/science/wellgranola/wellgranola-thumbStandard.jpg',\n",
      "                  'width': 75}],\n",
      "  'new_desk': 'Well',\n",
      "  'pub_date': '2016-09-02T04:00:00+0000',\n",
      "  'score': 0.010319106,\n",
      "  'snippet': 'Test your knowledge of this week’s health news.',\n",
      "  'source': 'The New York Times',\n",
      "  'type_of_material': 'Interactive Feature',\n",
      "  'web_url': 'https://www.nytimes.com/interactive/2016/09/02/well/09022016-health-quiz.html',\n",
      "  'word_count': 0},\n",
      " {'_id': '51f92d4038f0d807d77622d9',\n",
      "  'blog': {},\n",
      "  'document_type': 'topic',\n",
      "  'headline': {'content_kicker': None,\n",
      "               'kicker': None,\n",
      "               'main': 'Recipes for Health: Breakfast Grains',\n",
      "               'name': None,\n",
      "               'print_headline': None,\n",
      "               'seo': None,\n",
      "               'sub': None},\n",
      "  'keywords': [],\n",
      "  'multimedia': [],\n",
      "  'score': 0.009947663,\n",
      "  'section_name': 'Fitness & Nutrition',\n",
      "  'snippet': \"<p>Until recently, I'd drifted away from grainy breakfasts, even \"\n",
      "             'though breakfast is a great time of day for whole grains - '\n",
      "             'especially if you exercise first thing in the morning, as I do. '\n",
      "             'Then I rediscovered steel-cut oats and homemade granola.</p...',\n",
      "  'type_of_material': 'timestopic',\n",
      "  'web_url': 'https://topics.nytimes.com/top/news/health/series/recipes_for_health/breakfast_grains/index.html',\n",
      "  'word_count': 265},\n",
      " {'_id': '51f92ced38f0d807d776219d',\n",
      "  'blog': {},\n",
      "  'document_type': 'topic',\n",
      "  'headline': {'content_kicker': None,\n",
      "               'kicker': None,\n",
      "               'main': 'Recipes for Health: Flaxseeds',\n",
      "               'name': None,\n",
      "               'print_headline': None,\n",
      "               'seo': None,\n",
      "               'sub': None},\n",
      "  'keywords': [],\n",
      "  'multimedia': [],\n",
      "  'score': 0.0075985137,\n",
      "  'section_name': 'Fitness & Nutrition',\n",
      "  'snippet': '<p>A few years ago, we began to hear a lot about flaxseeds. Rich '\n",
      "             'in omega-3 fatty acids, these seeds also are loaded with vitamin '\n",
      "             'E, B <a '\n",
      "             'href=\"http://health.nytimes.com/health/guides/nutrition/vitamins/overview.html?inline=nyt-classifier\">vitamin...',\n",
      "  'type_of_material': 'timestopic',\n",
      "  'web_url': 'https://topics.nytimes.com/top/news/health/series/recipes_for_health/flaxseeds/index.html',\n",
      "  'word_count': 226},\n",
      " {'_id': '572cc4d338f0d8660f313bc5',\n",
      "  'blog': {},\n",
      "  'byline': {'organization': None,\n",
      "             'original': 'By MELISSA CLARK',\n",
      "             'person': [{'firstname': 'Melissa',\n",
      "                         'lastname': 'CLARK',\n",
      "                         'middlename': None,\n",
      "                         'organization': '',\n",
      "                         'qualifier': None,\n",
      "                         'rank': 1,\n",
      "                         'role': 'reported',\n",
      "                         'title': None}]},\n",
      "  'document_type': 'article',\n",
      "  'headline': {'content_kicker': 'A Good Appetite',\n",
      "               'kicker': 'A Good Appetite',\n",
      "               'main': 'Granola That’s Packed With Clusters',\n",
      "               'name': None,\n",
      "               'print_headline': 'A Sticky Secret to Granola',\n",
      "               'seo': None,\n",
      "               'sub': None},\n",
      "  'keywords': [{'major': 'N',\n",
      "                'name': 'subject',\n",
      "                'rank': 1,\n",
      "                'value': 'Cooking and Cookbooks'},\n",
      "               {'major': 'N',\n",
      "                'name': 'subject',\n",
      "                'rank': 2,\n",
      "                'value': 'Cereals'}],\n",
      "  'multimedia': [{'caption': None,\n",
      "                  'credit': None,\n",
      "                  'crop_name': None,\n",
      "                  'height': 400,\n",
      "                  'legacy': {'xlarge': 'images/2016/05/05/multimedia/clark-cluster-granola/clark-cluster-granola-articleLarge.jpg',\n",
      "                             'xlargeheight': 400,\n",
      "                             'xlargewidth': 600},\n",
      "                  'rank': 0,\n",
      "                  'subType': 'xlarge',\n",
      "                  'subtype': 'xlarge',\n",
      "                  'type': 'image',\n",
      "                  'url': 'images/2016/05/05/multimedia/clark-cluster-granola/clark-cluster-granola-articleLarge.jpg',\n",
      "                  'width': 600},\n",
      "                 {'caption': None,\n",
      "                  'credit': None,\n",
      "                  'crop_name': None,\n",
      "                  'height': 126,\n",
      "                  'legacy': {'wide': 'images/2016/05/05/multimedia/clark-cluster-granola/clark-cluster-granola-thumbWide.jpg',\n",
      "                             'wideheight': 126,\n",
      "                             'widewidth': 190},\n",
      "                  'rank': 0,\n",
      "                  'subType': 'wide',\n",
      "                  'subtype': 'wide',\n",
      "                  'type': 'image',\n",
      "                  'url': 'images/2016/05/05/multimedia/clark-cluster-granola/clark-cluster-granola-thumbWide.jpg',\n",
      "                  'width': 190},\n",
      "                 {'caption': None,\n",
      "                  'credit': None,\n",
      "                  'crop_name': None,\n",
      "                  'height': 75,\n",
      "                  'legacy': {'thumbnail': 'images/2016/05/05/multimedia/clark-cluster-granola/clark-cluster-granola-thumbStandard.jpg',\n",
      "                             'thumbnailheight': 75,\n",
      "                             'thumbnailwidth': 75},\n",
      "                  'rank': 0,\n",
      "                  'subType': 'thumbnail',\n",
      "                  'subtype': 'thumbnail',\n",
      "                  'type': 'image',\n",
      "                  'url': 'images/2016/05/05/multimedia/clark-cluster-granola/clark-cluster-granola-thumbStandard.jpg',\n",
      "                  'width': 75}],\n",
      "  'new_desk': 'Dining',\n",
      "  'print_page': '2',\n",
      "  'pub_date': '2016-05-06T16:22:41+0000',\n",
      "  'score': 0.007118654,\n",
      "  'snippet': 'This simple recipe has a deep coconut-spice flavor and a light, '\n",
      "             'crunchy and delightfully clumpy texture.',\n",
      "  'source': 'The New York Times',\n",
      "  'type_of_material': 'News',\n",
      "  'uri': 'nyt://article/f46d4350-8060-5d02-a013-ef486a26222c',\n",
      "  'web_url': 'https://www.nytimes.com/2016/05/11/dining/granola-recipe-clusters-video.html',\n",
      "  'word_count': 412},\n",
      " {'_id': '572cc4cb38f0d8660f313bc4',\n",
      "  'blog': {},\n",
      "  'byline': {'organization': None,\n",
      "             'original': 'By ALEC COHEN',\n",
      "             'person': [{'firstname': 'Alec',\n",
      "                         'lastname': 'COHEN',\n",
      "                         'middlename': None,\n",
      "                         'organization': '',\n",
      "                         'qualifier': None,\n",
      "                         'rank': 1,\n",
      "                         'role': 'reported',\n",
      "                         'title': None}]},\n",
      "  'document_type': 'multimedia',\n",
      "  'headline': {'content_kicker': None,\n",
      "               'kicker': None,\n",
      "               'main': 'Coconut Cluster Granola',\n",
      "               'name': None,\n",
      "               'print_headline': None,\n",
      "               'seo': None,\n",
      "               'sub': None},\n",
      "  'keywords': [{'major': None,\n",
      "                'name': 'subject',\n",
      "                'rank': 1,\n",
      "                'value': 'Recipes'},\n",
      "               {'major': None,\n",
      "                'name': 'subject',\n",
      "                'rank': 2,\n",
      "                'value': 'Cereals'}],\n",
      "  'multimedia': [{'caption': None,\n",
      "                  'credit': None,\n",
      "                  'crop_name': None,\n",
      "                  'height': 126,\n",
      "                  'legacy': {'wide': 'images/2016/05/05/multimedia/clark-cluster-granola/clark-cluster-granola-thumbWide.jpg',\n",
      "                             'wideheight': '126',\n",
      "                             'widewidth': '190'},\n",
      "                  'rank': 0,\n",
      "                  'subType': 'wide',\n",
      "                  'subtype': 'wide',\n",
      "                  'type': 'image',\n",
      "                  'url': 'images/2016/05/05/multimedia/clark-cluster-granola/clark-cluster-granola-thumbWide.jpg',\n",
      "                  'width': 190},\n",
      "                 {'caption': None,\n",
      "                  'credit': None,\n",
      "                  'crop_name': None,\n",
      "                  'height': 400,\n",
      "                  'legacy': {'xlarge': 'images/2016/05/05/multimedia/clark-cluster-granola/clark-cluster-granola-articleLarge.jpg',\n",
      "                             'xlargeheight': '400',\n",
      "                             'xlargewidth': '600'},\n",
      "                  'rank': 0,\n",
      "                  'subType': 'xlarge',\n",
      "                  'subtype': 'xlarge',\n",
      "                  'type': 'image',\n",
      "                  'url': 'images/2016/05/05/multimedia/clark-cluster-granola/clark-cluster-granola-articleLarge.jpg',\n",
      "                  'width': 600},\n",
      "                 {'caption': None,\n",
      "                  'credit': None,\n",
      "                  'crop_name': None,\n",
      "                  'height': 75,\n",
      "                  'legacy': {'thumbnail': 'images/2016/05/05/multimedia/clark-cluster-granola/clark-cluster-granola-thumbStandard.jpg',\n",
      "                             'thumbnailheight': '75',\n",
      "                             'thumbnailwidth': '75'},\n",
      "                  'rank': 0,\n",
      "                  'subType': 'thumbnail',\n",
      "                  'subtype': 'thumbnail',\n",
      "                  'type': 'image',\n",
      "                  'url': 'images/2016/05/05/multimedia/clark-cluster-granola/clark-cluster-granola-thumbStandard.jpg',\n",
      "                  'width': 75}],\n",
      "  'new_desk': 'Food',\n",
      "  'pub_date': '2016-05-06T12:22:03Z',\n",
      "  'score': 0.0070530837,\n",
      "  'snippet': 'Get the crunchy clusters of store-bought granola in this simple '\n",
      "             'recipe you can make at home.',\n",
      "  'source': 'The New York Times',\n",
      "  'type_of_material': 'Video',\n",
      "  'web_url': 'https://www.nytimes.com/video/dining/100000004388480/granola-clusters.html',\n",
      "  'word_count': 16},\n",
      " {'_id': '577b441838f0d83e1f65d766',\n",
      "  'blog': {},\n",
      "  'byline': {'organization': None,\n",
      "             'original': 'By KEVIN QUEALY and MARGOT SANGER-KATZ',\n",
      "             'person': [{'firstname': 'Kevin',\n",
      "                         'lastname': 'QUEALY',\n",
      "                         'middlename': None,\n",
      "                         'organization': '',\n",
      "                         'qualifier': None,\n",
      "                         'rank': 1,\n",
      "                         'role': 'reported',\n",
      "                         'title': None},\n",
      "                        {'firstname': 'Margot',\n",
      "                         'lastname': 'SANGER-KATZ',\n",
      "                         'middlename': None,\n",
      "                         'organization': '',\n",
      "                         'qualifier': None,\n",
      "                         'rank': 2,\n",
      "                         'role': 'reported',\n",
      "                         'title': None}]},\n",
      "  'document_type': 'multimedia',\n",
      "  'headline': {'content_kicker': None,\n",
      "               'kicker': '',\n",
      "               'main': 'Is Sushi ‘Healthy’? What About Granola? Where '\n",
      "                       'Americans and Nutritionists Disagree',\n",
      "               'name': None,\n",
      "               'print_headline': None,\n",
      "               'seo': None,\n",
      "               'sub': None},\n",
      "  'keywords': [{'major': 'N', 'name': 'subject', 'rank': 1, 'value': 'Sushi'},\n",
      "               {'major': 'N', 'name': 'subject', 'rank': 2, 'value': 'Food'},\n",
      "               {'major': 'N',\n",
      "                'name': 'subject',\n",
      "                'rank': 3,\n",
      "                'value': 'Diet and Nutrition'}],\n",
      "  'multimedia': [{'caption': None,\n",
      "                  'credit': None,\n",
      "                  'crop_name': None,\n",
      "                  'height': 619,\n",
      "                  'legacy': {'xlarge': 'images/2016/07/05/upshot/what-foods-are-healthy-americans-dont-agree-and-neither-do-nutrition-experts-1467313136326/what-foods-are-healthy-americans-dont-agree-and-neither-do-nutrition-experts-1467313136326-articleLarge.png',\n",
      "                             'xlargeheight': 619,\n",
      "                             'xlargewidth': 600},\n",
      "                  'rank': 0,\n",
      "                  'subType': 'xlarge',\n",
      "                  'subtype': 'xlarge',\n",
      "                  'type': 'image',\n",
      "                  'url': 'images/2016/07/05/upshot/what-foods-are-healthy-americans-dont-agree-and-neither-do-nutrition-experts-1467313136326/what-foods-are-healthy-americans-dont-agree-and-neither-do-nutrition-experts-1467313136326-articleLarge.png',\n",
      "                  'width': 600},\n",
      "                 {'caption': None,\n",
      "                  'credit': None,\n",
      "                  'crop_name': None,\n",
      "                  'height': 126,\n",
      "                  'legacy': {'wide': 'images/2016/07/05/upshot/what-foods-are-healthy-americans-dont-agree-and-neither-do-nutrition-experts-1467313136326/what-foods-are-healthy-americans-dont-agree-and-neither-do-nutrition-experts-1467313136326-thumbWide-v2.png',\n",
      "                             'wideheight': 126,\n",
      "                             'widewidth': 190},\n",
      "                  'rank': 0,\n",
      "                  'subType': 'wide',\n",
      "                  'subtype': 'wide',\n",
      "                  'type': 'image',\n",
      "                  'url': 'images/2016/07/05/upshot/what-foods-are-healthy-americans-dont-agree-and-neither-do-nutrition-experts-1467313136326/what-foods-are-healthy-americans-dont-agree-and-neither-do-nutrition-experts-1467313136326-thumbWide-v2.png',\n",
      "                  'width': 190},\n",
      "                 {'caption': None,\n",
      "                  'credit': None,\n",
      "                  'crop_name': None,\n",
      "                  'height': 75,\n",
      "                  'legacy': {'thumbnail': 'images/2016/07/05/upshot/what-foods-are-healthy-americans-dont-agree-and-neither-do-nutrition-experts-1467313136326/what-foods-are-healthy-americans-dont-agree-and-neither-do-nutrition-experts-1467313136326-thumbStandard-v2.png',\n",
      "                             'thumbnailheight': 75,\n",
      "                             'thumbnailwidth': 75},\n",
      "                  'rank': 0,\n",
      "                  'subType': 'thumbnail',\n",
      "                  'subtype': 'thumbnail',\n",
      "                  'type': 'image',\n",
      "                  'url': 'images/2016/07/05/upshot/what-foods-are-healthy-americans-dont-agree-and-neither-do-nutrition-experts-1467313136326/what-foods-are-healthy-americans-dont-agree-and-neither-do-nutrition-experts-1467313136326-thumbStandard-v2.png',\n",
      "                  'width': 75}],\n",
      "  'new_desk': 'The Upshot',\n",
      "  'pub_date': '2016-07-05T05:22:35+0000',\n",
      "  'score': 0.0060763685,\n",
      "  'snippet': 'We surveyed Americans and a panel of nutrition experts about '\n",
      "             'which foods they thought were good or bad for you.',\n",
      "  'source': 'The New York Times',\n",
      "  'type_of_material': 'Interactive Feature',\n",
      "  'uri': 'nyt://interactive/5df7c518-4f88-5b54-9a33-8e5f980bb1a8',\n",
      "  'web_url': 'https://www.nytimes.com/interactive/2016/07/05/upshot/is-sushi-healthy-what-about-granola-where-americans-and-nutritionists-disagree.html',\n",
      "  'word_count': 0},\n",
      " {'_id': '572cc43438f0d8660f313bc2',\n",
      "  'blog': {},\n",
      "  'byline': {'organization': None,\n",
      "             'original': 'Melissa Clark',\n",
      "             'person': [{'firstname': 'Melissa',\n",
      "                         'lastname': 'Clark',\n",
      "                         'middlename': None,\n",
      "                         'organization': '',\n",
      "                         'qualifier': None,\n",
      "                         'rank': 1,\n",
      "                         'role': 'reported',\n",
      "                         'title': None}]},\n",
      "  'document_type': 'recipe',\n",
      "  'headline': {'content_kicker': None,\n",
      "               'kicker': None,\n",
      "               'main': 'Granola That’s Packed With Clusters',\n",
      "               'name': 'Coconut Almond Cluster Granola',\n",
      "               'print_headline': None,\n",
      "               'seo': None,\n",
      "               'sub': None},\n",
      "  'keywords': [],\n",
      "  'multimedia': [{'caption': 'Get the crunchy clusters of store-bought granola '\n",
      "                             'in this simple recipe you can make at home.',\n",
      "                  'credit': None,\n",
      "                  'crop_name': None,\n",
      "                  'height': 75,\n",
      "                  'legacy': {},\n",
      "                  'rank': 1,\n",
      "                  'subType': 'thumbnail',\n",
      "                  'subtype': 'thumbnail',\n",
      "                  'type': 'image',\n",
      "                  'url': 'images/2016/05/05/multimedia/clark-cluster-granola/clark-cluster-granola-thumbStandard.jpg',\n",
      "                  'width': 75},\n",
      "                 {'caption': 'Get the crunchy clusters of store-bought granola '\n",
      "                             'in this simple recipe you can make at home.',\n",
      "                  'credit': None,\n",
      "                  'crop_name': None,\n",
      "                  'height': 400,\n",
      "                  'legacy': {},\n",
      "                  'rank': 1,\n",
      "                  'subType': 'large',\n",
      "                  'subtype': 'large',\n",
      "                  'type': 'image',\n",
      "                  'url': 'images/2016/05/05/multimedia/clark-cluster-granola/clark-cluster-granola-articleLarge.jpg',\n",
      "                  'width': 600}],\n",
      "  'pub_date': '2016-05-11T00:00:00Z',\n",
      "  'score': 0.005673766,\n",
      "  'snippet': 'As terrific as homemade granola tastes, its texture often lacks '\n",
      "             'the thick, crunchy clusters found in store-bought versions. This '\n",
      "             'recipe is an exception, filled with crisp, sweet clumps of oats, '\n",
      "             'coconut flakes and seeds. The secret is grinding a po...',\n",
      "  'source': 'du_recipe',\n",
      "  'type_of_material': 'Recipe',\n",
      "  'web_url': 'https://cooking.nytimes.com/recipes/1018085-coconut-almond-cluster-granola',\n",
      "  'word_count': 208},\n",
      " {'_id': '51f92dcd38f0d807d77624c6',\n",
      "  'blog': {},\n",
      "  'document_type': 'topic',\n",
      "  'headline': {'content_kicker': None,\n",
      "               'kicker': None,\n",
      "               'main': 'Recipes for Health: Substantial Pastries',\n",
      "               'name': None,\n",
      "               'print_headline': None,\n",
      "               'seo': None,\n",
      "               'sub': None},\n",
      "  'keywords': [],\n",
      "  'multimedia': [],\n",
      "  'score': 0.0053974586,\n",
      "  'section_name': 'Fitness & Nutrition',\n",
      "  'snippet': '<p>My son, an eighth grader who has grown six inches in the last '\n",
      "             'year, will not eat lunch at school. It&#8217;s not about the '\n",
      "             'sandwiches I&#8217;ve tried to pack, or the school lunches '\n",
      "             '(which I wouldn&#8217;t blame him for not eating). Nor is it '\n",
      "             'a...',\n",
      "  'type_of_material': 'timestopic',\n",
      "  'web_url': 'https://topics.nytimes.com/top/news/health/series/recipes_for_health/substantial_pastries/index.html',\n",
      "  'word_count': 190}]\n"
     ]
    }
   ],
   "source": [
    "# Request articles\n",
    "articles = requests.get(query_url).json()\n",
    "\n",
    "# The \"response\" property in articles contains the actual articles\n",
    "# list comprehension.\n",
    "articles_list = [article for article in articles[\"response\"][\"docs\"]]\n",
    "pprint(articles_list)"
   ]
  },
  {
   "cell_type": "code",
   "execution_count": 71,
   "metadata": {
    "collapsed": false
   },
   "outputs": [
    {
     "name": "stdout",
     "output_type": "stream",
     "text": [
      "Your Reading List\n",
      "https://www.nytimes.com/2018/02/14/books/review/hippie-food-jonathan-kauffman.html\n",
      "https://www.nytimes.com/2016/08/30/well/eat/why-your-granola-is-really-a-dessert.html\n",
      "https://www.nytimes.com/interactive/2016/09/02/well/09022016-health-quiz.html\n",
      "https://topics.nytimes.com/top/news/health/series/recipes_for_health/breakfast_grains/index.html\n",
      "https://topics.nytimes.com/top/news/health/series/recipes_for_health/flaxseeds/index.html\n",
      "https://www.nytimes.com/2016/05/11/dining/granola-recipe-clusters-video.html\n",
      "https://www.nytimes.com/video/dining/100000004388480/granola-clusters.html\n",
      "https://www.nytimes.com/interactive/2016/07/05/upshot/is-sushi-healthy-what-about-granola-where-americans-and-nutritionists-disagree.html\n",
      "https://cooking.nytimes.com/recipes/1018085-coconut-almond-cluster-granola\n",
      "https://topics.nytimes.com/top/news/health/series/recipes_for_health/substantial_pastries/index.html\n"
     ]
    }
   ],
   "source": [
    "# Print the web_url of each stored article\n",
    "print(\"Your Reading List\")\n",
    "for article in articles_list:\n",
    "    print(article[\"web_url\"])"
   ]
  },
  {
   "cell_type": "markdown",
   "metadata": {},
   "source": [
    "# Students Turn Activity 12 Instructions\n",
    "\n",
    "* Save the NYT API endpoint to a variable. Make sure you include the right query parameter to retrieve JSON data!\n",
    "\n",
    "* Register for and save your API Key to a variable.\n",
    "\n",
    "* Decide on a search term, and save it to a variable.\n",
    "\n",
    "* Limit your search to articles published within a range of dates—for example, only articles published in 2014. _Hint_: Read the documentation on `end_date`.\n",
    "\n",
    "* Build your query URL, and save it to a variable.\n",
    "\n",
    "* Retrieve your list of articles with a GET request.\n",
    "\n",
    "* Take a look at the documentation. How do you get ahold of the articles in the response?\n",
    "\n",
    "* Store each article in the response inside of a list.\n",
    "\n",
    "* Print a `snippet` from each article.\n",
    "\n",
    "* As a bonus, try to figure out how we could get 30 results. _Hint_: Look up the `page` query parameter. If you get a message saying you've exceeded your rate limit, don't fret—you've solved the problem.\n",
    "\n",
    "- - -"
   ]
  },
  {
   "cell_type": "code",
   "execution_count": 74,
   "metadata": {
    "collapsed": false
   },
   "outputs": [
    {
     "name": "stdout",
     "output_type": "stream",
     "text": [
      "https://api.nytimes.com/svc/search/v2/articlesearch.json?api-key=164b73c522a8420c8e05343ef1da0a7e&q=obama&begin_date=20160101&end_date=20160130\n"
     ]
    }
   ],
   "source": [
    "# Dependencies\n",
    "import requests\n",
    "from config import api_key\n",
    "url = \"https://api.nytimes.com/svc/search/v2/articlesearch.json?\"\n",
    "\n",
    "# Store a search term\n",
    "#query = \"obama\"\n",
    "\n",
    "# Search for articles published between a begin and end date\n",
    "#begin_date = \"20160101\"\n",
    "#end_date = \"20160130\"\n",
    "\n",
    "# Build url\n",
    "#query_url = f\"{url}api-key={api_key}&q={query}&begin_date={begin_date}&end_date={end_date}\"\n",
    "            \n",
    "#print(query_url)"
   ]
  },
  {
   "cell_type": "code",
   "execution_count": 75,
   "metadata": {
    "collapsed": false
   },
   "outputs": [
    {
     "name": "stdout",
     "output_type": "stream",
     "text": [
      "A snippet from the article: I will not campaign for, vote for or support any candidate, even in my own party, who does not support common-sense gun reform.\n",
      "A snippet from the article: Todos –gobierno, sector privado y los ciudadanos– debemos hacer un frente común para acabar con esta violencia sin sentido.\n",
      "A snippet from the article: In presidential elections, opposites attract.\n",
      "A snippet from the article: Dire warnings from Republicans about the effect of President Obama’s policies on employment have simply not come true.\n",
      "A snippet from the article: President Obama, speaking at the North American International Auto Show in Detroit, expressed sympathy and concern for residents of Flint, Mich., where there has been lead contamination in the drinking water.\n",
      "A snippet from the article: President Obama expressed relief and happiness that several Americans who had been detained in Iran were returning home after the completion of a nuclear agreement with Tehran.\n",
      "A snippet from the article: Highlights from President Obama’s remarks at a town-hall style meeting in Baton Rouge, La, on Thursday.\n",
      "A snippet from the article: President Obama hosted the emir of Qatar, Sheikh Tamim bin Hamad al-Thani, on Tuesday, and both said they were committed to defeating the Islamic State and other terrorist organizations.\n",
      "A snippet from the article: The president delivered his final State of the Union address on Tuesday and discussed American innovation.\n",
      "A snippet from the article: The president delivered his final State of the Union address on Tuesday and discussed the threat posed by the Islamic State.\n"
     ]
    }
   ],
   "source": [
    "# Retrieve articles\n",
    "articles = requests.get(query_url).json()\n",
    "articles_list = [article for article in articles[\"response\"][\"docs\"]]\n",
    "\n",
    "for article in articles_list:\n",
    "    print(f'A snippet from the article: {article[\"snippet\"]}')"
   ]
  },
  {
   "cell_type": "code",
   "execution_count": 76,
   "metadata": {
    "collapsed": false
   },
   "outputs": [
    {
     "name": "stdout",
     "output_type": "stream",
     "text": [
      "https://api.nytimes.com/svc/search/v2/articlesearch.json?api-key=164b73c522a8420c8e05343ef1da0a7e&q=obama&begin_date=20160101&end_date=20160130&page=0\n",
      "https://api.nytimes.com/svc/search/v2/articlesearch.json?api-key=164b73c522a8420c8e05343ef1da0a7e&q=obama&begin_date=20160101&end_date=20160130&page=1\n",
      "https://api.nytimes.com/svc/search/v2/articlesearch.json?api-key=164b73c522a8420c8e05343ef1da0a7e&q=obama&begin_date=20160101&end_date=20160130&page=2\n"
     ]
    }
   ],
   "source": [
    "# BONUS: How would we get 30 results? \n",
    "# HINT: Look up the page query param\n",
    "\n",
    "# Emply list for articles\n",
    "#articles_list = []\n",
    "\n",
    "# loop through pages 0-2\n",
    "for page in range(0, 3):\n",
    "    query_url = \"https://api.nytimes.com/svc/search/v2/articlesearch.json?api-key=164b73c522a8420c8e05343ef1da0a7e&q=obama&begin_date=20160101&end_date=20160130\"\n",
    "    # create query with page number\n",
    "    query_url = f\"{query_url}&page={str(page)}\"\n",
    "    print(query_url)\n",
    "    articles = requests.get(query_url).json()\n",
    "    # loop through the response and append each article to the list\n",
    "    for article in articles[\"response\"][\"docs\"]:\n",
    "        articles_list.append(article)"
   ]
  },
  {
   "cell_type": "code",
   "execution_count": null,
   "metadata": {
    "collapsed": true
   },
   "outputs": [],
   "source": []
  }
 ],
 "metadata": {
  "kernelspec": {
   "display_name": "Python 3",
   "language": "python",
   "name": "python3"
  },
  "language_info": {
   "codemirror_mode": {
    "name": "ipython",
    "version": 3
   },
   "file_extension": ".py",
   "mimetype": "text/x-python",
   "name": "python",
   "nbconvert_exporter": "python",
   "pygments_lexer": "ipython3",
   "version": "3.6.0"
  }
 },
 "nbformat": 4,
 "nbformat_minor": 2
}
