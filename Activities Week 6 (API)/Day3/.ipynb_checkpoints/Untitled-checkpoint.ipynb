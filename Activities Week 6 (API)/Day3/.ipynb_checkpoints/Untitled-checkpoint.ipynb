{
 "cells": [
  {
   "cell_type": "markdown",
   "metadata": {},
   "source": [
    "# Students Turn Activity 1 API Recap\n",
    "\n",
    "In this warm-up activity, we will utilize the openweathermapy API wrapper to query the OpenWeatherMap API.\n",
    "\n",
    "* **Instructions:**\n",
    "\n",
    "  * Using the starter file and openweathermapy API wrapper, write a script to check the five-day forecast for Phoenix, Arizona.\n",
    "\n",
    "  * Your final code should the print the results using the below format:\n",
    "\n",
    "    ```output\n",
    "    2017-01-17 09:00:00 | 43.92 F\n",
    "    2017-01-17 12:00:00 | 40.62 F\n",
    "    2017-01-17 15:00:00 | 39.07 F\n",
    "    ```\n",
    "\n",
    "* **Hints:**\n",
    "\n",
    "  * See the [OpenWeatherMap API Documentation](https://openweathermap.org/api)\n",
    "\n",
    "* **Bonus:**\n",
    "\n",
    "  1. Use a method from openweathermapy that will parse through every record returned, extracting the desired data, without the use of a loop.\n",
    "\n",
    "  2. Create code that will plot the forecasted temperature over time."
   ]
  },
  {
   "cell_type": "code",
   "execution_count": null,
   "metadata": {},
   "outputs": [],
   "source": [
    "# Dependencies\n",
    "import openweathermapy.core as owm\n",
    "\n",
    "# Import api_key\n",
    "from config import api_key"
   ]
  },
  {
   "cell_type": "code",
   "execution_count": null,
   "metadata": {},
   "outputs": [],
   "source": [
    "# Create settings parameters\n"
   ]
  },
  {
   "cell_type": "code",
   "execution_count": null,
   "metadata": {},
   "outputs": [],
   "source": [
    "# make the API call using a method from openweathermapy that \n",
    "# returns hourly forecasts for Phoenix, AZ and prints the result\n"
   ]
  },
  {
   "cell_type": "code",
   "execution_count": null,
   "metadata": {},
   "outputs": [],
   "source": [
    "# use a method from openweatherpy and list comprehension  \n",
    "# to extract the date in text and the temperature and store in a list\n"
   ]
  },
  {
   "cell_type": "code",
   "execution_count": null,
   "metadata": {},
   "outputs": [],
   "source": [
    "# print formatted results\n"
   ]
  },
  {
   "cell_type": "code",
   "execution_count": null,
   "metadata": {},
   "outputs": [],
   "source": [
    "# BONUS 1\n",
    "# Use a method from openweathermapy that will extract the desired data\n",
    "# without requiring a loop, and then print formatted results\n"
   ]
  },
  {
   "cell_type": "code",
   "execution_count": null,
   "metadata": {},
   "outputs": [],
   "source": [
    "# BONUS 2 : Plot the forecasted temperature over time.\n"
   ]
  },
  {
   "cell_type": "markdown",
   "metadata": {},
   "source": [
    "# Instructor Turn Activity 2 Google Geo code"
   ]
  },
  {
   "cell_type": "code",
   "execution_count": null,
   "metadata": {
    "scrolled": true
   },
   "outputs": [],
   "source": [
    "# Dependencies\n",
    "import requests\n",
    "import json\n",
    "\n",
    "# Google developer API key\n",
    "from config import *\n",
    "print(gkey)\n",
    "print(api_key)\n",
    "# Target city\n",
    "target_city = \"Boise, Idaho\"\n",
    "\n",
    "# Build the endpoint URL\n",
    "target_url = \"https://maps.googleapis.com/maps/api/geocode/json?\" \\\n",
    "    \"address=%s&key=%s\" % (target_city, gkey)\n",
    "\n",
    "# Print the assembled URL, avoid pushing this print out to github for key security\n",
    "print(target_url)"
   ]
  },
  {
   "cell_type": "code",
   "execution_count": null,
   "metadata": {},
   "outputs": [],
   "source": [
    "# Run a request to endpoint and convert result to json\n",
    "geo_data = requests.get(target_url).json()\n",
    "\n",
    "# Print the json\n",
    "print(geo_data)"
   ]
  },
  {
   "cell_type": "code",
   "execution_count": null,
   "metadata": {},
   "outputs": [],
   "source": [
    "# Print the json (pretty printed)\n",
    "print(json.dumps(geo_data, indent=4, sort_keys=True))"
   ]
  },
  {
   "cell_type": "code",
   "execution_count": null,
   "metadata": {},
   "outputs": [],
   "source": [
    "# Extract latitude and longitude\n",
    "lat = geo_data[\"results\"][0][\"geometry\"][\"location\"][\"lat\"]\n",
    "lng = geo_data[\"results\"][0][\"geometry\"][\"location\"][\"lng\"]\n",
    "\n",
    "# Print the latitude and longitude\n",
    "print(\"%s: %s, %s\" % (target_city, lat, lng))"
   ]
  },
  {
   "cell_type": "markdown",
   "metadata": {},
   "source": [
    "# Instructors Turn Activity 3 Google Places"
   ]
  },
  {
   "cell_type": "code",
   "execution_count": null,
   "metadata": {},
   "outputs": [],
   "source": [
    "# Dependencies\n",
    "import requests\n",
    "import json\n",
    "\n",
    "# Google developer API key\n",
    "from config import gkey"
   ]
  },
  {
   "cell_type": "code",
   "execution_count": null,
   "metadata": {},
   "outputs": [],
   "source": [
    "# geocoordinates\n",
    "target_coordinates = \"43.6187102, -116.2146068\"\n",
    "target_search = \"Chinese\"\n",
    "target_radius = 8000\n",
    "target_type = \"restaurant\"\n",
    "\n",
    "# set up a parameters dictionary\n",
    "params = {\n",
    "    \"location\": target_coordinates,\n",
    "    \"keyword\": target_search,\n",
    "    \"radius\": target_radius,\n",
    "    \"type\": target_type,\n",
    "    \"key\": gkey\n",
    "}\n",
    "\n",
    "# base url\n",
    "base_url = \"https://maps.googleapis.com/maps/api/place/nearbysearch/json\"\n",
    "\n",
    "# run a request using our params dictionary\n",
    "response = requests.get(base_url, params=params)"
   ]
  },
  {
   "cell_type": "code",
   "execution_count": null,
   "metadata": {},
   "outputs": [],
   "source": [
    "# print the response url, avoid doing for public github repos in order to avoid exposing key\n",
    "print(response.url)"
   ]
  },
  {
   "cell_type": "code",
   "execution_count": null,
   "metadata": {},
   "outputs": [],
   "source": [
    "# convert response to json\n",
    "places_data = response.json()\n",
    "\n",
    "# Print the json (pretty printed)\n",
    "print(json.dumps(places_data, indent=4, sort_keys=True))"
   ]
  },
  {
   "cell_type": "code",
   "execution_count": null,
   "metadata": {},
   "outputs": [],
   "source": [
    "# Print the name and address of the first restaurant that appears\n",
    "print(places_data[\"results\"][0][\"name\"])\n",
    "print(places_data[\"results\"][0][\"vicinity\"])"
   ]
  },
  {
   "cell_type": "markdown",
   "metadata": {},
   "source": [
    "# Students Turn Activity 4 \n",
    "# Google Drills\n",
    "\n",
    "In this activity we will perform API calls to the Google Places and Google Maps API.\n",
    "\n",
    "## Instructions\n",
    "\n",
    "* Complete each of the six drills articulated in the code provided. Feel encouraged to look back at the previous examples but know that you will have to consult the Google API documentation.\n",
    "\n",
    "### Hints\n",
    "\n",
    "* See the [Google Geocoding Documentation](https://developers.google.com/maps/documentation/geocoding/intro)\n",
    "\n",
    "* See the [Google Places Documentation](https://developers.google.com/maps/documentation/javascript/places#place_search_requests)"
   ]
  },
  {
   "cell_type": "code",
   "execution_count": null,
   "metadata": {},
   "outputs": [],
   "source": [
    "# Create code to answer each of the following questions.\n",
    "# Hint: You will need multiple target urls and multiple API requests.\n",
    "\n",
    "# Dependencies\n",
    "import requests\n",
    "import json\n",
    "\n",
    "# Google API Key\n",
    "from config import gkey"
   ]
  },
  {
   "cell_type": "code",
   "execution_count": null,
   "metadata": {},
   "outputs": [],
   "source": [
    "# 1. What are the geocordinates (latitude and longitude) of Seattle,\n",
    "# Washington?\n",
    "\n",
    "\n",
    "# Run request\n",
    "\n",
    "\n",
    "# Conver to JSON\n",
    "\n",
    "\n",
    "# Extract Lat/Lng\n",
    "\n",
    "\n",
    "# Print results\n"
   ]
  },
  {
   "cell_type": "code",
   "execution_count": null,
   "metadata": {},
   "outputs": [],
   "source": [
    "# 2. What are the geocordinates (latitude and longitude) of The White House?\n",
    "# update params dict\n",
    "\n",
    "\n",
    "\n",
    "\n",
    "\n",
    "# Run request\n",
    "\n",
    "\n",
    "\n",
    "# Extract Lat/Lng\n",
    "\n",
    "\n",
    "# Print results\n"
   ]
  },
  {
   "cell_type": "code",
   "execution_count": null,
   "metadata": {},
   "outputs": [],
   "source": [
    "# 3. Find the names and addresses of a bike store in Seattle, Washington.\n",
    "#    Hint: See https://developers.google.com/places/web-service/supported_types\n",
    "\n",
    "\n",
    "# rewrite params dict\n",
    "\n",
    "\n",
    "# Build URL using the Google Maps API\n",
    "\n",
    "\n",
    "# Run request\n",
    "\n",
    "\n",
    "# Print the json (pretty printed)\n",
    "# print(json.dumps(seattle_bikes, indent=4, sort_keys=True))\n",
    "\n",
    "# Print the name and address of the first bike shop to appear\n"
   ]
  },
  {
   "cell_type": "code",
   "execution_count": null,
   "metadata": {},
   "outputs": [],
   "source": [
    "# 4. Find a balloon store near the White House.\n",
    "\n",
    "\n",
    "# redefine params\n",
    "\n",
    "\n",
    "# Build URL using the Google Maps API\n",
    "\n",
    "\n",
    "# Run request\n",
    "\n",
    "\n",
    "# Print the json (pretty printed)\n",
    "\n",
    "# Print the name and address of the first baloon shop that appears\n"
   ]
  },
  {
   "cell_type": "code",
   "execution_count": null,
   "metadata": {},
   "outputs": [],
   "source": [
    "# 5. Find the nearest dentist to your house.\n",
    "# Hint: Use Google Maps to find your latitude and Google Places to find\n",
    "# the dentist. You may also need the rankby property.\n",
    "\n",
    "# Google geocode to find lat, lng\n",
    "\n",
    "\n",
    "# Use lat, lng to use places API to find nearest dentist\n",
    "\n",
    "\n",
    "# Run request\n",
    "\n",
    "\n",
    "# Print the json (pretty printed)\n",
    "# print(json.dumps(my_dentist, indent=4, sort_keys=True))\n",
    "\n",
    "# Print the name and address of the first baloon shop that appears\n"
   ]
  },
  {
   "cell_type": "code",
   "execution_count": null,
   "metadata": {},
   "outputs": [],
   "source": [
    "# 6. Bonus: Find the names and addresses of the top five places Google suggests\n",
    "# for the phrase: \"Happy Place \". Hint: Read about \"Text Search Results\"\n",
    "# (https://developers.google.com/places/web-service/search#TextSearchRequests)\n",
    "\n"
   ]
  },
  {
   "cell_type": "markdown",
   "metadata": {},
   "source": [
    "# Instructor Turn Activity 5 Nearest Restaurant"
   ]
  },
  {
   "cell_type": "code",
   "execution_count": null,
   "metadata": {},
   "outputs": [],
   "source": [
    "\n",
    "# Dependencies# Depen \n",
    "# Dependencies\n",
    "import pandas as pd\n",
    "import numpy as np\n",
    "import requests\n",
    "import json\n",
    "\n",
    "# Google API Key\n",
    "from config import gkey"
   ]
  },
  {
   "cell_type": "code",
   "execution_count": null,
   "metadata": {},
   "outputs": [],
   "source": [
    "types_df = pd.read_csv(\"./Resources/ethnic_restr.csv\")\n",
    "types_df.head()"
   ]
  },
  {
   "cell_type": "code",
   "execution_count": null,
   "metadata": {},
   "outputs": [],
   "source": [
    "# set up additional columns to hold information\n",
    "types_df['name'] = \"\"\n",
    "types_df['address'] = \"\"\n",
    "types_df['price_level'] = \"\"\n",
    "types_df['rating'] = \"\"\n",
    "\n",
    "types_df.head()"
   ]
  },
  {
   "cell_type": "code",
   "execution_count": null,
   "metadata": {},
   "outputs": [],
   "source": [
    "# find the closest restaurant of each type to coordinates\n",
    "\n",
    "base_url = \"https://maps.googleapis.com/maps/api/place/nearbysearch/json\"\n",
    "params = {\n",
    "    \"location\": \"39.952583,-75.16522\",  # philadelphia coords,\n",
    "    \"rankby\": \"distance\",\n",
    "    \"type\": \"restaurant\",\n",
    "    \"key\": gkey,\n",
    "}\n",
    "# use iterrows to iterate through pandas dataframe\n",
    "for index, row in types_df.iterrows():\n",
    "\n",
    "    # get restaurant type from df\n",
    "    restr_type = row['ethnicity']\n",
    "\n",
    "    # add keyword to params dict\n",
    "    params['keyword'] = restr_type\n",
    "\n",
    "    # assemble url and make API request\n",
    "    print(f\"Retrieving Results for Index {index}: {restr_type}.\")\n",
    "    response = requests.get(base_url, params=params).json()\n",
    "    results = response.get('results')\n",
    "    \n",
    "    # extract first result and use pd.set_value to insert into dataframe\n",
    "    results = response.get('results')\n",
    "    if (results):\n",
    "        restr = response['results'][0]\n",
    "        print(f\"Closest {restr_type} restaurant is {restr.get('name', 'Unknown')}.\")\n",
    "        types_df.loc[index, 'name'] = restr.get('name', '')\n",
    "        types_df.loc[index, 'address'] = restr.get('vicinity', '')\n",
    "        types_df.loc[index, 'price_level'] = restr.get('price_level', '')\n",
    "        types_df.loc[index, 'rating'] = restr.get('rating', '')\n",
    "    else:\n",
    "        print(\"No results for \" + restr_type)\n",
    "    print(\"------------\")"
   ]
  },
  {
   "cell_type": "code",
   "execution_count": null,
   "metadata": {},
   "outputs": [],
   "source": [
    "types_df"
   ]
  },
  {
   "cell_type": "markdown",
   "metadata": {},
   "source": [
    "# Students Activity 6 \n",
    "# Google Complex (Airport)\n",
    "\n",
    "In this activity we are tasked with creating a Data Frame containing the rating of every airport in the top 100 metropolitan areas according to Google Users.\n",
    "\n",
    "## Instructions\n",
    "\n",
    "* Using [06-Stu_Google_Complex/Airport_Ratings.ipynb](Unsolved/Airport_Ratings.ipynb) as a starting point, utilize the Google Geocoding API, the Google Places API, and Python/Jupyter, create a script that lists the \"Airport Rating\" of the major \"International Airport\" in each the top 100 metropolitan areas found in [06-Stu_Google_Complex/Cities.csv](Resources/Cities.csv).\n",
    "\n",
    "* Your final `ipynb` file should contain each of the following headers: \n",
    "\n",
    "  1. `City`\n",
    "\n",
    "  2. `State`\n",
    "\n",
    "  3. `Lat`\n",
    "\n",
    "  4. `Lng`\n",
    "\n",
    "  5. `Airport Name`\n",
    "\n",
    "  6. `Airport Address`\n",
    "\n",
    "  7. `Airport Rating`\n",
    "\n",
    "### Hints\n",
    "\n",
    "* You will need to obtain the lat/lng of each airport prior to sending it through the Google Places API to obtain the rating.\n",
    "\n",
    "* When using the Google Places API, be sure to use the term: \"International Airport\" to ensure that the airport you receive data for is the major airport in the city and not a regional one.\n",
    "\n",
    "* Use a try-except to skip airports for which there are no Google user ratings."
   ]
  },
  {
   "cell_type": "code",
   "execution_count": null,
   "metadata": {},
   "outputs": [],
   "source": [
    "# Dependencies\n",
    "import pandas as pd\n",
    "import numpy as np\n",
    "import requests\n",
    "import json\n",
    "\n",
    "# Google API Key\n",
    "from config import gkey"
   ]
  },
  {
   "cell_type": "code",
   "execution_count": null,
   "metadata": {},
   "outputs": [],
   "source": [
    "# Import cities file as DataFrame\n",
    "cities_pd = pd.read_csv(\"./Resources/cities.csv\")\n",
    "cities_pd.head()"
   ]
  },
  {
   "cell_type": "code",
   "execution_count": null,
   "metadata": {},
   "outputs": [],
   "source": [
    "# Add columns for lat, lng, airport name, airport address, airport rating\n",
    "# Note that we used \"\" to specify initial entry.\n"
   ]
  },
  {
   "cell_type": "code",
   "execution_count": null,
   "metadata": {},
   "outputs": [],
   "source": [
    "# create a params dict that will be updated with new city each iteration\n",
    "\n",
    "\n",
    "# Loop through the cities_pd and run a lat/long search for each city\n",
    "\n",
    "# Visualize to confirm lat lng appear\n"
   ]
  },
  {
   "cell_type": "code",
   "execution_count": null,
   "metadata": {},
   "outputs": [],
   "source": [
    "# params dictionary to update each iteration\n",
    "\n",
    "\n",
    "# Use the lat/lng we recovered to identify airports\n"
   ]
  },
  {
   "cell_type": "code",
   "execution_count": null,
   "metadata": {},
   "outputs": [],
   "source": [
    "# Save Data to csv\n",
    "\n",
    "\n",
    "# Visualize to confirm airport data appears\n"
   ]
  },
  {
   "cell_type": "markdown",
   "metadata": {},
   "source": [
    "# Everyone Activity 7 Jupyter Gmaps"
   ]
  },
  {
   "cell_type": "code",
   "execution_count": null,
   "metadata": {},
   "outputs": [],
   "source": [
    "!pip install gmaps\n",
    "!pip install ipywidgets\n",
    "!jupyter nbextension enable --py widgetsnbextension"
   ]
  },
  {
   "cell_type": "code",
   "execution_count": null,
   "metadata": {
    "scrolled": false
   },
   "outputs": [],
   "source": [
    "import gmaps\n",
    "import matplotlib.pyplot as plt\n",
    "# Google developer API key\n",
    "from config import gkey\n",
    "\n",
    "# Access maps with unique API key\n",
    "gmaps.configure(api_key=gkey)\n",
    "\n",
    "# Create a list containing coordinates\n",
    "coordinates = [\n",
    "    (40.71, -74.00),\n",
    "    (30.26, -97.74),\n",
    "    (46.87, -96.78),\n",
    "    (47.60, -122.33),\n",
    "    (32.71, -117.16)\n",
    "]\n",
    "# Customize the size of the figure\n",
    "figure_layout = {\n",
    "    'width': '400px',\n",
    "    'height': '300px',\n",
    "    'border': '1px solid black',\n",
    "    'padding': '1px',\n",
    "    'margin': '0 auto 0 auto'\n",
    "}\n",
    "fig = gmaps.figure(layout=figure_layout)\n",
    "\n",
    "# Assign the marker layer to a variable\n",
    "markers = gmaps.marker_layer(coordinates)\n",
    "# Add the layer to the map\n",
    "fig.add_layer(markers)\n",
    "fig\n",
    "plt.show()"
   ]
  },
  {
   "cell_type": "markdown",
   "metadata": {},
   "source": [
    "# Student Activity 8 "
   ]
  },
  {
   "cell_type": "code",
   "execution_count": null,
   "metadata": {},
   "outputs": [],
   "source": [
    "import gmaps\n",
    "import pandas as pd\n",
    "\n",
    "# Google developer API key\n",
    "from config import gkey\n",
    "\n",
    "# Configure gmaps\n",
    "gmaps.configure(api_key=gkey)"
   ]
  },
  {
   "cell_type": "code",
   "execution_count": null,
   "metadata": {},
   "outputs": [],
   "source": [
    "# Create aiport dataframe\n",
    "airport_df = pd.read_csv('./Resources/Airport_Output.csv')\n",
    "airport_df.dropna()\n",
    "airport_df.head()"
   ]
  },
  {
   "cell_type": "code",
   "execution_count": null,
   "metadata": {},
   "outputs": [],
   "source": [
    "# Store latitude and longitude in locations\n",
    "\n",
    "\n",
    "# Fill NaN values and convert to float\n"
   ]
  },
  {
   "cell_type": "code",
   "execution_count": null,
   "metadata": {},
   "outputs": [],
   "source": [
    "# Plot Heatmap\n",
    "\n",
    "\n",
    "# Create heat layer\n",
    "\n",
    "\n",
    "# Add layer\n",
    "\n",
    "\n",
    "# Display figure\n"
   ]
  },
  {
   "cell_type": "code",
   "execution_count": null,
   "metadata": {},
   "outputs": [],
   "source": [
    "# BONUS\n",
    "# Plost as a Hybrid map\n"
   ]
  },
  {
   "cell_type": "code",
   "execution_count": null,
   "metadata": {},
   "outputs": [],
   "source": [
    "# BONUS\n",
    "# Plot as a Terrain map\n",
    "\n",
    "# Create heat layer\n"
   ]
  },
  {
   "cell_type": "markdown",
   "metadata": {},
   "source": [
    "# Instructor Activity 9"
   ]
  },
  {
   "cell_type": "code",
   "execution_count": null,
   "metadata": {},
   "outputs": [],
   "source": [
    "!pip install census"
   ]
  },
  {
   "cell_type": "code",
   "execution_count": null,
   "metadata": {},
   "outputs": [],
   "source": [
    "# Dependencies\n",
    "import numpy as np\n",
    "import pandas as pd\n",
    "import matplotlib.pyplot as plt\n",
    "import requests\n",
    "from census import Census\n",
    "\n",
    "# Census API Key\n",
    "from config import ckey\n",
    "c = Census(ckey, year=2013)"
   ]
  },
  {
   "cell_type": "code",
   "execution_count": null,
   "metadata": {},
   "outputs": [],
   "source": [
    "# Run Census Search to retrieve data on all zip codes (2013 ACS5 Census)\n",
    "# See: https://github.com/CommerceDataService/census-wrapper for library documentation\n",
    "# See: https://gist.github.com/afhaque/60558290d6efd892351c4b64e5c01e9b for labels\n",
    "census_data = c.acs5.get((\"NAME\", \"B19013_001E\", \"B01003_001E\", \"B01002_001E\",\n",
    "                          \"B19301_001E\",\n",
    "                          \"B17001_002E\"), {'for': 'zip code tabulation area:*'})\n",
    "\n",
    "# Convert to DataFrame\n",
    "census_pd = pd.DataFrame(census_data)\n",
    "\n",
    "# Column Reordering\n",
    "census_pd = census_pd.rename(columns={\"B01003_001E\": \"Population\",\n",
    "                                      \"B01002_001E\": \"Median Age\",\n",
    "                                      \"B19013_001E\": \"Household Income\",\n",
    "                                      \"B19301_001E\": \"Per Capita Income\",\n",
    "                                      \"B17001_002E\": \"Poverty Count\",\n",
    "                                      \"NAME\": \"Name\", \"zip code tabulation area\": \"Zipcode\"})\n",
    "\n",
    "# Add in Poverty Rate (Poverty Count / Population)\n",
    "census_pd[\"Poverty Rate\"] = 100 * \\\n",
    "    census_pd[\"Poverty Count\"].astype(\n",
    "        int) / census_pd[\"Population\"].astype(int)\n",
    "\n",
    "# Final DataFrame\n",
    "census_pd = census_pd[[\"Zipcode\", \"Population\", \"Median Age\", \"Household Income\",\n",
    "                       \"Per Capita Income\", \"Poverty Count\", \"Poverty Rate\"]]\n",
    "\n",
    "# Visualize\n",
    "print(len(census_pd))\n",
    "census_pd.head()"
   ]
  },
  {
   "cell_type": "code",
   "execution_count": null,
   "metadata": {},
   "outputs": [],
   "source": [
    "# Save as a csv\n",
    "# Note to avoid any issues later, use encoding=\"utf-8\"\n",
    "census_pd.to_csv(\"census_data.csv\", encoding=\"utf-8\", index=False)"
   ]
  },
  {
   "cell_type": "markdown",
   "metadata": {},
   "source": [
    "# Students Turn \n",
    "# Census Activity\n",
    "\n",
    "In this activity we will utilize the Census API in order to obtain census data at a state level.\n",
    "\n",
    "## Instructions\n",
    "\n",
    "* Using [Census_States.ipynb](Unsolved/Census_States.ipynb) as a reference, create a completely new script that calculates each of the following fields at the **state** level:\n",
    "\n",
    "  1. Population\n",
    "\n",
    "  2. Median Age\n",
    "\n",
    "  3. Household Income\n",
    "\n",
    "  4. Per Capita Income\n",
    "\n",
    "  5. Poverty Count\n",
    "\n",
    "  6. Poverty Rate\n",
    "\n",
    "  7. Unemployment Rate\n",
    "\n",
    "* Save the resulting data as a csv.\n",
    "\n",
    "* Next, read in the provided csv containing state centroid coordinates and merge this data with your original census data.\n",
    "\n",
    "* With the coordinates now appended to the dataframe, you have the ability to add markers to the base map.\n",
    "\n",
    "  * Use the 'Poverty Rate' column to create an `info_box` corresponding to each marker.\n",
    "\n",
    "  ![10-State_Markers.png](Images/10-State_Markers.png)\n",
    "\n",
    "* **Hints**\n",
    "\n",
    "  * See documentation for the [Census API Wrapper](https://github.com/datamade/census).\n",
    "\n",
    "  * See documentation for [Jupyter Gmaps](http://jupyter-gmaps.readthedocs.io/en/latest/tutorial.html) for more information on how to create an `info_box`."
   ]
  },
  {
   "cell_type": "code",
   "execution_count": null,
   "metadata": {},
   "outputs": [],
   "source": [
    "# Dependencies\n",
    "import numpy as np\n",
    "import pandas as pd\n",
    "import matplotlib.pyplot as plt\n",
    "import requests\n",
    "from census import Census\n",
    "import gmaps\n",
    "\n",
    "# Census & gmaps API Keys\n",
    "from config import (ckey, gkey)\n",
    "c = Census(ckey, year=2013)\n",
    "\n",
    "# Configure gmaps\n",
    "gmaps.configure(api_key=gkey)\n",
    "# Run Census Search to retrieve data on all zip codes (2013 ACS5 Census)# Run C \n",
    "# See: https://github.com/CommerceDataService/census-wrapper for library documentation\n",
    "# See: https://gist.github.com/afhaque/60558290d6efd892351c4b64e5c01e9b for labels\n",
    "census_data = c.acs5.get((\"NAME\", \"B19013_001E\", \"B01003_001E\", \"B01002_001E\",\n",
    "                          \"B19301_001E\",\n",
    "                          \"B17001_002E\"), {'for': 'zip code tabulation area:*'})\n",
    "\n",
    "# Convert to DataFrame\n",
    "\n",
    "\n",
    "# Column Reordering\n",
    "\n",
    "# Add in Poverty Rate (Poverty Count / Population)\n",
    "\n",
    "# Final DataFrame\n",
    "\n",
    "# Visualize\n"
   ]
  },
  {
   "cell_type": "code",
   "execution_count": null,
   "metadata": {},
   "outputs": [],
   "source": [
    "# Save as a csv\n",
    "# Note to avoid any issues later, use encoding=\"utf-8\"\n",
    "census_pd.to_csv(\"census_data.csv\", encoding=\"utf-8\", index=False)"
   ]
  },
  {
   "cell_type": "code",
   "execution_count": null,
   "metadata": {},
   "outputs": [],
   "source": []
  }
 ],
 "metadata": {
  "kernelspec": {
   "display_name": "Python 3",
   "language": "python",
   "name": "python3"
  },
  "language_info": {
   "codemirror_mode": {
    "name": "ipython",
    "version": 3
   },
   "file_extension": ".py",
   "mimetype": "text/x-python",
   "name": "python",
   "nbconvert_exporter": "python",
   "pygments_lexer": "ipython3",
   "version": "3.6.4"
  }
 },
 "nbformat": 4,
 "nbformat_minor": 2
}
