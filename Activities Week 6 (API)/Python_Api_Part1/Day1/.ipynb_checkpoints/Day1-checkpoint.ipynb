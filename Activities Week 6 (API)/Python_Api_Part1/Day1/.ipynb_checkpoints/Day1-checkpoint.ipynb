{
 "cells": [
  {
   "cell_type": "markdown",
   "metadata": {},
   "source": [
    "# Instructor Turn Activity 1 Request Intro"
   ]
  },
  {
   "cell_type": "code",
   "execution_count": 1,
   "metadata": {},
   "outputs": [],
   "source": [
    "# Dependencies\n",
    "import requests\n",
    "import json"
   ]
  },
  {
   "cell_type": "code",
   "execution_count": 2,
   "metadata": {},
   "outputs": [],
   "source": [
    "# URL for GET requests to retrieve vehicle data\n",
    "url = \"https://api.spacexdata.com/v2/launchpads\""
   ]
  },
  {
   "cell_type": "code",
   "execution_count": 3,
   "metadata": {},
   "outputs": [
    {
     "name": "stdout",
     "output_type": "stream",
     "text": [
      "<Response [200]>\n"
     ]
    }
   ],
   "source": [
    "# Print the response object to the console\n",
    "print(requests.get(url))"
   ]
  },
  {
   "cell_type": "code",
   "execution_count": 4,
   "metadata": {},
   "outputs": [
    {
     "name": "stdout",
     "output_type": "stream",
     "text": [
      "[{'id': 'kwajalein_atoll', 'full_name': 'Kwajalein Atoll Omelek Island', 'status': 'retired', 'location': {'name': 'Omelek Island', 'region': 'Marshall Islands', 'latitude': 9.0477206, 'longitude': 167.7431292}, 'vehicles_launched': ['Falcon 1'], 'details': 'SpaceX original launch site, where all of the Falcon 1 launches occured. Abandoned as SpaceX decided against upgrading the pad to support Falcon 9.'}, {'id': 'ccafs_slc_40', 'full_name': 'Cape Canaveral Air Force Station Space Launch Complex 40', 'status': 'active', 'location': {'name': 'Cape Canaveral', 'region': 'Florida', 'latitude': 28.5618571, 'longitude': -80.577366}, 'vehicles_launched': ['Falcon 9'], 'details': 'SpaceX primary Falcon 9 launch pad, where all east coast Falcon 9s launched prior to the AMOS-6 anomaly. Initially used to launch Titan rockets for Lockheed Martin. Back online since CRS-13 on 2017-12-15.'}, {'id': 'ccafs_lc_13', 'full_name': 'Cape Canaveral Air Force Station Space Launch Complex 13', 'status': 'active', 'location': {'name': 'Cape Canaveral', 'region': 'Florida', 'latitude': 28.4857244, 'longitude': -80.5449222}, 'vehicles_launched': ['Falcon 9'], 'details': 'SpaceX east coast landing pad, where the historic first landing occurred. Originally used for early Atlas missiles and rockets from Lockheed Martin. Currently being expanded to add two smaller pads for Falcon Heavy RTLS missions.'}, {'id': 'ksc_lc_39a', 'full_name': 'Kennedy Space Center Historic Launch Complex 39A', 'status': 'active', 'location': {'name': 'Cape Canaveral', 'region': 'Florida', 'latitude': 28.6080585, 'longitude': -80.6039558}, 'vehicles_launched': ['Falcon 9', 'Falcon Heavy'], 'details': 'NASA historic launch pad that launched most of the Saturn V and Space Shuttle missions. Initially for Falcon Heavy launches, it is now launching all of SpaceX east coast missions due to the damage from the AMOS-6 anomaly. After SLC-40 repairs are complete, it will be upgraded to support Falcon Heavy, a process which will take about two months. In the future it will launch commercial crew missions and the Interplanetary Transport System.'}, {'id': 'vafb_slc_3w', 'full_name': 'Vandenberg Air Force Base Space Launch Complex 3W', 'status': 'retired', 'location': {'name': 'Vandenberg Air Force Base', 'region': 'California', 'latitude': 34.6440904, 'longitude': -120.5931438}, 'vehicles_launched': ['Falcon 1'], 'details': 'SpaceX original west coast launch pad for Falcon 1. Performed a static fire but was never used for a launch and abandoned due to scheduling conflicts.'}, {'id': 'vafb_slc_4e', 'full_name': 'Vandenberg Air Force Base Space Launch Complex 4E', 'status': 'active', 'location': {'name': 'Vandenberg Air Force Base', 'region': 'California', 'latitude': 34.632093, 'longitude': -120.610829}, 'vehicles_launched': ['Falcon 9'], 'details': 'SpaceX primary west coast launch pad for polar orbits and sun synchronous orbits, primarily used for Iridium. Also intended to be capable of launching Falcon Heavy.'}, {'id': 'vafb_slc_4w', 'full_name': 'Vandenberg Air Force Base Space Launch Complex 4W', 'status': 'active', 'location': {'name': 'Vandenberg Air Force Base', 'region': 'California', 'latitude': 34.6332043, 'longitude': -120.6156234}, 'vehicles_launched': ['Falcon 9'], 'details': 'SpaceX west coast landing pad, has not yet been used. Expected to first be used during the Formosat-5 launch.'}, {'id': 'stls', 'full_name': 'SpaceX South Texas Launch Site', 'status': 'under construction', 'location': {'name': 'Boca Chica Village', 'region': 'Texas', 'latitude': 25.9972641, 'longitude': -97.1560845}, 'vehicles_launched': ['Falcon 9'], 'details': 'SpaceX new launch site currently under construction to help keep up with the Falcon 9 and Heavy manifests. Expected to be completed in late 2018. Initially will be limited to 12 flights per year, and only GTO launches.'}]\n"
     ]
    }
   ],
   "source": [
    "# Retrieving data and converting it into JSON\n",
    "print(requests.get(url).json())"
   ]
  },
  {
   "cell_type": "code",
   "execution_count": 5,
   "metadata": {},
   "outputs": [
    {
     "name": "stdout",
     "output_type": "stream",
     "text": [
      "[\n",
      "    {\n",
      "        \"details\": \"SpaceX original launch site, where all of the Falcon 1 launches occured. Abandoned as SpaceX decided against upgrading the pad to support Falcon 9.\",\n",
      "        \"full_name\": \"Kwajalein Atoll Omelek Island\",\n",
      "        \"id\": \"kwajalein_atoll\",\n",
      "        \"location\": {\n",
      "            \"latitude\": 9.0477206,\n",
      "            \"longitude\": 167.7431292,\n",
      "            \"name\": \"Omelek Island\",\n",
      "            \"region\": \"Marshall Islands\"\n",
      "        },\n",
      "        \"status\": \"retired\",\n",
      "        \"vehicles_launched\": [\n",
      "            \"Falcon 1\"\n",
      "        ]\n",
      "    },\n",
      "    {\n",
      "        \"details\": \"SpaceX primary Falcon 9 launch pad, where all east coast Falcon 9s launched prior to the AMOS-6 anomaly. Initially used to launch Titan rockets for Lockheed Martin. Back online since CRS-13 on 2017-12-15.\",\n",
      "        \"full_name\": \"Cape Canaveral Air Force Station Space Launch Complex 40\",\n",
      "        \"id\": \"ccafs_slc_40\",\n",
      "        \"location\": {\n",
      "            \"latitude\": 28.5618571,\n",
      "            \"longitude\": -80.577366,\n",
      "            \"name\": \"Cape Canaveral\",\n",
      "            \"region\": \"Florida\"\n",
      "        },\n",
      "        \"status\": \"active\",\n",
      "        \"vehicles_launched\": [\n",
      "            \"Falcon 9\"\n",
      "        ]\n",
      "    },\n",
      "    {\n",
      "        \"details\": \"SpaceX east coast landing pad, where the historic first landing occurred. Originally used for early Atlas missiles and rockets from Lockheed Martin. Currently being expanded to add two smaller pads for Falcon Heavy RTLS missions.\",\n",
      "        \"full_name\": \"Cape Canaveral Air Force Station Space Launch Complex 13\",\n",
      "        \"id\": \"ccafs_lc_13\",\n",
      "        \"location\": {\n",
      "            \"latitude\": 28.4857244,\n",
      "            \"longitude\": -80.5449222,\n",
      "            \"name\": \"Cape Canaveral\",\n",
      "            \"region\": \"Florida\"\n",
      "        },\n",
      "        \"status\": \"active\",\n",
      "        \"vehicles_launched\": [\n",
      "            \"Falcon 9\"\n",
      "        ]\n",
      "    },\n",
      "    {\n",
      "        \"details\": \"NASA historic launch pad that launched most of the Saturn V and Space Shuttle missions. Initially for Falcon Heavy launches, it is now launching all of SpaceX east coast missions due to the damage from the AMOS-6 anomaly. After SLC-40 repairs are complete, it will be upgraded to support Falcon Heavy, a process which will take about two months. In the future it will launch commercial crew missions and the Interplanetary Transport System.\",\n",
      "        \"full_name\": \"Kennedy Space Center Historic Launch Complex 39A\",\n",
      "        \"id\": \"ksc_lc_39a\",\n",
      "        \"location\": {\n",
      "            \"latitude\": 28.6080585,\n",
      "            \"longitude\": -80.6039558,\n",
      "            \"name\": \"Cape Canaveral\",\n",
      "            \"region\": \"Florida\"\n",
      "        },\n",
      "        \"status\": \"active\",\n",
      "        \"vehicles_launched\": [\n",
      "            \"Falcon 9\",\n",
      "            \"Falcon Heavy\"\n",
      "        ]\n",
      "    },\n",
      "    {\n",
      "        \"details\": \"SpaceX original west coast launch pad for Falcon 1. Performed a static fire but was never used for a launch and abandoned due to scheduling conflicts.\",\n",
      "        \"full_name\": \"Vandenberg Air Force Base Space Launch Complex 3W\",\n",
      "        \"id\": \"vafb_slc_3w\",\n",
      "        \"location\": {\n",
      "            \"latitude\": 34.6440904,\n",
      "            \"longitude\": -120.5931438,\n",
      "            \"name\": \"Vandenberg Air Force Base\",\n",
      "            \"region\": \"California\"\n",
      "        },\n",
      "        \"status\": \"retired\",\n",
      "        \"vehicles_launched\": [\n",
      "            \"Falcon 1\"\n",
      "        ]\n",
      "    },\n",
      "    {\n",
      "        \"details\": \"SpaceX primary west coast launch pad for polar orbits and sun synchronous orbits, primarily used for Iridium. Also intended to be capable of launching Falcon Heavy.\",\n",
      "        \"full_name\": \"Vandenberg Air Force Base Space Launch Complex 4E\",\n",
      "        \"id\": \"vafb_slc_4e\",\n",
      "        \"location\": {\n",
      "            \"latitude\": 34.632093,\n",
      "            \"longitude\": -120.610829,\n",
      "            \"name\": \"Vandenberg Air Force Base\",\n",
      "            \"region\": \"California\"\n",
      "        },\n",
      "        \"status\": \"active\",\n",
      "        \"vehicles_launched\": [\n",
      "            \"Falcon 9\"\n",
      "        ]\n",
      "    },\n",
      "    {\n",
      "        \"details\": \"SpaceX west coast landing pad, has not yet been used. Expected to first be used during the Formosat-5 launch.\",\n",
      "        \"full_name\": \"Vandenberg Air Force Base Space Launch Complex 4W\",\n",
      "        \"id\": \"vafb_slc_4w\",\n",
      "        \"location\": {\n",
      "            \"latitude\": 34.6332043,\n",
      "            \"longitude\": -120.6156234,\n",
      "            \"name\": \"Vandenberg Air Force Base\",\n",
      "            \"region\": \"California\"\n",
      "        },\n",
      "        \"status\": \"active\",\n",
      "        \"vehicles_launched\": [\n",
      "            \"Falcon 9\"\n",
      "        ]\n",
      "    },\n",
      "    {\n",
      "        \"details\": \"SpaceX new launch site currently under construction to help keep up with the Falcon 9 and Heavy manifests. Expected to be completed in late 2018. Initially will be limited to 12 flights per year, and only GTO launches.\",\n",
      "        \"full_name\": \"SpaceX South Texas Launch Site\",\n",
      "        \"id\": \"stls\",\n",
      "        \"location\": {\n",
      "            \"latitude\": 25.9972641,\n",
      "            \"longitude\": -97.1560845,\n",
      "            \"name\": \"Boca Chica Village\",\n",
      "            \"region\": \"Texas\"\n",
      "        },\n",
      "        \"status\": \"under construction\",\n",
      "        \"vehicles_launched\": [\n",
      "            \"Falcon 9\"\n",
      "        ]\n",
      "    }\n",
      "]\n"
     ]
    }
   ],
   "source": [
    "# Pretty Print the output of the JSON\n",
    "response = requests.get(url).json()\n",
    "print(json.dumps(response, indent=4, sort_keys=True))"
   ]
  },
  {
   "cell_type": "markdown",
   "metadata": {},
   "source": [
    "# Students Turn Activity 2 Space X\n",
    "# Instructions\n",
    "\n",
    "* Take a few minutes to explore the JSON Placeholder API: https://api.spacexdata.com\n",
    "\n",
    "* Once you understand the structure of the API and its endpoint, choose one of the endpoints that is _not_ `vehicles`, and do the following:\n",
    "\n",
    "  * Retrieve and print the JSON for _all_ of the records from your chosen endpoint.\n",
    "\n",
    "  * Retrieve and print the JSON for the a _specific_ record from your chosen endpoint.\n",
    "\n",
    "- - -"
   ]
  },
  {
   "cell_type": "code",
   "execution_count": 6,
   "metadata": {},
   "outputs": [],
   "source": [
    "# Dependencies\n",
    "import requests\n",
    "import json"
   ]
  },
  {
   "cell_type": "code",
   "execution_count": 7,
   "metadata": {},
   "outputs": [],
   "source": [
    "# URL for GET requests to retrieve vehicle data\n",
    "url = \"https://api.spacexdata.com/v2/launchpads\""
   ]
  },
  {
   "cell_type": "code",
   "execution_count": 9,
   "metadata": {},
   "outputs": [
    {
     "name": "stdout",
     "output_type": "stream",
     "text": [
      "[\n",
      "    {\n",
      "        \"details\": \"SpaceX original launch site, where all of the Falcon 1 launches occured. Abandoned as SpaceX decided against upgrading the pad to support Falcon 9.\",\n",
      "        \"full_name\": \"Kwajalein Atoll Omelek Island\",\n",
      "        \"id\": \"kwajalein_atoll\",\n",
      "        \"location\": {\n",
      "            \"latitude\": 9.0477206,\n",
      "            \"longitude\": 167.7431292,\n",
      "            \"name\": \"Omelek Island\",\n",
      "            \"region\": \"Marshall Islands\"\n",
      "        },\n",
      "        \"status\": \"retired\",\n",
      "        \"vehicles_launched\": [\n",
      "            \"Falcon 1\"\n",
      "        ]\n",
      "    },\n",
      "    {\n",
      "        \"details\": \"SpaceX primary Falcon 9 launch pad, where all east coast Falcon 9s launched prior to the AMOS-6 anomaly. Initially used to launch Titan rockets for Lockheed Martin. Back online since CRS-13 on 2017-12-15.\",\n",
      "        \"full_name\": \"Cape Canaveral Air Force Station Space Launch Complex 40\",\n",
      "        \"id\": \"ccafs_slc_40\",\n",
      "        \"location\": {\n",
      "            \"latitude\": 28.5618571,\n",
      "            \"longitude\": -80.577366,\n",
      "            \"name\": \"Cape Canaveral\",\n",
      "            \"region\": \"Florida\"\n",
      "        },\n",
      "        \"status\": \"active\",\n",
      "        \"vehicles_launched\": [\n",
      "            \"Falcon 9\"\n",
      "        ]\n",
      "    },\n",
      "    {\n",
      "        \"details\": \"SpaceX east coast landing pad, where the historic first landing occurred. Originally used for early Atlas missiles and rockets from Lockheed Martin. Currently being expanded to add two smaller pads for Falcon Heavy RTLS missions.\",\n",
      "        \"full_name\": \"Cape Canaveral Air Force Station Space Launch Complex 13\",\n",
      "        \"id\": \"ccafs_lc_13\",\n",
      "        \"location\": {\n",
      "            \"latitude\": 28.4857244,\n",
      "            \"longitude\": -80.5449222,\n",
      "            \"name\": \"Cape Canaveral\",\n",
      "            \"region\": \"Florida\"\n",
      "        },\n",
      "        \"status\": \"active\",\n",
      "        \"vehicles_launched\": [\n",
      "            \"Falcon 9\"\n",
      "        ]\n",
      "    },\n",
      "    {\n",
      "        \"details\": \"NASA historic launch pad that launched most of the Saturn V and Space Shuttle missions. Initially for Falcon Heavy launches, it is now launching all of SpaceX east coast missions due to the damage from the AMOS-6 anomaly. After SLC-40 repairs are complete, it will be upgraded to support Falcon Heavy, a process which will take about two months. In the future it will launch commercial crew missions and the Interplanetary Transport System.\",\n",
      "        \"full_name\": \"Kennedy Space Center Historic Launch Complex 39A\",\n",
      "        \"id\": \"ksc_lc_39a\",\n",
      "        \"location\": {\n",
      "            \"latitude\": 28.6080585,\n",
      "            \"longitude\": -80.6039558,\n",
      "            \"name\": \"Cape Canaveral\",\n",
      "            \"region\": \"Florida\"\n",
      "        },\n",
      "        \"status\": \"active\",\n",
      "        \"vehicles_launched\": [\n",
      "            \"Falcon 9\",\n",
      "            \"Falcon Heavy\"\n",
      "        ]\n",
      "    },\n",
      "    {\n",
      "        \"details\": \"SpaceX original west coast launch pad for Falcon 1. Performed a static fire but was never used for a launch and abandoned due to scheduling conflicts.\",\n",
      "        \"full_name\": \"Vandenberg Air Force Base Space Launch Complex 3W\",\n",
      "        \"id\": \"vafb_slc_3w\",\n",
      "        \"location\": {\n",
      "            \"latitude\": 34.6440904,\n",
      "            \"longitude\": -120.5931438,\n",
      "            \"name\": \"Vandenberg Air Force Base\",\n",
      "            \"region\": \"California\"\n",
      "        },\n",
      "        \"status\": \"retired\",\n",
      "        \"vehicles_launched\": [\n",
      "            \"Falcon 1\"\n",
      "        ]\n",
      "    },\n",
      "    {\n",
      "        \"details\": \"SpaceX primary west coast launch pad for polar orbits and sun synchronous orbits, primarily used for Iridium. Also intended to be capable of launching Falcon Heavy.\",\n",
      "        \"full_name\": \"Vandenberg Air Force Base Space Launch Complex 4E\",\n",
      "        \"id\": \"vafb_slc_4e\",\n",
      "        \"location\": {\n",
      "            \"latitude\": 34.632093,\n",
      "            \"longitude\": -120.610829,\n",
      "            \"name\": \"Vandenberg Air Force Base\",\n",
      "            \"region\": \"California\"\n",
      "        },\n",
      "        \"status\": \"active\",\n",
      "        \"vehicles_launched\": [\n",
      "            \"Falcon 9\"\n",
      "        ]\n",
      "    },\n",
      "    {\n",
      "        \"details\": \"SpaceX west coast landing pad, has not yet been used. Expected to first be used during the Formosat-5 launch.\",\n",
      "        \"full_name\": \"Vandenberg Air Force Base Space Launch Complex 4W\",\n",
      "        \"id\": \"vafb_slc_4w\",\n",
      "        \"location\": {\n",
      "            \"latitude\": 34.6332043,\n",
      "            \"longitude\": -120.6156234,\n",
      "            \"name\": \"Vandenberg Air Force Base\",\n",
      "            \"region\": \"California\"\n",
      "        },\n",
      "        \"status\": \"active\",\n",
      "        \"vehicles_launched\": [\n",
      "            \"Falcon 9\"\n",
      "        ]\n",
      "    },\n",
      "    {\n",
      "        \"details\": \"SpaceX new launch site currently under construction to help keep up with the Falcon 9 and Heavy manifests. Expected to be completed in late 2018. Initially will be limited to 12 flights per year, and only GTO launches.\",\n",
      "        \"full_name\": \"SpaceX South Texas Launch Site\",\n",
      "        \"id\": \"stls\",\n",
      "        \"location\": {\n",
      "            \"latitude\": 25.9972641,\n",
      "            \"longitude\": -97.1560845,\n",
      "            \"name\": \"Boca Chica Village\",\n",
      "            \"region\": \"Texas\"\n",
      "        },\n",
      "        \"status\": \"under construction\",\n",
      "        \"vehicles_launched\": [\n",
      "            \"Falcon 9\"\n",
      "        ]\n",
      "    }\n",
      "]\n"
     ]
    }
   ],
   "source": [
    "# Pretty print JSON for all launchpads\n",
    "all_launch = requests.get(url).json()\n",
    "print(json.dumps(all_launch, indent=4, sort_keys=True))"
   ]
  },
  {
   "cell_type": "code",
   "execution_count": 18,
   "metadata": {},
   "outputs": [
    {
     "data": {
      "text/plain": [
       "{'details': 'SpaceX original launch site, where all of the Falcon 1 launches occured. Abandoned as SpaceX decided against upgrading the pad to support Falcon 9.',\n",
       " 'full_name': 'Kwajalein Atoll Omelek Island',\n",
       " 'id': 'kwajalein_atoll',\n",
       " 'location': {'latitude': 9.0477206,\n",
       "  'longitude': 167.7431292,\n",
       "  'name': 'Omelek Island',\n",
       "  'region': 'Marshall Islands'},\n",
       " 'status': 'retired',\n",
       " 'vehicles_launched': ['Falcon 1']}"
      ]
     },
     "execution_count": 18,
     "metadata": {},
     "output_type": "execute_result"
    }
   ],
   "source": [
    "# Pretty print JSON for a specific launchpad\n",
    "all_launch[0]\n",
    "\n",
    "#OR\n",
    "#URL/:id\n",
    "#url = \"https://api.spacexdata.com/v2/launchpads/kwajalein_atoll\"\n",
    "#all_launch = requests.get(url + \"/kwajalein_atoll\").json()"
   ]
  },
  {
   "cell_type": "markdown",
   "metadata": {},
   "source": [
    "# Instructor Turn Activity 3 Manipulating JSON"
   ]
  },
  {
   "cell_type": "code",
   "execution_count": 19,
   "metadata": {},
   "outputs": [],
   "source": [
    "# Dependencies\n",
    "import requests\n",
    "import json"
   ]
  },
  {
   "cell_type": "code",
   "execution_count": 20,
   "metadata": {},
   "outputs": [
    {
     "name": "stdout",
     "output_type": "stream",
     "text": [
      "{\n",
      "    \"active\": true,\n",
      "    \"boosters\": 0,\n",
      "    \"company\": \"SpaceX\",\n",
      "    \"cost_per_launch\": 61200000,\n",
      "    \"country\": \"United States\",\n",
      "    \"description\": \"Falcon 9 is a two-stage rocket designed and manufactured by SpaceX for the reliable and safe transport of satellites and the Dragon spacecraft into orbit.\",\n",
      "    \"diameter\": {\n",
      "        \"feet\": 12,\n",
      "        \"meters\": 3.7\n",
      "    },\n",
      "    \"engines\": {\n",
      "        \"engine_loss_max\": 2,\n",
      "        \"layout\": \"octaweb\",\n",
      "        \"number\": 9,\n",
      "        \"propellant_1\": \"liquid oxygen\",\n",
      "        \"propellant_2\": \"RP-1 kerosene\",\n",
      "        \"thrust_sea_level\": {\n",
      "            \"kN\": 845,\n",
      "            \"lbf\": 190000\n",
      "        },\n",
      "        \"thrust_to_weight\": 180.1,\n",
      "        \"thrust_vacuum\": {\n",
      "            \"kN\": 914,\n",
      "            \"lbf\": 205500\n",
      "        },\n",
      "        \"type\": \"merlin\",\n",
      "        \"version\": \"1D+\"\n",
      "    },\n",
      "    \"first_flight\": \"2010-06-04\",\n",
      "    \"first_stage\": {\n",
      "        \"burn_time_sec\": 162,\n",
      "        \"engines\": 9,\n",
      "        \"fuel_amount_tons\": 385,\n",
      "        \"reusable\": true,\n",
      "        \"thrust_sea_level\": {\n",
      "            \"kN\": 7607,\n",
      "            \"lbf\": 1710000\n",
      "        },\n",
      "        \"thrust_vacuum\": {\n",
      "            \"kN\": 8227,\n",
      "            \"lbf\": 1849500\n",
      "        }\n",
      "    },\n",
      "    \"height\": {\n",
      "        \"feet\": 229.6,\n",
      "        \"meters\": 70\n",
      "    },\n",
      "    \"id\": \"falcon9\",\n",
      "    \"landing_legs\": {\n",
      "        \"material\": \"carbon fiber\",\n",
      "        \"number\": 4\n",
      "    },\n",
      "    \"mass\": {\n",
      "        \"kg\": 549054,\n",
      "        \"lb\": 1207920\n",
      "    },\n",
      "    \"name\": \"Falcon 9\",\n",
      "    \"payload_weights\": [\n",
      "        {\n",
      "            \"id\": \"leo\",\n",
      "            \"kg\": 22800,\n",
      "            \"lb\": 50265,\n",
      "            \"name\": \"Low Earth Orbit\"\n",
      "        },\n",
      "        {\n",
      "            \"id\": \"gto\",\n",
      "            \"kg\": 8300,\n",
      "            \"lb\": 18300,\n",
      "            \"name\": \"Geosynchronous Transfer Orbit\"\n",
      "        },\n",
      "        {\n",
      "            \"id\": \"mars\",\n",
      "            \"kg\": 4020,\n",
      "            \"lb\": 8860,\n",
      "            \"name\": \"Mars Orbit\"\n",
      "        }\n",
      "    ],\n",
      "    \"second_stage\": {\n",
      "        \"burn_time_sec\": 397,\n",
      "        \"engines\": 1,\n",
      "        \"fuel_amount_tons\": 90,\n",
      "        \"payloads\": {\n",
      "            \"composite_fairing\": {\n",
      "                \"diameter\": {\n",
      "                    \"feet\": 17.1,\n",
      "                    \"meters\": 5.2\n",
      "                },\n",
      "                \"height\": {\n",
      "                    \"feet\": 43,\n",
      "                    \"meters\": 13.1\n",
      "                }\n",
      "            },\n",
      "            \"option_1\": \"dragon\",\n",
      "            \"option_2\": \"composite fairing\"\n",
      "        },\n",
      "        \"thrust\": {\n",
      "            \"kN\": 934,\n",
      "            \"lbf\": 210000\n",
      "        }\n",
      "    },\n",
      "    \"stages\": 2,\n",
      "    \"success_rate_pct\": 94,\n",
      "    \"type\": \"rocket\"\n",
      "}\n"
     ]
    }
   ],
   "source": [
    "# Performing a GET Request and saving the \n",
    "# API's response within a variable\n",
    "url = \"https://api.spacexdata.com/v2/rockets/falcon9\"\n",
    "response = requests.get(url)\n",
    "response_json = response.json()\n",
    "print(json.dumps(response_json, indent=4, sort_keys=True))"
   ]
  },
  {
   "cell_type": "code",
   "execution_count": 21,
   "metadata": {},
   "outputs": [
    {
     "name": "stdout",
     "output_type": "stream",
     "text": [
      "61200000\n"
     ]
    }
   ],
   "source": [
    "# It is possible to grab a specific value \n",
    "# from within the JSON object\n",
    "print(response_json[\"cost_per_launch\"])"
   ]
  },
  {
   "cell_type": "code",
   "execution_count": 22,
   "metadata": {},
   "outputs": [
    {
     "name": "stdout",
     "output_type": "stream",
     "text": [
      "There are 3 payloads.\n"
     ]
    }
   ],
   "source": [
    "# It is also possible to perform some\n",
    "# analyses on values stored within the JSON object\n",
    "number_payloads = len(response_json[\"payload_weights\"])\n",
    "print(f\"There are {number_payloads} payloads.\")"
   ]
  },
  {
   "cell_type": "code",
   "execution_count": 23,
   "metadata": {},
   "outputs": [
    {
     "name": "stdout",
     "output_type": "stream",
     "text": [
      "The first payload weighed 22800 Kilograms\n"
     ]
    }
   ],
   "source": [
    "# Finally, it is possible to reference the\n",
    "# values stored within sub-dictionaries and sub-lists\n",
    "payload_weight = response_json[\"payload_weights\"][0][\"kg\"]\n",
    "print(f\"The first payload weighed {payload_weight} Kilograms\")"
   ]
  },
  {
   "cell_type": "markdown",
   "metadata": {},
   "source": [
    "# Students Turn Activity 4 Far Far Away\n",
    "# Star War Api\n",
    "# Far Far Away \n",
    "\n",
    "* **Instructions:**\n",
    "\n",
    "  * Using the starter file provided, collect the following pieces of information from the Star Wars API.\n",
    "\n",
    "  * The name of the character\n",
    "\n",
    "  * The number of films they were in\n",
    "\n",
    "  * The name of their first starship\n",
    "\n",
    "  * Once the data has been collected, print it out to the console.\n",
    "\n",
    "* **Hints:**\n",
    "\n",
    "  * It would be in the programmer's best interest to print out the JSON from the initial request before anything else. This will let them know what keys they should reference.\n",
    "\n",
    "  * The \"starship\" values are links to another API call. This means that the programmer will need to create a request based off of the values of a previous request.\n",
    "\n",
    "* **Bonus:**\n",
    "\n",
    "  * Come up with a way in which to collect and print out all of the film names a character was in. \n",
    "  \n",
    "- - -"
   ]
  },
  {
   "cell_type": "code",
   "execution_count": 24,
   "metadata": {},
   "outputs": [],
   "source": [
    "# Dependencies\n",
    "import requests\n",
    "import json"
   ]
  },
  {
   "cell_type": "code",
   "execution_count": 25,
   "metadata": {},
   "outputs": [],
   "source": [
    "# URL for GET requests to retrieve Star Wars character data\n",
    "base_url = \"https://swapi.co/api/people/\""
   ]
  },
  {
   "cell_type": "code",
   "execution_count": 26,
   "metadata": {},
   "outputs": [
    {
     "name": "stdout",
     "output_type": "stream",
     "text": [
      "https://swapi.co/api/people/4\n"
     ]
    }
   ],
   "source": [
    "# Create a url with a specific character id\n",
    "character_id = '4'\n",
    "url = base_url + character_id\n",
    "print(url)"
   ]
  },
  {
   "cell_type": "code",
   "execution_count": 27,
   "metadata": {},
   "outputs": [
    {
     "name": "stdout",
     "output_type": "stream",
     "text": [
      "https://swapi.co/api/people/4/\n"
     ]
    }
   ],
   "source": [
    "# Perform a get request for this character\n",
    "response = requests.get(url)\n",
    "print(response.url)"
   ]
  },
  {
   "cell_type": "code",
   "execution_count": 31,
   "metadata": {},
   "outputs": [
    {
     "name": "stdout",
     "output_type": "stream",
     "text": [
      "{\n",
      "    \"birth_year\": \"41.9BBY\",\n",
      "    \"created\": \"2014-12-10T15:18:20.704000Z\",\n",
      "    \"edited\": \"2014-12-20T21:17:50.313000Z\",\n",
      "    \"eye_color\": \"yellow\",\n",
      "    \"films\": [\n",
      "        \"https://swapi.co/api/films/2/\",\n",
      "        \"https://swapi.co/api/films/6/\",\n",
      "        \"https://swapi.co/api/films/3/\",\n",
      "        \"https://swapi.co/api/films/1/\"\n",
      "    ],\n",
      "    \"gender\": \"male\",\n",
      "    \"hair_color\": \"none\",\n",
      "    \"height\": \"202\",\n",
      "    \"homeworld\": \"https://swapi.co/api/planets/1/\",\n",
      "    \"mass\": \"136\",\n",
      "    \"name\": \"Darth Vader\",\n",
      "    \"skin_color\": \"white\",\n",
      "    \"species\": [\n",
      "        \"https://swapi.co/api/species/1/\"\n",
      "    ],\n",
      "    \"starships\": [\n",
      "        \"https://swapi.co/api/starships/13/\"\n",
      "    ],\n",
      "    \"url\": \"https://swapi.co/api/people/4/\",\n",
      "    \"vehicles\": []\n",
      "}\n"
     ]
    }
   ],
   "source": [
    "# Storing the JSON response within a variable\n",
    "data = response.json()\n",
    "print(json.dumps(data, indent=4, sort_keys=True))"
   ]
  },
  {
   "cell_type": "code",
   "execution_count": 32,
   "metadata": {},
   "outputs": [
    {
     "data": {
      "text/plain": [
       "'Darth Vader'"
      ]
     },
     "execution_count": 32,
     "metadata": {},
     "output_type": "execute_result"
    }
   ],
   "source": [
    "# Collecting the name of the character collected\n",
    "name4 = data[\"name\"]\n",
    "name4"
   ]
  },
  {
   "cell_type": "code",
   "execution_count": 69,
   "metadata": {},
   "outputs": [
    {
     "name": "stdout",
     "output_type": "stream",
     "text": [
      "Darth Vader\n"
     ]
    }
   ],
   "source": [
    "# Print the character and the number of films that they were in\n",
    "# YOUR CODE HERE\n",
    "print(name4)\n",
    "films = len(data[\"films\"])"
   ]
  },
  {
   "cell_type": "code",
   "execution_count": 49,
   "metadata": {},
   "outputs": [
    {
     "data": {
      "text/plain": [
       "'TIE Advanced x1'"
      ]
     },
     "execution_count": 49,
     "metadata": {},
     "output_type": "execute_result"
    }
   ],
   "source": [
    "# Figure out what their first starship was and print the ship\n",
    "# YOUR CODE HERE\n",
    "starship = data[\"starships\"][0]\n",
    "response = requests.get(starship)\n",
    "starship_json = response.json()\n",
    "starship_json[\"name\"]"
   ]
  },
  {
   "cell_type": "code",
   "execution_count": 70,
   "metadata": {},
   "outputs": [
    {
     "name": "stdout",
     "output_type": "stream",
     "text": [
      "Darth Vader was in 4 films\n"
     ]
    }
   ],
   "source": [
    "# Print character name and how many films they were in\n",
    "# YOUR CODE HERE\n",
    "print(f\"{name4} was in {films} films\")"
   ]
  },
  {
   "cell_type": "code",
   "execution_count": 67,
   "metadata": {},
   "outputs": [
    {
     "data": {
      "text/plain": [
       "'Jedi starfighter'"
      ]
     },
     "execution_count": 67,
     "metadata": {},
     "output_type": "execute_result"
    }
   ],
   "source": [
    "# Print what their first ship was\n",
    "# YOUR CODE HERE\n",
    "starship6 = data6[\"starships\"][0]\n",
    "starship6\n",
    "response_new = requests.get(starship6)\n",
    "response_new\n",
    "starship6_json = response_new.json()\n",
    "starship6_json[\"name\"]"
   ]
  },
  {
   "cell_type": "code",
   "execution_count": 72,
   "metadata": {},
   "outputs": [
    {
     "name": "stdout",
     "output_type": "stream",
     "text": [
      "Darth Vader was in The Empire Strikes Back, Revenge of the Sith, Return of the Jedi, A New Hope.\n"
     ]
    }
   ],
   "source": [
    "# BONUS Come up with a way in which to collect and print out all of the film names a character was in.\n",
    "# YOUR CODE HERE\n",
    "films_total = []\n",
    "for film in data[\"films\"]:\n",
    "    cur_film = requests.get(film).json()\n",
    "    film_title = cur_film[\"title\"]\n",
    "    films_total.append(film_title)\n",
    "films_total\n",
    "print(f\"{name4} was in \" + \", \".join(films_total) + \".\")"
   ]
  },
  {
   "cell_type": "markdown",
   "metadata": {},
   "source": [
    "# Student Pair Turns Activity 5 Number Facts API"
   ]
  },
  {
   "cell_type": "markdown",
   "metadata": {},
   "source": [
    "# Number Facts API\n",
    "\n",
    "* **Instructions:**\n",
    "\n",
    "  * Using the [Numbers API](http://numbersapi.com), create an application that takes in a user's inputs and returns a number fact based upon it.\n",
    "\n",
    "* **Hints:**\n",
    "\n",
    "  * The URL to make your request to must have `?json` at its end so that the data format returned is JSON. The default response is pure text.\n",
    "\n",
    "  * Make sure to read through the documentation when creating your application. Some types require more or less data than others.\n",
    "  \n",
    "- - -"
   ]
  },
  {
   "cell_type": "code",
   "execution_count": 73,
   "metadata": {},
   "outputs": [],
   "source": [
    "# Dependencies\n",
    "import requests\n",
    "import json"
   ]
  },
  {
   "cell_type": "code",
   "execution_count": 74,
   "metadata": {},
   "outputs": [],
   "source": [
    "# Base URL for GET requests to retrieve number/date facts\n",
    "url = \"http://numbersapi.com/\""
   ]
  },
  {
   "cell_type": "code",
   "execution_count": null,
   "metadata": {},
   "outputs": [],
   "source": [
    "# Ask the user what kind of data they would like to search for\n",
    "int(input(\"Input a number\"))"
   ]
  },
  {
   "cell_type": "code",
   "execution_count": null,
   "metadata": {},
   "outputs": [],
   "source": [
    "# Create code to return a number fact\n",
    "print(requests.get(url))"
   ]
  },
  {
   "cell_type": "markdown",
   "metadata": {},
   "source": [
    "# Instructor Turn Activity 6 OMDB Request"
   ]
  },
  {
   "cell_type": "code",
   "execution_count": null,
   "metadata": {},
   "outputs": [],
   "source": [
    "import  requests\n",
    "import json"
   ]
  },
  {
   "cell_type": "code",
   "execution_count": null,
   "metadata": {
    "collapsed": true
   },
   "outputs": [],
   "source": [
    "# New Dependency! Use this to pretty print the JSON\n",
    "# https://docs.python.org/3/library/pprint.html\n",
    "from pprint import pprint"
   ]
  },
  {
   "cell_type": "code",
   "execution_count": null,
   "metadata": {
    "collapsed": true
   },
   "outputs": [],
   "source": [
    "# Note that the ?t= is a query param for the t-itle of the\n",
    "# movie we want to search for.\n",
    "url = \"http://www.omdbapi.com/?t=\"\n",
    "api_key = \"&apikey=trilogy\""
   ]
  },
  {
   "cell_type": "code",
   "execution_count": null,
   "metadata": {},
   "outputs": [],
   "source": [
    "# Performing a GET request similar to the one we executed\n",
    "# earlier\n",
    "response = requests.get(url + \"Aliens\" + api_key)\n",
    "print(response.url)"
   ]
  },
  {
   "cell_type": "code",
   "execution_count": null,
   "metadata": {},
   "outputs": [],
   "source": [
    "# Converting the response to JSON, and printing the result.\n",
    "data = response.json()\n",
    "pprint(data)"
   ]
  },
  {
   "cell_type": "code",
   "execution_count": null,
   "metadata": {},
   "outputs": [],
   "source": [
    "# Print a few keys from the response JSON.\n",
    "print(f\"Movie was directed by {data['Director']}.\")\n",
    "print(f\"Movie was released in {data['Country']}.\")"
   ]
  },
  {
   "cell_type": "markdown",
   "metadata": {},
   "source": [
    "# Students Turn Activity 7 Explore OMDb API\n",
    "# OMDb API\n",
    "\n",
    "* **Instructions:**\n",
    "\n",
    "  * Read the OMDb documentation, and make a few API calls to\n",
    "get some information about your favorite movie."
   ]
  },
  {
   "cell_type": "code",
   "execution_count": null,
   "metadata": {
    "collapsed": true
   },
   "outputs": [],
   "source": []
  },
  {
   "cell_type": "code",
   "execution_count": null,
   "metadata": {
    "collapsed": true
   },
   "outputs": [],
   "source": []
  },
  {
   "cell_type": "code",
   "execution_count": null,
   "metadata": {
    "collapsed": true
   },
   "outputs": [],
   "source": []
  },
  {
   "cell_type": "markdown",
   "metadata": {},
   "source": [
    "# Students Turn Activity 8 Movie Question"
   ]
  },
  {
   "cell_type": "code",
   "execution_count": null,
   "metadata": {
    "collapsed": true
   },
   "outputs": [],
   "source": [
    "# Dependencies\n",
    "import requests\n",
    "\n",
    "url = \"http://www.omdbapi.com/?apikey=trilogy&t=\""
   ]
  },
  {
   "cell_type": "code",
   "execution_count": null,
   "metadata": {
    "collapsed": true
   },
   "outputs": [],
   "source": [
    "# Who was the director of the movie Aliens?\n"
   ]
  },
  {
   "cell_type": "code",
   "execution_count": null,
   "metadata": {
    "collapsed": true
   },
   "outputs": [],
   "source": [
    "# What was the movie Gladiator rated?\n"
   ]
  },
  {
   "cell_type": "code",
   "execution_count": null,
   "metadata": {
    "collapsed": true
   },
   "outputs": [],
   "source": [
    "# What year was 50 First Dates released?\n"
   ]
  },
  {
   "cell_type": "code",
   "execution_count": null,
   "metadata": {
    "collapsed": true
   },
   "outputs": [],
   "source": [
    "# Who wrote Moana?\n"
   ]
  },
  {
   "cell_type": "code",
   "execution_count": null,
   "metadata": {
    "collapsed": true
   },
   "outputs": [],
   "source": [
    "# What was the plot of the movie Sing?\n"
   ]
  },
  {
   "cell_type": "markdown",
   "metadata": {},
   "source": [
    "# Instructor Turn Activity 9 Iterative Request "
   ]
  },
  {
   "cell_type": "code",
   "execution_count": null,
   "metadata": {
    "collapsed": true
   },
   "outputs": [],
   "source": [
    "# Dependencies\n",
    "import random\n",
    "import json\n",
    "import requests"
   ]
  },
  {
   "cell_type": "code",
   "execution_count": null,
   "metadata": {
    "collapsed": true
   },
   "outputs": [],
   "source": [
    "# Let's get the JSON for 100 posts sequentially.\n",
    "url = \"http://jsonplaceholder.typicode.com/posts/\""
   ]
  },
  {
   "cell_type": "code",
   "execution_count": null,
   "metadata": {
    "collapsed": true
   },
   "outputs": [],
   "source": [
    "# Create an empty list to store the responses\n",
    "response_json = []"
   ]
  },
  {
   "cell_type": "code",
   "execution_count": null,
   "metadata": {},
   "outputs": [],
   "source": [
    "# Create random indices representing\n",
    "# a user's choice of posts\n",
    "indices = random.sample(list(range(1, 100)), 10)\n",
    "indices"
   ]
  },
  {
   "cell_type": "code",
   "execution_count": null,
   "metadata": {},
   "outputs": [],
   "source": [
    "# Make a request for each of the indices\n",
    "for x in range(len(indices)):\n",
    "    print(f\"Making request number: {x} for ID: {indices[x]}\")\n",
    "\n",
    "    # Get one of the posts\n",
    "    post_response = requests.get(url + str(indices[x]))\n",
    "\n",
    "    # Save post's JSON\n",
    "    response_json.append(post_response.json())"
   ]
  },
  {
   "cell_type": "code",
   "execution_count": null,
   "metadata": {},
   "outputs": [],
   "source": [
    "# Now we have 10 post objects, \n",
    "# which we got by making 100 requests to the API.\n",
    "print(f\"We have {len(response_json)} posts!\")"
   ]
  },
  {
   "cell_type": "code",
   "execution_count": null,
   "metadata": {},
   "outputs": [],
   "source": [
    "response_json"
   ]
  },
  {
   "cell_type": "markdown",
   "metadata": {},
   "source": [
    "# Student Activity 10 Turn MovieLoop\n",
    "# Instructions\n",
    "\n",
    "Consider the following list of movie titles.\n",
    "\n",
    "```python\n",
    "movies = [\"Aliens\", \"Sing\", \"Moana\"]\n",
    "```\n",
    "\n",
    "Make a request to the OMDb API for each movie in the list. Then:\n",
    "\n",
    "1. Print the director of each movie\n",
    "\n",
    "2. Save the responses in another list\n",
    "\n",
    "- - -"
   ]
  },
  {
   "cell_type": "code",
   "execution_count": null,
   "metadata": {
    "collapsed": true
   },
   "outputs": [],
   "source": [
    "# Dependencies\n",
    "import requests\n",
    "\n",
    "url = \"http://www.omdbapi.com/?apikey=trilogy&t=\"\n",
    "\n",
    "movies = [\"Aliens\", \"Sing\", \"Moana\"]"
   ]
  },
  {
   "cell_type": "code",
   "execution_count": null,
   "metadata": {},
   "outputs": [],
   "source": [
    "# Use a loop to store the movies in a list \n"
   ]
  },
  {
   "cell_type": "code",
   "execution_count": null,
   "metadata": {},
   "outputs": [],
   "source": [
    "# Output response\n"
   ]
  },
  {
   "cell_type": "markdown",
   "metadata": {},
   "source": [
    "# Instructors Turn Activity 11 NYT Api"
   ]
  },
  {
   "cell_type": "code",
   "execution_count": null,
   "metadata": {
    "collapsed": true
   },
   "outputs": [],
   "source": [
    "# Dependencies\n",
    "import requests\n",
    "from pprint import pprint\n",
    "from config import api_key\n",
    "\n",
    "url = \"https://api.nytimes.com/svc/search/v2/articlesearch.json?\""
   ]
  },
  {
   "cell_type": "code",
   "execution_count": null,
   "metadata": {
    "collapsed": true
   },
   "outputs": [],
   "source": [
    "# Search for articles that mention granola\n",
    "query = \"granola\""
   ]
  },
  {
   "cell_type": "code",
   "execution_count": null,
   "metadata": {},
   "outputs": [],
   "source": [
    "# Build query URL\n",
    "query_url = url + \"api-key=\" + api_key + \"&q=\" + query\n",
    "query_url"
   ]
  },
  {
   "cell_type": "code",
   "execution_count": null,
   "metadata": {},
   "outputs": [],
   "source": [
    "# Request articles\n",
    "articles = requests.get(query_url).json()\n",
    "\n",
    "# The \"response\" property in articles contains the actual articles\n",
    "# list comprehension.\n",
    "articles_list = [article for article in articles[\"response\"][\"docs\"]]\n",
    "pprint(articles_list)"
   ]
  },
  {
   "cell_type": "code",
   "execution_count": null,
   "metadata": {},
   "outputs": [],
   "source": [
    "# Print the web_url of each stored article\n",
    "print(\"Your Reading List\")\n",
    "for article in articles_list:\n",
    "    print(article[\"web_url\"])"
   ]
  },
  {
   "cell_type": "markdown",
   "metadata": {},
   "source": [
    "# Students Turn Activity 12 Instructions\n",
    "\n",
    "* Save the NYT API endpoint to a variable. Make sure you include the right query parameter to retrieve JSON data!\n",
    "\n",
    "* Register for and save your API Key to a variable.\n",
    "\n",
    "* Decide on a search term, and save it to a variable.\n",
    "\n",
    "* Limit your search to articles published within a range of dates—for example, only articles published in 2014. _Hint_: Read the documentation on `end_date`.\n",
    "\n",
    "* Build your query URL, and save it to a variable.\n",
    "\n",
    "* Retrieve your list of articles with a GET request.\n",
    "\n",
    "* Take a look at the documentation. How do you get ahold of the articles in the response?\n",
    "\n",
    "* Store each article in the response inside of a list.\n",
    "\n",
    "* Print a `snippet` from each article.\n",
    "\n",
    "* As a bonus, try to figure out how we could get 30 results. _Hint_: Look up the `page` query parameter. If you get a message saying you've exceeded your rate limit, don't fret—you've solved the problem.\n",
    "\n",
    "- - -"
   ]
  },
  {
   "cell_type": "code",
   "execution_count": null,
   "metadata": {},
   "outputs": [],
   "source": [
    "# Dependencies\n",
    "import requests\n",
    "from config import api_key\n",
    "url = \"https://api.nytimes.com/svc/search/v2/articlesearch.json?\"\n",
    "\n",
    "# Store a search term\n",
    "\n",
    "\n",
    "# Search for articles published between a begin and end date\n",
    "\n",
    "\n",
    "# Build url\n",
    "     \n"
   ]
  },
  {
   "cell_type": "code",
   "execution_count": null,
   "metadata": {},
   "outputs": [],
   "source": [
    "# Retrieve articles\n"
   ]
  },
  {
   "cell_type": "code",
   "execution_count": null,
   "metadata": {},
   "outputs": [],
   "source": [
    "# BONUS: How would we get 30 results? \n",
    "# HINT: Look up the page query param\n",
    "\n",
    "# Emply list for articles\n",
    "\n",
    "\n",
    "# loop through pages 0-2\n"
   ]
  },
  {
   "cell_type": "code",
   "execution_count": null,
   "metadata": {
    "collapsed": true
   },
   "outputs": [],
   "source": []
  }
 ],
 "metadata": {
  "kernelspec": {
   "display_name": "Python 3",
   "language": "python",
   "name": "python3"
  },
  "language_info": {
   "codemirror_mode": {
    "name": "ipython",
    "version": 3
   },
   "file_extension": ".py",
   "mimetype": "text/x-python",
   "name": "python",
   "nbconvert_exporter": "python",
   "pygments_lexer": "ipython3",
   "version": "3.6.4"
  }
 },
 "nbformat": 4,
 "nbformat_minor": 2
}
