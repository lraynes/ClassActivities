{
 "cells": [
  {
   "cell_type": "markdown",
   "metadata": {},
   "source": [
    "# Students Turn Activity 1 JSON Traversal Review\n",
    "\n",
    "This activity is an opportunity to practice loading and parsing JSON in Python.\n",
    "\n",
    "## Instructions\n",
    "\n",
    "* Load the provided JSON\n",
    "\n",
    "* Retrieve the video's title\n",
    "\n",
    "* Retrieve the video's rating\n",
    "\n",
    "* Retrieve the link to the video's thumbnail\n",
    "\n",
    "* Retrieve the number of views this video has"
   ]
  },
  {
   "cell_type": "code",
   "execution_count": 7,
   "metadata": {},
   "outputs": [],
   "source": [
    "# Dependencies\n",
    "import json\n",
    "import os\n",
    "\n",
    "# Load JSON\n",
    "filepath = os.path.join(\"Resources\", \"youtube_response.json\")\n",
    "with open(filepath) as jsonfile:\n",
    "    video_json = json.load(jsonfile)"
   ]
  },
  {
   "cell_type": "code",
   "execution_count": 14,
   "metadata": {},
   "outputs": [
    {
     "name": "stdout",
     "output_type": "stream",
     "text": [
      "{'updated': '2010-01-07T19:58:42.949Z', 'totalItems': 800, 'startIndex': 1, 'itemsPerPage': 1, 'items': [{'id': 'hYB0mn5zh2c', 'uploaded': '2007-06-05T22:07:03.000Z', 'updated': '2010-01-07T13:26:50.000Z', 'uploader': 'GoogleDeveloperDay', 'category': 'News', 'title': 'Google Developers Day US - Maps API Introduction', 'description': 'Google Maps API Introduction ...', 'tags': ['GDD07', 'GDD07US', 'Maps'], 'thumbnail': {'default': 'http://i.ytimg.com/vi/hYB0mn5zh2c/default.jpg', 'hqDefault': 'http://i.ytimg.com/vi/hYB0mn5zh2c/hqdefault.jpg'}, 'player': {'default': 'http://www.youtube.com/watch?vu003dhYB0mn5zh2c'}, 'content': {'1': 'rtsp://v5.cache3.c.youtube.com/CiILENy.../0/0/0/video.3gp', '5': 'http://www.youtube.com/v/hYB0mn5zh2c?f...', '6': 'rtsp://v1.cache1.c.youtube.com/CiILENy.../0/0/0/video.3gp'}, 'duration': 2840, 'aspectRatio': 'widescreen', 'rating': 4.63, 'ratingCount': 68, 'viewCount': 220101, 'favoriteCount': 201, 'commentCount': 22, 'status': {'value': 'restricted', 'reason': 'limitedSyndication'}, 'accessControl': {'syndicate': 'allowed', 'commentVote': 'allowed', 'rate': 'allowed', 'list': 'allowed', 'comment': 'allowed', 'embed': 'allowed', 'videoRespond': 'moderated'}}]}\n",
      "Title: Google Developers Day US - Maps API Introduction\n"
     ]
    }
   ],
   "source": [
    "# Isolate \"data items\" for easy reading\n",
    "# CODE HERE \n",
    "data = video_json[\"data\"]\n",
    "print(data)\n",
    "data_items = data[\"items\"]\n",
    "\n",
    "# Retrieve the video's title\n",
    "# CODE HERE \n",
    "title = data_items[0][\"title\"]\n",
    "print(\"Title:\", title)"
   ]
  },
  {
   "cell_type": "code",
   "execution_count": 11,
   "metadata": {},
   "outputs": [
    {
     "name": "stdout",
     "output_type": "stream",
     "text": [
      "Rating: 4.63\n"
     ]
    }
   ],
   "source": [
    "# Retrieve the video's rating\n",
    "# CODE HERE \n",
    "ratings = data_items[0][\"rating\"]\n",
    "print(\"Rating:\", ratings)"
   ]
  },
  {
   "cell_type": "code",
   "execution_count": 12,
   "metadata": {},
   "outputs": [
    {
     "name": "stdout",
     "output_type": "stream",
     "text": [
      "Thumbnail: http://i.ytimg.com/vi/hYB0mn5zh2c/default.jpg\n"
     ]
    }
   ],
   "source": [
    "# Retrieve the link to the video's default thumbnail\n",
    "# CODE HERE\n",
    "default_thumbnail = data_items[0][\"thumbnail\"][\"default\"]\n",
    "print(\"Thumbnail:\" , default_thumbnail)\n"
   ]
  },
  {
   "cell_type": "code",
   "execution_count": 13,
   "metadata": {},
   "outputs": [
    {
     "name": "stdout",
     "output_type": "stream",
     "text": [
      "View count: 220101\n"
     ]
    }
   ],
   "source": [
    "# Retrieve the number of views this video has\n",
    "# CODE HERE \n",
    "view_count = data_items[0][\"viewCount\"]\n",
    "print(f\"View count: {view_count}\")\n"
   ]
  },
  {
   "cell_type": "markdown",
   "metadata": {},
   "source": [
    "# Students Turn Activity 2 Requests & Responses\n",
    "\n",
    "This activity provides practice making API calls, converting the response to JSON, and then manipulating the result with Python.\n",
    "\n",
    "## Instructions\n",
    "\n",
    "* Make a request to the following endpoint (http://nyt-mongo-scraper.herokuapp.com/api/headlines), and store the response.\n",
    "\n",
    "* JSON-ify the response.\n",
    "\n",
    "* Print the JSON representations of the first and last posts.\n",
    "\n",
    "* Print number of posts received."
   ]
  },
  {
   "cell_type": "code",
   "execution_count": 21,
   "metadata": {},
   "outputs": [],
   "source": [
    "# Dependencies\n",
    "import json\n",
    "import requests"
   ]
  },
  {
   "cell_type": "code",
   "execution_count": 25,
   "metadata": {},
   "outputs": [
    {
     "name": "stdout",
     "output_type": "stream",
     "text": [
      "200\n"
     ]
    }
   ],
   "source": [
    "# Specify the URL\n",
    "# CODE HERE \n",
    "url = \"http://nyt-mongo-scraper.herokuapp.com/api/headlines\"\n",
    "\n",
    "\n",
    "\n",
    "# Make request and store response\n",
    "# CODE HERE\n",
    "response = requests.get(url)\n",
    "print(response.status_code)\n"
   ]
  },
  {
   "cell_type": "code",
   "execution_count": 26,
   "metadata": {},
   "outputs": [],
   "source": [
    "# JSON-ify response\n",
    "# CODE HERE\n",
    "response_json = response.json()\n"
   ]
  },
  {
   "cell_type": "code",
   "execution_count": 28,
   "metadata": {},
   "outputs": [
    {
     "name": "stdout",
     "output_type": "stream",
     "text": [
      "The first response is {\n",
      "  \"_id\": \"5b0762b9e4b0fb00146996e0\",\n",
      "  \"headline\": \"Manhattan\\u2019s Most Expensive Condos\",\n",
      "  \"summary\": \"One square foot can cost more than $5,000 on average in New York City\\u2019s most expensive condo buildings.\",\n",
      "  \"url\": \"https://www.nytimes.com/2018/05/24/realestate/manhattans-most-expensive-condos.html\",\n",
      "  \"date\": \"5_25_2018\",\n",
      "  \"saved\": true\n",
      "}.\n",
      "The last response is {\n",
      "  \"_id\": \"5ab3c9449dfb600014f246d9\",\n",
      "  \"headline\": \"What We Know About the Suspect\",\n",
      "  \"summary\": \"Mark Conditt is believed to be linked to six bombs or explosions that killed at least two people and injured several others.\",\n",
      "  \"url\": \"https://www.nytimes.com/2018/03/21/us/mark-anthony-conditt-austin-bomber.html\",\n",
      "  \"date\": \"3_22_2018\",\n",
      "  \"saved\": false\n",
      "}.\n"
     ]
    }
   ],
   "source": [
    "# Print first and last articles\n",
    "# CODE HERE\n",
    "print(f\"The first response is {json.dumps(response_json[0], indent=2)}.\")\n",
    "print(f\"The last response is {json.dumps(response_json[-1], indent=2)}.\")\n"
   ]
  },
  {
   "cell_type": "code",
   "execution_count": 29,
   "metadata": {},
   "outputs": [
    {
     "name": "stdout",
     "output_type": "stream",
     "text": [
      "We received 2651 response.\n"
     ]
    }
   ],
   "source": [
    "#Print the number of responses received.\n",
    "# CODE HERE\n",
    "print(f\"We received {len(response_json)} response.\")"
   ]
  },
  {
   "cell_type": "markdown",
   "metadata": {},
   "source": [
    "# Instructor Turn Activity 3 Open Weather Request"
   ]
  },
  {
   "cell_type": "code",
   "execution_count": 30,
   "metadata": {},
   "outputs": [],
   "source": [
    "# Dependencies\n",
    "import json\n",
    "import requests\n",
    "from config import api_key"
   ]
  },
  {
   "cell_type": "code",
   "execution_count": 32,
   "metadata": {},
   "outputs": [
    {
     "name": "stdout",
     "output_type": "stream",
     "text": [
      "http://api.openweathermap.org/data/2.5/weather?appid=25bc90a1196e6f153eece0bc0b0fc9eb&q=London\n"
     ]
    }
   ],
   "source": [
    "# Save config information\n",
    "url = \"http://api.openweathermap.org/data/2.5/weather?\"\n",
    "city = \"London\"\n",
    "\n",
    "# Build query URL\n",
    "query_url = url + \"appid=\" + api_key + \"&q=\" + city\n",
    "print(query_url)"
   ]
  },
  {
   "cell_type": "code",
   "execution_count": 34,
   "metadata": {},
   "outputs": [
    {
     "name": "stdout",
     "output_type": "stream",
     "text": [
      "The weather API responded with: {\n",
      "  \"coord\": {\n",
      "    \"lon\": -0.13,\n",
      "    \"lat\": 51.51\n",
      "  },\n",
      "  \"weather\": [\n",
      "    {\n",
      "      \"id\": 500,\n",
      "      \"main\": \"Rain\",\n",
      "      \"description\": \"light rain\",\n",
      "      \"icon\": \"10n\"\n",
      "    },\n",
      "    {\n",
      "      \"id\": 701,\n",
      "      \"main\": \"Mist\",\n",
      "      \"description\": \"mist\",\n",
      "      \"icon\": \"50n\"\n",
      "    },\n",
      "    {\n",
      "      \"id\": 301,\n",
      "      \"main\": \"Drizzle\",\n",
      "      \"description\": \"drizzle\",\n",
      "      \"icon\": \"09n\"\n",
      "    }\n",
      "  ],\n",
      "  \"base\": \"stations\",\n",
      "  \"main\": {\n",
      "    \"temp\": 286.36,\n",
      "    \"pressure\": 1017,\n",
      "    \"humidity\": 82,\n",
      "    \"temp_min\": 284.15,\n",
      "    \"temp_max\": 288.15\n",
      "  },\n",
      "  \"visibility\": 10000,\n",
      "  \"wind\": {\n",
      "    \"speed\": 2.6,\n",
      "    \"deg\": 340\n",
      "  },\n",
      "  \"clouds\": {\n",
      "    \"all\": 90\n",
      "  },\n",
      "  \"dt\": 1527211200,\n",
      "  \"sys\": {\n",
      "    \"type\": 1,\n",
      "    \"id\": 5091,\n",
      "    \"message\": 0.005,\n",
      "    \"country\": \"GB\",\n",
      "    \"sunrise\": 1527220545,\n",
      "    \"sunset\": 1527278399\n",
      "  },\n",
      "  \"id\": 2643743,\n",
      "  \"name\": \"London\",\n",
      "  \"cod\": 200\n",
      "}.\n"
     ]
    }
   ],
   "source": [
    "# Get weather data\n",
    "weather_response = requests.get(query_url)\n",
    "weather_json = weather_response.json()\n",
    "# Get the temperature from the response\n",
    "print(f\"The weather API responded with: {json.dumps(weather_json, indent=2)}.\")"
   ]
  },
  {
   "cell_type": "markdown",
   "metadata": {},
   "source": [
    "# Students Turn Activity 4 Weather in Bujumbura\n",
    "\n",
    "This activity gives students practice with making API calls and handling responses.\n",
    "\n",
    "## Instructions\n",
    "\n",
    "* Save all of your \"config\" information—i.e., your API key; the base URL; etc.—before moving on.\n",
    "\n",
    "* Build your query URL. Check the documentation to figure out how to request temperatures in Celsius.\n",
    "\n",
    "* Make your request, and save the API's response.\n",
    "\n",
    "* Retrieve the current temperature in Bujumbura from the JSON response.\n",
    "\n",
    "* Print the temperature to the console.\n",
    "\n",
    "## Bonus\n",
    "\n",
    "* Augment your code to report the temperature in both Fahrenheit _and_ Celsius."
   ]
  },
  {
   "cell_type": "code",
   "execution_count": 42,
   "metadata": {},
   "outputs": [],
   "source": [
    "# Dependencies\n",
    "import requests\n",
    "from config import api_key\n",
    "\n",
    "# Save config information.\n",
    "url = \"http://api.openweathermap.org/data/2.5/weather?\"\n",
    "city = \"Bujumbura\"\n",
    "units = \"metric\""
   ]
  },
  {
   "cell_type": "code",
   "execution_count": 44,
   "metadata": {},
   "outputs": [
    {
     "name": "stdout",
     "output_type": "stream",
     "text": [
      "{'coord': {'lon': 29.37, 'lat': -3.36}, 'weather': [{'id': 802, 'main': 'Clouds', 'description': 'scattered clouds', 'icon': '03n'}], 'base': 'stations', 'main': {'temp': 14.13, 'pressure': 857.74, 'humidity': 100, 'temp_min': 14.13, 'temp_max': 14.13, 'sea_level': 1025.44, 'grnd_level': 857.74}, 'wind': {'speed': 1.86, 'deg': 7.00003}, 'clouds': {'all': 32}, 'dt': 1527215009, 'sys': {'message': 0.0044, 'country': 'BI', 'sunrise': 1527220860, 'sunset': 1527263873}, 'id': 425378, 'name': 'Bujumbura', 'cod': 200}\n"
     ]
    }
   ],
   "source": [
    "# Build query URL and request your results in Celsius\n",
    "# CODE HERE\n",
    "\n",
    "query_url = f'{url}appid={api_key}&q={city}&units={units}'\n",
    "\n",
    "# Get weather data\n",
    "# CODE HERE\n",
    "weather_response = requests.get(query_url)\n",
    "weather_json = weather_response.json()\n",
    "print(weather_json)"
   ]
  },
  {
   "cell_type": "code",
   "execution_count": 37,
   "metadata": {},
   "outputs": [],
   "source": [
    "# Get temperature from JSON response\n",
    "# CODE HERE\n",
    "temperature = weather_json[\"main\"][\"temp\"]\n"
   ]
  },
  {
   "cell_type": "code",
   "execution_count": 38,
   "metadata": {},
   "outputs": [
    {
     "name": "stdout",
     "output_type": "stream",
     "text": [
      "The temperature in Bujumbura is 14.13 C.\n"
     ]
    }
   ],
   "source": [
    "# Report temperature\n",
    "# CODE HERE\n",
    "print(f\"The temperature in Bujumbura is {temperature} C.\")\n"
   ]
  },
  {
   "cell_type": "code",
   "execution_count": 41,
   "metadata": {},
   "outputs": [
    {
     "name": "stdout",
     "output_type": "stream",
     "text": [
      "The temperature in Bujumbra is 14.13 C or 57.43 F.\n"
     ]
    }
   ],
   "source": [
    "# BONUS \n",
    "units = [\"metric\", \"imperial\"]\n",
    "temperatures = []\n",
    "\n",
    "for unit in units:\n",
    "    query_url = url + \"appid=\" + api_key + \"&q=\" + city + \"&units=\" + unit\n",
    "    weather_response = requests.get(query_url)\n",
    "    weather_json = weather_response.json()\n",
    "    \n",
    "    temperature = weather_json[\"main\"][\"temp\"]\n",
    "    temperatures.append(temperature)\n",
    "    \n",
    "print(f\"The temperature in Bujumbra is {temperatures[0]} C or {temperatures[1]} F.\")"
   ]
  },
  {
   "cell_type": "markdown",
   "metadata": {},
   "source": [
    "# Instructor Turn Activity 5 Open Weather DataFrame"
   ]
  },
  {
   "cell_type": "code",
   "execution_count": 45,
   "metadata": {},
   "outputs": [],
   "source": [
    "# Dependencies\n",
    "import csv\n",
    "import matplotlib.pyplot as plt\n",
    "import requests\n",
    "import pandas as pd\n",
    "from config import api_key"
   ]
  },
  {
   "cell_type": "code",
   "execution_count": 46,
   "metadata": {},
   "outputs": [],
   "source": [
    "# Save config information.\n",
    "url = \"http://api.openweathermap.org/data/2.5/weather?\"\n",
    "units = \"metric\"\n",
    "\n",
    "# Build partial query URL\n",
    "query_url = f\"{url}appid={api_key}&units={units}&q=\""
   ]
  },
  {
   "cell_type": "code",
   "execution_count": 47,
   "metadata": {},
   "outputs": [
    {
     "name": "stdout",
     "output_type": "stream",
     "text": [
      "The latitude information received is: [48.86, 51.51, 59.91, 39.91]\n",
      "The temperature information received is: [12.38, 12.88, 11, 25]\n"
     ]
    }
   ],
   "source": [
    "cities = [\"Paris\", \"London\", \"Oslo\", \"Beijing\"]\n",
    "\n",
    "# set up lists to hold reponse info\n",
    "lat = []\n",
    "temp = []\n",
    "\n",
    "# Loop through the list of cities and perform a request for data on each\n",
    "for city in cities:\n",
    "    response = requests.get(query_url + city).json()\n",
    "    lat.append(response['coord']['lat'])\n",
    "    temp.append(response['main']['temp'])\n",
    "\n",
    "print(f\"The latitude information received is: {lat}\")\n",
    "print(f\"The temperature information received is: {temp}\")"
   ]
  },
  {
   "cell_type": "code",
   "execution_count": 48,
   "metadata": {},
   "outputs": [
    {
     "data": {
      "text/html": [
       "<div>\n",
       "<style scoped>\n",
       "    .dataframe tbody tr th:only-of-type {\n",
       "        vertical-align: middle;\n",
       "    }\n",
       "\n",
       "    .dataframe tbody tr th {\n",
       "        vertical-align: top;\n",
       "    }\n",
       "\n",
       "    .dataframe thead th {\n",
       "        text-align: right;\n",
       "    }\n",
       "</style>\n",
       "<table border=\"1\" class=\"dataframe\">\n",
       "  <thead>\n",
       "    <tr style=\"text-align: right;\">\n",
       "      <th></th>\n",
       "      <th>city</th>\n",
       "      <th>lat</th>\n",
       "      <th>temp</th>\n",
       "    </tr>\n",
       "  </thead>\n",
       "  <tbody>\n",
       "    <tr>\n",
       "      <th>0</th>\n",
       "      <td>Paris</td>\n",
       "      <td>48.86</td>\n",
       "      <td>12.38</td>\n",
       "    </tr>\n",
       "    <tr>\n",
       "      <th>1</th>\n",
       "      <td>London</td>\n",
       "      <td>51.51</td>\n",
       "      <td>12.88</td>\n",
       "    </tr>\n",
       "    <tr>\n",
       "      <th>2</th>\n",
       "      <td>Oslo</td>\n",
       "      <td>59.91</td>\n",
       "      <td>11.00</td>\n",
       "    </tr>\n",
       "    <tr>\n",
       "      <th>3</th>\n",
       "      <td>Beijing</td>\n",
       "      <td>39.91</td>\n",
       "      <td>25.00</td>\n",
       "    </tr>\n",
       "  </tbody>\n",
       "</table>\n",
       "</div>"
      ],
      "text/plain": [
       "      city    lat   temp\n",
       "0    Paris  48.86  12.38\n",
       "1   London  51.51  12.88\n",
       "2     Oslo  59.91  11.00\n",
       "3  Beijing  39.91  25.00"
      ]
     },
     "execution_count": 48,
     "metadata": {},
     "output_type": "execute_result"
    }
   ],
   "source": [
    "# create a data frame from cities, lat, and temp\n",
    "weather_dict = {\n",
    "    \"city\": cities,\n",
    "    \"lat\": lat,\n",
    "    \"temp\": temp\n",
    "}\n",
    "weather_data = pd.DataFrame(weather_dict)\n",
    "weather_data.head()"
   ]
  },
  {
   "cell_type": "code",
   "execution_count": 49,
   "metadata": {},
   "outputs": [
    {
     "data": {
      "image/png": "[encoded data removed]",
      "text/plain": [
       "<matplotlib.figure.Figure at 0x1faac7bc080>"
      ]
     },
     "metadata": {},
     "output_type": "display_data"
    }
   ],
   "source": [
    "# Build a scatter plot for each data type\n",
    "plt.scatter(weather_data[\"lat\"], weather_data[\"temp\"], marker=\"o\")\n",
    "\n",
    "# Incorporate the other graph properties\n",
    "plt.title(\"Temperature in World Cities\")\n",
    "plt.ylabel(\"Temperature (Celsius)\")\n",
    "plt.xlabel(\"Latitude\")\n",
    "plt.grid(True)\n",
    "\n",
    "# Save the figure\n",
    "plt.savefig(\"Images/TemperatureInWorldCities.png\")\n",
    "\n",
    "# Show plot\n",
    "plt.show()"
   ]
  },
  {
   "cell_type": "markdown",
   "metadata": {},
   "source": [
    "### Students Turn Activity 6 TV Ratings\n",
    "\n",
    "In this activity, you will create an application that reads in a list of TV shows, makes multiple requests from an API to retrieve rating information, creates a pandas dataframe, and a visually displays the data.\n",
    "\n",
    "## Instructions:\n",
    "\n",
    "* You may use the list provided in the starter file or create your own.\n",
    "\n",
    "* Request information from the TVmaze API's Show Search endpoint (https://www.tvmaze.com/api#show-search) on each show and store the name and rating information into lists.\n",
    "\n",
    "* Put this data into a dictionary, and load that dict into a Pandas DataFrame.\n",
    "\n",
    "* Use matplotlib to create a bar chart comparing the ratings of each show."
   ]
  },
  {
   "cell_type": "code",
   "execution_count": 68,
   "metadata": {},
   "outputs": [],
   "source": [
    "#Dependencies\n",
    "import requests\n",
    "import json\n",
    "import pandas as pd\n",
    "import numpy as np\n",
    "import matplotlib.pyplot as plt"
   ]
  },
  {
   "cell_type": "code",
   "execution_count": 69,
   "metadata": {},
   "outputs": [],
   "source": [
    "#list of tv show titles to query\n",
    "tv_shows = [\"Altered Carbon\", \"Grey's Anatomy\", \"This is Us\", \"The Flash\", \"Vikings\", \"Shameless\", \"Arrow\", \"Peaky Blinders\", \"Dirk Gently\"]\n",
    "# make iterative requests to TVmaze search endpoint\n",
    "\n",
    "# tv maze show search base url\n",
    "base_url = \"http://api.tvmaze.com/search/shows?q=\"\n",
    "\n",
    "# set up lists to hold response data for name and rating\n",
    "titles = []\n",
    "ratings = []\n",
    "#networks = []\n",
    "\n",
    "# loop through tv show titles, make requests and parse\n",
    "for show in tv_shows:\n",
    "    target_url = base_url + show\n",
    "    response = requests.get(target_url).json()\n",
    "    titles.append(response[0][\"show\"][\"name\"])\n",
    "    ratings.append(response[0][\"show\"][\"rating\"][\"average\"])\n",
    "#    networks.append(response[0][\"show\"][\"network\"])\n",
    "#print(networks)\n",
    "    "
   ]
  },
  {
   "cell_type": "code",
   "execution_count": 65,
   "metadata": {},
   "outputs": [
    {
     "name": "stdout",
     "output_type": "stream",
     "text": [
      "   rating           title\n",
      "0     8.3  Altered Carbon\n",
      "1     8.2  Grey's Anatomy\n",
      "2     8.2      This Is Us\n",
      "3     8.1       The Flash\n",
      "4     8.9         Vikings\n",
      "5     8.8       Shameless\n",
      "6     7.6           Arrow\n",
      "7     9.0  Peaky Blinders\n",
      "8     7.5     Dirk Gently\n"
     ]
    }
   ],
   "source": [
    "# create dataframe\n",
    "# CODE HERE \n",
    "shows_df = pd.DataFrame({\n",
    "    \"title\": titles,\n",
    "    \"rating\": ratings\n",
    "})\n",
    "print(shows_df)"
   ]
  },
  {
   "cell_type": "code",
   "execution_count": 71,
   "metadata": {},
   "outputs": [
    {
     "data": {
      "image/png": "[encoded data removed]",
      "text/plain": [
       "<matplotlib.figure.Figure at 0x1faac5c9a90>"
      ]
     },
     "metadata": {},
     "output_type": "display_data"
    }
   ],
   "source": [
    "# use matplotlib to create a bar chart from the dataframe\n",
    "#CODE HERE\n",
    "tick_locations = np.arange(len(shows_df))\n",
    "# create a list of numbers for x values\n",
    "plt.bar(tick_locations, shows_df[\"rating\"], align=\"center\")\n",
    "plt.xticks(tick_locations, shows_df[\"title\"], rotation=45, ha=\"right\")\n",
    "# create bar chart and set the values of xticks\n",
    "\n",
    "plt.savefig(\"Images/tv_show_ratings.png\")\n"
   ]
  },
  {
   "cell_type": "markdown",
   "metadata": {},
   "source": [
    "# Instructor Turn Activity 7 Exception Handling"
   ]
  },
  {
   "cell_type": "code",
   "execution_count": 72,
   "metadata": {},
   "outputs": [
    {
     "ename": "KeyError",
     "evalue": "'Jezebel'",
     "output_type": "error",
     "traceback": [
      "\u001b[1;31m---------------------------------------------------------------------------\u001b[0m",
      "\u001b[1;31mKeyError\u001b[0m                                  Traceback (most recent call last)",
      "\u001b[1;32m<ipython-input-72-c4b070079987>\u001b[0m in \u001b[0;36m<module>\u001b[1;34m()\u001b[0m\n\u001b[0;32m      6\u001b[0m }\n\u001b[0;32m      7\u001b[0m \u001b[1;33m\u001b[0m\u001b[0m\n\u001b[1;32m----> 8\u001b[1;33m \u001b[0mprint\u001b[0m\u001b[1;33m(\u001b[0m\u001b[0mstudents\u001b[0m\u001b[1;33m[\u001b[0m\u001b[1;34m\"Jezebel\"\u001b[0m\u001b[1;33m]\u001b[0m\u001b[1;33m)\u001b[0m\u001b[1;33m\u001b[0m\u001b[0m\n\u001b[0m\u001b[0;32m      9\u001b[0m \u001b[1;33m\u001b[0m\u001b[0m\n\u001b[0;32m     10\u001b[0m \u001b[0mprint\u001b[0m\u001b[1;33m(\u001b[0m\u001b[1;34m\"This line will never print.\"\u001b[0m\u001b[1;33m)\u001b[0m\u001b[1;33m\u001b[0m\u001b[0m\n",
      "\u001b[1;31mKeyError\u001b[0m: 'Jezebel'"
     ]
    }
   ],
   "source": [
    "students = {\n",
    "    # Name  : Age\n",
    "    \"James\": 27,\n",
    "    \"Sarah\": 19,\n",
    "    \"Jocelyn\": 28\n",
    "}\n",
    "\n",
    "print(students[\"Jezebel\"])\n",
    "\n",
    "print(\"This line will never print.\")"
   ]
  },
  {
   "cell_type": "code",
   "execution_count": 73,
   "metadata": {},
   "outputs": [
    {
     "name": "stdout",
     "output_type": "stream",
     "text": [
      "Oops, that key doesn't exist.\n",
      "...But the program doesn't die early!\n"
     ]
    }
   ],
   "source": [
    "students = {\n",
    "    # Name  : Age\n",
    "    \"James\": 27,\n",
    "    \"Sarah\": 19,\n",
    "    \"Jocelyn\": 28\n",
    "}\n",
    "\n",
    "# Try to access key that doesn't exist\n",
    "try:\n",
    "    students[\"Jezebel\"]\n",
    "except KeyError:\n",
    "    print(\"Oops, that key doesn't exist.\")\n",
    "\n",
    "# \"Catching\" the error lets the rest of our code execute\n",
    "print(\"...But the program doesn't die early!\")"
   ]
  },
  {
   "cell_type": "markdown",
   "metadata": {},
   "source": [
    "# Student Turn Activity \n",
    "## Making Exceptions\n",
    "\n",
    "### Instructions:\n",
    "\n",
    "  * Without removing any of the lines from the starter code provided, create `try` and `except` blocks that will allow the application to run without terminating."
   ]
  },
  {
   "cell_type": "code",
   "execution_count": 78,
   "metadata": {},
   "outputs": [
    {
     "ename": "ZeroDivisionError",
     "evalue": "division by zero",
     "output_type": "error",
     "traceback": [
      "\u001b[1;31m---------------------------------------------------------------------------\u001b[0m",
      "\u001b[1;31mZeroDivisionError\u001b[0m                         Traceback (most recent call last)",
      "\u001b[1;32m<ipython-input-78-14b72344bb76>\u001b[0m in \u001b[0;36m<module>\u001b[1;34m()\u001b[0m\n\u001b[0;32m      3\u001b[0m \u001b[1;31m# try/except block.\u001b[0m\u001b[1;33m\u001b[0m\u001b[1;33m\u001b[0m\u001b[0m\n\u001b[0;32m      4\u001b[0m \u001b[1;33m\u001b[0m\u001b[0m\n\u001b[1;32m----> 5\u001b[1;33m \u001b[0mprint\u001b[0m\u001b[1;33m(\u001b[0m\u001b[1;34m\"Infinity looks like + \"\u001b[0m \u001b[1;33m+\u001b[0m \u001b[0mstr\u001b[0m\u001b[1;33m(\u001b[0m\u001b[1;36m10\u001b[0m \u001b[1;33m/\u001b[0m \u001b[1;36m0\u001b[0m\u001b[1;33m)\u001b[0m \u001b[1;33m+\u001b[0m \u001b[1;34m\".\"\u001b[0m\u001b[1;33m)\u001b[0m\u001b[1;33m\u001b[0m\u001b[0m\n\u001b[0m\u001b[0;32m      6\u001b[0m \u001b[1;33m\u001b[0m\u001b[0m\n\u001b[0;32m      7\u001b[0m \u001b[0mprint\u001b[0m\u001b[1;33m(\u001b[0m\u001b[1;34m\"I think her name was + \"\u001b[0m \u001b[1;33m+\u001b[0m \u001b[0mname\u001b[0m \u001b[1;33m+\u001b[0m \u001b[1;34m\"?\"\u001b[0m\u001b[1;33m)\u001b[0m\u001b[1;33m\u001b[0m\u001b[0m\n",
      "\u001b[1;31mZeroDivisionError\u001b[0m: division by zero"
     ]
    }
   ],
   "source": [
    "# Your assignment is to get the last line to print without changing any\n",
    "# of the code below. Instead, wrap each line that throws an error in a\n",
    "# try/except block.\n",
    "\n",
    "print(\"Infinity looks like + \" + str(10 / 0) + \".\")\n",
    "\n",
    "print(\"I think her name was + \" + name + \"?\")\n",
    "\n",
    "print(\"Your name is a nonsense number. Look: \" + int(\"Gabriel\"))\n",
    "\n",
    "print(\"You made it through the gauntlet--the message survived!\")"
   ]
  },
  {
   "cell_type": "code",
   "execution_count": 74,
   "metadata": {},
   "outputs": [
    {
     "name": "stdout",
     "output_type": "stream",
     "text": [
      "Woops. Cant do that\n",
      "Oh forgot to define name\n",
      "Gabriel is not a number\n",
      "You made it through the gauntlet--the message survived!\n"
     ]
    }
   ],
   "source": [
    "# Your assignment is to get the last line to print without changing any\n",
    "# of the code below. Instead, wrap each line that throws an error in a\n",
    "# try/exept block.\n",
    "# CODE HERE \n",
    "try:\n",
    "    print(\"Infinity looks like + \" + str(10 / 0) + \".\")\n",
    "except ZeroDivisionError:\n",
    "    print(\"Woops. Cant do that\")\n",
    "    \n",
    "try:\n",
    "    print(\"I think her name was + \" + name + \"?\")\n",
    "except NameError:\n",
    "    print(\"Oh forgot to define name\")\n",
    "\n",
    "try:\n",
    "    print(\"Your name is a nonsense number. Look: \" + int(\"Gabriel\"))\n",
    "except ValueError:\n",
    "    print(\"Gabriel is not a number\")\n",
    "    \n",
    "print(\"You made it through the gauntlet--the message survived!\")\n"
   ]
  },
  {
   "cell_type": "markdown",
   "metadata": {},
   "source": [
    "# Instructor Turn Activity 9 Open Weather Wrapper"
   ]
  },
  {
   "cell_type": "code",
   "execution_count": 79,
   "metadata": {},
   "outputs": [
    {
     "name": "stdout",
     "output_type": "stream",
     "text": [
      "Requirement already satisfied: openweathermapy in c:\\users\\drew\\anaconda3\\lib\\site-packages\n"
     ]
    },
    {
     "name": "stderr",
     "output_type": "stream",
     "text": [
      "You are using pip version 9.0.1, however version 10.0.1 is available.\n",
      "You should consider upgrading via the 'python -m pip install --upgrade pip' command.\n"
     ]
    }
   ],
   "source": [
    "!pip install openweathermapy"
   ]
  },
  {
   "cell_type": "code",
   "execution_count": 80,
   "metadata": {},
   "outputs": [],
   "source": [
    "# Dependencies\n",
    "import openweathermapy.core as owm\n",
    "\n",
    "#config\n",
    "from config import api_key"
   ]
  },
  {
   "cell_type": "code",
   "execution_count": 81,
   "metadata": {},
   "outputs": [],
   "source": [
    "# Create settings dictionary with information we're interested in\n",
    "settings = {\"units\": \"metric\", \"appid\": api_key}"
   ]
  },
  {
   "cell_type": "code",
   "execution_count": 82,
   "metadata": {},
   "outputs": [
    {
     "name": "stdout",
     "output_type": "stream",
     "text": [
      "Current weather object for Paris: {'coord': {'lon': 2.35, 'lat': 48.86}, 'weather': [{'id': 701, 'main': 'Mist', 'description': 'mist', 'icon': '50n'}, {'id': 741, 'main': 'Fog', 'description': 'fog', 'icon': '50n'}], 'base': 'stations', 'main': {'temp': 12.11, 'pressure': 1016, 'humidity': 87, 'temp_min': 10, 'temp_max': 14}, 'visibility': 7000, 'wind': {'speed': 1.5, 'deg': 330}, 'clouds': {'all': 36}, 'dt': 1527217200, 'sys': {'type': 1, 'id': 5610, 'message': 0.0866, 'country': 'FR', 'sunrise': 1527220646, 'sunset': 1527277101}, 'id': 2988507, 'name': 'Paris', 'cod': 200}.\n"
     ]
    }
   ],
   "source": [
    "# Get current weather\n",
    "current_weather_paris = owm.get_current(\"Paris\", **settings)\n",
    "print(f\"Current weather object for Paris: {current_weather_paris}.\")"
   ]
  },
  {
   "cell_type": "code",
   "execution_count": 83,
   "metadata": {},
   "outputs": [
    {
     "name": "stdout",
     "output_type": "stream",
     "text": [
      "The current weather summary for Paris is: ('Paris', 12.11).\n"
     ]
    }
   ],
   "source": [
    "summary = [\"name\", \"main.temp\"]\n",
    "\n",
    "data = current_weather_paris(*summary)\n",
    "print(f\"The current weather summary for Paris is: {data}.\")"
   ]
  },
  {
   "cell_type": "markdown",
   "metadata": {},
   "source": [
    "# Students Turn Activity 10 Map Wrap\n",
    "\n",
    "This activity demonstrates the additional ease of use afforded by API wrappers.\n",
    "\n",
    "## Instructions\n",
    "\n",
    "  * Install the openweathermapy API wrapper.\n",
    "\n",
    "  * Create a settings object with your API key and preferred units of measurement.\n",
    "\n",
    "  * Get data for each city that is listed within `cities.csv`.\n",
    "\n",
    "  * Create a list to get the temperature, latitude, and longitude in each city\n",
    "\n",
    "  * Create a Pandas DataFrame with the results.\n",
    "\n",
    "  * Print your summaries to verify that everything went smoothly.\n",
    "  \n",
    "Hint: Don't forget to utilize the openweathermapy documentation where needed: http://openweathermapy.readthedocs.io/en/latest/\n",
    "\n",
    "## Bonus:\n",
    "\n",
    "  * If you finish early, read about and experiment with the `*` syntax.\n",
    "\n",
    "  * Pass a `columns` keyword argument to `pd.DataFrame`, and provide labels for the temperature and coordinate data."
   ]
  },
  {
   "cell_type": "code",
   "execution_count": 1,
   "metadata": {},
   "outputs": [],
   "source": [
    "# Dependencies\n",
    "import csv\n",
    "import matplotlib.pyplot as plt\n",
    "import openweathermapy as ow\n",
    "import pandas as pd\n",
    "\n",
    "\n",
    "# **settings syntax allows the programmer to pass as many query options as they want to the method\n",
    "\n",
    "# import api_key from config file\n",
    "from config import api_key"
   ]
  },
  {
   "cell_type": "code",
   "execution_count": null,
   "metadata": {
    "collapsed": true
   },
   "outputs": [],
   "source": [
    "# Create a settings object with your API key and preferred units\n",
    "settings = {\"units\": \"metric\", \"appid\": api_key}"
   ]
  },
  {
   "cell_type": "code",
   "execution_count": 92,
   "metadata": {},
   "outputs": [
    {
     "name": "stdout",
     "output_type": "stream",
     "text": [
      "<class '_csv.reader'>\n",
      "['Paris', 'London', 'Oslo', 'Beijing', 'Moscow', 'Vladivostok', 'Osaka', 'Honolulu', 'Montevideo', 'Erbil']\n",
      "[{'coord': {'lon': 2.35, 'lat': 48.86}, 'weather': [{'id': 701, 'main': 'Mist', 'description': 'mist', 'icon': '50n'}, {'id': 741, 'main': 'Fog', 'description': 'fog', 'icon': '50n'}], 'base': 'stations', 'main': {'temp': 12.11, 'pressure': 1016, 'humidity': 87, 'temp_min': 10, 'temp_max': 14}, 'visibility': 7000, 'wind': {'speed': 1.5, 'deg': 330}, 'clouds': {'all': 36}, 'dt': 1527217200, 'sys': {'type': 1, 'id': 5610, 'message': 0.0043, 'country': 'FR', 'sunrise': 1527220646, 'sunset': 1527277102}, 'id': 2988507, 'name': 'Paris', 'cod': 200}, {'coord': {'lon': -0.13, 'lat': 51.51}, 'weather': [{'id': 501, 'main': 'Rain', 'description': 'moderate rain', 'icon': '10n'}, {'id': 701, 'main': 'Mist', 'description': 'mist', 'icon': '50n'}], 'base': 'stations', 'main': {'temp': 12.87, 'pressure': 1017, 'humidity': 87, 'temp_min': 12, 'temp_max': 14}, 'visibility': 8000, 'wind': {'speed': 2.1, 'deg': 300}, 'clouds': {'all': 56}, 'dt': 1527218400, 'sys': {'type': 1, 'id': 5091, 'message': 0.0057, 'country': 'GB', 'sunrise': 1527220540, 'sunset': 1527278405}, 'id': 2643743, 'name': 'London', 'cod': 200}, {'coord': {'lon': 10.74, 'lat': 59.91}, 'weather': [{'id': 800, 'main': 'Clear', 'description': 'clear sky', 'icon': '01d'}], 'base': 'stations', 'main': {'temp': 11, 'pressure': 1027, 'humidity': 87, 'temp_min': 11, 'temp_max': 11}, 'wind': {'speed': 1.21, 'deg': 143.5}, 'clouds': {'all': 0}, 'dt': 1527218400, 'sys': {'type': 1, 'id': 5325, 'message': 0.003, 'country': 'NO', 'sunrise': 1527214735, 'sunset': 1527279032}, 'id': 3143244, 'name': 'Oslo', 'cod': 200}, {'coord': {'lon': 116.39, 'lat': 39.91}, 'weather': [{'id': 800, 'main': 'Clear', 'description': 'clear sky', 'icon': '01d'}], 'base': 'stations', 'main': {'temp': 27, 'pressure': 1003, 'humidity': 47, 'temp_min': 27, 'temp_max': 27}, 'visibility': 10000, 'wind': {'speed': 2, 'deg': 160}, 'clouds': {'all': 0}, 'dt': 1527217200, 'sys': {'type': 1, 'id': 7405, 'message': 0.0038, 'country': 'CN', 'sunrise': 1527195113, 'sunset': 1527247877}, 'id': 1816670, 'name': 'Beijing', 'cod': 200}, {'coord': {'lon': 37.62, 'lat': 55.75}, 'weather': [{'id': 803, 'main': 'Clouds', 'description': 'broken clouds', 'icon': '04d'}], 'base': 'stations', 'main': {'temp': 13.25, 'pressure': 1024, 'humidity': 76, 'temp_min': 13, 'temp_max': 14}, 'visibility': 10000, 'wind': {'speed': 4, 'deg': 60}, 'clouds': {'all': 75}, 'dt': 1527217200, 'sys': {'type': 1, 'id': 7325, 'message': 0.0039, 'country': 'RU', 'sunrise': 1527210115, 'sunset': 1527270723}, 'id': 524901, 'name': 'Moscow', 'cod': 200}, {'coord': {'lon': 131.89, 'lat': 43.12}, 'weather': [{'id': 801, 'main': 'Clouds', 'description': 'few clouds', 'icon': '02d'}], 'base': 'stations', 'main': {'temp': 17, 'pressure': 1004, 'humidity': 48, 'temp_min': 17, 'temp_max': 17}, 'visibility': 10000, 'wind': {'speed': 3, 'deg': 360}, 'clouds': {'all': 24}, 'dt': 1527217200, 'sys': {'type': 1, 'id': 7251, 'message': 0.0086, 'country': 'RU', 'sunrise': 1527190817, 'sunset': 1527244737}, 'id': 2013348, 'name': 'Vladivostok', 'cod': 200}, {'coord': {'lon': 135.5, 'lat': 34.7}, 'weather': [{'id': 800, 'main': 'Clear', 'description': 'clear sky', 'icon': '01d'}], 'base': 'stations', 'main': {'temp': 25.7, 'pressure': 1008, 'humidity': 26, 'temp_min': 23, 'temp_max': 28}, 'visibility': 10000, 'wind': {'speed': 3.1, 'deg': 220}, 'clouds': {'all': 0}, 'dt': 1527217200, 'sys': {'type': 1, 'id': 7583, 'message': 0.0039, 'country': 'JP', 'sunrise': 1527191343, 'sunset': 1527242468}, 'id': 1853909, 'name': 'Osaka', 'cod': 200}, {'coord': {'lon': -157.86, 'lat': 21.3}, 'weather': [{'id': 803, 'main': 'Clouds', 'description': 'broken clouds', 'icon': '04n'}], 'base': 'stations', 'main': {'temp': 26.32, 'pressure': 1019, 'humidity': 78, 'temp_min': 23, 'temp_max': 28}, 'visibility': 16093, 'wind': {'speed': 2.1, 'deg': 30}, 'clouds': {'all': 75}, 'dt': 1527219240, 'sys': {'type': 1, 'id': 840, 'message': 0.0037, 'country': 'US', 'sunrise': 1527263401, 'sunset': 1527311222}, 'id': 5856195, 'name': 'Honolulu', 'cod': 200}, {'coord': {'lon': -95.72, 'lat': 44.94}, 'weather': [{'id': 800, 'main': 'Clear', 'description': 'clear sky', 'icon': '01n'}], 'base': 'stations', 'main': {'temp': 24.09, 'pressure': 1010, 'humidity': 69, 'temp_min': 21, 'temp_max': 27}, 'visibility': 16093, 'wind': {'speed': 3.1, 'deg': 260}, 'clouds': {'all': 1}, 'dt': 1527219300, 'sys': {'type': 1, 'id': 1543, 'message': 0.004, 'country': 'US', 'sunrise': 1527245052, 'sunset': 1527299765}, 'id': 5038018, 'name': 'Montevideo', 'cod': 200}, {'coord': {'lon': 44.01, 'lat': 36.19}, 'weather': [{'id': 801, 'main': 'Clouds', 'description': 'few clouds', 'icon': '02d'}], 'base': 'stations', 'main': {'temp': 20, 'pressure': 1008, 'humidity': 60, 'temp_min': 20, 'temp_max': 20}, 'visibility': 9000, 'wind': {'speed': 2.1, 'deg': 310}, 'clouds': {'all': 20}, 'dt': 1527217200, 'sys': {'type': 1, 'id': 7161, 'message': 0.0091, 'country': 'IQ', 'sunrise': 1527213073, 'sunset': 1527264658}, 'id': 95446, 'name': 'Erbil', 'cod': 200}]\n"
     ]
    }
   ],
   "source": [
    "# Get data for each city in cities.csv\n",
    "weather_data = []\n",
    "with open(\"Resources/cities.csv\") as cities_file:\n",
    "    cities_reader = csv.reader(cities_file)\n",
    "    print(type(cities_reader))\n",
    "    cities = [city[0] for city in cities_reader]\n",
    "    print(cities)\n",
    "    weather_data = [ow.get_current(city, **settings) for city in cities]\n",
    "    print(weather_data)"
   ]
  },
  {
   "cell_type": "code",
   "execution_count": 86,
   "metadata": {},
   "outputs": [
    {
     "data": {
      "text/plain": [
       "[{'base': 'stations',\n",
       "  'clouds': {'all': 36},\n",
       "  'cod': 200,\n",
       "  'coord': {'lat': 48.86, 'lon': 2.35},\n",
       "  'dt': 1527217200,\n",
       "  'id': 2988507,\n",
       "  'main': {'humidity': 87,\n",
       "   'pressure': 1016,\n",
       "   'temp': 12.11,\n",
       "   'temp_max': 14,\n",
       "   'temp_min': 10},\n",
       "  'name': 'Paris',\n",
       "  'sys': {'country': 'FR',\n",
       "   'id': 5610,\n",
       "   'message': 0.0039,\n",
       "   'sunrise': 1527220646,\n",
       "   'sunset': 1527277101,\n",
       "   'type': 1},\n",
       "  'visibility': 7000,\n",
       "  'weather': [{'description': 'mist',\n",
       "    'icon': '50n',\n",
       "    'id': 701,\n",
       "    'main': 'Mist'},\n",
       "   {'description': 'fog', 'icon': '50n', 'id': 741, 'main': 'Fog'}],\n",
       "  'wind': {'deg': 330, 'speed': 1.5}},\n",
       " {'base': 'stations',\n",
       "  'clouds': {'all': 90},\n",
       "  'cod': 200,\n",
       "  'coord': {'lat': 51.51, 'lon': -0.13},\n",
       "  'dt': 1527216600,\n",
       "  'id': 2643743,\n",
       "  'main': {'humidity': 87,\n",
       "   'pressure': 1017,\n",
       "   'temp': 12.87,\n",
       "   'temp_max': 14,\n",
       "   'temp_min': 12},\n",
       "  'name': 'London',\n",
       "  'sys': {'country': 'GB',\n",
       "   'id': 5091,\n",
       "   'message': 0.0054,\n",
       "   'sunrise': 1527220540,\n",
       "   'sunset': 1527278404,\n",
       "   'type': 1},\n",
       "  'visibility': 8000,\n",
       "  'weather': [{'description': 'light rain',\n",
       "    'icon': '10n',\n",
       "    'id': 500,\n",
       "    'main': 'Rain'},\n",
       "   {'description': 'mist', 'icon': '50n', 'id': 701, 'main': 'Mist'},\n",
       "   {'description': 'light intensity drizzle rain',\n",
       "    'icon': '09n',\n",
       "    'id': 310,\n",
       "    'main': 'Drizzle'}],\n",
       "  'wind': {'deg': 310, 'speed': 2.6}},\n",
       " {'base': 'stations',\n",
       "  'clouds': {'all': 0},\n",
       "  'cod': 200,\n",
       "  'coord': {'lat': 59.91, 'lon': 10.74},\n",
       "  'dt': 1527216600,\n",
       "  'id': 3143244,\n",
       "  'main': {'humidity': 93,\n",
       "   'pressure': 1027,\n",
       "   'temp': 11,\n",
       "   'temp_max': 11,\n",
       "   'temp_min': 11},\n",
       "  'name': 'Oslo',\n",
       "  'sys': {'country': 'NO',\n",
       "   'id': 5325,\n",
       "   'message': 0.0031,\n",
       "   'sunrise': 1527214735,\n",
       "   'sunset': 1527279031,\n",
       "   'type': 1},\n",
       "  'weather': [{'description': 'clear sky',\n",
       "    'icon': '01d',\n",
       "    'id': 800,\n",
       "    'main': 'Clear'}],\n",
       "  'wind': {'deg': 90, 'speed': 1.5}},\n",
       " {'base': 'stations',\n",
       "  'clouds': {'all': 0},\n",
       "  'cod': 200,\n",
       "  'coord': {'lat': 39.91, 'lon': 116.39},\n",
       "  'dt': 1527217200,\n",
       "  'id': 1816670,\n",
       "  'main': {'humidity': 47,\n",
       "   'pressure': 1003,\n",
       "   'temp': 27,\n",
       "   'temp_max': 27,\n",
       "   'temp_min': 27},\n",
       "  'name': 'Beijing',\n",
       "  'sys': {'country': 'CN',\n",
       "   'id': 7405,\n",
       "   'message': 0.0033,\n",
       "   'sunrise': 1527195113,\n",
       "   'sunset': 1527247877,\n",
       "   'type': 1},\n",
       "  'visibility': 10000,\n",
       "  'weather': [{'description': 'clear sky',\n",
       "    'icon': '01d',\n",
       "    'id': 800,\n",
       "    'main': 'Clear'}],\n",
       "  'wind': {'deg': 160, 'speed': 2}},\n",
       " {'base': 'stations',\n",
       "  'clouds': {'all': 75},\n",
       "  'cod': 200,\n",
       "  'coord': {'lat': 55.75, 'lon': 37.62},\n",
       "  'dt': 1527217200,\n",
       "  'id': 524901,\n",
       "  'main': {'humidity': 76,\n",
       "   'pressure': 1024,\n",
       "   'temp': 13.25,\n",
       "   'temp_max': 14,\n",
       "   'temp_min': 13},\n",
       "  'name': 'Moscow',\n",
       "  'sys': {'country': 'RU',\n",
       "   'id': 7325,\n",
       "   'message': 0.0035,\n",
       "   'sunrise': 1527210116,\n",
       "   'sunset': 1527270722,\n",
       "   'type': 1},\n",
       "  'visibility': 10000,\n",
       "  'weather': [{'description': 'broken clouds',\n",
       "    'icon': '04d',\n",
       "    'id': 803,\n",
       "    'main': 'Clouds'}],\n",
       "  'wind': {'deg': 60, 'speed': 4}},\n",
       " {'base': 'stations',\n",
       "  'clouds': {'all': 24},\n",
       "  'cod': 200,\n",
       "  'coord': {'lat': 43.12, 'lon': 131.89},\n",
       "  'dt': 1527217200,\n",
       "  'id': 2013348,\n",
       "  'main': {'humidity': 48,\n",
       "   'pressure': 1004,\n",
       "   'temp': 17,\n",
       "   'temp_max': 17,\n",
       "   'temp_min': 17},\n",
       "  'name': 'Vladivostok',\n",
       "  'sys': {'country': 'RU',\n",
       "   'id': 7251,\n",
       "   'message': 0.0034,\n",
       "   'sunrise': 1527190817,\n",
       "   'sunset': 1527244737,\n",
       "   'type': 1},\n",
       "  'visibility': 10000,\n",
       "  'weather': [{'description': 'few clouds',\n",
       "    'icon': '02d',\n",
       "    'id': 801,\n",
       "    'main': 'Clouds'}],\n",
       "  'wind': {'deg': 360, 'speed': 3}},\n",
       " {'base': 'stations',\n",
       "  'clouds': {'all': 0},\n",
       "  'cod': 200,\n",
       "  'coord': {'lat': 34.7, 'lon': 135.5},\n",
       "  'dt': 1527217200,\n",
       "  'id': 1853909,\n",
       "  'main': {'humidity': 26,\n",
       "   'pressure': 1008,\n",
       "   'temp': 25.71,\n",
       "   'temp_max': 28,\n",
       "   'temp_min': 23},\n",
       "  'name': 'Osaka',\n",
       "  'sys': {'country': 'JP',\n",
       "   'id': 7583,\n",
       "   'message': 0.0035,\n",
       "   'sunrise': 1527191343,\n",
       "   'sunset': 1527242467,\n",
       "   'type': 1},\n",
       "  'visibility': 10000,\n",
       "  'weather': [{'description': 'clear sky',\n",
       "    'icon': '01d',\n",
       "    'id': 800,\n",
       "    'main': 'Clear'}],\n",
       "  'wind': {'deg': 220, 'speed': 3.1}},\n",
       " {'base': 'stations',\n",
       "  'clouds': {'all': 20},\n",
       "  'cod': 200,\n",
       "  'coord': {'lat': 21.3, 'lon': -157.86},\n",
       "  'dt': 1527217800,\n",
       "  'id': 5856195,\n",
       "  'main': {'humidity': 74,\n",
       "   'pressure': 1018,\n",
       "   'temp': 26.51,\n",
       "   'temp_max': 28,\n",
       "   'temp_min': 24},\n",
       "  'name': 'Honolulu',\n",
       "  'sys': {'country': 'US',\n",
       "   'id': 828,\n",
       "   'message': 0.0036,\n",
       "   'sunrise': 1527263401,\n",
       "   'sunset': 1527311222,\n",
       "   'type': 1},\n",
       "  'visibility': 16093,\n",
       "  'weather': [{'description': 'light intensity drizzle',\n",
       "    'icon': '09n',\n",
       "    'id': 300,\n",
       "    'main': 'Drizzle'}],\n",
       "  'wind': {'deg': 70, 'gust': 10.3, 'speed': 6.7}},\n",
       " {'base': 'stations',\n",
       "  'clouds': {'all': 1},\n",
       "  'cod': 200,\n",
       "  'coord': {'lat': 44.94, 'lon': -95.72},\n",
       "  'dt': 1527218100,\n",
       "  'id': 5038018,\n",
       "  'main': {'humidity': 69,\n",
       "   'pressure': 1010,\n",
       "   'temp': 24.41,\n",
       "   'temp_max': 27,\n",
       "   'temp_min': 21},\n",
       "  'name': 'Montevideo',\n",
       "  'sys': {'country': 'US',\n",
       "   'id': 1543,\n",
       "   'message': 0.0058,\n",
       "   'sunrise': 1527245053,\n",
       "   'sunset': 1527299764,\n",
       "   'type': 1},\n",
       "  'visibility': 16093,\n",
       "  'weather': [{'description': 'clear sky',\n",
       "    'icon': '01n',\n",
       "    'id': 800,\n",
       "    'main': 'Clear'}],\n",
       "  'wind': {'deg': 230, 'speed': 2.6}},\n",
       " {'base': 'stations',\n",
       "  'clouds': {'all': 20},\n",
       "  'cod': 200,\n",
       "  'coord': {'lat': 36.19, 'lon': 44.01},\n",
       "  'dt': 1527217200,\n",
       "  'id': 95446,\n",
       "  'main': {'humidity': 60,\n",
       "   'pressure': 1008,\n",
       "   'temp': 20,\n",
       "   'temp_max': 20,\n",
       "   'temp_min': 20},\n",
       "  'name': 'Erbil',\n",
       "  'sys': {'country': 'IQ',\n",
       "   'id': 7161,\n",
       "   'message': 0.0045,\n",
       "   'sunrise': 1527213073,\n",
       "   'sunset': 1527264658,\n",
       "   'type': 1},\n",
       "  'visibility': 9000,\n",
       "  'weather': [{'description': 'few clouds',\n",
       "    'icon': '02d',\n",
       "    'id': 801,\n",
       "    'main': 'Clouds'}],\n",
       "  'wind': {'deg': 310, 'speed': 2.1}}]"
      ]
     },
     "execution_count": 86,
     "metadata": {},
     "output_type": "execute_result"
    }
   ],
   "source": [
    "# Create an \"extracts\" object to get the temperature, latitude,\n",
    "# and longitude in each city\n",
    "summary = [\"main.temp\", \"coord.lat\", \"coord.lon\"]\n",
    "# Create a Pandas DataFrame with the results\n",
    "data = [response(*summary) for response in weather_data]\n",
    "weather_data\n"
   ]
  },
  {
   "cell_type": "code",
   "execution_count": 87,
   "metadata": {},
   "outputs": [
    {
     "data": {
      "text/html": [
       "<div>\n",
       "<style scoped>\n",
       "    .dataframe tbody tr th:only-of-type {\n",
       "        vertical-align: middle;\n",
       "    }\n",
       "\n",
       "    .dataframe tbody tr th {\n",
       "        vertical-align: top;\n",
       "    }\n",
       "\n",
       "    .dataframe thead th {\n",
       "        text-align: right;\n",
       "    }\n",
       "</style>\n",
       "<table border=\"1\" class=\"dataframe\">\n",
       "  <thead>\n",
       "    <tr style=\"text-align: right;\">\n",
       "      <th></th>\n",
       "      <th>Temperature</th>\n",
       "      <th>Latitude</th>\n",
       "      <th>Longitude</th>\n",
       "    </tr>\n",
       "  </thead>\n",
       "  <tbody>\n",
       "    <tr>\n",
       "      <th>Paris</th>\n",
       "      <td>12.11</td>\n",
       "      <td>48.86</td>\n",
       "      <td>2.35</td>\n",
       "    </tr>\n",
       "    <tr>\n",
       "      <th>London</th>\n",
       "      <td>12.87</td>\n",
       "      <td>51.51</td>\n",
       "      <td>-0.13</td>\n",
       "    </tr>\n",
       "    <tr>\n",
       "      <th>Oslo</th>\n",
       "      <td>11.00</td>\n",
       "      <td>59.91</td>\n",
       "      <td>10.74</td>\n",
       "    </tr>\n",
       "    <tr>\n",
       "      <th>Beijing</th>\n",
       "      <td>27.00</td>\n",
       "      <td>39.91</td>\n",
       "      <td>116.39</td>\n",
       "    </tr>\n",
       "    <tr>\n",
       "      <th>Moscow</th>\n",
       "      <td>13.25</td>\n",
       "      <td>55.75</td>\n",
       "      <td>37.62</td>\n",
       "    </tr>\n",
       "    <tr>\n",
       "      <th>Vladivostok</th>\n",
       "      <td>17.00</td>\n",
       "      <td>43.12</td>\n",
       "      <td>131.89</td>\n",
       "    </tr>\n",
       "    <tr>\n",
       "      <th>Osaka</th>\n",
       "      <td>25.71</td>\n",
       "      <td>34.70</td>\n",
       "      <td>135.50</td>\n",
       "    </tr>\n",
       "    <tr>\n",
       "      <th>Honolulu</th>\n",
       "      <td>26.51</td>\n",
       "      <td>21.30</td>\n",
       "      <td>-157.86</td>\n",
       "    </tr>\n",
       "    <tr>\n",
       "      <th>Montevideo</th>\n",
       "      <td>24.41</td>\n",
       "      <td>44.94</td>\n",
       "      <td>-95.72</td>\n",
       "    </tr>\n",
       "    <tr>\n",
       "      <th>Erbil</th>\n",
       "      <td>20.00</td>\n",
       "      <td>36.19</td>\n",
       "      <td>44.01</td>\n",
       "    </tr>\n",
       "  </tbody>\n",
       "</table>\n",
       "</div>"
      ],
      "text/plain": [
       "             Temperature  Latitude  Longitude\n",
       "Paris              12.11     48.86       2.35\n",
       "London             12.87     51.51      -0.13\n",
       "Oslo               11.00     59.91      10.74\n",
       "Beijing            27.00     39.91     116.39\n",
       "Moscow             13.25     55.75      37.62\n",
       "Vladivostok        17.00     43.12     131.89\n",
       "Osaka              25.71     34.70     135.50\n",
       "Honolulu           26.51     21.30    -157.86\n",
       "Montevideo         24.41     44.94     -95.72\n",
       "Erbil              20.00     36.19      44.01"
      ]
     },
     "execution_count": 87,
     "metadata": {},
     "output_type": "execute_result"
    }
   ],
   "source": [
    "# BONUS:\n",
    "column_names = [\"Temperature\", \"Latitude\", \"Longitude\"]\n",
    "weather_data = pd.DataFrame(data, index=cities, columns=column_names)\n",
    "weather_data"
   ]
  },
  {
   "cell_type": "markdown",
   "metadata": {},
   "source": [
    "# Instructor Turn Activity 11 World Bank"
   ]
  },
  {
   "cell_type": "code",
   "execution_count": 88,
   "metadata": {},
   "outputs": [],
   "source": [
    "# Dependencies\n",
    "import requests\n",
    "\n",
    "url = \"http://api.worldbank.org/v2/\"\n",
    "format = \"json\"\n",
    "\n",
    "# Get country information in JSON format\n",
    "countries_response = requests.get(f\"{url}countries?format={format}\").json()\n",
    "\n",
    "# First element is general information, second is countries themselves\n",
    "countries = countries_response[1]"
   ]
  },
  {
   "cell_type": "code",
   "execution_count": 89,
   "metadata": {},
   "outputs": [
    {
     "name": "stdout",
     "output_type": "stream",
     "text": [
      "Aruba\n",
      "Afghanistan\n",
      "Africa\n",
      "Angola\n",
      "Albania\n",
      "Andorra\n",
      "Andean Region\n",
      "Arab World\n",
      "United Arab Emirates\n",
      "Argentina\n",
      "Armenia\n",
      "American Samoa\n",
      "Antigua and Barbuda\n",
      "Australia\n",
      "Austria\n",
      "Azerbaijan\n",
      "Burundi\n",
      "East Asia & Pacific (IBRD-only countries)\n",
      "Europe & Central Asia (IBRD-only countries)\n",
      "Belgium\n",
      "Benin\n",
      "Burkina Faso\n",
      "Bangladesh\n",
      "Bulgaria\n",
      "IBRD countries classified as high income\n",
      "Bahrain\n",
      "Bahamas, The\n",
      "Bosnia and Herzegovina\n",
      "Latin America & the Caribbean (IBRD-only countries)\n",
      "Belarus\n",
      "Belize\n",
      "Middle East & North Africa (IBRD-only countries)\n",
      "Bermuda\n",
      "Bolivia\n",
      "Brazil\n",
      "Barbados\n",
      "Brunei Darussalam\n",
      "Sub-Saharan Africa (IBRD-only countries)\n",
      "Bhutan\n",
      "Botswana\n",
      "Sub-Saharan Africa (IFC classification)\n",
      "Central African Republic\n",
      "Canada\n",
      "East Asia and the Pacific (IFC classification)\n",
      "Central Europe and the Baltics\n",
      "Europe and Central Asia (IFC classification)\n",
      "Switzerland\n",
      "Channel Islands\n",
      "Chile\n",
      "China\n"
     ]
    }
   ],
   "source": [
    "# Report the names\n",
    "for country in countries:\n",
    "    print(country[\"name\"])"
   ]
  },
  {
   "cell_type": "markdown",
   "metadata": {},
   "source": [
    "# Students Turn Activity 12 Lending Types\n",
    "\n",
    "This activity provides an opportunity to practice making two API calls in sequence in which the second API call depends on the response of the first.\n",
    "\n",
    "## Instructions\n",
    "\n",
    "* Retrieve a list of the lending types the world bank keeps track of, and extract the ID key from each of them.\n",
    "\n",
    "* Next, determine how many countries are categorized under each lending type. Use a dict to store this information. \n",
    "\n",
    "  * This data is stored as the first element of the response array.\n",
    "\n",
    "* Finally, print the number of countries of each lending type."
   ]
  },
  {
   "cell_type": "code",
   "execution_count": 101,
   "metadata": {},
   "outputs": [],
   "source": [
    "# Dependencies\n",
    "import requests\n",
    "\n",
    "url = \"http://api.worldbank.org/v2/\""
   ]
  },
  {
   "cell_type": "code",
   "execution_count": 102,
   "metadata": {},
   "outputs": [],
   "source": [
    "# Get the list of lending types the world bank has\n",
    "# CODE HERE \n",
    "lending_response = requests.get(f\"{url}lendingTypes?format=json\").json\n",
    "\n",
    "lending_types = [ lending_type[\"id\"] for lending_type in lending_response[1] ]"
   ]
  },
  {
   "cell_type": "code",
   "execution_count": 107,
   "metadata": {},
   "outputs": [
    {
     "name": "stdout",
     "output_type": "stream",
     "text": [
      "http://api.worldbank.org/v2/countries?lendingType=IBD&format=json\n",
      "http://api.worldbank.org/v2/countries?lendingType=IDB&format=json\n",
      "http://api.worldbank.org/v2/countries?lendingType=IDX&format=json\n",
      "http://api.worldbank.org/v2/countries?lendingType=LNX&format=json\n",
      "{'IBD': 69, 'IDB': 16, 'IDX': 59, 'LNX': 74}\n"
     ]
    }
   ],
   "source": [
    "# Next, determine how many countries fall into each lending type.\n",
    "# Hint: Look at the first element of the response array.\n",
    "# CODE HERE\n",
    "country_count_by_type = {}\n",
    "for lending_type in lending_types:\n",
    "    query = f\"{url}countries?lendingType={lending_type}&format=json\"\n",
    "    print(query)\n",
    "    response = requests.get(query).json()\n",
    "    country_count_by_type[lending_type] = response[0][\"total\"]\n",
    "print(country_count_by_type)\n",
    "\n"
   ]
  },
  {
   "cell_type": "code",
   "execution_count": 106,
   "metadata": {},
   "outputs": [
    {
     "name": "stdout",
     "output_type": "stream",
     "text": [
      "dict_items([('IBD', 69), ('IDB', 16), ('IDX', 59), ('LNX', 74)])\n",
      "The number of countries with lending type IBD is 69.\n",
      "The number of countries with lending type IDB is 16.\n",
      "The number of countries with lending type IDX is 59.\n",
      "The number of countries with lending type LNX is 74.\n"
     ]
    }
   ],
   "source": [
    "# Print the number of countries of each lending type\n",
    "# CODE HERE\n",
    "print(country_count_by_type.items())\n",
    "for key, value in country_count_by_type.items():\n",
    "    print(f\"The number of countries with lending type {key} is {value}.\")"
   ]
  },
  {
   "cell_type": "markdown",
   "metadata": {},
   "source": [
    "# Instructor Turn 13 Activity CityPy"
   ]
  },
  {
   "cell_type": "code",
   "execution_count": 99,
   "metadata": {},
   "outputs": [
    {
     "name": "stdout",
     "output_type": "stream",
     "text": [
      "Requirement already satisfied: citipy in c:\\users\\drew\\anaconda3\\lib\\site-packages\n",
      "Requirement already satisfied: kdtree>=0.12 in c:\\users\\drew\\anaconda3\\lib\\site-packages (from citipy)\n"
     ]
    },
    {
     "name": "stderr",
     "output_type": "stream",
     "text": [
      "You are using pip version 9.0.1, however version 10.0.1 is available.\n",
      "You should consider upgrading via the 'python -m pip install --upgrade pip' command.\n"
     ]
    }
   ],
   "source": [
    "!pip install citipy"
   ]
  },
  {
   "cell_type": "code",
   "execution_count": 108,
   "metadata": {},
   "outputs": [],
   "source": [
    "# Dependencies\n",
    "from citipy import citipy"
   ]
  },
  {
   "cell_type": "code",
   "execution_count": 115,
   "metadata": {},
   "outputs": [],
   "source": [
    "# Some random coordinates\n",
    "coordinates = [(100, 150), (23, 200), (42, 100)]"
   ]
  },
  {
   "cell_type": "code",
   "execution_count": 116,
   "metadata": {},
   "outputs": [],
   "source": [
    "cities = []\n",
    "for coordinate_pair in coordinates:\n",
    "    lat, lon = coordinate_pair\n",
    "    cities.append(citipy.nearest_city(lat, lon))"
   ]
  },
  {
   "cell_type": "code",
   "execution_count": 117,
   "metadata": {},
   "outputs": [
    {
     "name": "stdout",
     "output_type": "stream",
     "text": [
      "The country code of chokurdakh is 'ru'.\n",
      "The country code of butaritari is 'ki'.\n",
      "The country code of jiuquan is 'cn'.\n"
     ]
    }
   ],
   "source": [
    "for city in cities:\n",
    "    country_code = city.country_code\n",
    "    name = city.city_name\n",
    "    print(f\"The country code of {name} is '{country_code}'.\")"
   ]
  },
  {
   "cell_type": "code",
   "execution_count": null,
   "metadata": {
    "collapsed": true
   },
   "outputs": [],
   "source": []
  }
 ],
 "metadata": {
  "kernelspec": {
   "display_name": "Python 3",
   "language": "python",
   "name": "python3"
  },
  "language_info": {
   "codemirror_mode": {
    "name": "ipython",
    "version": 3
   },
   "file_extension": ".py",
   "mimetype": "text/x-python",
   "name": "python",
   "nbconvert_exporter": "python",
   "pygments_lexer": "ipython3",
   "version": "3.6.4"
  }
 },
 "nbformat": 4,
 "nbformat_minor": 2
}
