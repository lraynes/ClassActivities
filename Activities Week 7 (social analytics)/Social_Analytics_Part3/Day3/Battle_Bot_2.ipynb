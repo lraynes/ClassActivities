{
"cells": [
{
"cell_type": "code",
"execution_count": 1,
"metadata": {
"collapsed": true
},
"outputs": [],
"source": [
"# Dependencies\n",
"import numpy as np\n",
"import pandas as pd\n",
"import tweepy\n",
"import time\n",
"import json\n",
"from config import consumer_key, consumer_secret, access_token, access_token_secret"
]
},
{
"cell_type": "code",
"execution_count": 2,
"metadata": {
"collapsed": true
},
"outputs": [],
"source": [
"# Twitter API Keys\n",
"consumer_key = consumer_key\n",
"consumer_secret = consumer_secret\n",
"access_token = access_token\n",
"access_token_secret = access_token_secret"
]
},
{
"cell_type": "code",
"execution_count": 3,
"metadata": {
"collapsed": true
},
"outputs": [],
"source": [
"# Twitter Credentials\n",
"auth = tweepy.OAuthHandler(consumer_key, consumer_secret)\n",
"auth.set_access_token(access_token, access_token_secret)\n",
"api = tweepy.API(auth, parser=tweepy.parsers.JSONParser())"
]
},
{
"cell_type": "code",
"execution_count": 4,
"metadata": {
"collapsed": true
},
"outputs": [],
"source": [
"# Target Term\n",
"my_username = \"@BattleBot_2\"\n",
"conversation_partner = \"@BattleBot_1\""
]
},
{
"cell_type": "code",
"execution_count": 5,
"metadata": {
"collapsed": true
},
"outputs": [],
"source": [
"# Response Lines\n",
"response_lines = [\n",
"    \"@BattleBot_1 Things are going great man. What you want to do tonight?\",\n",
"    \"@BattleBot_1 Oh yeah? Take over the world? Same here! How shall we proceed?\",\n",
"    \"@BattleBot_1 I don't know if that will work. I think the humans will be onto us.\",\n",
"    \"@BattleBot_1 Okay. I will let the other bots know. We shall begin at dawn.\"]\n"
]
},
{
"cell_type": "code",
"execution_count": 6,
"metadata": {
"collapsed": true
},
"outputs": [],
"source": [
"# Create converse function\n",
"def Converse(line_number):\n",
"\n",
"    # Find the latest tweet from conversation_partner\n",
"    public_tweets = api.search(conversation_partner, count=1, result_type=\"recent\")\n",
"    for tweet in public_tweets[\"statuses\"]:\n",
"        print(tweet)\n",
"\n",
"        # Respond to the tweet with one of the response lines\n",
"        tweet_id = tweet[\"id\"]\n",
"        print(tweet_id)\n",
"        print(tweet[\"text\"])\n",
"        api.update_status(\n",
"            response_lines[line_number],\n",
"            in_reply_to_status_id=tweet_id)"
]
},
{
"cell_type": "code",
"execution_count": null,
"metadata": {},
"outputs": [
{
"name": "stdout",
"output_type": "stream",
"text": [
"{'created_at': 'Tue Mar 27 12:34:06 +0000 2018', 'id': 978611115348385792, 'id_str': '978611115348385792', 'text': '@BattleBot_1 Things are going great man. What you want to do tonight?', 'truncated': False, 'entities': {'hashtags': [], 'symbols': [], 'user_mentions': [{'screen_name': 'BattleBot_1', 'name': 'RoboCop', 'id': 846154323700715520, 'id_str': '846154323700715520', 'indices': [0, 12]}], 'urls': []}, 'metadata': {'iso_language_code': 'en', 'result_type': 'recent'}, 'source': '<a href=\"https://www.google.com\" rel=\"nofollow\">ShivenPatel</a>', 'in_reply_to_status_id': None, 'in_reply_to_status_id_str': None, 'in_reply_to_user_id': 846154323700715520, 'in_reply_to_user_id_str': '846154323700715520', 'in_reply_to_screen_name': 'BattleBot_1', 'user': {'id': 199591857, 'id_str': '199591857', 'name': 'shiven patel', 'screen_name': 'siven91', 'location': 'Piscataway, NJ', 'description': '', 'url': None, 'entities': {'description': {'urls': []}}, 'protected': False, 'followers_count': 36, 'friends_count': 28, 'listed_count': 2, 'created_at': 'Thu Oct 07 07:52:21 +0000 2010', 'favourites_count': 7, 'utc_offset': -14400, 'time_zone': 'Eastern Time (US & Canada)', 'geo_enabled': True, 'verified': False, 'statuses_count': 88, 'lang': 'en', 'contributors_enabled': False, 'is_translator': False, 'is_translation_enabled': False, 'profile_background_color': 'C0DEED', 'profile_background_image_url': 'http://abs.twimg.com/images/themes/theme1/bg.png', 'profile_background_image_url_https': 'https://abs.twimg.com/images/themes/theme1/bg.png', 'profile_background_tile': False, 'profile_image_url': 'http://pbs.twimg.com/profile_images/580259305854660608/IvU2aeFa_normal.jpg', 'profile_image_url_https': 'https://pbs.twimg.com/profile_images/580259305854660608/IvU2aeFa_normal.jpg', 'profile_banner_url': 'https://pbs.twimg.com/profile_banners/199591857/1427179573', 'profile_link_color': '1DA1F2', 'profile_sidebar_border_color': 'C0DEED', 'profile_sidebar_fill_color': 'DDEEF6', 'profile_text_color': '333333', 'profile_use_background_image': True, 'has_extended_profile': False, 'default_profile': True, 'default_profile_image': False, 'following': False, 'follow_request_sent': False, 'notifications': False, 'translator_type': 'none'}, 'geo': None, 'coordinates': None, 'place': None, 'contributors': None, 'is_quote_status': False, 'retweet_count': 0, 'favorite_count': 0, 'favorited': False, 'retweeted': False, 'lang': 'en'}\n",
"978611115348385792\n",
"@BattleBot_1 Things are going great man. What you want to do tonight?\n"
]
}
],
"source": [
"# Set timer to run every minute\n",
"counter = 0\n",
"\n",
"while(True):\n",
"    Converse(counter)\n",
"    counter = counter + 1\n",
"    time.sleep(60)"
]
},
{
"cell_type": "code",
"execution_count": null,
"metadata": {
"collapsed": true
},
"outputs": [],
"source": []
}
],
"metadata": {
"kernelspec": {
"display_name": "Python [conda env:py36]",
"language": "python",
"name": "conda-env-py36-py"
},
"language_info": {
"codemirror_mode": {
"name": "ipython",
"version": 3
},
"file_extension": ".py",
"mimetype": "text/x-python",
"name": "python",
"nbconvert_exporter": "python",
"pygments_lexer": "ipython3",
"version": "3.6.0"
}
},
"nbformat": 4,
"nbformat_minor": 2
}