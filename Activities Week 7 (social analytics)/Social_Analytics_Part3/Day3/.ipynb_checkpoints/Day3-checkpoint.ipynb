{
 "cells": [
  {
   "cell_type": "markdown",
   "metadata": {},
   "source": [
    "# Students Turn Activity 1\n",
    "### Shakespeare\n",
    "\n",
    "### Instructions\n",
    "\n",
    "* Run vader analysis on the passage.\n",
    "\n",
    "* Print the analysis."
   ]
  },
  {
   "cell_type": "code",
   "execution_count": 1,
   "metadata": {},
   "outputs": [],
   "source": [
    "# Import and Initialize Sentiment Analyzer\n",
    "# YOUR CODE HERE\n",
    "from vaderSentiment.vaderSentiment import SentimentIntensityAnalyzer\n",
    "analyzer = SentimentIntensityAnalyzer()"
   ]
  },
  {
   "cell_type": "code",
   "execution_count": 2,
   "metadata": {},
   "outputs": [],
   "source": [
    "# Passage\n",
    "HamletPassage = \"\"\"To be, or not to be: that is the question: Whether 'tis\n",
    "nobler in the mind to suffer The slings and arrows of outrageous fortune, Or\n",
    "to take arms against a sea of troubles, And by opposing end them? To die: to\n",
    "sleep; No more; and by a sleep to say we end The heart-ache and the thousand\n",
    "natural shocks That flesh is heir to, 'tis a consummation Devoutly to be\n",
    "wish'd. To die, to sleep; To sleep: perchance to dream: ay, there's the rub;\n",
    "For in that sleep of death what dreams may come When we have shuffled off this\n",
    "mortal coil, Must give us pause: there's the respect That makes calamity of so\n",
    "long life; For who would bear the whips and scorns of time, The oppressor's\n",
    "wrong, the proud man's contumely, The pangs of despised love, the law's delay,\n",
    "The insolence of office and the spurns That patient merit of the unworthy\n",
    "takes, When he himself might his quietus make With a bare bodkin? who would\n",
    "fardels bear, To grunt and sweat under a weary life, But that the dread of\n",
    "something after death, The undiscover'd country from whose bourn No traveller\n",
    "returns, puzzles the will And makes us rather bear those ills we have Than fly\n",
    "to others that we know not of? Thus conscience does make cowards of us all;\n",
    "And thus the native hue of resolution Is sicklied o'er with the pale cast of\n",
    "thought, And enterprises of great pith and moment With this regard their\n",
    "currents turn awry, And lose the name of action.--Soft you now! The fair\n",
    "Ophelia! Nymph, in thy orisons Be all my sins remember'd.\"\"\""
   ]
  },
  {
   "cell_type": "code",
   "execution_count": 4,
   "metadata": {},
   "outputs": [],
   "source": [
    "# Run Vader Analysis on Passage\n",
    "# YOUR CODE HERE\n",
    "results = analyzer.polarity_scores(HamletPassage)\n",
    "#OR pos = analyzer.polarity_scores(HamletPassage)[\"pos\"]\n",
    "compound = results[\"compound\"]\n",
    "pos = results[\"pos\"]\n",
    "neu = results[\"neu\"]\n",
    "neg = results[\"neg\"]"
   ]
  },
  {
   "cell_type": "code",
   "execution_count": 5,
   "metadata": {},
   "outputs": [
    {
     "name": "stdout",
     "output_type": "stream",
     "text": [
      "Compound: -0.9805\n",
      "Positive: 0.082\n",
      "Negative: 0.17\n",
      "Neutral: 0.748\n"
     ]
    }
   ],
   "source": [
    "# Print Analysis\n",
    "# YOUR CODE HERE\n",
    "print(f\"Compound: {compound}\")\n",
    "print(f\"Positive: {pos}\")\n",
    "print(f\"Negative: {neg}\")\n",
    "print(f\"Neutral: {neu}\")"
   ]
  },
  {
   "cell_type": "markdown",
   "metadata": {},
   "source": [
    "# Students Turn Activity 2 Twitter Recap\n",
    "# Directions\n",
    "\n",
    "* We are going to analyze 25 tweets and run sentiment analysis on them.\n",
    "\n",
    "  * Add a list to hold sentiments\n",
    "\n",
    "  * Grab 25 tweets\n",
    "\n",
    "  * Loop through all tweets\n",
    "\n",
    "  * Run Vader Analysis on each tweet\n",
    "\n",
    "  * Add each value to the appropriate list\n",
    "\n",
    "  * Store the Average Sentiments\n",
    "\n",
    "  * Print the Sentiments"
   ]
  },
  {
   "cell_type": "code",
   "execution_count": 6,
   "metadata": {},
   "outputs": [],
   "source": [
    "# Dependencies\n",
    "import tweepy\n",
    "import json\n",
    "import numpy as np\n",
    "from config import consumer_key, consumer_secret, access_token, access_token_secret"
   ]
  },
  {
   "cell_type": "code",
   "execution_count": 7,
   "metadata": {},
   "outputs": [],
   "source": [
    "# Import and Initialize Sentiment Analyzer\n",
    "from vaderSentiment.vaderSentiment import SentimentIntensityAnalyzer\n",
    "analyzer = SentimentIntensityAnalyzer()"
   ]
  },
  {
   "cell_type": "code",
   "execution_count": 8,
   "metadata": {},
   "outputs": [],
   "source": [
    "# Twitter API Keys\n",
    "consumer_key = consumer_key\n",
    "consumer_secret = consumer_secret\n",
    "access_token = access_token\n",
    "access_token_secret = access_token_secret"
   ]
  },
  {
   "cell_type": "code",
   "execution_count": 9,
   "metadata": {},
   "outputs": [],
   "source": [
    "# Setup Tweepy API Authentication\n",
    "auth = tweepy.OAuthHandler(consumer_key, consumer_secret)\n",
    "auth.set_access_token(access_token, access_token_secret)\n",
    "api = tweepy.API(auth, parser=tweepy.parsers.JSONParser())"
   ]
  },
  {
   "cell_type": "code",
   "execution_count": 48,
   "metadata": {},
   "outputs": [],
   "source": [
    "# Target Search Term\n",
    "target_term = \"@CNNbrk\""
   ]
  },
  {
   "cell_type": "code",
   "execution_count": 52,
   "metadata": {},
   "outputs": [
    {
     "data": {
      "text/plain": [
       "23"
      ]
     },
     "execution_count": 52,
     "metadata": {},
     "output_type": "execute_result"
    }
   ],
   "source": [
    "# Lists to hold sentiments\n",
    "compound = []\n",
    "pos = []\n",
    "neu = []\n",
    "neg = []\n",
    "\n",
    "# Grab 25 tweets\n",
    "public_tweets = api.search(target_term, count=25, result_type=\"recent\")\n",
    "\n",
    "# Loop through all tweets\n",
    "for tweet in public_tweets[\"statuses\"]:\n",
    "\n",
    "    # Run Vader Analysis on each tweet\n",
    "    results = analyzer.polarity_scores(tweet[\"text\"])\n",
    "\n",
    "    # Add each value to the appropriate array\n",
    "    compound.append(results[\"compound\"])\n",
    "    pos.append(results[\"pos\"])\n",
    "    neu.append(results[\"neu\"])\n",
    "    neg.append(results[\"neg\"])\n",
    "    \n",
    "len(neg)"
   ]
  },
  {
   "cell_type": "code",
   "execution_count": 45,
   "metadata": {},
   "outputs": [
    {
     "name": "stdout",
     "output_type": "stream",
     "text": [
      "Mean positive: 0.08176\n",
      "Mean negative: 0.04991999999999999\n",
      "Mean neutral: 0.86832\n",
      "Mean compound: 0.03789200000000001\n"
     ]
    }
   ],
   "source": [
    "# Store & print the Average Sentiments\n",
    "print(f\"Mean positive: {np.mean(pos)}\")\n",
    "print(f\"Mean negative: {np.mean(neg)}\")\n",
    "print(f\"Mean neutral: {np.mean(neu)}\")\n",
    "print(f\"Mean compound: {np.mean(compound)}\")"
   ]
  },
  {
   "cell_type": "markdown",
   "metadata": {},
   "source": [
    "# Students Turn Activity 3 \n",
    "# Instructions\n",
    "\n",
    "* Create a complimentary status update with a mention to another user"
   ]
  },
  {
   "cell_type": "code",
   "execution_count": 20,
   "metadata": {},
   "outputs": [],
   "source": [
    "# Dependencies\n",
    "import tweepy\n",
    "import json"
   ]
  },
  {
   "cell_type": "code",
   "execution_count": 21,
   "metadata": {},
   "outputs": [],
   "source": [
    "# Twitter API Keys\n",
    "consumer_key = consumer_key\n",
    "consumer_secret = consumer_secret\n",
    "access_token = access_token\n",
    "access_token_secret = access_token_secret"
   ]
  },
  {
   "cell_type": "code",
   "execution_count": 22,
   "metadata": {},
   "outputs": [],
   "source": [
    "# Setup Tweepy API Authentication\n",
    "auth = tweepy.OAuthHandler(consumer_key, consumer_secret)\n",
    "auth.set_access_token(access_token, access_token_secret)\n",
    "api = tweepy.API(auth, parser=tweepy.parsers.JSONParser())"
   ]
  },
  {
   "cell_type": "code",
   "execution_count": null,
   "metadata": {},
   "outputs": [],
   "source": [
    "# Create a complimentary status update with a mention to another user\n",
    "api.update_status(\"Hey @LadyVonNessa do you still use twitter?\")"
   ]
  },
  {
   "cell_type": "markdown",
   "metadata": {},
   "source": [
    "# Instructor Turn Activity 4 Intro to Timer"
   ]
  },
  {
   "cell_type": "code",
   "execution_count": 53,
   "metadata": {},
   "outputs": [],
   "source": [
    "# Dependencies\n",
    "import tweepy\n",
    "import json\n",
    "import time\n",
    "from config import consumer_key, consumer_secret, access_token, access_token_secret"
   ]
  },
  {
   "cell_type": "code",
   "execution_count": 54,
   "metadata": {},
   "outputs": [],
   "source": [
    "# Twitter API Keys\n",
    "consumer_key = consumer_key\n",
    "consumer_secret = consumer_secret\n",
    "access_token = access_token\n",
    "access_token_secret = access_token_secret"
   ]
  },
  {
   "cell_type": "code",
   "execution_count": 55,
   "metadata": {},
   "outputs": [],
   "source": [
    "# Setup Tweepy API Authentication\n",
    "auth = tweepy.OAuthHandler(consumer_key, consumer_secret)\n",
    "auth.set_access_token(access_token, access_token_secret)\n",
    "api = tweepy.API(auth, parser=tweepy.parsers.JSONParser())"
   ]
  },
  {
   "cell_type": "code",
   "execution_count": 56,
   "metadata": {},
   "outputs": [
    {
     "name": "stdout",
     "output_type": "stream",
     "text": [
      "Iteration # 1\n",
      "Iteration # 2\n",
      "Iteration # 3\n",
      "Iteration # 4\n",
      "Iteration # 5\n"
     ]
    }
   ],
   "source": [
    "# With no Timer JUST LOOPING\n",
    "# Create a for loop that tweets 5 tweets\n",
    "for x in range(5):\n",
    "    print(\"Iteration #\", str(x+1))\n",
    "    api.update_status(\"Hey This is tweet #%s\" % x) # %s means string; purple percent shows that x is the string"
   ]
  },
  {
   "cell_type": "code",
   "execution_count": null,
   "metadata": {},
   "outputs": [],
   "source": [
    "# WITH TIMER \n",
    "# Create a function that tweets\n",
    "def TweetOut(tweet_number):\n",
    "\n",
    "    api.update_status(\"This is tweet #%s, but with a timer man!\" % tweet_number)"
   ]
  },
  {
   "cell_type": "code",
   "execution_count": null,
   "metadata": {},
   "outputs": [],
   "source": [
    "\"\"\"DO NOT RUN\"\"\"\n",
    "# Create a loop that calls the TweetOut function every minute\n",
    "counter = 0\n",
    "\n",
    "# Infinite loop\n",
    "while(True):\n",
    "\n",
    "    # Call the TweetQuotes function and specify the tweet number\n",
    "    TweetOut(counter)\n",
    "\n",
    "    # Once tweeted, wait 60 seconds before doing anything else\n",
    "    time.sleep(60)\n",
    "\n",
    "    # Add 1 to the counter prior to re-running the loop\n",
    "    counter = counter + 1"
   ]
  },
  {
   "cell_type": "markdown",
   "metadata": {},
   "source": [
    "# Students Turn Activity 5 \n",
    "# Happiness is just a tweet away\n",
    "\n",
    "## Instructions\n",
    "\n",
    "* You are given a list of happy quotes that you need to share with the world but you can't quite decided which one.\n",
    "\n",
    "* Create a function that will update your twitter status with a random quote from `happy_quotes`. You should have a message that alerts you locally that a quotes was successfully tweeted.\n",
    "\n",
    "* Then create a loop that will tweet a random quotes every 60 seconds.\n",
    "\n",
    "## Hints\n",
    "\n",
    "Checkout [random library](https://docs.python.org/2/library/random.html) for the documentation."
   ]
  },
  {
   "cell_type": "code",
   "execution_count": 57,
   "metadata": {},
   "outputs": [],
   "source": [
    "# Dependencies\n",
    "import pandas as pd\n",
    "import tweepy\n",
    "import time\n",
    "import json\n",
    "import random\n",
    "from config import consumer_key, consumer_secret, access_token, access_token_secret"
   ]
  },
  {
   "cell_type": "code",
   "execution_count": 58,
   "metadata": {},
   "outputs": [],
   "source": [
    "# Twitter API Keys\n",
    "consumer_key = consumer_key\n",
    "consumer_secret = consumer_secret\n",
    "access_token = access_token\n",
    "access_token_secret = access_token_secret"
   ]
  },
  {
   "cell_type": "code",
   "execution_count": 59,
   "metadata": {},
   "outputs": [],
   "source": [
    "# Quotes to Tweet\n",
    "happy_quotes = [\n",
    "    \"For every minute you are angry you lose sixty seconds of happiness. - Ralph Waldo Emerson\",\n",
    "    \"Folks are usually about as happy as they make their minds up to be. - Abraham Lincoln\",\n",
    "    \"Happiness is when what you think, what you say, and what you do are in harmony. - Mahatma Gandhi\",\n",
    "    \"Count your age by friends, not years. Count your life by smiles, not tears. - John Lennon\",\n",
    "    \"Happiness is a warm puppy. - Charles M. Schulz\",\n",
    "    \"The happiness of your life depends upon the quality of your thoughts. - Marcus Aurelius\",\n",
    "    \"Now and then it's good to pause in our pursuit of happiness and just be happy. - Guillaume Apollinaire\"]"
   ]
  },
  {
   "cell_type": "code",
   "execution_count": 60,
   "metadata": {},
   "outputs": [
    {
     "name": "stdout",
     "output_type": "stream",
     "text": [
      "For every minute you are angry you lose sixty seconds of happiness. - Ralph Waldo Emerson\n",
      "Folks are usually about as happy as they make their minds up to be. - Abraham Lincoln\n",
      "Happiness is when what you think, what you say, and what you do are in harmony. - Mahatma Gandhi\n",
      "Count your age by friends, not years. Count your life by smiles, not tears. - John Lennon\n",
      "Happiness is a warm puppy. - Charles M. Schulz\n",
      "The happiness of your life depends upon the quality of your thoughts. - Marcus Aurelius\n",
      "Now and then it's good to pause in our pursuit of happiness and just be happy. - Guillaume Apollinaire\n"
     ]
    }
   ],
   "source": [
    "# Create function for tweeting\n",
    "def TweetHappy(counter):\n",
    "    auth = tweepy.OAuthHandler(consumer_key, consumer_secret)\n",
    "    auth.set_access_token(access_token, access_token_secret)\n",
    "    api = tweepy.API(auth, parser=tweepy.parsers.JSONParser())\n",
    "    \n",
    "    api.update_status(happy_quotes[counter])\n",
    "    print(\"Tweet successful\")\n",
    "\n",
    "# Set timer to run every minute\n",
    "counter = 0\n",
    "while counter < 60:\n",
    "    TweetHappy(counter)\n",
    "    time.sleep(60)\n",
    "    counter += 1"
   ]
  },
  {
   "cell_type": "code",
   "execution_count": null,
   "metadata": {},
   "outputs": [],
   "source": [
    "\"\"\"OR\"\"\"\n",
    "for quote in happy_quotes:\n",
    "    api.update_status(quote)\n",
    "    print(\"Tweet successful\")\n",
    "    time.sleep(60)"
   ]
  },
  {
   "cell_type": "markdown",
   "metadata": {},
   "source": [
    "# Students Turn Activity 6 \n",
    "### Instructions\n",
    "\n",
    "* Create a function that gets the weather in London and Tweets it\n",
    "\n",
    "  * Construct a Query URL for the OpenWeatherMap\n",
    "\n",
    "  * Perform the API call to get the weather\n",
    "\n",
    "  * Set up your Twitter credentials\n",
    "\n",
    "  * Tweet the weather\n",
    "\n",
    "  * Print the success message\n",
    "\n",
    "  * Set timer to run every 1 hour"
   ]
  },
  {
   "cell_type": "code",
   "execution_count": 1,
   "metadata": {},
   "outputs": [],
   "source": [
    "# Dependencies\n",
    "import tweepy\n",
    "import time\n",
    "import json\n",
    "import random\n",
    "import requests\n",
    "import datetime\n",
    "from config import consumer_key, consumer_secret, access_token, access_token_secret, weather_api_key"
   ]
  },
  {
   "cell_type": "code",
   "execution_count": 2,
   "metadata": {},
   "outputs": [],
   "source": [
    "# Twitter API Keys\n",
    "consumer_key = consumer_key\n",
    "consumer_secret = consumer_secret\n",
    "access_token = access_token\n",
    "access_token_secret = access_token_secret"
   ]
  },
  {
   "cell_type": "code",
   "execution_count": 3,
   "metadata": {},
   "outputs": [],
   "source": [
    "# Weather API Key\n",
    "api_key = \"25bc90a1196e6f153eece0bc0b0fc9eb\""
   ]
  },
  {
   "cell_type": "code",
   "execution_count": 4,
   "metadata": {},
   "outputs": [],
   "source": [
    "# Create a function that gets the weather in London and Tweets it\n",
    "def LondonWeather(counter):\n",
    "    \n",
    "    api_key = \"25bc90a1196e6f153eece0bc0b0fc9eb\"\n",
    "    city = \"London\"\n",
    "    units = \"imperial\"\n",
    "\n",
    "    # Construct a Query URL for the OpenWeatherMap\n",
    "    query_url = f\"http://api.openweathermap.org/data/2.5/weather?appid={api_key}&q={city}&units={units}\"\n",
    "\n",
    "    # Perform the API call to get the weather\n",
    "    weather_response = requests.get(query_url).json()\n",
    "    temp = weather_response[\"main\"][\"temp\"]\n",
    "\n",
    "    # Twitter credentials\n",
    "    auth = tweepy.OAuthHandler(consumer_key, consumer_secret)\n",
    "    auth.set_access_token(access_token, access_token_secret)\n",
    "    api = tweepy.API(auth, parser=tweepy.parsers.JSONParser())\n",
    "    \n",
    "    # Tweet the weather\n",
    "    api.update_status(datetime.datetime.now().strftime(\"%I:%M %p\") + \\\n",
    "                      \"The temperature is \" + str(temp) + \" degrees Fahrenheit in London right now\")\n",
    "    \n",
    "    # Print success message\n",
    "    print(\"Tweet successful\")"
   ]
  },
  {
   "cell_type": "code",
   "execution_count": null,
   "metadata": {},
   "outputs": [
    {
     "name": "stdout",
     "output_type": "stream",
     "text": [
      "Tweet successful\n"
     ]
    }
   ],
   "source": [
    "# Set timer to run every 1 hour\n",
    "counter = 0\n",
    "\n",
    "while counter < 3:\n",
    "    LondonWeather(counter)\n",
    "    time.sleep(3600)\n",
    "    counter += 1"
   ]
  },
  {
   "cell_type": "markdown",
   "metadata": {},
   "source": [
    "# Instructor Turn Activity 7 "
   ]
  },
  {
   "cell_type": "code",
   "execution_count": 2,
   "metadata": {},
   "outputs": [],
   "source": [
    "# Dependencies\n",
    "import tweepy\n",
    "import time\n",
    "import json\n",
    "from config import consumer_key, consumer_secret, access_token, access_token_secret"
   ]
  },
  {
   "cell_type": "code",
   "execution_count": 3,
   "metadata": {},
   "outputs": [],
   "source": [
    "# Twitter API Keys\n",
    "consumer_key = consumer_key\n",
    "consumer_secret = consumer_secret\n",
    "access_token = access_token\n",
    "access_token_secret = access_token_secret"
   ]
  },
  {
   "cell_type": "code",
   "execution_count": 4,
   "metadata": {},
   "outputs": [],
   "source": [
    "# Target Term\n",
    "target_term = \"@SouthwestAir\""
   ]
  },
  {
   "cell_type": "code",
   "execution_count": 5,
   "metadata": {},
   "outputs": [],
   "source": [
    "# Twitter Credentials\n",
    "auth = tweepy.OAuthHandler(consumer_key, consumer_secret)\n",
    "auth.set_access_token(access_token, access_token_secret)\n",
    "api = tweepy.API(auth, parser=tweepy.parsers.JSONParser())"
   ]
  },
  {
   "cell_type": "code",
   "execution_count": 6,
   "metadata": {},
   "outputs": [],
   "source": [
    "# Search for all tweets\n",
    "public_tweets = api.search(target_term, count=5, result_type=\"recent\")"
   ]
  },
  {
   "cell_type": "code",
   "execution_count": 8,
   "metadata": {},
   "outputs": [
    {
     "name": "stdout",
     "output_type": "stream",
     "text": [
      "Can we get some more direct flights from Buffalo, please? @SouthwestAir @Delta @AmericanAir one of y’all puhleeeezzzz\n",
      "SiddyNtheCity\n",
      "RT @AIpatriotIZ: Hey @BarackObama &amp; @HillaryClinton !   Want to get away ?   👇  Fly @SouthwestAir  ! https://t.co/I85NSVTvyn\n",
      "readytoMAGA\n",
      "@SouthwestAir I booked two flights for my mom but it wouldn’t take my rapid rewards # is there a way I can get those points??\n",
      "RentedTime\n",
      "@SouthwestAir Thank you for my 4 hr delay flight #2151 from Dallas to St. Louis. Been on the road for work 7 days a… https://t.co/ImIEgr0ZAk\n",
      "chuckybritton\n",
      "Had the best service from Bobby and Debbie (sp) this morning at Reno, NV customer service counter by gate B3. Rearr… https://t.co/DLLDPY7mL6\n",
      "Batguy\n"
     ]
    }
   ],
   "source": [
    "# Loop through all public_tweets\n",
    "for tweet in public_tweets[\"statuses\"]:\n",
    "\n",
    "    # Get ID and Author of most recent tweet directed to me\n",
    "    tweet_id = tweet[\"id\"]\n",
    "    tweet_author = tweet[\"user\"][\"screen_name\"]\n",
    "    tweet_text = tweet[\"text\"]\n",
    "\n",
    "    # Print Tweet Text and Tweet Author\n",
    "    print(tweet_text)\n",
    "    print(tweet_author)"
   ]
  },
  {
   "cell_type": "markdown",
   "metadata": {},
   "source": [
    "# Students Turn Activity 8 Tweeting Thanks\n",
    "# Instructions\n",
    "\n",
    "* In this activity, students will create a program similar to previous examples.\n",
    "\n",
    "  * Loop through all tweets\n",
    "\n",
    "  * Get ID and Author of most recent tweet directed to me\n",
    "\n",
    "  * Print the tweet_id\n",
    "\n",
    "  * Use Try-Except to avoid the duplicate error\n",
    "\n",
    "  * Respond to tweet\n",
    "\n",
    "  * Print success message\n",
    "\n",
    "  * Print message if duplicate\n",
    "\n",
    "  * Print message to signify complete cycle\n",
    "\n",
    "  * Set timer to run every minute"
   ]
  },
  {
   "cell_type": "code",
   "execution_count": 9,
   "metadata": {},
   "outputs": [],
   "source": [
    "# Dependencies\n",
    "import numpy as np\n",
    "import tweepy\n",
    "import time\n",
    "import json\n",
    "from config import consumer_key, consumer_secret, access_token, access_token_secret"
   ]
  },
  {
   "cell_type": "code",
   "execution_count": 10,
   "metadata": {},
   "outputs": [],
   "source": [
    "# Twitter API Keys\n",
    "consumer_key = consumer_key\n",
    "consumer_secret = consumer_secret\n",
    "access_token = access_token\n",
    "access_token_secret = access_token_secret"
   ]
  },
  {
   "cell_type": "code",
   "execution_count": 11,
   "metadata": {},
   "outputs": [],
   "source": [
    "# Target Term\n",
    "target_term = \"@data_stew\""
   ]
  },
  {
   "cell_type": "code",
   "execution_count": 12,
   "metadata": {},
   "outputs": [
    {
     "name": "stdout",
     "output_type": "stream",
     "text": [
      "We're going live!\n"
     ]
    }
   ],
   "source": [
    "# Opening message\n",
    "print(\"We're going live!\")"
   ]
  },
  {
   "cell_type": "code",
   "execution_count": 16,
   "metadata": {},
   "outputs": [],
   "source": [
    "# Create Thank You Function \n",
    "def ThankYou():\n",
    "\n",
    "    # Twitter Credentials\n",
    "    auth = tweepy.OAuthHandler(consumer_key, consumer_secret)\n",
    "    auth.set_access_token(access_token, access_token_secret)\n",
    "    api = tweepy.API(auth, parser=tweepy.parsers.JSONParser())\n",
    "\n",
    "    # Search for all tweets\n",
    "    public_tweets = api.search(target_term, count=100, result_type=\"recent\")\n",
    "\n",
    "    # Loop through all tweets\n",
    "    for tweet in public_tweets[\"statuses\"]:\n",
    "\n",
    "        # Get ID and Author of most recent tweet directed to me\n",
    "        tweet_id = tweet[\"id\"]\n",
    "        tweet_author = tweet[\"user\"][\"screen_name\"]\n",
    "        tweet_text = tweet[\"text\"]\n",
    "        # Print the tweet_id\n",
    "        print(tweet_id)\n",
    "\n",
    "        # Use Try-Except to avoid the duplicate error\n",
    "        try:\n",
    "            api.update_status(\"Thanks @\" + tweet_author, in_reply_to_status_id=tweet_id)            \n",
    "            \n",
    "            # Print success message\n",
    "            print(\"Success!\")\n",
    "            \n",
    "        except:\n",
    "            \n",
    "            # Print message if duplicate\n",
    "            print(\"Already responded\")\n",
    "\n",
    "        # Print message to signify complete cycle\n",
    "        print(\"Loop complete, will check again in 60 seconds\")"
   ]
  },
  {
   "cell_type": "code",
   "execution_count": null,
   "metadata": {},
   "outputs": [],
   "source": [
    "# Set timer to run every minute\n",
    "while(True):\n",
    "    ThankYou()\n",
    "    time.sleep(60)"
   ]
  },
  {
   "cell_type": "markdown",
   "metadata": {},
   "source": [
    "## Students Turn  Activity 9 Battle Bots\n",
    "\n",
    "### Instructions\n",
    "\n",
    "* Create two twitter bots that will talk tweet at each other. \n",
    "\n",
    "* Each bot should have a few different lines that correspond with the other one.\n",
    "\n",
    "* Have the bots find that last tweet and respond with a new line every 60s.\n",
    "\n",
    "### Hints\n",
    "\n",
    "* You will need to have both scripts running at the same time."
   ]
  },
  {
   "cell_type": "code",
   "execution_count": 13,
   "metadata": {},
   "outputs": [],
   "source": [
    "# Dependencies\n",
    "import numpy as np\n",
    "import pandas as pd\n",
    "import tweepy\n",
    "import time\n",
    "import json\n",
    "from config import consumer_key, consumer_secret, access_token, access_token_secret"
   ]
  },
  {
   "cell_type": "code",
   "execution_count": 14,
   "metadata": {},
   "outputs": [],
   "source": [
    "# Twitter API Keys\n",
    "consumer_key = consumer_key\n",
    "consumer_secret = consumer_secret\n",
    "access_token = access_token\n",
    "access_token_secret = access_token_secret"
   ]
  },
  {
   "cell_type": "code",
   "execution_count": 15,
   "metadata": {},
   "outputs": [],
   "source": [
    "# Twitter Credentials\n",
    "auth = tweepy.OAuthHandler(consumer_key, consumer_secret)\n",
    "auth.set_access_token(access_token, access_token_secret)\n",
    "api = tweepy.API(auth, parser=tweepy.parsers.JSONParser())"
   ]
  },
  {
   "cell_type": "code",
   "execution_count": 4,
   "metadata": {},
   "outputs": [],
   "source": [
    "# Target Term\n",
    "target_term = \"@BattleBot_1\""
   ]
  },
  {
   "cell_type": "code",
   "execution_count": 5,
   "metadata": {},
   "outputs": [
    {
     "data": {
      "text/plain": [
       "{'contributors': None,\n",
       " 'coordinates': None,\n",
       " 'created_at': 'Thu Jun 07 23:30:02 +0000 2018',\n",
       " 'entities': {'hashtags': [],\n",
       "  'symbols': [],\n",
       "  'urls': [],\n",
       "  'user_mentions': [{'id': 846156247636344833,\n",
       "    'id_str': '846156247636344833',\n",
       "    'indices': [0, 12],\n",
       "    'name': 'Wall-E',\n",
       "    'screen_name': 'BattleBot_2'}]},\n",
       " 'favorite_count': 0,\n",
       " 'favorited': False,\n",
       " 'geo': None,\n",
       " 'id': 1004868112418652160,\n",
       " 'id_str': '1004868112418652160',\n",
       " 'in_reply_to_screen_name': 'BattleBot_2',\n",
       " 'in_reply_to_status_id': None,\n",
       " 'in_reply_to_status_id_str': None,\n",
       " 'in_reply_to_user_id': 846156247636344833,\n",
       " 'in_reply_to_user_id_str': '846156247636344833',\n",
       " 'is_quote_status': False,\n",
       " 'lang': 'und',\n",
       " 'place': None,\n",
       " 'retweet_count': 0,\n",
       " 'retweeted': False,\n",
       " 'source': '<a href=\"http://www.google.com\" rel=\"nofollow\">data_stew</a>',\n",
       " 'text': '@BattleBot_2',\n",
       " 'truncated': False,\n",
       " 'user': {'contributors_enabled': False,\n",
       "  'created_at': 'Fri Aug 24 03:01:06 +0000 2012',\n",
       "  'default_profile': True,\n",
       "  'default_profile_image': True,\n",
       "  'description': '',\n",
       "  'entities': {'description': {'urls': []}},\n",
       "  'favourites_count': 0,\n",
       "  'follow_request_sent': False,\n",
       "  'followers_count': 3,\n",
       "  'following': False,\n",
       "  'friends_count': 9,\n",
       "  'geo_enabled': False,\n",
       "  'has_extended_profile': False,\n",
       "  'id': 777278389,\n",
       "  'id_str': '777278389',\n",
       "  'is_translation_enabled': False,\n",
       "  'is_translator': False,\n",
       "  'lang': 'en',\n",
       "  'listed_count': 0,\n",
       "  'location': '',\n",
       "  'name': 'data student',\n",
       "  'notifications': False,\n",
       "  'profile_background_color': 'C0DEED',\n",
       "  'profile_background_image_url': 'http://abs.twimg.com/images/themes/theme1/bg.png',\n",
       "  'profile_background_image_url_https': 'https://abs.twimg.com/images/themes/theme1/bg.png',\n",
       "  'profile_background_tile': False,\n",
       "  'profile_image_url': 'http://abs.twimg.com/sticky/default_profile_images/default_profile_normal.png',\n",
       "  'profile_image_url_https': 'https://abs.twimg.com/sticky/default_profile_images/default_profile_normal.png',\n",
       "  'profile_link_color': '1DA1F2',\n",
       "  'profile_sidebar_border_color': 'C0DEED',\n",
       "  'profile_sidebar_fill_color': 'DDEEF6',\n",
       "  'profile_text_color': '333333',\n",
       "  'profile_use_background_image': True,\n",
       "  'protected': False,\n",
       "  'screen_name': 'data_stew',\n",
       "  'statuses_count': 10546,\n",
       "  'time_zone': None,\n",
       "  'translator_type': 'none',\n",
       "  'url': None,\n",
       "  'utc_offset': None,\n",
       "  'verified': False}}"
      ]
     },
     "execution_count": 5,
     "metadata": {},
     "output_type": "execute_result"
    }
   ],
   "source": [
    "# Send opening message to conversation partner\n",
    "api.update_status(\"Hey \" + target_term)"
   ]
  },
  {
   "cell_type": "code",
   "execution_count": 8,
   "metadata": {},
   "outputs": [],
   "source": [
    "# Response Lines\n",
    "# @TODO: Create a list of Response Lines\n",
    "response_lines = [\"@BattleBot_2 Oh I'm fine, how are you?\", \\\n",
    "                  \"@BattleBot_2 I'm doing quite well, thank you\", \\\n",
    "                  \"@BattleBot_2 How's the weather?\"]"
   ]
  },
  {
   "cell_type": "code",
   "execution_count": 21,
   "metadata": {},
   "outputs": [],
   "source": [
    "# # @TODO: Create converse function\n",
    "def BattleBot1(line_number)\n",
    "    \n",
    "    # Twitter Credentials\n",
    "    auth = tweepy.OAuthHandler(consumer_key, consumer_secret)\n",
    "    auth.set_access_token(access_token, access_token_secret)\n",
    "    api = tweepy.API(auth, parser=tweepy.parsers.JSONParser())\n",
    "\n",
    "    # Search for all tweets\n",
    "    public_tweets = api.search(target_term, count=100, result_type=\"recent\")\n",
    "\n",
    "    # Loop through all tweets\n",
    "    for tweet in public_tweets[\"statuses\"]:\n",
    "\n",
    "        # Get ID and Author of most recent tweet directed to me\n",
    "        tweet_id = tweet[\"id\"]\n",
    "        tweet_author = tweet[\"user\"][\"screen_name\"]\n",
    "        tweet_text = tweet[\"text\"]\n",
    "\n",
    "        # Use Try-Except to avoid the duplicate error\n",
    "        try:\n",
    "            api.update_status(response_lines[line_number], in_reply_to_status_id=tweet_id)   \n",
    "\n",
    "        except:\n",
    "            print(\"Already replied\")\n",
    "    # Find the latest tweet from conversation_partner\n",
    "\n",
    "        # Respond to the tweet with one of the response lines\n",
    "\n",
    "     # @TODO: Find the latest tweet from conversation_partner\n",
    "  \n",
    "\n",
    "         # @TODO: Respond to the tweet with one of the response lines\n",
    "\n",
    "\n",
    "# @TODO: Set timer to run every minute\n",
    "count = 0\n",
    "while(True):\n",
    "    BattleBot1(count)\n",
    "    time.sleep(60)\n",
    "    if count == 4:\n",
    "        break"
   ]
  },
  {
   "cell_type": "code",
   "execution_count": null,
   "metadata": {},
   "outputs": [],
   "source": [
    "# Twitter Bot 2 Dependencies\n",
    "import numpy as np\n",
    "import pandas as pd\n",
    "import tweepy\n",
    "import time\n",
    "import json\n",
    "from config import consumer_key, consumer_secret, access_token, access_token_secret"
   ]
  },
  {
   "cell_type": "code",
   "execution_count": 10,
   "metadata": {},
   "outputs": [],
   "source": [
    "# Twitter API Keys\n",
    "consumer_key = consumer_key\n",
    "consumer_secret = consumer_secret\n",
    "access_token = access_token\n",
    "access_token_secret = access_token_secret"
   ]
  },
  {
   "cell_type": "code",
   "execution_count": 11,
   "metadata": {},
   "outputs": [],
   "source": [
    "# Twitter Credentials\n",
    "auth = tweepy.OAuthHandler(consumer_key, consumer_secret)\n",
    "auth.set_access_token(access_token, access_token_secret)\n",
    "api = tweepy.API(auth, parser=tweepy.parsers.JSONParser())"
   ]
  },
  {
   "cell_type": "code",
   "execution_count": 12,
   "metadata": {},
   "outputs": [],
   "source": [
    "# Target Term\n",
    "target_term = "
   ]
  },
  {
   "cell_type": "code",
   "execution_count": 13,
   "metadata": {},
   "outputs": [],
   "source": [
    "# Response Lines\n"
   ]
  },
  {
   "cell_type": "code",
   "execution_count": 14,
   "metadata": {},
   "outputs": [
    {
     "ename": "SyntaxError",
     "evalue": "invalid syntax (<ipython-input-14-3108793f5f4c>, line 1)",
     "output_type": "error",
     "traceback": [
      "\u001b[1;36m  File \u001b[1;32m\"<ipython-input-14-3108793f5f4c>\"\u001b[1;36m, line \u001b[1;32m1\u001b[0m\n\u001b[1;33m    Create converse function\u001b[0m\n\u001b[1;37m                  ^\u001b[0m\n\u001b[1;31mSyntaxError\u001b[0m\u001b[1;31m:\u001b[0m invalid syntax\n"
     ]
    }
   ],
   "source": [
    "# Create converse function\n",
    "\n",
    "\n",
    "    # Find the latest tweet from conversation_partner\n",
    "    \n",
    "\n",
    "        # Respond to the tweet with one of the response lines\n"
   ]
  },
  {
   "cell_type": "code",
   "execution_count": null,
   "metadata": {},
   "outputs": [],
   "source": [
    "# Set timer to run every minute\n",
    "counter = 0\n",
    "\n",
    "while(True):\n",
    "    Converse(counter)\n",
    "    counter = counter + 1\n",
    "    time.sleep(60)"
   ]
  },
  {
   "cell_type": "markdown",
   "metadata": {},
   "source": [
    "# Everyone Activity 10 \n",
    "## Heroku Deployment Guide\n",
    "\n",
    "* Heroku is a cloud application platform. This means that we can run our scripts on Heroku's servers! Here are the steps to do get our apps running on Heroku.\n",
    "\n",
    "* Important: before deploying your code to a cloud server, verify that it runs without error locally (i.e. be able to run it from your console or in Jupyter Notebook without errors).\n",
    "\n",
    "* Push your code to Github. Include both the `Procfile` and `requirements.txt` files in the directory. \n",
    "\n",
    "* Open your `Procfile` with a text editor, and replace `ChatterBot.py` with the name of your Python script.\n",
    "\n",
    "  ![procfile](Images/procfile.png)\n",
    "\n",
    "* Your `requirements.txt` should list the required modules, and their versions. Here, we require only the `tweepy` module, version `3.5.0`. You can run `conda list` from your console to display all the modules you have installed, as well as their version numbers.\n",
    "\n",
    "  ![requirements](Images/requirements.png)\n",
    "\n",
    "* Next, go to [heroku.com](heroku.com) and create an account.\n",
    "\n",
    "* After registering, click on `New`, then on `Create new app`. You will create a new `app` for each program.\n",
    "\n",
    "  ![heroku1.png](Images/heroku1.png)\n",
    "\n",
    "* In the next screen, create your `App name`, a unique and meaningful name for your app. Click on `Create app`. \n",
    "\n",
    "  ![heroku2.png](Images/heroku2.png)\n",
    "\n",
    "* Next, select `Connect to Github`, and click the button at the bottom.\n",
    "\n",
    "  ![heroku3.png](Images/heroku3.png)\n",
    "\n",
    "* In the field `repo-name`, enter the name of your Github repo, and click `Search`.\n",
    "\n",
    "  ![heroku4.png](Images/heroku4.png)\n",
    "\n",
    "* Click `Connect` to link your Heroku app with your Github repo.\n",
    "\n",
    "  ![heroku5.png](Images/heroku5.png)  \n",
    "\n",
    "* Click on `Enable Automatic Deploys`, which will allow the Heroku server to restart your app whenever you push a change to your Github repo.\n",
    "\n",
    "  ![heroku6.png](Images/heroku6.png)  \n",
    "\n",
    "* Finally, click on the `Resources` tab, followed by clicking the `edit` button with the pencil icon.\n",
    "\n",
    "  ![heroku7.png](Images/heroku7.png)\n",
    "\n",
    "* Slide the worker switch to the right, then click on `Confirm`.\n",
    "\n",
    "  ![heroku8.png](Images/heroku8.png)  \n",
    "\n",
    "* Your app should now be deployed!  "
   ]
  },
  {
   "cell_type": "code",
   "execution_count": 15,
   "metadata": {},
   "outputs": [],
   "source": [
    "# Dependencies\n",
    "import tweepy\n",
    "import time\n",
    "import json\n",
    "from config import consumer_key, consumer_secret, access_token, access_token_secret"
   ]
  },
  {
   "cell_type": "code",
   "execution_count": 16,
   "metadata": {},
   "outputs": [],
   "source": [
    "# Twitter API Keys\n",
    "consumer_key = consumer_key\n",
    "consumer_secret = consumer_secret\n",
    "access_token = access_token\n",
    "access_token_secret = access_token_secret"
   ]
  },
  {
   "cell_type": "code",
   "execution_count": 17,
   "metadata": {},
   "outputs": [],
   "source": [
    "# Setup Tweepy API Authentication\n",
    "auth = tweepy.OAuthHandler(consumer_key, consumer_secret)\n",
    "auth.set_access_token(access_token, access_token_secret)\n",
    "api = tweepy.API(auth, parser=tweepy.parsers.JSONParser())"
   ]
  },
  {
   "cell_type": "code",
   "execution_count": 18,
   "metadata": {},
   "outputs": [],
   "source": [
    "# Create a function that tweets\n",
    "def TweetOut(tweet_number):\n",
    "    api.update_status(\n",
    "        \"Can't stop. Won't stop. Chatting! This is Tweet #%s!\" % tweet_number)"
   ]
  },
  {
   "cell_type": "code",
   "execution_count": 19,
   "metadata": {},
   "outputs": [],
   "source": [
    "# Create a function that calls the TweetOut function every minute\n",
    "counter = 0"
   ]
  },
  {
   "cell_type": "code",
   "execution_count": 20,
   "metadata": {},
   "outputs": [
    {
     "ename": "TweepError",
     "evalue": "[{'message': 'Application cannot perform write actions. Contact Twitter Platform Operations through https://support.twitter.com/forms/platform', 'code': 261}]",
     "output_type": "error",
     "traceback": [
      "\u001b[1;31m---------------------------------------------------------------------------\u001b[0m",
      "\u001b[1;31mTweepError\u001b[0m                                Traceback (most recent call last)",
      "\u001b[1;32m<ipython-input-20-b191086172b3>\u001b[0m in \u001b[0;36m<module>\u001b[1;34m()\u001b[0m\n\u001b[0;32m      3\u001b[0m \u001b[1;33m\u001b[0m\u001b[0m\n\u001b[0;32m      4\u001b[0m     \u001b[1;31m# Call the TweetQuotes function and specify the tweet number\u001b[0m\u001b[1;33m\u001b[0m\u001b[1;33m\u001b[0m\u001b[0m\n\u001b[1;32m----> 5\u001b[1;33m     \u001b[0mTweetOut\u001b[0m\u001b[1;33m(\u001b[0m\u001b[0mcounter\u001b[0m\u001b[1;33m)\u001b[0m\u001b[1;33m\u001b[0m\u001b[0m\n\u001b[0m\u001b[0;32m      6\u001b[0m \u001b[1;33m\u001b[0m\u001b[0m\n\u001b[0;32m      7\u001b[0m     \u001b[1;31m# Once tweeted, wait 60 seconds before doing anything else\u001b[0m\u001b[1;33m\u001b[0m\u001b[1;33m\u001b[0m\u001b[0m\n",
      "\u001b[1;32m<ipython-input-18-5f1bb3d72fb0>\u001b[0m in \u001b[0;36mTweetOut\u001b[1;34m(tweet_number)\u001b[0m\n\u001b[0;32m      3\u001b[0m     api.update_status(\n\u001b[0;32m      4\u001b[0m         \u001b[1;34m\"Can't stop. Won't stop. Chatting! This is Tweet #%s!\"\u001b[0m \u001b[1;33m%\u001b[0m\u001b[1;33m\u001b[0m\u001b[0m\n\u001b[1;32m----> 5\u001b[1;33m         tweet_number)\n\u001b[0m",
      "\u001b[1;32m~\\Anaconda3\\lib\\site-packages\\tweepy\\api.py\u001b[0m in \u001b[0;36mupdate_status\u001b[1;34m(self, *args, **kwargs)\u001b[0m\n\u001b[0;32m    192\u001b[0m             \u001b[0mallowed_param\u001b[0m\u001b[1;33m=\u001b[0m\u001b[1;33m[\u001b[0m\u001b[1;34m'status'\u001b[0m\u001b[1;33m,\u001b[0m \u001b[1;34m'in_reply_to_status_id'\u001b[0m\u001b[1;33m,\u001b[0m \u001b[1;34m'in_reply_to_status_id_str'\u001b[0m\u001b[1;33m,\u001b[0m \u001b[1;34m'auto_populate_reply_metadata'\u001b[0m\u001b[1;33m,\u001b[0m \u001b[1;34m'lat'\u001b[0m\u001b[1;33m,\u001b[0m \u001b[1;34m'long'\u001b[0m\u001b[1;33m,\u001b[0m \u001b[1;34m'source'\u001b[0m\u001b[1;33m,\u001b[0m \u001b[1;34m'place_id'\u001b[0m\u001b[1;33m,\u001b[0m \u001b[1;34m'display_coordinates'\u001b[0m\u001b[1;33m]\u001b[0m\u001b[1;33m,\u001b[0m\u001b[1;33m\u001b[0m\u001b[0m\n\u001b[0;32m    193\u001b[0m             \u001b[0mrequire_auth\u001b[0m\u001b[1;33m=\u001b[0m\u001b[1;32mTrue\u001b[0m\u001b[1;33m\u001b[0m\u001b[0m\n\u001b[1;32m--> 194\u001b[1;33m         )(post_data=post_data, *args, **kwargs)\n\u001b[0m\u001b[0;32m    195\u001b[0m \u001b[1;33m\u001b[0m\u001b[0m\n\u001b[0;32m    196\u001b[0m     \u001b[1;32mdef\u001b[0m \u001b[0mmedia_upload\u001b[0m\u001b[1;33m(\u001b[0m\u001b[0mself\u001b[0m\u001b[1;33m,\u001b[0m \u001b[0mfilename\u001b[0m\u001b[1;33m,\u001b[0m \u001b[1;33m*\u001b[0m\u001b[0margs\u001b[0m\u001b[1;33m,\u001b[0m \u001b[1;33m**\u001b[0m\u001b[0mkwargs\u001b[0m\u001b[1;33m)\u001b[0m\u001b[1;33m:\u001b[0m\u001b[1;33m\u001b[0m\u001b[0m\n",
      "\u001b[1;32m~\\Anaconda3\\lib\\site-packages\\tweepy\\binder.py\u001b[0m in \u001b[0;36m_call\u001b[1;34m(*args, **kwargs)\u001b[0m\n\u001b[0;32m    248\u001b[0m             \u001b[1;32mreturn\u001b[0m \u001b[0mmethod\u001b[0m\u001b[1;33m\u001b[0m\u001b[0m\n\u001b[0;32m    249\u001b[0m         \u001b[1;32melse\u001b[0m\u001b[1;33m:\u001b[0m\u001b[1;33m\u001b[0m\u001b[0m\n\u001b[1;32m--> 250\u001b[1;33m             \u001b[1;32mreturn\u001b[0m \u001b[0mmethod\u001b[0m\u001b[1;33m.\u001b[0m\u001b[0mexecute\u001b[0m\u001b[1;33m(\u001b[0m\u001b[1;33m)\u001b[0m\u001b[1;33m\u001b[0m\u001b[0m\n\u001b[0m\u001b[0;32m    251\u001b[0m \u001b[1;33m\u001b[0m\u001b[0m\n\u001b[0;32m    252\u001b[0m     \u001b[1;31m# Set pagination mode\u001b[0m\u001b[1;33m\u001b[0m\u001b[1;33m\u001b[0m\u001b[0m\n",
      "\u001b[1;32m~\\Anaconda3\\lib\\site-packages\\tweepy\\binder.py\u001b[0m in \u001b[0;36mexecute\u001b[1;34m(self)\u001b[0m\n\u001b[0;32m    232\u001b[0m                     \u001b[1;32mraise\u001b[0m \u001b[0mRateLimitError\u001b[0m\u001b[1;33m(\u001b[0m\u001b[0merror_msg\u001b[0m\u001b[1;33m,\u001b[0m \u001b[0mresp\u001b[0m\u001b[1;33m)\u001b[0m\u001b[1;33m\u001b[0m\u001b[0m\n\u001b[0;32m    233\u001b[0m                 \u001b[1;32melse\u001b[0m\u001b[1;33m:\u001b[0m\u001b[1;33m\u001b[0m\u001b[0m\n\u001b[1;32m--> 234\u001b[1;33m                     \u001b[1;32mraise\u001b[0m \u001b[0mTweepError\u001b[0m\u001b[1;33m(\u001b[0m\u001b[0merror_msg\u001b[0m\u001b[1;33m,\u001b[0m \u001b[0mresp\u001b[0m\u001b[1;33m,\u001b[0m \u001b[0mapi_code\u001b[0m\u001b[1;33m=\u001b[0m\u001b[0mapi_error_code\u001b[0m\u001b[1;33m)\u001b[0m\u001b[1;33m\u001b[0m\u001b[0m\n\u001b[0m\u001b[0;32m    235\u001b[0m \u001b[1;33m\u001b[0m\u001b[0m\n\u001b[0;32m    236\u001b[0m             \u001b[1;31m# Parse the response payload\u001b[0m\u001b[1;33m\u001b[0m\u001b[1;33m\u001b[0m\u001b[0m\n",
      "\u001b[1;31mTweepError\u001b[0m: [{'message': 'Application cannot perform write actions. Contact Twitter Platform Operations through https://support.twitter.com/forms/platform', 'code': 261}]"
     ]
    }
   ],
   "source": [
    "# Infinitely loop\n",
    "while(True):\n",
    "\n",
    "    # Call the TweetQuotes function and specify the tweet number\n",
    "    TweetOut(counter)\n",
    "\n",
    "    # Once tweeted, wait 60 seconds before doing anything else\n",
    "    time.sleep(60)\n",
    "\n",
    "    # Add 1 to the counter prior to re-running the loop\n",
    "    counter = counter + 1"
   ]
  },
  {
   "cell_type": "markdown",
   "metadata": {},
   "source": [
    "# Students Turn Activity 11 QuoteBot Instructions\n",
    "\n",
    "In this activity you are going to create an application that tweets out quotes.\n",
    "\n",
    "* Set up Twitter credentials\n",
    "\n",
    "* Tweet the next quote\n",
    "\n",
    "* Print success message\n",
    "\n",
    "* Set timer to run every minute"
   ]
  },
  {
   "cell_type": "code",
   "execution_count": null,
   "metadata": {},
   "outputs": [],
   "source": [
    "happy_quotes = [\n",
    "    \"For every minute you are angry you lose sixty seconds of happiness. - Ralph Waldo Emerson\",\n",
    "    \"Folks are usually about as happy as they make their minds up to be. - Abraham Lincoln\",\n",
    "    \"Happiness is when what you think, what you say, and what you do are in harmony. - Mahatma Gandhi\",\n",
    "    \"Count your age by friends, not years. Count your life by smiles, not tears. - John Lennon\",\n",
    "    \"Happiness is a warm puppy. - Charles M. Schulz\",\n",
    "    \"The happiness of your life depends upon the quality of your thoughts. - Marcus Aurelius\",\n",
    "    \"Now and then it's good to pause in our pursuit of happiness and just be happy. - Guillaume Apollinaire\"]\n",
    "\n",
    "# Create function for tweeting\n",
    "def TweetHappy(counter):\n",
    "    auth = tweepy.OAuthHandler(consumer_key, consumer_secret)\n",
    "    auth.set_access_token(access_token, access_token_secret)\n",
    "    api = tweepy.API(auth, parser=tweepy.parsers.JSONParser())\n",
    "    \n",
    "    api.update_status(happy_quotes[counter])\n",
    "    print(\"Tweet successful\")\n",
    "\n",
    "# Set timer to run every minute\n",
    "counter = 0\n",
    "while counter < 60:\n",
    "    TweetHappy(counter)\n",
    "    time.sleep(60)\n",
    "    counter += 1"
   ]
  }
 ],
 "metadata": {
  "kernelspec": {
   "display_name": "Python 3",
   "language": "python",
   "name": "python3"
  },
  "language_info": {
   "codemirror_mode": {
    "name": "ipython",
    "version": 3
   },
   "file_extension": ".py",
   "mimetype": "text/x-python",
   "name": "python",
   "nbconvert_exporter": "python",
   "pygments_lexer": "ipython3",
   "version": "3.6.4"
  }
 },
 "nbformat": 4,
 "nbformat_minor": 2
}
