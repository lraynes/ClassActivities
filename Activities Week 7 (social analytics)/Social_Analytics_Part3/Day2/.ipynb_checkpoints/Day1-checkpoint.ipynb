{
 "cells": [
  {
   "cell_type": "markdown",
   "metadata": {},
   "source": [
    "### Students Turn Activity 1 Instructions\n",
    "\n",
    "In this activity, we are going to review Tweepy.\n",
    "\n",
    "* Loop through 5 pages of tweets (100 tweets total)\n",
    "\n",
    "* Print out each tweet with a number keeping track the number of tweets.  For example, the most recent tweet should read \"Tweet 1: <Text of the most recent tweet>\".\n",
    "\n",
    "### Hints\n",
    "\n",
    "* Use a nested for loop and a counter at the end of your loop to increment.\n",
    "\n",
    "* Refer to the [Tweepy Documentation](http://docs.tweepy.org/en/v3.5.0/api.html#timeline-methods).\n",
    "\n",
    "- - -"
   ]
  },
  {
   "cell_type": "code",
   "execution_count": null,
   "metadata": {},
   "outputs": [],
   "source": [
    "# Dependencies\n",
    "import tweepy\n",
    "import json\n",
    "from config import (consumer_key, consumer_secret, \n",
    "                    access_token, access_token_secret)\n",
    "\n",
    "# Setup Tweepy API Authentication\n",
    "auth = tweepy.OAuthHandler(consumer_key, consumer_secret)\n",
    "auth.set_access_token(access_token, access_token_secret)\n",
    "api = tweepy.API(auth, parser=tweepy.parsers.JSONParser())"
   ]
  },
  {
   "cell_type": "code",
   "execution_count": null,
   "metadata": {},
   "outputs": [],
   "source": [
    "# Target User Account\n",
    "\n",
    "\n",
    "# Counter\n",
    "\n",
    "\n",
    "# Loop through 5 pages of tweets (total 100 tweets)\n",
    "\n",
    "\n",
    "# Get all tweets from home feed\n",
    "\n",
    "\n"
   ]
  },
  {
   "cell_type": "markdown",
   "metadata": {},
   "source": [
    "# Instructor Turn Activity 2 \n",
    "#### Introducing Valence Aware Dictionary and sentiment Reasoner (VADER).\n",
    "#### Resource https://github.com/cjhutto/vaderSentiment"
   ]
  },
  {
   "cell_type": "code",
   "execution_count": null,
   "metadata": {},
   "outputs": [],
   "source": [
    "!pip install vaderSentiment==2.5"
   ]
  },
  {
   "cell_type": "code",
   "execution_count": null,
   "metadata": {},
   "outputs": [],
   "source": [
    "# Import and Initialize Sentiment Analyzer\n",
    "from vaderSentiment.vaderSentiment import SentimentIntensityAnalyzer\n",
    "analyzer = SentimentIntensityAnalyzer()"
   ]
  },
  {
   "cell_type": "code",
   "execution_count": null,
   "metadata": {},
   "outputs": [],
   "source": [
    "# Sample Strings\n",
    "happy_string = \"Your humble instructor is smart, beautiful, and funny!\"\n",
    "# angry_string = (\"Ugh. I am feeling so distraught! \"\n",
    "#                 \"I hate everything. \"\n",
    "#                 \"I am mad at everyone.\")\n",
    "# happy_emoticon_string = \":-) :) :-D  ;-) :-P\"\n",
    "# angry_emoticon_string = \":-( :( D-< :'(\"\n",
    "# funny_slang_string = \"lol rofl haha\"\n",
    "# angry_slang_string = \"Sux meh grr\"\n",
    "\n",
    "# Target String Setting\n",
    "target_string = happy_string"
   ]
  },
  {
   "cell_type": "code",
   "execution_count": null,
   "metadata": {},
   "outputs": [],
   "source": [
    "# Run analysis\n",
    "results = analyzer.polarity_scores(target_string)\n",
    "results"
   ]
  },
  {
   "cell_type": "code",
   "execution_count": null,
   "metadata": {},
   "outputs": [],
   "source": [
    "# Run analysis\n",
    "compound = results[\"compound\"]\n",
    "pos = results[\"pos\"]\n",
    "neu = results[\"neu\"]\n",
    "neg = results[\"neg\"]"
   ]
  },
  {
   "cell_type": "code",
   "execution_count": null,
   "metadata": {},
   "outputs": [],
   "source": [
    "# Print Analysis\n",
    "print(target_string)\n",
    "print(\"Compound Score:\", compound)\n",
    "print(\"Positive Score:\", pos)\n",
    "print(\"Neutral Score:\", neu)\n",
    "print(\"Negative Score: \", neg)"
   ]
  },
  {
   "cell_type": "markdown",
   "metadata": {},
   "source": [
    "## Students Turn Activity 3\n",
    "## Sentiment, I am your analysis\n",
    "\n",
    "Your turn to run a VADER analysis.\n",
    "\n",
    "### Instructions\n",
    "\n",
    "* Open and read the three sample texts.\n",
    "\n",
    "* For each sample, print out the sample text and the \"compound\", \"positive\", \"neutral\" and \"negative\" score for each.\n",
    "\n",
    "### Hints\n",
    "\n",
    "* Start with reading files and printing them. Once you have this, treat the files as if they were in your script the entire time. (What would be good to do this?)\n",
    "\n",
    "- - -"
   ]
  },
  {
   "cell_type": "code",
   "execution_count": null,
   "metadata": {},
   "outputs": [],
   "source": [
    "# Import and Initialize Sentiment Analyzer\n",
    "from vaderSentiment.vaderSentiment import SentimentIntensityAnalyzer\n",
    "analyzer = SentimentIntensityAnalyzer()"
   ]
  },
  {
   "cell_type": "code",
   "execution_count": null,
   "metadata": {},
   "outputs": [],
   "source": [
    "# Placeholder for strings\n",
    "\n",
    "\n",
    "# Open each of the samples\n"
   ]
  },
  {
   "cell_type": "code",
   "execution_count": null,
   "metadata": {},
   "outputs": [],
   "source": [
    "# Run Vader Sentiment Analysis on Each of the Samples\n",
    "\n",
    "# Loop through Each Sample\n",
    "\n",
    "\n",
    "# Run Vader Analysis on each Sample\n",
    "\n",
    "\n",
    "# Print Samples and Analysis\n"
   ]
  },
  {
   "cell_type": "markdown",
   "metadata": {},
   "source": [
    "## Students Turn Activity 4 Twitter Analysis\n",
    "\n",
    "In this activity, you will inspect the sentiment of a famous individual's tweets.\n",
    "\n",
    "### Instructions\n",
    "\n",
    "* Using the tweepy package, analyze the tweets from \"@DalaiLama\".\n",
    "\n",
    "  * Analyze a total of 200 tweets. (How many tweets are on a page?)\n",
    "\n",
    "  * Store the different scores (positive, negative, neutral, compound) in different lists.\n",
    "\n",
    "  * Print the user's name and the mean of the following scores:\n",
    "\n",
    "    * Compound\n",
    "\n",
    "    * Positive\n",
    "\n",
    "    * Neutral\n",
    "\n",
    "    * Negative\n",
    "\n",
    "### Bonus\n",
    "\n",
    "* Compare the analysis to two other twitter accounts.  Display the results in a Pandas DataFrame.\n",
    "\n",
    "* Feel free to use accounts of your own but remember you need to have at least 200 tweets.\n",
    "\n",
    "* If you don't have an account or enough tweets, try using \"@RealDonaldtrump\" and \"@Katyperry\"\n",
    "\n",
    "- - -\n"
   ]
  },
  {
   "cell_type": "code",
   "execution_count": null,
   "metadata": {},
   "outputs": [],
   "source": [
    "# Dependencies\n",
    "import tweepy\n",
    "import numpy as np\n",
    "\n",
    "# Import and Initialize Sentiment Analyzer\n",
    "from vaderSentiment.vaderSentiment import SentimentIntensityAnalyzer\n",
    "analyzer = SentimentIntensityAnalyzer()\n",
    "\n",
    "# Twitter API Keys\n",
    "from config import (consumer_key,\n",
    "                    consumer_secret,\n",
    "                    access_token,\n",
    "                    access_token_secret)\n",
    "\n",
    "# Setup Tweepy API Authentication\n",
    "auth = tweepy.OAuthHandler(consumer_key, consumer_secret)\n",
    "auth.set_access_token(access_token, access_token_secret)\n",
    "api = tweepy.API(auth, parser=tweepy.parsers.JSONParser())"
   ]
  },
  {
   "cell_type": "code",
   "execution_count": null,
   "metadata": {},
   "outputs": [],
   "source": [
    "# Target User Account\n",
    "\n",
    "\n",
    "# Variables for holding sentiments\n",
    "\n",
    "\n",
    "# Loop through 10 pages of tweets (total 200 tweets)\n",
    "\n",
    "\n",
    "# Get all tweets from home feed\n",
    "\n",
    "# Loop through all tweets\n",
    "\n",
    "\n",
    "# Run Vader Analysis on each tweet\n",
    "\n",
    "\n",
    "# Add each value to the appropriate list\n"
   ]
  },
  {
   "cell_type": "code",
   "execution_count": null,
   "metadata": {},
   "outputs": [],
   "source": [
    "# Print the Averages\n"
   ]
  },
  {
   "cell_type": "markdown",
   "metadata": {},
   "source": [
    "# Instructor Turn Activity 5"
   ]
  },
  {
   "cell_type": "code",
   "execution_count": null,
   "metadata": {},
   "outputs": [],
   "source": [
    "# Dependencies\n",
    "import tweepy\n",
    "import numpy as np\n",
    "\n",
    "# Twitter API Keys\n",
    "from config import (consumer_key,\n",
    "                    consumer_secret,\n",
    "                    access_token,\n",
    "                    access_token_secret)\n",
    "\n",
    "# Setup Tweepy API Authentication\n",
    "auth = tweepy.OAuthHandler(consumer_key, consumer_secret)\n",
    "auth.set_access_token(access_token, access_token_secret)\n",
    "api = tweepy.API(auth, parser=tweepy.parsers.JSONParser())"
   ]
  },
  {
   "cell_type": "code",
   "execution_count": null,
   "metadata": {},
   "outputs": [],
   "source": [
    "# Search for People Tweeting about Mark Hamill\n",
    "search_term = \"Mark Hamill\"\n",
    "\n",
    "# Retrieve 100 tweets\n",
    "public_tweets = api.search(search_term, count=100)\n",
    "\n",
    "# Print Tweets\n",
    "for tweet in public_tweets[\"statuses\"]:\n",
    "\n",
    "    # Print the username\n",
    "    print(tweet[\"user\"][\"screen_name\"])\n",
    "\n",
    "    # Print the tweet text\n",
    "    print(tweet[\"text\"])\n",
    "    print()"
   ]
  },
  {
   "cell_type": "code",
   "execution_count": null,
   "metadata": {},
   "outputs": [],
   "source": [
    "# Print total number of tweets retrieved\n",
    "print(counter)"
   ]
  },
  {
   "cell_type": "code",
   "execution_count": null,
   "metadata": {},
   "outputs": [],
   "source": [
    "# Print the number of unique ids retrieved\n",
    "print(len(unique_ids))"
   ]
  },
  {
   "cell_type": "code",
   "execution_count": null,
   "metadata": {},
   "outputs": [],
   "source": [
    "# With Filter\n",
    "# Dependencies\n",
    "import tweepy\n",
    "\n",
    "# Twitter API Keys\n",
    "from config import (consumer_key, \n",
    "                    consumer_secret, \n",
    "                    access_token, \n",
    "                    access_token_secret)\n",
    "\n",
    "# Setup Tweepy API Authentication\n",
    "auth = tweepy.OAuthHandler(consumer_key, consumer_secret)\n",
    "auth.set_access_token(access_token, access_token_secret)\n",
    "api = tweepy.API(auth, parser=tweepy.parsers.JSONParser())"
   ]
  },
  {
   "cell_type": "code",
   "execution_count": null,
   "metadata": {},
   "outputs": [],
   "source": [
    "# \"Real Person\" Filters\n",
    "min_tweets = 5\n",
    "max_tweets = 10000\n",
    "max_followers = 2500\n",
    "max_following = 2500\n",
    "lang = \"en\""
   ]
  },
  {
   "cell_type": "code",
   "execution_count": null,
   "metadata": {},
   "outputs": [],
   "source": [
    "# Search for People Tweeting about Mark Hamill\n",
    "search_term = \"Mark Hamill\"\n",
    "\n",
    "# Create variable for holding the oldest tweet\n",
    "oldest_tweet = None\n",
    "\n",
    "# List to hold unique IDs\n",
    "unique_ids = []\n",
    "\n",
    "# Counter to keep track of the number of tweets retrieved\n",
    "counter = 0\n",
    "\n",
    "# Loop through 5 times (total of 500 tweets)\n",
    "for x in range(5):\n",
    "\n",
    "    # Retrieve 100 most recent tweets -- specifying a max_id\n",
    "    public_tweets = api.search(search_term, \n",
    "                               count=100, \n",
    "                               result_type=\"recent\", \n",
    "                               max_id=oldest_tweet)\n",
    "\n",
    "    # Print Tweets\n",
    "    for tweet in public_tweets[\"statuses\"]:\n",
    "        \n",
    "        tweet_id = tweet_id = tweet[\"id\"]\n",
    "        \n",
    "        # Use filters to check if user meets conditions\n",
    "        if (tweet[\"user\"][\"followers_count\"] < max_followers and\n",
    "            tweet[\"user\"][\"statuses_count\"] > min_tweets and\n",
    "            tweet[\"user\"][\"statuses_count\"] < max_tweets and\n",
    "            tweet[\"user\"][\"friends_count\"] < max_following and\n",
    "                tweet[\"user\"][\"lang\"] == lang):\n",
    "\n",
    "            # Print the username\n",
    "            print(tweet[\"user\"][\"screen_name\"])\n",
    "\n",
    "            # Print the tweet id\n",
    "            print(tweet[\"id_str\"])\n",
    "\n",
    "            # Print the tweet text\n",
    "            print(tweet[\"text\"])\n",
    "            print()\n",
    "\n",
    "            # Append tweet_id to ids list if it doesn't already exist\n",
    "            # This allows checking for duplicate tweets\n",
    "            if tweet_id not in unique_ids:\n",
    "                unique_ids.append(tweet_id)\n",
    "\n",
    "            # Increase counter by 1\n",
    "            counter += 1\n",
    "\n",
    "        # Reassign the the oldest tweet (i.e. the max_id)\n",
    "        # Subtract 1 so the previous oldest isn't included\n",
    "        # in the new search\n",
    "        oldest_tweet = tweet_id - 1"
   ]
  },
  {
   "cell_type": "code",
   "execution_count": null,
   "metadata": {},
   "outputs": [],
   "source": [
    "# Print total number of tweets retrieved\n",
    "print(counter)"
   ]
  },
  {
   "cell_type": "code",
   "execution_count": null,
   "metadata": {},
   "outputs": [],
   "source": [
    "# Print the number of unique ids retrieved\n",
    "print(len(unique_ids))\n"
   ]
  },
  {
   "cell_type": "markdown",
   "metadata": {},
   "source": [
    "# Students Turn Activity 7 Frequent Twitter Miles\n",
    "\n",
    "Airlines get a lot of flack on twitter, especially from big time Journalists who think they are the only ones affected by flying. Lets see what kind of tone everyone else takes when tweeting about them.\n",
    "\n",
    "### Instructions\n",
    "\n",
    "* Your goal is to retrieve 1000 tweets for each of the 7 popular airlines and run a VADER sentiment analysis on them.\n",
    "\n",
    "* Create an empty list to hold to results from each airline,\n",
    "\n",
    "* Filter the tweets using the given \"Real Person\" filter variables.\n",
    "\n",
    "* Create a \"sentiment\" dictionary for each airline that includes the search term, and the averages of the compound, neutral, positive, and negative scores.  Print this dictionary and append it to a list holding each airline's results.\n",
    "\n",
    "* Create a DataFrame to display the results.\n",
    "\n",
    "### HINTS\n",
    "\n",
    "* Start with a subset of data for each airline while testing. Then, adapt your code to collect all 1000 tweets per airline.\n",
    "\n",
    "* For a reference on using max_id, see this link: [Working with Timelines](https://developer.twitter.com/en/docs/tweets/timelines/guides/working-with-timelines)\n",
    "\n",
    "- - -\n"
   ]
  },
  {
   "cell_type": "code",
   "execution_count": null,
   "metadata": {},
   "outputs": [],
   "source": [
    "# Dependencies\n",
    "import tweepy\n",
    "import numpy as np\n",
    "import pandas as pd\n",
    "\n",
    "# Import and Initialize Sentiment Analyzer\n",
    "from vaderSentiment.vaderSentiment import SentimentIntensityAnalyzer\n",
    "analyzer = SentimentIntensityAnalyzer()\n",
    "\n",
    "# Twitter API Keys\n",
    "from config import (consumer_key, \n",
    "                    consumer_secret, \n",
    "                    access_token, \n",
    "                    access_token_secret)\n",
    "\n",
    "# Setup Tweepy API Authentication\n",
    "auth = tweepy.OAuthHandler(consumer_key, consumer_secret)\n",
    "auth.set_access_token(access_token, access_token_secret)\n",
    "api = tweepy.API(auth, parser=tweepy.parsers.JSONParser())"
   ]
  },
  {
   "cell_type": "code",
   "execution_count": null,
   "metadata": {},
   "outputs": [],
   "source": [
    "# Target Search Term\n",
    "\n",
    "# \"Real Person\" Filters\n",
    "\n",
    "\n",
    "# List to hold results\n",
    "\n",
    "\n",
    "# Loop through all target users\n",
    "\n",
    "\n",
    "# Variable for holding the oldest tweet\n",
    "\n",
    "\n",
    "# Variables for holding sentiments\n",
    "\n",
    "\n",
    "# Loop through 10 times\n",
    "   \n",
    "\n",
    "# Run search around each tweet\n",
    "\n",
    "# Loop through all tweets\n",
    "    \n",
    "# Use filters to check if user meets conditions\n",
    "            \n",
    "# Run Vader Analysis on each tweet\n",
    "     \n",
    "\n",
    "# Add each value to the appropriate list\n",
    "               \n",
    "# Set the new oldest_tweet value\n",
    "      \n",
    "\n",
    "# Store the Average Sentiments\n",
    "   \n",
    "\n",
    "# Print the Sentiments\n",
    "\n",
    "    \n",
    "# Append airline results to 'results_list'\n"
   ]
  },
  {
   "cell_type": "code",
   "execution_count": null,
   "metadata": {},
   "outputs": [],
   "source": [
    "# Create a DataFrame using results_list and display\n"
   ]
  },
  {
   "cell_type": "markdown",
   "metadata": {},
   "source": [
    "# Students Activity 8\n",
    "# Now Plot it out\n",
    "\n",
    "Sentiment Analysis is already crazy fun, but how can we visualize it? In this exercise we will do just that!\n",
    "\n",
    "### Instructions\n",
    "\n",
    "* Run a sentiment analysis on tweets from \"@SouthwestAir\".\n",
    "\n",
    "* On top of you regular analysis, you should also keep track of how many tweets ago was it tweeted.\n",
    "\n",
    "* Next store our results into a pandas DataFrame and read results.\n",
    "\n",
    "* Finally create a plot with the follow labels.\n",
    "\n",
    "  * Title as \"Sentiment Analysis of Tweet (`date`) for `Twitter Handle`.\n",
    "\n",
    "  * Y label as \"Tweet Polarity\"\n",
    "\n",
    "  * X label as \"Tweets Ago\"\n",
    "\n",
    "### Hints\n",
    "\n",
    "* Make sure you are using the correct method from Tweepy to gather statuses from a specific user.\n",
    "\n",
    "### Bonus\n",
    "\n",
    "* Order the tweets from oldest to newest in the plot.\n",
    "\n",
    "- - -"
   ]
  },
  {
   "cell_type": "code",
   "execution_count": null,
   "metadata": {},
   "outputs": [],
   "source": [
    "# Dependencies\n",
    "import tweepy\n",
    "import numpy as np\n",
    "import pandas as pd\n",
    "from datetime import datetime\n",
    "import matplotlib.pyplot as plt\n",
    "from matplotlib import style\n",
    "style.use('ggplot')\n",
    "\n",
    "# Import and Initialize Sentiment Analyzer\n",
    "from vaderSentiment.vaderSentiment import SentimentIntensityAnalyzer\n",
    "analyzer = SentimentIntensityAnalyzer()\n",
    "\n",
    "# Twitter API Keys\n",
    "from config import (consumer_key, \n",
    "                    consumer_secret, \n",
    "                    access_token, \n",
    "                    access_token_secret)\n",
    "\n",
    "# Setup Tweepy API Authentication\n",
    "auth = tweepy.OAuthHandler(consumer_key, consumer_secret)\n",
    "auth.set_access_token(access_token, access_token_secret)\n",
    "api = tweepy.API(auth, parser=tweepy.parsers.JSONParser())"
   ]
  },
  {
   "cell_type": "code",
   "execution_count": null,
   "metadata": {},
   "outputs": [],
   "source": [
    "# Target Account\n",
    "\n",
    "# Counter\n",
    "\n",
    "# Variables for holding sentiments\n",
    "\n",
    "# Variable for max_id\n",
    "\n",
    "# Loop through 5 pages of tweets (total 100 tweets)\n",
    "\n",
    "# Get all tweets from home feed\n",
    "    \n",
    "# Loop through all tweets \n",
    "    \n",
    "# Print Tweets\n",
    "# print(\"Tweet %s: %s\" % (counter, tweet[\"text\"]))\n",
    "        \n",
    "# Run Vader Analysis on each tweet\n",
    "\n",
    "        \n",
    "# Get Tweet ID, subtract 1, and assign to oldest_tweet\n",
    "        \n",
    "# Add sentiments for each tweet into a list\n",
    "       \n",
    "# Add to counter "
   ]
  },
  {
   "cell_type": "code",
   "execution_count": null,
   "metadata": {},
   "outputs": [],
   "source": [
    "# Convert sentiments to DataFrame\n"
   ]
  },
  {
   "cell_type": "code",
   "execution_count": null,
   "metadata": {},
   "outputs": [],
   "source": [
    "# Create plot\n",
    "\n",
    "# # Incorporate the other graph properties\n"
   ]
  },
  {
   "cell_type": "markdown",
   "metadata": {},
   "source": [
    "# Instructor Turn Activity 9 In Tweets Out"
   ]
  },
  {
   "cell_type": "code",
   "execution_count": null,
   "metadata": {},
   "outputs": [],
   "source": [
    "# Dependencies\n",
    "import tweepy\n",
    "\n",
    "# Twitter API Keys\n",
    "from config import (consumer_key, \n",
    "                    consumer_secret, \n",
    "                    access_token, \n",
    "                    access_token_secret)\n",
    "\n",
    "# Setup Tweepy API Authentication\n",
    "auth = tweepy.OAuthHandler(consumer_key, consumer_secret)\n",
    "auth.set_access_token(access_token, access_token_secret)\n",
    "api = tweepy.API(auth, parser=tweepy.parsers.JSONParser())"
   ]
  },
  {
   "cell_type": "code",
   "execution_count": null,
   "metadata": {},
   "outputs": [],
   "source": [
    "# Create a status update\n",
    "api.update_status(\"Hey! I'm tweeting programmatically!\")\n",
    "\n",
    "# Create a status update\n",
    "api.update_with_media(\"./Resources/too-much-big-data.jpg\",\n",
    "                      \"And now... I just tweeted an image programmatically!\")"
   ]
  },
  {
   "cell_type": "markdown",
   "metadata": {},
   "source": [
    "# Students Activity 10 Hello Twitter World\n",
    "\n",
    "You've spent so much time analyzing and reading everyone elses tweet's that you now have alot on your mind. Well fear not! Now is your time to talk to the world.\n",
    "\n",
    "### Instructions\n",
    "\n",
    "* Update your twitter with two separate status updates.\n",
    "\n",
    "* Update your twitter with a photo and a witty comment to go with it.\n",
    "\n",
    "* Look up how to add friends by using \"Friendship Methods\". Programatically add someone in class as your friend, and have them add you as a friend.\n",
    "\n",
    "* Once you are both twitter followers of each other you can then send direct messages to one another.  Give it a try!\n",
    "\n",
    "* Use the [tweepy docs](http://tweepy.readthedocs.io/en/v3.5.0/api.html) for reference\n",
    "\n",
    "### Bonus\n",
    "\n",
    "* Retweet a tweet from someone else's account.\n",
    "\n",
    "### Double Bonus\n",
    "\n",
    "* Delete some of your most recent tweets.\n",
    "\n",
    "- - -"
   ]
  },
  {
   "cell_type": "code",
   "execution_count": null,
   "metadata": {},
   "outputs": [],
   "source": [
    "# Note: Twitter prevents from tweeting the same status or message multiple\n",
    "# times. Be sure to change the text when testing.\n",
    "\n",
    "# Create two status updates\n"
   ]
  },
  {
   "cell_type": "code",
   "execution_count": null,
   "metadata": {},
   "outputs": [],
   "source": [
    "# Create a status update with an image\n"
   ]
  },
  {
   "cell_type": "code",
   "execution_count": null,
   "metadata": {},
   "outputs": [],
   "source": [
    "# Create a friendship with another user\n"
   ]
  },
  {
   "cell_type": "code",
   "execution_count": null,
   "metadata": {},
   "outputs": [],
   "source": [
    "# Send a direct message to another user (Hint: You will need them to\n",
    "# follow your account)\n"
   ]
  },
  {
   "cell_type": "code",
   "execution_count": null,
   "metadata": {},
   "outputs": [],
   "source": [
    "# Bonus: Retweet any tweet from someone else's account (Hint: You will\n",
    "# need to locate a tweet's id)\n"
   ]
  },
  {
   "cell_type": "code",
   "execution_count": null,
   "metadata": {},
   "outputs": [],
   "source": [
    "# Bonus: Delete your most recent tweet (Hint: \"Destroy\")\n",
    "\n"
   ]
  },
  {
   "cell_type": "code",
   "execution_count": null,
   "metadata": {},
   "outputs": [],
   "source": []
  }
 ],
 "metadata": {
  "kernelspec": {
   "display_name": "Python 3",
   "language": "python",
   "name": "python3"
  },
  "language_info": {
   "codemirror_mode": {
    "name": "ipython",
    "version": 3
   },
   "file_extension": ".py",
   "mimetype": "text/x-python",
   "name": "python",
   "nbconvert_exporter": "python",
   "pygments_lexer": "ipython3",
   "version": "3.6.4"
  }
 },
 "nbformat": 4,
 "nbformat_minor": 2
}
