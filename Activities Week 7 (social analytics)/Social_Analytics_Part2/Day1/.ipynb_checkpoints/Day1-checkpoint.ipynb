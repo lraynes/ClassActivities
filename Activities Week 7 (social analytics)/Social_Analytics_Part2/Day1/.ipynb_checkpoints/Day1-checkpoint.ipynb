{
 "cells": [
  {
   "cell_type": "markdown",
   "metadata": {},
   "source": [
    "# Instructor Turn Get Home Tweets"
   ]
  },
  {
   "cell_type": "code",
   "execution_count": null,
   "metadata": {},
   "outputs": [],
   "source": [
    "!pip install tweepy"
   ]
  },
  {
   "cell_type": "code",
   "execution_count": null,
   "metadata": {},
   "outputs": [],
   "source": [
    "# Dependencies\n",
    "import json\n",
    "import tweepy"
   ]
  },
  {
   "cell_type": "code",
   "execution_count": null,
   "metadata": {},
   "outputs": [],
   "source": [
    "# Import Twitter API Keys\n",
    "from config import consumer_key, consumer_secret, access_token, access_token_secret"
   ]
  },
  {
   "cell_type": "code",
   "execution_count": null,
   "metadata": {},
   "outputs": [],
   "source": [
    "# Setup Tweepy API Authentication\n",
    "auth = tweepy.OAuthHandler(consumer_key, consumer_secret)\n",
    "auth.set_access_token(access_token, access_token_secret)\n",
    "api = tweepy.API(auth, parser=tweepy.parsers.JSONParser())"
   ]
  },
  {
   "cell_type": "code",
   "execution_count": null,
   "metadata": {},
   "outputs": [],
   "source": [
    "# Get all tweets from home feed\n",
    "public_tweets = api.home_timeline()"
   ]
  },
  {
   "cell_type": "code",
   "execution_count": null,
   "metadata": {},
   "outputs": [],
   "source": [
    "# Loop through all tweets\n",
    "for tweet in public_tweets:\n",
    "    # Utilize JSON dumps to generate a pretty-printed json\n",
    "    print(json.dumps(tweet, sort_keys=True, indent=4))"
   ]
  },
  {
   "cell_type": "markdown",
   "metadata": {},
   "source": [
    "# Students Turn Activity 2\n",
    "# Get My Tweets\n",
    "\n",
    "## Instructions\n",
    "\n",
    "* In this activity, you will retrieve the most recent tweets sent out from your Twitter account using the Tweepy library.\n",
    "\n",
    "  * Import the necessary libraries needed to talk to Twitter's API.\n",
    "\n",
    "  * Import your keys from your `config.py` file.\n",
    "\n",
    "  * Set up Tweepy authentication.\n",
    "\n",
    "  * Write code to fetch all tweets from your home feed.\n",
    "\n",
    "  * Loop through and print out tweets.\n",
    "\n",
    "## Hint:\n",
    "\n",
    "* Consult the [Tweepy](http://docs.tweepy.org/en/v3.5.0/api.html?) documentation for the method used to accomplish this task.\n",
    "\n",
    "## Bonus\n",
    "\n",
    "* If you finish the activity early, try tweaking the parameters. For example, can you fetch ten tweets with the script? If you haven't yet sent out more than ten tweets from your account, do that first."
   ]
  },
  {
   "cell_type": "code",
   "execution_count": null,
   "metadata": {},
   "outputs": [],
   "source": [
    "# Dependencies\n",
    "import tweepy\n",
    "import json"
   ]
  },
  {
   "cell_type": "code",
   "execution_count": null,
   "metadata": {},
   "outputs": [],
   "source": [
    "# Import Twitter API Keys\n",
    "from config import consumer_key, consumer_secret, access_token, access_token_secret\n"
   ]
  },
  {
   "cell_type": "code",
   "execution_count": null,
   "metadata": {},
   "outputs": [],
   "source": [
    "# Setup Tweepy API Authentication\n",
    "# YOUR CODE HERE\n"
   ]
  },
  {
   "cell_type": "code",
   "execution_count": null,
   "metadata": {},
   "outputs": [],
   "source": [
    "# Get all tweets from home feed\n",
    "# YOUR CODE HERE\n"
   ]
  },
  {
   "cell_type": "code",
   "execution_count": null,
   "metadata": {},
   "outputs": [],
   "source": [
    "# Loop through all tweets and print a prettified JSON of each tweet\n",
    "# YOUR CODE HERE\n"
   ]
  },
  {
   "cell_type": "markdown",
   "metadata": {},
   "source": [
    "# Students Turn Activity 3\n",
    "# Get Other Tweets\n",
    "\n",
    "* In this activity, we will retrieve tweets sent out by any account of our choosing!\n",
    "\n",
    "## Instructions\n",
    "\n",
    "* Choose a twitter account and save the screen name to a variable.\n",
    "\n",
    "* Retrieve the latest tweets sent out from that account.\n",
    "\n",
    "* Use the code from the previous activities to get you started!\n",
    "\n",
    "* Consult the [Tweepy Docs](http://docs.tweepy.org/en/v3.5.0/api.html) as needed."
   ]
  },
  {
   "cell_type": "code",
   "execution_count": null,
   "metadata": {},
   "outputs": [],
   "source": [
    "# Dependencies\n",
    "import tweepy\n",
    "import json\n",
    "from config import consumer_key, consumer_secret, access_token, access_token_secret"
   ]
  },
  {
   "cell_type": "code",
   "execution_count": null,
   "metadata": {},
   "outputs": [],
   "source": [
    "# Setup Tweepy API Authentication\n",
    "auth = tweepy.OAuthHandler(consumer_key, consumer_secret)\n",
    "auth.set_access_token(access_token, access_token_secret)\n",
    "api = tweepy.API(auth, parser=tweepy.parsers.JSONParser())"
   ]
  },
  {
   "cell_type": "code",
   "execution_count": null,
   "metadata": {},
   "outputs": [],
   "source": [
    "# Target User\n",
    "# CODE HERE\n"
   ]
  },
  {
   "cell_type": "code",
   "execution_count": null,
   "metadata": {},
   "outputs": [],
   "source": [
    "# Get all tweets from home feed\n",
    "# CODE HERE\n"
   ]
  },
  {
   "cell_type": "code",
   "execution_count": null,
   "metadata": {},
   "outputs": [],
   "source": [
    "# Loop through all tweets\n",
    "# CODE HERE\n"
   ]
  },
  {
   "cell_type": "markdown",
   "metadata": {},
   "source": [
    "# Everyone Turn Activity 4"
   ]
  },
  {
   "cell_type": "code",
   "execution_count": null,
   "metadata": {},
   "outputs": [],
   "source": [
    "# Dependencies\n",
    "import json"
   ]
  },
  {
   "cell_type": "code",
   "execution_count": null,
   "metadata": {},
   "outputs": [],
   "source": [
    "# Read JSONs\n",
    "sample = \"./Resources/SampleX.json\""
   ]
  },
  {
   "cell_type": "code",
   "execution_count": null,
   "metadata": {},
   "outputs": [],
   "source": [
    "def load_json(jsonfile):\n",
    "    \"\"\"Load JSON from a file\"\"\"\n",
    "    with open(jsonfile) as file_handle:\n",
    "        return json.load(file_handle)"
   ]
  },
  {
   "cell_type": "code",
   "execution_count": null,
   "metadata": {
    "scrolled": true
   },
   "outputs": [],
   "source": [
    "sample_data = load_json(sample)\n",
    "print(json.dumps(sample_data[0], indent=4, sort_keys=True))"
   ]
  },
  {
   "cell_type": "code",
   "execution_count": null,
   "metadata": {},
   "outputs": [],
   "source": [
    "print(\"------------------------------------------------------------------\")\n",
    "\n",
    "# Using the Sample_Data provided above, write code to answer each of the\n",
    "# following questions:"
   ]
  },
  {
   "cell_type": "code",
   "execution_count": null,
   "metadata": {},
   "outputs": [],
   "source": [
    "# Question 1: What user account is the tweets in the Sample associated\n",
    "# with?\n",
    "user_account = sample_data[0][\"user\"][\"name\"]\n",
    "print(f\"User Account: {user_account}\")"
   ]
  },
  {
   "cell_type": "code",
   "execution_count": null,
   "metadata": {},
   "outputs": [],
   "source": [
    "# Question 2: How many followers does this account have associated with it?\n",
    "follower_count = sample_data[0][\"user\"][\"followers_count\"]\n",
    "print(f\"Follower Count: {follower_count}\")"
   ]
  },
  {
   "cell_type": "code",
   "execution_count": null,
   "metadata": {},
   "outputs": [],
   "source": [
    "# Question 3: How many tweets are included in the Sample?\n",
    "print(f\"Tweet Count (In Sample): {len(sample_data)}\")"
   ]
  },
  {
   "cell_type": "code",
   "execution_count": null,
   "metadata": {},
   "outputs": [],
   "source": [
    "# Question 4: How many tweets total has this account made?\n",
    "total_tweets = sample_data[0][\"user\"][\"statuses_count\"]\n",
    "print(f\"Tweet Count (Total): {total_tweets}\")"
   ]
  },
  {
   "cell_type": "code",
   "execution_count": null,
   "metadata": {},
   "outputs": [],
   "source": [
    "# Question 5: What was the text in the most recent tweet?\n",
    "recent_tweet = sample_data[0][\"text\"]\n",
    "print(f\"Most Recent Tweet: {recent_tweet}\")"
   ]
  },
  {
   "cell_type": "code",
   "execution_count": null,
   "metadata": {},
   "outputs": [],
   "source": [
    "# Question 6: What was the text associated with each of the tweets\n",
    "# included in this sample data?\n",
    "print(\"All Tweets:\")\n",
    "for tweet in sample_data:\n",
    "    print(f'{tweet[\"text\"]}')"
   ]
  },
  {
   "cell_type": "code",
   "execution_count": null,
   "metadata": {},
   "outputs": [],
   "source": [
    "# Question 7 (Bonus): Which of the user's tweets was most frequently\n",
    "# retweeted? How many retweets were there?\n",
    "top_tweet = \"\"\n",
    "top_tweet_follower_count = 0\n",
    "\n",
    "for tweet in sample_data:\n",
    "    if(tweet[\"retweet_count\"] > top_tweet_follower_count):\n",
    "        top_tweet = tweet[\"text\"]\n",
    "        top_tweet_follower_count = tweet[\"retweet_count\"]\n",
    "print(f\"Most Popular Tweet: {top_tweet}\")\n",
    "print(f\"Number of Retweets: {top_tweet_follower_count}\")"
   ]
  },
  {
   "cell_type": "markdown",
   "metadata": {},
   "source": [
    "# Students Activity 5\n",
    "### Popular Users\n",
    "\n",
    "### Instructions\n",
    "\n",
    "* In this activity, you are given an incomplete CSV file of Twitter's most popular accounts. You will use this CSV file in conjunction with Tweepy's API to create a pandas DataFrame.\n",
    "\n",
    "* Consult the Jupyter Notebook file for instructions, but here are your tasks:\n",
    "\n",
    "  * The \"PopularAccounts.csv\" file has columns whose info needs to be filled in.\n",
    "\n",
    "  * Import the CSV into a pandas DataFrame.\n",
    "\n",
    "  * Iterate over the rows and use Tweepy to retrieve the info for the missing columns.  Add the information to the DataFrame.\n",
    "\n",
    "  * Export the results to a new CSV file called \"PopularAccounts_New.csv\"\n",
    "\n",
    "  * Calculate the averages of each column and create a DataFrame of the averages.\n",
    "\n",
    "### Hints:\n",
    "\n",
    "* Make sure to use the appropriate method from the [Tweepy Docs](http://docs.tweepy.org/en/v3.5.0/api.html)\n",
    "\n",
    "* You may have to use try/except to avoid missing users."
   ]
  },
  {
   "cell_type": "code",
   "execution_count": null,
   "metadata": {},
   "outputs": [],
   "source": [
    "# Import Dependencies\n",
    "import tweepy\n",
    "import json\n",
    "import pandas as pd\n",
    "from config import consumer_key, consumer_secret, access_token, access_token_secret"
   ]
  },
  {
   "cell_type": "code",
   "execution_count": null,
   "metadata": {},
   "outputs": [],
   "source": [
    "# Setup Tweepy API Authentication\n",
    "auth = tweepy.OAuthHandler(consumer_key, consumer_secret)\n",
    "auth.set_access_token(access_token, access_token_secret)\n",
    "api = tweepy.API(auth, parser=tweepy.parsers.JSONParser())"
   ]
  },
  {
   "cell_type": "code",
   "execution_count": null,
   "metadata": {},
   "outputs": [],
   "source": [
    "# Import CSV file into Data Frame\n"
   ]
  },
  {
   "cell_type": "code",
   "execution_count": null,
   "metadata": {},
   "outputs": [],
   "source": [
    "# Iterate through DataFrame\n"
   ]
  },
  {
   "cell_type": "code",
   "execution_count": null,
   "metadata": {},
   "outputs": [],
   "source": [
    "# Export the new CSV\n",
    "\n",
    "\n",
    "# View the DataFrame\n"
   ]
  },
  {
   "cell_type": "code",
   "execution_count": null,
   "metadata": {},
   "outputs": [],
   "source": [
    "# Calculate Averages\n",
    "\n",
    "# Create DataFrame\n",
    "\n",
    "# Create a Dataframe of hte averages\n"
   ]
  },
  {
   "cell_type": "markdown",
   "metadata": {},
   "source": [
    "# Students Turn Activity 6\n",
    "# Plot Popular Accounts\n",
    "\n",
    "## Instructions\n",
    "\n",
    "* In this activity, you will use MatPlotLib to render three scatterplot charts of the results from the last activity.\n",
    "\n",
    "1. The first scatterplot will plot Tweet Counts (x-axis) vs Follower Counts (y-axis) to determine a relationship, if any, between the two sets of values. It should look like this:\n",
    "\n",
    "![Tweet Counts vs Follower Counts](1.png)\n",
    "\n",
    "2. Likewise, build a scatterplot for Number Following (x-axis) vs Follower Counts (y-axis).\n",
    "\n",
    "3. Finally, build a scatterplot for Number of Favorites (x-axis) vs Follower Counts (y-axis)."
   ]
  },
  {
   "cell_type": "code",
   "execution_count": null,
   "metadata": {},
   "outputs": [],
   "source": [
    "# Dependencies\n",
    "import tweepy\n",
    "import json\n",
    "import pandas as pd\n",
    "import matplotlib.pyplot as plt\n",
    "from config import consumer_key, consumer_secret, access_token, access_token_secret\n",
    "\n",
    "# Setup Tweepy API Authentication\n"
   ]
  },
  {
   "cell_type": "code",
   "execution_count": null,
   "metadata": {},
   "outputs": [],
   "source": [
    "# Import CSV file into Data Frame\n",
    "popular_tweeters = pd.read_csv(\"./Resources/PopularAccounts.csv\", dtype=str)\n",
    "\n",
    "# Iterate through DataFrame\n",
    "\n",
    "# Export the new CSV\n",
    "\n",
    "# View the DataFrame\n"
   ]
  },
  {
   "cell_type": "code",
   "execution_count": null,
   "metadata": {},
   "outputs": [],
   "source": [
    "# Calculate Averages\n",
    "\n",
    "\n",
    "# Create DataFrame\n",
    "\n",
    "# Create a Dataframe of hte averages\n"
   ]
  },
  {
   "cell_type": "code",
   "execution_count": null,
   "metadata": {},
   "outputs": [],
   "source": [
    "# Extract Tweet Counts and Follower Counts\n",
    "\n",
    "# Easy preview of headers\n"
   ]
  },
  {
   "cell_type": "code",
   "execution_count": null,
   "metadata": {},
   "outputs": [],
   "source": [
    "# Tweet Counts vs Follower Counts \n"
   ]
  },
  {
   "cell_type": "code",
   "execution_count": null,
   "metadata": {},
   "outputs": [],
   "source": [
    "# Number Following vs Follower Counts\n"
   ]
  },
  {
   "cell_type": "code",
   "execution_count": null,
   "metadata": {},
   "outputs": [],
   "source": [
    "# Number of Favorites vs Follower Counts\n"
   ]
  },
  {
   "cell_type": "markdown",
   "metadata": {},
   "source": [
    "# Instructors Turn Activity 7 Pagination"
   ]
  },
  {
   "cell_type": "code",
   "execution_count": null,
   "metadata": {},
   "outputs": [],
   "source": [
    "# Dependencies\n",
    "import tweepy\n",
    "import json\n",
    "from config import consumer_key, consumer_secret, access_token, access_token_secret\n",
    "\n",
    "# Setup Tweepy API Authentication\n",
    "auth = tweepy.OAuthHandler(consumer_key, consumer_secret)\n",
    "auth.set_access_token(access_token, access_token_secret)\n",
    "api = tweepy.API(auth, parser=tweepy.parsers.JSONParser())"
   ]
  },
  {
   "cell_type": "code",
   "execution_count": null,
   "metadata": {},
   "outputs": [],
   "source": [
    "# Target User\n",
    "target_user = \"GuardianData\"\n",
    "\n",
    "# Tweet Texts\n",
    "tweet_texts = []\n",
    "\n",
    "# Get all tweets from home feed\n",
    "public_tweets = api.user_timeline(target_user)\n",
    "\n",
    "# Loop through all tweets\n",
    "for tweet in public_tweets:\n",
    "\n",
    "    # Print Tweet\n",
    "    print(tweet[\"text\"])\n",
    "\n",
    "    # Store Tweet in Array\n",
    "    tweet_texts.append(tweet[\"text\"])"
   ]
  },
  {
   "cell_type": "code",
   "execution_count": null,
   "metadata": {},
   "outputs": [],
   "source": [
    "# Print the Tweet Count\n",
    "print(f\"Tweet Count: {len(tweet_texts)}\")"
   ]
  },
  {
   "cell_type": "code",
   "execution_count": null,
   "metadata": {},
   "outputs": [],
   "source": [
    "# With pagination"
   ]
  },
  {
   "cell_type": "code",
   "execution_count": null,
   "metadata": {},
   "outputs": [],
   "source": [
    "# Dependencies\n",
    "import tweepy\n",
    "import json\n",
    "from config import consumer_key, consumer_secret, access_token, access_token_secret\n",
    "\n",
    "\n",
    "# Setup Tweepy API Authentication\n",
    "auth = tweepy.OAuthHandler(consumer_key, consumer_secret)\n",
    "auth.set_access_token(access_token, access_token_secret)\n",
    "api = tweepy.API(auth, parser=tweepy.parsers.JSONParser())"
   ]
  },
  {
   "cell_type": "code",
   "execution_count": null,
   "metadata": {},
   "outputs": [],
   "source": [
    "# Target User\n",
    "target_user = \"GuardianData\"\n",
    "\n",
    "# Tweet Texts\n",
    "tweet_texts = []\n",
    "\n",
    "# Create a loop to iteratively run API requests\n",
    "for x in range(1, 11):\n",
    "\n",
    "    # Get all tweets from home feed (for each page specified)\n",
    "    public_tweets = api.user_timeline(target_user, page=x)\n",
    "\n",
    "    # Loop through all tweets\n",
    "    for tweet in public_tweets:\n",
    "\n",
    "        # Print Tweet\n",
    "        print(tweet[\"text\"])\n",
    "\n",
    "        # Store Tweet in Array\n",
    "        tweet_texts.append(tweet[\"text\"])"
   ]
  },
  {
   "cell_type": "code",
   "execution_count": null,
   "metadata": {},
   "outputs": [],
   "source": [
    "\n",
    "# Print the Tweet Count# Print \n",
    "print(f\"Tweet Count: {len(tweet_texts)}\")"
   ]
  },
  {
   "cell_type": "markdown",
   "metadata": {},
   "source": [
    "# Everyone Turn Activity 8 Datetime Objects"
   ]
  },
  {
   "cell_type": "code",
   "execution_count": null,
   "metadata": {},
   "outputs": [],
   "source": [
    "# New Dependency\n",
    "from datetime import datetime"
   ]
  },
  {
   "cell_type": "code",
   "execution_count": null,
   "metadata": {},
   "outputs": [],
   "source": [
    "# Dependencies\n",
    "import tweepy\n",
    "import json\n",
    "import numpy as np\n",
    "import matplotlib.pyplot as plt\n",
    "from config import consumer_key, consumer_secret, access_token, access_token_secret\n",
    "\n",
    "# Setup Tweepy API Authentication\n",
    "auth = tweepy.OAuthHandler(consumer_key, consumer_secret)\n",
    "auth.set_access_token(access_token, access_token_secret)\n",
    "api = tweepy.API(auth, parser=tweepy.parsers.JSONParser())"
   ]
  },
  {
   "cell_type": "code",
   "execution_count": null,
   "metadata": {},
   "outputs": [],
   "source": [
    "# Target User\n",
    "target_user = 'latimes'\n",
    "\n",
    "# Get all tweets from home feed\n",
    "public_tweets = api.user_timeline(target_user)\n",
    "\n",
    "# A list to hold tweet timestamps\n",
    "tweet_times = []\n",
    "\n",
    "# Loop through all tweets\n",
    "for tweet in public_tweets:\n",
    "    raw_time = tweet[\"created_at\"]\n",
    "    print(raw_time)\n",
    "    tweet_times.append(raw_time)"
   ]
  },
  {
   "cell_type": "code",
   "execution_count": null,
   "metadata": {},
   "outputs": [],
   "source": [
    "# Convert tweet timestamps to datetime objects that can be manipulated by\n",
    "# Python\n",
    "converted_timestamps = []\n",
    "for raw_time in tweet_times:\n",
    "    # https://docs.python.org/3/library/datetime.html#strftime-and-strptime-behavior\n",
    "    # http://strftime.org/\n",
    "    converted_time = datetime.strptime(raw_time, \"%a %b %d %H:%M:%S %z %Y\")\n",
    "    converted_timestamps.append(converted_time)"
   ]
  },
  {
   "cell_type": "code",
   "execution_count": null,
   "metadata": {},
   "outputs": [],
   "source": [
    "print(tweet_times[0])\n",
    "print(tweet_times[1])"
   ]
  },
  {
   "cell_type": "code",
   "execution_count": null,
   "metadata": {},
   "outputs": [],
   "source": [
    "print(converted_timestamps[0])\n",
    "print(converted_timestamps[1])"
   ]
  },
  {
   "cell_type": "code",
   "execution_count": null,
   "metadata": {},
   "outputs": [],
   "source": [
    "diff = converted_timestamps[0] - converted_timestamps[1]\n",
    "print(\"Time difference: \", diff)\n",
    "print('seconds: {}'.format(diff.seconds))"
   ]
  },
  {
   "cell_type": "code",
   "execution_count": null,
   "metadata": {},
   "outputs": [],
   "source": [
    "converted_length = len(converted_timestamps)\n",
    "print(f\"length of converted timestamps list: {converted_length}\")\n",
    "\n",
    "time_diffs = []\n",
    "\n",
    "for x in range(converted_length - 1):\n",
    "    time_diff = converted_timestamps[x] - converted_timestamps[x + 1]\n",
    "#     print(f'time diff: {time_diff}')\n",
    "#     print(f'time diff (in seconds): {time_diff.seconds}')\n",
    "#     print(f'time diff (in minutes): {time_diff.seconds / 60}')\n",
    "#     print(f'time diff (in hours): {time_diff.seconds / 3600}')\n",
    "\n",
    "    # convert time_diff to hours\n",
    "    time_diff = time_diff.seconds / 3600\n",
    "    time_diffs.append(time_diff)\n",
    "\n",
    "print(f\"Avg. Hours Between Tweets: {np.mean(time_diffs)}\")"
   ]
  },
  {
   "cell_type": "markdown",
   "metadata": {},
   "source": [
    "# Students Turn Activity 9\n",
    "# Twitter Velocity\n",
    "\n",
    "## Instructions\n",
    "\n",
    "* You are a political data consultant, and have been asked to evaluate how frequently Donald Trump tweets. As a savvy data visualization specialist, you decide on the following course of action: first, you will collect the timestamps of the 500 most recent tweets sent out by Trump. After making a list of the timestamps, you will convert the timestamps into datetime objects. Then you will calculate the time difference from one tweet to the next, and plot those data points in a scatterplot chart.\n",
    "\n",
    "* The tools you will use for this task are Tweepy and MatPlotLib. You will also need to use the `datetime` library to convert Twitter timestamps to Python datetime objects.\n",
    "\n",
    "* Your plot should look something like this:\n",
    "\n",
    "  ![velocity.png](velocity.png)\n",
    "\n",
    "* This handy chart visually demonstrates Trump's tweet pattern: the majority of his tweets are sent within five hours of each other, but he goes up to 24 hours without tweeting!\n",
    "\n",
    "* See, in contrast, the tweet pattern of a major news organization, the LA Times, whose tweets are sent out much more frequently:\n",
    "\n",
    "  ![velocity1.png](velocity1.png)\n",
    "\n",
    "* **Note**: Feel free to plot the tweets of another Twitter account. It does not have to be Donald Trump's!"
   ]
  },
  {
   "cell_type": "code",
   "execution_count": null,
   "metadata": {},
   "outputs": [],
   "source": [
    "# Dependencies\n",
    "import tweepy\n",
    "import json\n",
    "import numpy as np\n",
    "from datetime import datetime\n",
    "import matplotlib.pyplot as plt\n",
    "from config import consumer_key, consumer_secret, access_token, access_token_secret\n",
    "\n",
    "\n",
    "# Setup Tweepy API Authentication\n"
   ]
  },
  {
   "cell_type": "code",
   "execution_count": null,
   "metadata": {},
   "outputs": [],
   "source": [
    "# Target User\n",
    "\n",
    "# Create array to record all date-times of tweets\n",
    "\n",
    "# Create a counter for viewing every 100 tweets\n",
    "\n",
    "\n",
    "# Loop through 500 tweets\n",
    "\n",
    "        \n",
    "\n",
    "# Confirm tweet counts\n"
   ]
  },
  {
   "cell_type": "code",
   "execution_count": null,
   "metadata": {},
   "outputs": [],
   "source": [
    "# Convert all tweet times into datetime objects\n",
    "\n",
    "\n",
    "# Add each datetime object into the array\n"
   ]
  },
  {
   "cell_type": "code",
   "execution_count": null,
   "metadata": {},
   "outputs": [],
   "source": [
    "# Calculate the time between tweets\n",
    "\n",
    "\n",
    "# Calculate the time in between each tweet\n",
    "\n",
    "# Hours Between Tweets\n"
   ]
  },
  {
   "cell_type": "code",
   "execution_count": null,
   "metadata": {},
   "outputs": [],
   "source": []
  },
  {
   "cell_type": "code",
   "execution_count": null,
   "metadata": {},
   "outputs": [],
   "source": [
    "# Plot Time Between Tweets\n"
   ]
  },
  {
   "cell_type": "markdown",
   "metadata": {},
   "source": [
    "# Instructor Turn Activity 10"
   ]
  },
  {
   "cell_type": "code",
   "execution_count": null,
   "metadata": {},
   "outputs": [],
   "source": [
    "# Dependencies\n",
    "import tweepy\n",
    "import json\n",
    "from config import consumer_key, consumer_secret, access_token, access_token_secret\n",
    "\n",
    "# Setup Tweepy API Authentication\n",
    "auth = tweepy.OAuthHandler(consumer_key, consumer_secret)\n",
    "auth.set_access_token(access_token, access_token_secret)\n",
    "api = tweepy.API(auth, parser=tweepy.parsers.JSONParser())"
   ]
  },
  {
   "cell_type": "code",
   "execution_count": null,
   "metadata": {},
   "outputs": [],
   "source": [
    "# Search Term\n",
    "search_term = input(\"Which term would you like to search for? \")\n",
    "\n",
    "# Search for all tweets\n",
    "public_tweets = api.search(search_term)\n",
    "public_tweets"
   ]
  },
  {
   "cell_type": "code",
   "execution_count": null,
   "metadata": {},
   "outputs": [],
   "source": [
    "# View Search Object\n",
    "# print(public_tweets)\n",
    "\n",
    "# Loop through all tweets\n",
    "for tweet in public_tweets[\"statuses\"]:\n",
    "\n",
    "    # Utilize JSON dumps to generate a pretty-printed json\n",
    "    # print(json.dumps(tweet, sort_keys=True, indent=4, separators=(',', ': ')))\n",
    "    print(tweet[\"text\"])"
   ]
  },
  {
   "cell_type": "markdown",
   "metadata": {},
   "source": [
    "# Students Turn Activity 11\n",
    "# Hashtag Popularity\n",
    "\n",
    "## Instructions\n",
    "\n",
    "* In this activity, you will calculate the frequency of tweets containing the following hashtags: **#bigdata, #ai, #vr, #foreverchuck**\n",
    "\n",
    "* Accomplish this task by using Tweepy to search for tweets containing these search terms (Hint: use a loop), then identifying how frequently tweets are sent that contain these keywords.\n",
    "\n",
    "* You may, of course, use other hashtags.\n",
    "\n",
    "* You can do this. Good luck!"
   ]
  },
  {
   "cell_type": "code",
   "execution_count": null,
   "metadata": {},
   "outputs": [],
   "source": [
    "# Dependencies\n",
    "import tweepy\n",
    "import json\n",
    "import numpy as np\n",
    "from datetime import datetime\n",
    "import matplotlib.pyplot as plt\n",
    "from config import consumer_key, consumer_secret, access_token, access_token_secret\n",
    "\n",
    "# Setup Tweepy API Authentication\n",
    "auth = tweepy.OAuthHandler(consumer_key, consumer_secret)\n",
    "auth.set_access_token(access_token, access_token_secret)\n",
    "api = tweepy.API(auth, parser=tweepy.parsers.JSONParser())"
   ]
  },
  {
   "cell_type": "code",
   "execution_count": null,
   "metadata": {},
   "outputs": [],
   "source": [
    "# Target Hashtags\n",
    "\n",
    "\n",
    "# Loop through each hashtag\n"
   ]
  },
  {
   "cell_type": "markdown",
   "metadata": {},
   "source": [
    "# Students turn Activity 11 "
   ]
  },
  {
   "cell_type": "markdown",
   "metadata": {},
   "source": [
    "# Subway Delays in New York City\n",
    "\n",
    "## Instructions\n",
    "\n",
    "* In this activity, you will use data gathered from Twitter to plot which trains in the NYC subway system most frequently cause delays.\n",
    "\n",
    "* The Twitter account **SubwayStats** announces delays and changes in the NYC subway system.\n",
    "\n",
    "* Your goal is to pull the 1,000 most recent tweets from that account and use MatPlotLib to generate a bar chart of the number of delays per each train:\n",
    "\n",
    "  ![subway.png](subway.png)\n",
    "\n",
    "* Accomplish this task by first compiling a Python dictionary, whose key value pairs consist of each train and the number of delays:\n",
    "\n",
    "  ![subway1.png](subway1.png)\n",
    "\n",
    "* In order to build such a dictionary, you will need to filter the tweet texts.\n",
    "\n",
    "* See the Jupyter Notebook file for more specific instructions at each step. Good luck!"
   ]
  },
  {
   "cell_type": "code",
   "execution_count": null,
   "metadata": {},
   "outputs": [],
   "source": [
    "# Dependencies\n",
    "import tweepy\n",
    "import json\n",
    "import pandas as pd\n",
    "import matplotlib.pyplot as plt\n",
    "from config import consumer_key, consumer_secret, access_token, access_token_secret\n",
    "\n",
    "# Setup Tweepy API Authentication\n",
    "auth = tweepy.OAuthHandler(consumer_key, consumer_secret)\n",
    "auth.set_access_token(access_token, access_token_secret)\n",
    "api = tweepy.API(auth, parser=tweepy.parsers.JSONParser())"
   ]
  },
  {
   "cell_type": "code",
   "execution_count": null,
   "metadata": {},
   "outputs": [],
   "source": [
    "# Array of Trains\n",
    "delayed_trains = {}\n",
    "    \n",
    "# Target User\n",
    "target_user = \"SubwayStats\"\n",
    "\n",
    "# Loop through 50 pages of \n"
   ]
  },
  {
   "cell_type": "code",
   "execution_count": null,
   "metadata": {},
   "outputs": [],
   "source": [
    "# Print the Train Delay counts\n",
    "\n",
    "\n",
    "# Convert Train Delay object into a series\n",
    "\n",
    "# Preview the results\n"
   ]
  },
  {
   "cell_type": "code",
   "execution_count": null,
   "metadata": {},
   "outputs": [],
   "source": [
    "# Create a plot  \n"
   ]
  },
  {
   "cell_type": "code",
   "execution_count": null,
   "metadata": {},
   "outputs": [],
   "source": []
  }
 ],
 "metadata": {
  "kernelspec": {
   "display_name": "Python 3",
   "language": "python",
   "name": "python3"
  },
  "language_info": {
   "codemirror_mode": {
    "name": "ipython",
    "version": 3
   },
   "file_extension": ".py",
   "mimetype": "text/x-python",
   "name": "python",
   "nbconvert_exporter": "python",
   "pygments_lexer": "ipython3",
   "version": "3.6.4"
  }
 },
 "nbformat": 4,
 "nbformat_minor": 2
}
