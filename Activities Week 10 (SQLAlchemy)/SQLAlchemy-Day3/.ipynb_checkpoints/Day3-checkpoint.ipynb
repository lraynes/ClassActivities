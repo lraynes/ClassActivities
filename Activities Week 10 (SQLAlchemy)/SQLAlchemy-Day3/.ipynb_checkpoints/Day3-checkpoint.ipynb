{
 "cells": [
  {
   "cell_type": "markdown",
   "metadata": {},
   "source": [
    "# Activity 1 Instructor Turn SQLAlchemy Joins\n",
    "# Setup¶"
   ]
  },
  {
   "cell_type": "code",
   "execution_count": 1,
   "metadata": {},
   "outputs": [],
   "source": [
    "# Python SQL toolkit and Object Relational Mapper\n",
    "import sqlalchemy\n",
    "from sqlalchemy.ext.automap import automap_base\n",
    "from sqlalchemy.orm import Session\n",
    "from sqlalchemy import create_engine, inspect"
   ]
  },
  {
   "cell_type": "code",
   "execution_count": 2,
   "metadata": {},
   "outputs": [],
   "source": [
    "engine = create_engine(\"sqlite:///./Resources/mammal_masses.sqlite\", echo=False)"
   ]
  },
  {
   "cell_type": "code",
   "execution_count": 3,
   "metadata": {},
   "outputs": [
    {
     "data": {
      "text/plain": [
       "['ea', 'na']"
      ]
     },
     "execution_count": 3,
     "metadata": {},
     "output_type": "execute_result"
    }
   ],
   "source": [
    "# Reflect Database into ORM classes\n",
    "Base = automap_base()\n",
    "Base.prepare(engine, reflect=True)\n",
    "Base.classes.keys()"
   ]
  },
  {
   "cell_type": "code",
   "execution_count": 4,
   "metadata": {},
   "outputs": [],
   "source": [
    "# Map Europe class\n",
    "EA = Base.classes.ea"
   ]
  },
  {
   "cell_type": "code",
   "execution_count": 5,
   "metadata": {},
   "outputs": [],
   "source": [
    "# Map North American class\n",
    "NA = Base.classes.na"
   ]
  },
  {
   "cell_type": "code",
   "execution_count": 6,
   "metadata": {},
   "outputs": [],
   "source": [
    "# create a session\n",
    "session = Session(engine)"
   ]
  },
  {
   "cell_type": "markdown",
   "metadata": {},
   "source": [
    "# Filtering Review\n",
    "Filters are the \"WHERE\" clause for your select statement."
   ]
  },
  {
   "cell_type": "code",
   "execution_count": 7,
   "metadata": {},
   "outputs": [
    {
     "name": "stdout",
     "output_type": "stream",
     "text": [
      "Family: Antilocapridae, Genus: Antilocapra\n"
     ]
    }
   ],
   "source": [
    "# filter North American mammals whose genus is \"Antilocapra\"\n",
    "# query, loop over and print out animals.\n",
    "mammals = session.query(NA).filter(NA.genus == 'Antilocapra').all()\n",
    "for mammal in mammals:\n",
    "    print(\"Family: {0}, Genus: {1}\".format(mammal.family, mammal.genus))"
   ]
  },
  {
   "cell_type": "markdown",
   "metadata": {},
   "source": [
    "# Joins\n",
    "A SQL join combines columns from one or more tables in a relational database.\n",
    "\n",
    "It creates a set that can be saved as a table or used as it is.\n",
    "\n",
    "A JOIN is a means for combining columns from one (self-table) or more tables by using values common to each."
   ]
  },
  {
   "cell_type": "code",
   "execution_count": 8,
   "metadata": {},
   "outputs": [
    {
     "data": {
      "text/plain": [
       "['ea', 'na']"
      ]
     },
     "execution_count": 8,
     "metadata": {},
     "output_type": "execute_result"
    }
   ],
   "source": [
    "inspector = inspect(engine)\n",
    "inspector.get_table_names()"
   ]
  },
  {
   "cell_type": "code",
   "execution_count": 9,
   "metadata": {},
   "outputs": [
    {
     "name": "stdout",
     "output_type": "stream",
     "text": [
      "id INTEGER\n",
      "record_id INTEGER\n",
      "continent TEXT\n",
      "status TEXT\n",
      "sporder TEXT\n",
      "family TEXT\n",
      "genus TEXT\n",
      "species TEXT\n",
      "log_mass_g FLOAT\n",
      "comb_mass_g FLOAT\n",
      "reference TEXT\n"
     ]
    }
   ],
   "source": [
    "# Get a list of column names and types\n",
    "columns = inspector.get_columns('ea')\n",
    "for c in columns:\n",
    "    print(c['name'], c[\"type\"])"
   ]
  },
  {
   "cell_type": "code",
   "execution_count": 10,
   "metadata": {},
   "outputs": [
    {
     "data": {
      "text/plain": [
       "[('Artiodactyla', 'Artiodactyla'),\n",
       " ('Artiodactyla', 'Artiodactyla'),\n",
       " ('Artiodactyla', 'Artiodactyla'),\n",
       " ('Artiodactyla', 'Artiodactyla'),\n",
       " ('Artiodactyla', 'Artiodactyla'),\n",
       " ('Artiodactyla', 'Artiodactyla'),\n",
       " ('Artiodactyla', 'Artiodactyla'),\n",
       " ('Artiodactyla', 'Artiodactyla'),\n",
       " ('Artiodactyla', 'Artiodactyla'),\n",
       " ('Artiodactyla', 'Artiodactyla'),\n",
       " ('Artiodactyla', 'Artiodactyla'),\n",
       " ('Artiodactyla', 'Artiodactyla'),\n",
       " ('Artiodactyla', 'Artiodactyla'),\n",
       " ('Artiodactyla', 'Artiodactyla'),\n",
       " ('Artiodactyla', 'Artiodactyla'),\n",
       " ('Artiodactyla', 'Artiodactyla'),\n",
       " ('Artiodactyla', 'Artiodactyla'),\n",
       " ('Artiodactyla', 'Artiodactyla'),\n",
       " ('Artiodactyla', 'Artiodactyla'),\n",
       " ('Artiodactyla', 'Artiodactyla'),\n",
       " ('Artiodactyla', 'Artiodactyla'),\n",
       " ('Artiodactyla', 'Artiodactyla'),\n",
       " ('Artiodactyla', 'Artiodactyla'),\n",
       " ('Artiodactyla', 'Artiodactyla'),\n",
       " ('Artiodactyla', 'Artiodactyla'),\n",
       " ('Artiodactyla', 'Artiodactyla'),\n",
       " ('Artiodactyla', 'Artiodactyla'),\n",
       " ('Artiodactyla', 'Artiodactyla'),\n",
       " ('Artiodactyla', 'Artiodactyla'),\n",
       " ('Artiodactyla', 'Artiodactyla'),\n",
       " ('Artiodactyla', 'Artiodactyla'),\n",
       " ('Artiodactyla', 'Artiodactyla'),\n",
       " ('Artiodactyla', 'Artiodactyla'),\n",
       " ('Artiodactyla', 'Artiodactyla'),\n",
       " ('Artiodactyla', 'Artiodactyla'),\n",
       " ('Artiodactyla', 'Artiodactyla'),\n",
       " ('Artiodactyla', 'Carnivora'),\n",
       " ('Artiodactyla', 'Carnivora'),\n",
       " ('Artiodactyla', 'Carnivora'),\n",
       " ('Artiodactyla', 'Carnivora'),\n",
       " ('Artiodactyla', 'Carnivora'),\n",
       " ('Artiodactyla', 'Carnivora'),\n",
       " ('Artiodactyla', 'Carnivora'),\n",
       " ('Artiodactyla', 'Carnivora'),\n",
       " ('Artiodactyla', 'Carnivora'),\n",
       " ('Artiodactyla', 'Carnivora'),\n",
       " ('Artiodactyla', 'Carnivora'),\n",
       " ('Artiodactyla', 'Carnivora'),\n",
       " ('Artiodactyla', 'Carnivora'),\n",
       " ('Artiodactyla', 'Carnivora'),\n",
       " ('Artiodactyla', 'Carnivora'),\n",
       " ('Artiodactyla', 'Carnivora'),\n",
       " ('Artiodactyla', 'Carnivora'),\n",
       " ('Artiodactyla', 'Carnivora'),\n",
       " ('Artiodactyla', 'Carnivora'),\n",
       " ('Artiodactyla', 'Carnivora'),\n",
       " ('Artiodactyla', 'Carnivora'),\n",
       " ('Artiodactyla', 'Carnivora'),\n",
       " ('Artiodactyla', 'Carnivora'),\n",
       " ('Artiodactyla', 'Carnivora'),\n",
       " ('Artiodactyla', 'Carnivora'),\n",
       " ('Artiodactyla', 'Carnivora'),\n",
       " ('Artiodactyla', 'Carnivora'),\n",
       " ('Artiodactyla', 'Carnivora'),\n",
       " ('Artiodactyla', 'Carnivora'),\n",
       " ('Artiodactyla', 'Carnivora'),\n",
       " ('Artiodactyla', 'Carnivora'),\n",
       " ('Artiodactyla', 'Carnivora'),\n",
       " ('Artiodactyla', 'Carnivora'),\n",
       " ('Artiodactyla', 'Carnivora'),\n",
       " ('Artiodactyla', 'Carnivora'),\n",
       " ('Artiodactyla', 'Carnivora'),\n",
       " ('Artiodactyla', 'Carnivora'),\n",
       " ('Artiodactyla', 'Carnivora'),\n",
       " ('Artiodactyla', 'Carnivora'),\n",
       " ('Artiodactyla', 'Carnivora'),\n",
       " ('Artiodactyla', 'Carnivora'),\n",
       " ('Artiodactyla', 'Carnivora'),\n",
       " ('Artiodactyla', 'Carnivora'),\n",
       " ('Artiodactyla', 'Carnivora'),\n",
       " ('Artiodactyla', 'Carnivora'),\n",
       " ('Artiodactyla', 'Carnivora'),\n",
       " ('Artiodactyla', 'Carnivora'),\n",
       " ('Artiodactyla', 'Carnivora'),\n",
       " ('Artiodactyla', 'Carnivora'),\n",
       " ('Artiodactyla', 'Carnivora'),\n",
       " ('Artiodactyla', 'Carnivora'),\n",
       " ('Artiodactyla', 'Carnivora'),\n",
       " ('Artiodactyla', 'Carnivora'),\n",
       " ('Artiodactyla', 'Carnivora'),\n",
       " ('Artiodactyla', 'Carnivora'),\n",
       " ('Artiodactyla', 'Carnivora'),\n",
       " ('Artiodactyla', 'Carnivora'),\n",
       " ('Artiodactyla', 'Carnivora'),\n",
       " ('Artiodactyla', 'Carnivora'),\n",
       " ('Artiodactyla', 'Carnivora'),\n",
       " ('Artiodactyla', 'Carnivora'),\n",
       " ('Artiodactyla', 'Carnivora'),\n",
       " ('Artiodactyla', 'Carnivora'),\n",
       " ('Artiodactyla', 'Carnivora')]"
      ]
     },
     "execution_count": 10,
     "metadata": {},
     "output_type": "execute_result"
    }
   ],
   "source": [
    "session.query(EA.sporder, NA.sporder).limit(100).all()"
   ]
  },
  {
   "cell_type": "code",
   "execution_count": 11,
   "metadata": {},
   "outputs": [
    {
     "name": "stdout",
     "output_type": "stream",
     "text": [
      "<sqlalchemy.ext.automap.ea object at 0x0000000007E9C080>\n",
      "<sqlalchemy.ext.automap.na object at 0x0000000007E7A160>\n",
      "<sqlalchemy.ext.automap.ea object at 0x0000000007E9C080>\n",
      "<sqlalchemy.ext.automap.na object at 0x0000000007E9C0F0>\n",
      "<sqlalchemy.ext.automap.ea object at 0x0000000007E9C080>\n",
      "<sqlalchemy.ext.automap.na object at 0x0000000007E9C160>\n",
      "<sqlalchemy.ext.automap.ea object at 0x0000000007E9C080>\n",
      "<sqlalchemy.ext.automap.na object at 0x0000000007E9C1D0>\n",
      "<sqlalchemy.ext.automap.ea object at 0x0000000007E9C080>\n",
      "<sqlalchemy.ext.automap.na object at 0x0000000007E9C240>\n",
      "<sqlalchemy.ext.automap.ea object at 0x0000000007E9C080>\n",
      "<sqlalchemy.ext.automap.na object at 0x0000000007E9C2B0>\n",
      "<sqlalchemy.ext.automap.ea object at 0x0000000007E9C080>\n",
      "<sqlalchemy.ext.automap.na object at 0x0000000007E9C320>\n",
      "<sqlalchemy.ext.automap.ea object at 0x0000000007E9C080>\n",
      "<sqlalchemy.ext.automap.na object at 0x0000000007E9C390>\n",
      "<sqlalchemy.ext.automap.ea object at 0x0000000007E9C080>\n",
      "<sqlalchemy.ext.automap.na object at 0x0000000007E9C400>\n",
      "<sqlalchemy.ext.automap.ea object at 0x0000000007E9C080>\n",
      "<sqlalchemy.ext.automap.na object at 0x0000000007E9C470>\n"
     ]
    }
   ],
   "source": [
    "same_sporder = session.query(EA, NA).filter(EA.sporder == NA.sporder).limit(10).all()\n",
    "\n",
    "for record in same_sporder:\n",
    "    (ea, na) = record\n",
    "    print(ea)\n",
    "    print(na)"
   ]
  },
  {
   "cell_type": "code",
   "execution_count": 12,
   "metadata": {},
   "outputs": [
    {
     "name": "stdout",
     "output_type": "stream",
     "text": [
      "The European animal 'Bovidae Antilope cervicapra'belongs to the same sporder as the North American animal 'Antilocapridae Antilocapra americana'.\n",
      "The European animal 'Bovidae Antilope cervicapra'belongs to the same sporder as the North American animal 'Antilocapridae Capromeryx mexicana'.\n",
      "The European animal 'Bovidae Antilope cervicapra'belongs to the same sporder as the North American animal 'Antilocapridae Capromeryx minor'.\n",
      "The European animal 'Bovidae Antilope cervicapra'belongs to the same sporder as the North American animal 'Antilocapridae Stockoceros conklingi'.\n",
      "The European animal 'Bovidae Antilope cervicapra'belongs to the same sporder as the North American animal 'Antilocapridae Stockoceros onusrosagris'.\n",
      "The European animal 'Bovidae Antilope cervicapra'belongs to the same sporder as the North American animal 'Antilocapridae Tetrameryx shuleri'.\n",
      "The European animal 'Bovidae Antilope cervicapra'belongs to the same sporder as the North American animal 'Bovidae Bison bison'.\n",
      "The European animal 'Bovidae Antilope cervicapra'belongs to the same sporder as the North American animal 'Bovidae Bison latifrons'.\n",
      "The European animal 'Bovidae Antilope cervicapra'belongs to the same sporder as the North American animal 'Bovidae Bison priscus'.\n",
      "The European animal 'Bovidae Antilope cervicapra'belongs to the same sporder as the North American animal 'Bovidae Bootherium bombifrons'.\n"
     ]
    }
   ],
   "source": [
    "# Return all animals from EA and NA belonging to the same sporder.\n",
    "# This JOINs the data in the two tables together into a single dataset (here in the form of a tuple).\n",
    "# Note: We are going to limit the results to 10 for printing\n",
    "sel = [EA.family, EA.genus, EA.species, NA.family, NA.genus, NA.species]\n",
    "same_sporder = session.query(*sel).filter(EA.sporder == NA.sporder).limit(10).all()\n",
    "\n",
    "for record in same_sporder:\n",
    "    (ea_fam, ea_gen, ea_spec, na_fam, na_gen, na_spec) = record\n",
    "    print(\n",
    "        f\"The European animal '{ea_fam} {ea_gen} {ea_spec}'\"\n",
    "        f\"belongs to the same sporder as the North American animal '{na_fam} {na_gen} {na_spec}'.\")"
   ]
  },
  {
   "cell_type": "markdown",
   "metadata": {},
   "source": [
    "# Instructor Turn Activity 2 Date\n"
   ]
  },
  {
   "cell_type": "markdown",
   "metadata": {},
   "source": [
    "# SQLAlchemy, Sqlite, and Dates"
   ]
  },
  {
   "cell_type": "markdown",
   "metadata": {},
   "source": [
    "# Setup"
   ]
  },
  {
   "cell_type": "code",
   "execution_count": 13,
   "metadata": {},
   "outputs": [],
   "source": [
    "# Python SQL toolkit and Object Relational Mapper\n",
    "import sqlalchemy\n",
    "from sqlalchemy.ext.automap import automap_base\n",
    "from sqlalchemy.orm import Session\n",
    "from sqlalchemy import create_engine, inspect, func"
   ]
  },
  {
   "cell_type": "code",
   "execution_count": 14,
   "metadata": {},
   "outputs": [],
   "source": [
    "engine = create_engine(\"sqlite:///./Resources/dow.sqlite\", echo=False)"
   ]
  },
  {
   "cell_type": "markdown",
   "metadata": {},
   "source": [
    "# Explore Database"
   ]
  },
  {
   "cell_type": "code",
   "execution_count": 15,
   "metadata": {},
   "outputs": [
    {
     "data": {
      "text/plain": [
       "['dow']"
      ]
     },
     "execution_count": 15,
     "metadata": {},
     "output_type": "execute_result"
    }
   ],
   "source": [
    "inspector = inspect(engine)\n",
    "inspector.get_table_names()"
   ]
  },
  {
   "cell_type": "code",
   "execution_count": 16,
   "metadata": {},
   "outputs": [
    {
     "name": "stdout",
     "output_type": "stream",
     "text": [
      "id INTEGER\n",
      "quarter INTEGER\n",
      "stock TEXT\n",
      "date TEXT\n",
      "open_price FLOAT\n",
      "high_price FLOAT\n",
      "low_price FLOAT\n",
      "close_price FLOAT\n",
      "volume INTEGER\n",
      "percent_change FLOAT\n"
     ]
    }
   ],
   "source": [
    "# Get a list of column names and types\n",
    "columns = inspector.get_columns('dow')\n",
    "for c in columns:\n",
    "    print(c['name'], c[\"type\"])\n",
    "# columns"
   ]
  },
  {
   "cell_type": "code",
   "execution_count": 17,
   "metadata": {},
   "outputs": [
    {
     "data": {
      "text/plain": [
       "[(1, 1, 'AA', '2011-01-07', 15.82, 16.72, 15.78, 16.42, 239655616, None),\n",
       " (2, 1, 'AA', '2011-01-14', 16.71, 16.71, 15.64, 15.97, 242963398, None),\n",
       " (3, 1, 'AA', '2011-01-21', 16.19, 16.38, 15.6, 15.79, 138428495, None),\n",
       " (4, 1, 'AA', '2011-01-28', 15.87, 16.63, 15.82, 16.13, 151379173, None),\n",
       " (5, 1, 'AA', '2011-02-04', 16.18, 17.39, 16.18, 17.14, 154387761, None)]"
      ]
     },
     "execution_count": 17,
     "metadata": {},
     "output_type": "execute_result"
    }
   ],
   "source": [
    "engine.execute('SELECT * FROM dow LIMIT 5').fetchall()"
   ]
  },
  {
   "cell_type": "markdown",
   "metadata": {},
   "source": [
    "# Reflect and query dates"
   ]
  },
  {
   "cell_type": "code",
   "execution_count": 18,
   "metadata": {},
   "outputs": [],
   "source": [
    "# Reflect Database into ORM class\n",
    "Base = automap_base()\n",
    "Base.prepare(engine, reflect=True)\n",
    "Dow = Base.classes.dow"
   ]
  },
  {
   "cell_type": "code",
   "execution_count": 19,
   "metadata": {},
   "outputs": [],
   "source": [
    "session = Session(engine)"
   ]
  },
  {
   "cell_type": "markdown",
   "metadata": {},
   "source": [
    "How many dates do we have?"
   ]
  },
  {
   "cell_type": "code",
   "execution_count": 20,
   "metadata": {},
   "outputs": [
    {
     "data": {
      "text/plain": [
       "[(750)]"
      ]
     },
     "execution_count": 20,
     "metadata": {},
     "output_type": "execute_result"
    }
   ],
   "source": [
    "# Total dates\n",
    "session.query(func.count(Dow.date)).all() #func.count to get count"
   ]
  },
  {
   "cell_type": "markdown",
   "metadata": {},
   "source": [
    "What is the earliest date?"
   ]
  },
  {
   "cell_type": "code",
   "execution_count": 21,
   "metadata": {},
   "outputs": [
    {
     "data": {
      "text/plain": [
       "('2011-01-07')"
      ]
     },
     "execution_count": 21,
     "metadata": {},
     "output_type": "execute_result"
    }
   ],
   "source": [
    "# Earliest Date\n",
    "session.query(Dow.date).order_by(Dow.date).first()"
   ]
  },
  {
   "cell_type": "markdown",
   "metadata": {},
   "source": [
    "What is the latest date?"
   ]
  },
  {
   "cell_type": "code",
   "execution_count": 22,
   "metadata": {},
   "outputs": [
    {
     "data": {
      "text/plain": [
       "('2011-06-24')"
      ]
     },
     "execution_count": 22,
     "metadata": {},
     "output_type": "execute_result"
    }
   ],
   "source": [
    "#Latest Date\n",
    "session.query(Dow.date).order_by(Dow.date.desc()).first()"
   ]
  },
  {
   "cell_type": "markdown",
   "metadata": {},
   "source": [
    "Find all of the dates great than 2011-03-01"
   ]
  },
  {
   "cell_type": "code",
   "execution_count": 23,
   "metadata": {},
   "outputs": [
    {
     "data": {
      "text/plain": [
       "[('2011-03-04'),\n",
       " ('2011-03-04'),\n",
       " ('2011-03-04'),\n",
       " ('2011-03-04'),\n",
       " ('2011-03-04'),\n",
       " ('2011-03-04'),\n",
       " ('2011-03-04'),\n",
       " ('2011-03-04'),\n",
       " ('2011-03-04'),\n",
       " ('2011-03-04'),\n",
       " ('2011-03-04'),\n",
       " ('2011-03-04'),\n",
       " ('2011-03-04'),\n",
       " ('2011-03-04'),\n",
       " ('2011-03-04'),\n",
       " ('2011-03-04'),\n",
       " ('2011-03-04'),\n",
       " ('2011-03-04'),\n",
       " ('2011-03-04'),\n",
       " ('2011-03-04'),\n",
       " ('2011-03-04'),\n",
       " ('2011-03-04'),\n",
       " ('2011-03-04'),\n",
       " ('2011-03-04'),\n",
       " ('2011-03-04'),\n",
       " ('2011-03-04'),\n",
       " ('2011-03-04'),\n",
       " ('2011-03-04'),\n",
       " ('2011-03-04'),\n",
       " ('2011-03-04'),\n",
       " ('2011-03-11'),\n",
       " ('2011-03-11'),\n",
       " ('2011-03-11'),\n",
       " ('2011-03-11'),\n",
       " ('2011-03-11'),\n",
       " ('2011-03-11'),\n",
       " ('2011-03-11'),\n",
       " ('2011-03-11'),\n",
       " ('2011-03-11'),\n",
       " ('2011-03-11'),\n",
       " ('2011-03-11'),\n",
       " ('2011-03-11'),\n",
       " ('2011-03-11'),\n",
       " ('2011-03-11'),\n",
       " ('2011-03-11'),\n",
       " ('2011-03-11'),\n",
       " ('2011-03-11'),\n",
       " ('2011-03-11'),\n",
       " ('2011-03-11'),\n",
       " ('2011-03-11'),\n",
       " ('2011-03-11'),\n",
       " ('2011-03-11'),\n",
       " ('2011-03-11'),\n",
       " ('2011-03-11'),\n",
       " ('2011-03-11'),\n",
       " ('2011-03-11'),\n",
       " ('2011-03-11'),\n",
       " ('2011-03-11'),\n",
       " ('2011-03-11'),\n",
       " ('2011-03-11'),\n",
       " ('2011-03-18'),\n",
       " ('2011-03-18'),\n",
       " ('2011-03-18'),\n",
       " ('2011-03-18'),\n",
       " ('2011-03-18'),\n",
       " ('2011-03-18'),\n",
       " ('2011-03-18'),\n",
       " ('2011-03-18'),\n",
       " ('2011-03-18'),\n",
       " ('2011-03-18'),\n",
       " ('2011-03-18'),\n",
       " ('2011-03-18'),\n",
       " ('2011-03-18'),\n",
       " ('2011-03-18'),\n",
       " ('2011-03-18'),\n",
       " ('2011-03-18'),\n",
       " ('2011-03-18'),\n",
       " ('2011-03-18'),\n",
       " ('2011-03-18'),\n",
       " ('2011-03-18'),\n",
       " ('2011-03-18'),\n",
       " ('2011-03-18'),\n",
       " ('2011-03-18'),\n",
       " ('2011-03-18'),\n",
       " ('2011-03-18'),\n",
       " ('2011-03-18'),\n",
       " ('2011-03-18'),\n",
       " ('2011-03-18'),\n",
       " ('2011-03-18'),\n",
       " ('2011-03-18'),\n",
       " ('2011-03-25'),\n",
       " ('2011-03-25'),\n",
       " ('2011-03-25'),\n",
       " ('2011-03-25'),\n",
       " ('2011-03-25'),\n",
       " ('2011-03-25'),\n",
       " ('2011-03-25'),\n",
       " ('2011-03-25'),\n",
       " ('2011-03-25'),\n",
       " ('2011-03-25'),\n",
       " ('2011-03-25'),\n",
       " ('2011-03-25'),\n",
       " ('2011-03-25'),\n",
       " ('2011-03-25'),\n",
       " ('2011-03-25'),\n",
       " ('2011-03-25'),\n",
       " ('2011-03-25'),\n",
       " ('2011-03-25'),\n",
       " ('2011-03-25'),\n",
       " ('2011-03-25'),\n",
       " ('2011-03-25'),\n",
       " ('2011-03-25'),\n",
       " ('2011-03-25'),\n",
       " ('2011-03-25'),\n",
       " ('2011-03-25'),\n",
       " ('2011-03-25'),\n",
       " ('2011-03-25'),\n",
       " ('2011-03-25'),\n",
       " ('2011-03-25'),\n",
       " ('2011-03-25'),\n",
       " ('2011-04-01'),\n",
       " ('2011-04-01'),\n",
       " ('2011-04-01'),\n",
       " ('2011-04-01'),\n",
       " ('2011-04-01'),\n",
       " ('2011-04-01'),\n",
       " ('2011-04-01'),\n",
       " ('2011-04-01'),\n",
       " ('2011-04-01'),\n",
       " ('2011-04-01'),\n",
       " ('2011-04-01'),\n",
       " ('2011-04-01'),\n",
       " ('2011-04-01'),\n",
       " ('2011-04-01'),\n",
       " ('2011-04-01'),\n",
       " ('2011-04-01'),\n",
       " ('2011-04-01'),\n",
       " ('2011-04-01'),\n",
       " ('2011-04-01'),\n",
       " ('2011-04-01'),\n",
       " ('2011-04-01'),\n",
       " ('2011-04-01'),\n",
       " ('2011-04-01'),\n",
       " ('2011-04-01'),\n",
       " ('2011-04-01'),\n",
       " ('2011-04-01'),\n",
       " ('2011-04-01'),\n",
       " ('2011-04-01'),\n",
       " ('2011-04-01'),\n",
       " ('2011-04-01'),\n",
       " ('2011-04-08'),\n",
       " ('2011-04-08'),\n",
       " ('2011-04-08'),\n",
       " ('2011-04-08'),\n",
       " ('2011-04-08'),\n",
       " ('2011-04-08'),\n",
       " ('2011-04-08'),\n",
       " ('2011-04-08'),\n",
       " ('2011-04-08'),\n",
       " ('2011-04-08'),\n",
       " ('2011-04-08'),\n",
       " ('2011-04-08'),\n",
       " ('2011-04-08'),\n",
       " ('2011-04-08'),\n",
       " ('2011-04-08'),\n",
       " ('2011-04-08'),\n",
       " ('2011-04-08'),\n",
       " ('2011-04-08'),\n",
       " ('2011-04-08'),\n",
       " ('2011-04-08'),\n",
       " ('2011-04-08'),\n",
       " ('2011-04-08'),\n",
       " ('2011-04-08'),\n",
       " ('2011-04-08'),\n",
       " ('2011-04-08'),\n",
       " ('2011-04-08'),\n",
       " ('2011-04-08'),\n",
       " ('2011-04-08'),\n",
       " ('2011-04-08'),\n",
       " ('2011-04-08'),\n",
       " ('2011-04-15'),\n",
       " ('2011-04-15'),\n",
       " ('2011-04-15'),\n",
       " ('2011-04-15'),\n",
       " ('2011-04-15'),\n",
       " ('2011-04-15'),\n",
       " ('2011-04-15'),\n",
       " ('2011-04-15'),\n",
       " ('2011-04-15'),\n",
       " ('2011-04-15'),\n",
       " ('2011-04-15'),\n",
       " ('2011-04-15'),\n",
       " ('2011-04-15'),\n",
       " ('2011-04-15'),\n",
       " ('2011-04-15'),\n",
       " ('2011-04-15'),\n",
       " ('2011-04-15'),\n",
       " ('2011-04-15'),\n",
       " ('2011-04-15'),\n",
       " ('2011-04-15'),\n",
       " ('2011-04-15'),\n",
       " ('2011-04-15'),\n",
       " ('2011-04-15'),\n",
       " ('2011-04-15'),\n",
       " ('2011-04-15'),\n",
       " ('2011-04-15'),\n",
       " ('2011-04-15'),\n",
       " ('2011-04-15'),\n",
       " ('2011-04-15'),\n",
       " ('2011-04-15'),\n",
       " ('2011-04-21'),\n",
       " ('2011-04-21'),\n",
       " ('2011-04-21'),\n",
       " ('2011-04-21'),\n",
       " ('2011-04-21'),\n",
       " ('2011-04-21'),\n",
       " ('2011-04-21'),\n",
       " ('2011-04-21'),\n",
       " ('2011-04-21'),\n",
       " ('2011-04-21'),\n",
       " ('2011-04-21'),\n",
       " ('2011-04-21'),\n",
       " ('2011-04-21'),\n",
       " ('2011-04-21'),\n",
       " ('2011-04-21'),\n",
       " ('2011-04-21'),\n",
       " ('2011-04-21'),\n",
       " ('2011-04-21'),\n",
       " ('2011-04-21'),\n",
       " ('2011-04-21'),\n",
       " ('2011-04-21'),\n",
       " ('2011-04-21'),\n",
       " ('2011-04-21'),\n",
       " ('2011-04-21'),\n",
       " ('2011-04-21'),\n",
       " ('2011-04-21'),\n",
       " ('2011-04-21'),\n",
       " ('2011-04-21'),\n",
       " ('2011-04-21'),\n",
       " ('2011-04-21'),\n",
       " ('2011-04-29'),\n",
       " ('2011-04-29'),\n",
       " ('2011-04-29'),\n",
       " ('2011-04-29'),\n",
       " ('2011-04-29'),\n",
       " ('2011-04-29'),\n",
       " ('2011-04-29'),\n",
       " ('2011-04-29'),\n",
       " ('2011-04-29'),\n",
       " ('2011-04-29'),\n",
       " ('2011-04-29'),\n",
       " ('2011-04-29'),\n",
       " ('2011-04-29'),\n",
       " ('2011-04-29'),\n",
       " ('2011-04-29'),\n",
       " ('2011-04-29'),\n",
       " ('2011-04-29'),\n",
       " ('2011-04-29'),\n",
       " ('2011-04-29'),\n",
       " ('2011-04-29'),\n",
       " ('2011-04-29'),\n",
       " ('2011-04-29'),\n",
       " ('2011-04-29'),\n",
       " ('2011-04-29'),\n",
       " ('2011-04-29'),\n",
       " ('2011-04-29'),\n",
       " ('2011-04-29'),\n",
       " ('2011-04-29'),\n",
       " ('2011-04-29'),\n",
       " ('2011-04-29'),\n",
       " ('2011-05-06'),\n",
       " ('2011-05-06'),\n",
       " ('2011-05-06'),\n",
       " ('2011-05-06'),\n",
       " ('2011-05-06'),\n",
       " ('2011-05-06'),\n",
       " ('2011-05-06'),\n",
       " ('2011-05-06'),\n",
       " ('2011-05-06'),\n",
       " ('2011-05-06'),\n",
       " ('2011-05-06'),\n",
       " ('2011-05-06'),\n",
       " ('2011-05-06'),\n",
       " ('2011-05-06'),\n",
       " ('2011-05-06'),\n",
       " ('2011-05-06'),\n",
       " ('2011-05-06'),\n",
       " ('2011-05-06'),\n",
       " ('2011-05-06'),\n",
       " ('2011-05-06'),\n",
       " ('2011-05-06'),\n",
       " ('2011-05-06'),\n",
       " ('2011-05-06'),\n",
       " ('2011-05-06'),\n",
       " ('2011-05-06'),\n",
       " ('2011-05-06'),\n",
       " ('2011-05-06'),\n",
       " ('2011-05-06'),\n",
       " ('2011-05-06'),\n",
       " ('2011-05-06'),\n",
       " ('2011-05-13'),\n",
       " ('2011-05-13'),\n",
       " ('2011-05-13'),\n",
       " ('2011-05-13'),\n",
       " ('2011-05-13'),\n",
       " ('2011-05-13'),\n",
       " ('2011-05-13'),\n",
       " ('2011-05-13'),\n",
       " ('2011-05-13'),\n",
       " ('2011-05-13'),\n",
       " ('2011-05-13'),\n",
       " ('2011-05-13'),\n",
       " ('2011-05-13'),\n",
       " ('2011-05-13'),\n",
       " ('2011-05-13'),\n",
       " ('2011-05-13'),\n",
       " ('2011-05-13'),\n",
       " ('2011-05-13'),\n",
       " ('2011-05-13'),\n",
       " ('2011-05-13'),\n",
       " ('2011-05-13'),\n",
       " ('2011-05-13'),\n",
       " ('2011-05-13'),\n",
       " ('2011-05-13'),\n",
       " ('2011-05-13'),\n",
       " ('2011-05-13'),\n",
       " ('2011-05-13'),\n",
       " ('2011-05-13'),\n",
       " ('2011-05-13'),\n",
       " ('2011-05-13'),\n",
       " ('2011-05-20'),\n",
       " ('2011-05-20'),\n",
       " ('2011-05-20'),\n",
       " ('2011-05-20'),\n",
       " ('2011-05-20'),\n",
       " ('2011-05-20'),\n",
       " ('2011-05-20'),\n",
       " ('2011-05-20'),\n",
       " ('2011-05-20'),\n",
       " ('2011-05-20'),\n",
       " ('2011-05-20'),\n",
       " ('2011-05-20'),\n",
       " ('2011-05-20'),\n",
       " ('2011-05-20'),\n",
       " ('2011-05-20'),\n",
       " ('2011-05-20'),\n",
       " ('2011-05-20'),\n",
       " ('2011-05-20'),\n",
       " ('2011-05-20'),\n",
       " ('2011-05-20'),\n",
       " ('2011-05-20'),\n",
       " ('2011-05-20'),\n",
       " ('2011-05-20'),\n",
       " ('2011-05-20'),\n",
       " ('2011-05-20'),\n",
       " ('2011-05-20'),\n",
       " ('2011-05-20'),\n",
       " ('2011-05-20'),\n",
       " ('2011-05-20'),\n",
       " ('2011-05-20'),\n",
       " ('2011-05-27'),\n",
       " ('2011-05-27'),\n",
       " ('2011-05-27'),\n",
       " ('2011-05-27'),\n",
       " ('2011-05-27'),\n",
       " ('2011-05-27'),\n",
       " ('2011-05-27'),\n",
       " ('2011-05-27'),\n",
       " ('2011-05-27'),\n",
       " ('2011-05-27'),\n",
       " ('2011-05-27'),\n",
       " ('2011-05-27'),\n",
       " ('2011-05-27'),\n",
       " ('2011-05-27'),\n",
       " ('2011-05-27'),\n",
       " ('2011-05-27'),\n",
       " ('2011-05-27'),\n",
       " ('2011-05-27'),\n",
       " ('2011-05-27'),\n",
       " ('2011-05-27'),\n",
       " ('2011-05-27'),\n",
       " ('2011-05-27'),\n",
       " ('2011-05-27'),\n",
       " ('2011-05-27'),\n",
       " ('2011-05-27'),\n",
       " ('2011-05-27'),\n",
       " ('2011-05-27'),\n",
       " ('2011-05-27'),\n",
       " ('2011-05-27'),\n",
       " ('2011-05-27'),\n",
       " ('2011-06-03'),\n",
       " ('2011-06-03'),\n",
       " ('2011-06-03'),\n",
       " ('2011-06-03'),\n",
       " ('2011-06-03'),\n",
       " ('2011-06-03'),\n",
       " ('2011-06-03'),\n",
       " ('2011-06-03'),\n",
       " ('2011-06-03'),\n",
       " ('2011-06-03'),\n",
       " ('2011-06-03'),\n",
       " ('2011-06-03'),\n",
       " ('2011-06-03'),\n",
       " ('2011-06-03'),\n",
       " ('2011-06-03'),\n",
       " ('2011-06-03'),\n",
       " ('2011-06-03'),\n",
       " ('2011-06-03'),\n",
       " ('2011-06-03'),\n",
       " ('2011-06-03'),\n",
       " ('2011-06-03'),\n",
       " ('2011-06-03'),\n",
       " ('2011-06-03'),\n",
       " ('2011-06-03'),\n",
       " ('2011-06-03'),\n",
       " ('2011-06-03'),\n",
       " ('2011-06-03'),\n",
       " ('2011-06-03'),\n",
       " ('2011-06-03'),\n",
       " ('2011-06-03'),\n",
       " ('2011-06-10'),\n",
       " ('2011-06-10'),\n",
       " ('2011-06-10'),\n",
       " ('2011-06-10'),\n",
       " ('2011-06-10'),\n",
       " ('2011-06-10'),\n",
       " ('2011-06-10'),\n",
       " ('2011-06-10'),\n",
       " ('2011-06-10'),\n",
       " ('2011-06-10'),\n",
       " ('2011-06-10'),\n",
       " ('2011-06-10'),\n",
       " ('2011-06-10'),\n",
       " ('2011-06-10'),\n",
       " ('2011-06-10'),\n",
       " ('2011-06-10'),\n",
       " ('2011-06-10'),\n",
       " ('2011-06-10'),\n",
       " ('2011-06-10'),\n",
       " ('2011-06-10'),\n",
       " ('2011-06-10'),\n",
       " ('2011-06-10'),\n",
       " ('2011-06-10'),\n",
       " ('2011-06-10'),\n",
       " ('2011-06-10'),\n",
       " ('2011-06-10'),\n",
       " ('2011-06-10'),\n",
       " ('2011-06-10'),\n",
       " ('2011-06-10'),\n",
       " ('2011-06-10'),\n",
       " ('2011-06-17'),\n",
       " ('2011-06-17'),\n",
       " ('2011-06-17'),\n",
       " ('2011-06-17'),\n",
       " ('2011-06-17'),\n",
       " ('2011-06-17'),\n",
       " ('2011-06-17'),\n",
       " ('2011-06-17'),\n",
       " ('2011-06-17'),\n",
       " ('2011-06-17'),\n",
       " ('2011-06-17'),\n",
       " ('2011-06-17'),\n",
       " ('2011-06-17'),\n",
       " ('2011-06-17'),\n",
       " ('2011-06-17'),\n",
       " ('2011-06-17'),\n",
       " ('2011-06-17'),\n",
       " ('2011-06-17'),\n",
       " ('2011-06-17'),\n",
       " ('2011-06-17'),\n",
       " ('2011-06-17'),\n",
       " ('2011-06-17'),\n",
       " ('2011-06-17'),\n",
       " ('2011-06-17'),\n",
       " ('2011-06-17'),\n",
       " ('2011-06-17'),\n",
       " ('2011-06-17'),\n",
       " ('2011-06-17'),\n",
       " ('2011-06-17'),\n",
       " ('2011-06-17'),\n",
       " ('2011-06-24'),\n",
       " ('2011-06-24'),\n",
       " ('2011-06-24'),\n",
       " ('2011-06-24'),\n",
       " ('2011-06-24'),\n",
       " ('2011-06-24'),\n",
       " ('2011-06-24'),\n",
       " ('2011-06-24'),\n",
       " ('2011-06-24'),\n",
       " ('2011-06-24'),\n",
       " ('2011-06-24'),\n",
       " ('2011-06-24'),\n",
       " ('2011-06-24'),\n",
       " ('2011-06-24'),\n",
       " ('2011-06-24'),\n",
       " ('2011-06-24'),\n",
       " ('2011-06-24'),\n",
       " ('2011-06-24'),\n",
       " ('2011-06-24'),\n",
       " ('2011-06-24'),\n",
       " ('2011-06-24'),\n",
       " ('2011-06-24'),\n",
       " ('2011-06-24'),\n",
       " ('2011-06-24'),\n",
       " ('2011-06-24'),\n",
       " ('2011-06-24'),\n",
       " ('2011-06-24'),\n",
       " ('2011-06-24'),\n",
       " ('2011-06-24'),\n",
       " ('2011-06-24')]"
      ]
     },
     "execution_count": 23,
     "metadata": {},
     "output_type": "execute_result"
    }
   ],
   "source": [
    "session.query(Dow.date).\\\n",
    "    filter(Dow.date > '2011-03-01').\\\n",
    "    order_by(Dow.date).all()"
   ]
  },
  {
   "cell_type": "markdown",
   "metadata": {},
   "source": [
    "## Important Note! Sqlite does not support a date column type, but SQLAlchemy will allow you to work with dates in the iso format. sqlite dates\n",
    "# Quick Review of DateTime"
   ]
  },
  {
   "cell_type": "code",
   "execution_count": 24,
   "metadata": {},
   "outputs": [],
   "source": [
    "import datetime as dt"
   ]
  },
  {
   "cell_type": "code",
   "execution_count": 25,
   "metadata": {},
   "outputs": [
    {
     "name": "stdout",
     "output_type": "stream",
     "text": [
      "2018-07-07\n",
      "2017-01-31\n"
     ]
    }
   ],
   "source": [
    "# Print a date object and a datetime object \n",
    "print(dt.date.today())\n",
    "print(dt.date(2017, 1 ,31))"
   ]
  },
  {
   "cell_type": "code",
   "execution_count": 26,
   "metadata": {},
   "outputs": [
    {
     "name": "stdout",
     "output_type": "stream",
     "text": [
      "2018-07-07 17:45:27.080020\n",
      "2017-01-31 00:00:00\n"
     ]
    }
   ],
   "source": [
    "print(dt.datetime.utcnow())\n",
    "print(dt.datetime(2017, 1, 31))"
   ]
  },
  {
   "cell_type": "code",
   "execution_count": 27,
   "metadata": {},
   "outputs": [
    {
     "data": {
      "text/plain": [
       "datetime.date(2018, 6, 30)"
      ]
     },
     "execution_count": 27,
     "metadata": {},
     "output_type": "execute_result"
    }
   ],
   "source": [
    "# date 1 week ago from today\n",
    "week_ago = dt.date.today() - dt.timedelta(days=7)\n",
    "week_ago"
   ]
  },
  {
   "cell_type": "markdown",
   "metadata": {},
   "source": [
    "Query for the Dow closing price 1 week before 2011-04-08 using the datetime library"
   ]
  },
  {
   "cell_type": "code",
   "execution_count": 28,
   "metadata": {},
   "outputs": [
    {
     "name": "stdout",
     "output_type": "stream",
     "text": [
      "Query Date:  2011-04-01\n"
     ]
    }
   ],
   "source": [
    "# Query for the Dow closing price for `CSCO` 1 week before `2011-04-08` using the datetime library\n",
    "query_date = dt.date(2011, 4, 8) - dt.timedelta(days=7)\n",
    "print(\"Query Date: \", query_date)"
   ]
  },
  {
   "cell_type": "code",
   "execution_count": 29,
   "metadata": {},
   "outputs": [
    {
     "data": {
      "text/plain": [
       "[('2011-04-01', 17.04)]"
      ]
     },
     "execution_count": 29,
     "metadata": {},
     "output_type": "execute_result"
    }
   ],
   "source": [
    "session.query(Dow.date, Dow.close_price).\\\n",
    "    filter(Dow.stock == 'CSCO').\\\n",
    "    filter(Dow.date == query_date).all()"
   ]
  },
  {
   "cell_type": "code",
   "execution_count": 30,
   "metadata": {},
   "outputs": [
    {
     "data": {
      "text/plain": [
       "'07'"
      ]
     },
     "execution_count": 30,
     "metadata": {},
     "output_type": "execute_result"
    }
   ],
   "source": [
    "# Parse out just the day from the datetime object\n",
    "dt.date.today().strftime(\"%d\")"
   ]
  },
  {
   "cell_type": "markdown",
   "metadata": {},
   "source": [
    "Putting it all together"
   ]
  },
  {
   "cell_type": "code",
   "execution_count": 31,
   "metadata": {},
   "outputs": [
    {
     "data": {
      "text/plain": [
       "[('2011-01-14'),\n",
       " ('2011-01-14'),\n",
       " ('2011-01-14'),\n",
       " ('2011-01-14'),\n",
       " ('2011-01-14'),\n",
       " ('2011-01-14'),\n",
       " ('2011-01-14'),\n",
       " ('2011-01-14'),\n",
       " ('2011-01-14'),\n",
       " ('2011-01-14'),\n",
       " ('2011-01-14'),\n",
       " ('2011-01-14'),\n",
       " ('2011-01-14'),\n",
       " ('2011-01-14'),\n",
       " ('2011-01-14'),\n",
       " ('2011-01-14'),\n",
       " ('2011-01-14'),\n",
       " ('2011-01-14'),\n",
       " ('2011-01-14'),\n",
       " ('2011-01-14'),\n",
       " ('2011-01-14'),\n",
       " ('2011-01-14'),\n",
       " ('2011-01-14'),\n",
       " ('2011-01-14'),\n",
       " ('2011-01-14'),\n",
       " ('2011-01-14'),\n",
       " ('2011-01-14'),\n",
       " ('2011-01-14'),\n",
       " ('2011-01-14'),\n",
       " ('2011-01-14')]"
      ]
     },
     "execution_count": 31,
     "metadata": {},
     "output_type": "execute_result"
    }
   ],
   "source": [
    "# Query for all dates matching the following date string in the format `%d`\n",
    "date_str = \"14\"\n",
    "session.query(Dow.date).\\\n",
    "    filter(func.strftime(\"%d\", Dow.date) == date_str).all()"
   ]
  },
  {
   "cell_type": "markdown",
   "metadata": {},
   "source": [
    "# Students Turn Activity 2\n"
   ]
  },
  {
   "cell_type": "markdown",
   "metadata": {},
   "source": [
    "# Instructions\n",
    "\n",
    "* Use the dow.sqlite dataset provided to analyze the average stock prices (average open, average high, average low, average close) for all stocks in the Month of May\n",
    "\n",
    "* Plot the results as a Pandas or Matplotlib Bar Chart\n",
    "\n",
    "### Bonus\n",
    "\n",
    "Calculate the high-low peak-to-peak (PTP) values for `IBM` stock after `2011-05-31`.\n",
    "\n",
    "* Note: high-low PTP is calculated using `high_price` - `low_price`\n",
    "* Use a DateTime.date object in the query filter\n",
    "* Use a list comprehension or NumPy's ravel method to unpack the query's list of tuples into a list of PTP values.\n",
    "* Use matplotlib to plot the PTP values as a boxplot"
   ]
  },
  {
   "cell_type": "markdown",
   "metadata": {},
   "source": [
    "# Setup"
   ]
  },
  {
   "cell_type": "code",
   "execution_count": 32,
   "metadata": {},
   "outputs": [],
   "source": [
    "import matplotlib\n",
    "from matplotlib import style\n",
    "style.use('fivethirtyeight')\n",
    "import matplotlib.pyplot as plt"
   ]
  },
  {
   "cell_type": "code",
   "execution_count": 33,
   "metadata": {},
   "outputs": [],
   "source": [
    "import pandas as pd"
   ]
  },
  {
   "cell_type": "code",
   "execution_count": 34,
   "metadata": {},
   "outputs": [],
   "source": [
    "# Python SQL toolkit and Object Relational Mapper\n",
    "import sqlalchemy\n",
    "from sqlalchemy.ext.automap import automap_base\n",
    "from sqlalchemy.orm import Session\n",
    "from sqlalchemy import create_engine, inspect, func"
   ]
  },
  {
   "cell_type": "code",
   "execution_count": 35,
   "metadata": {},
   "outputs": [],
   "source": [
    "engine = create_engine(\"sqlite:///./Resources/dow.sqlite\", echo=False)"
   ]
  },
  {
   "cell_type": "code",
   "execution_count": 36,
   "metadata": {},
   "outputs": [
    {
     "data": {
      "text/plain": [
       "[(1, 1, 'AA', '2011-01-07', 15.82, 16.72, 15.78, 16.42, 239655616, None),\n",
       " (2, 1, 'AA', '2011-01-14', 16.71, 16.71, 15.64, 15.97, 242963398, None),\n",
       " (3, 1, 'AA', '2011-01-21', 16.19, 16.38, 15.6, 15.79, 138428495, None),\n",
       " (4, 1, 'AA', '2011-01-28', 15.87, 16.63, 15.82, 16.13, 151379173, None),\n",
       " (5, 1, 'AA', '2011-02-04', 16.18, 17.39, 16.18, 17.14, 154387761, None)]"
      ]
     },
     "execution_count": 36,
     "metadata": {},
     "output_type": "execute_result"
    }
   ],
   "source": [
    "engine.execute('SELECT * FROM dow LIMIT 5').fetchall()"
   ]
  },
  {
   "cell_type": "code",
   "execution_count": 37,
   "metadata": {},
   "outputs": [
    {
     "name": "stdout",
     "output_type": "stream",
     "text": [
      "id INTEGER\n",
      "quarter INTEGER\n",
      "stock TEXT\n",
      "date TEXT\n",
      "open_price FLOAT\n",
      "high_price FLOAT\n",
      "low_price FLOAT\n",
      "close_price FLOAT\n",
      "volume INTEGER\n",
      "percent_change FLOAT\n"
     ]
    }
   ],
   "source": [
    "inspector = inspect(engine)\n",
    "columns = inspector.get_columns('dow')\n",
    "for c in columns:\n",
    "    print(c['name'], c[\"type\"])"
   ]
  },
  {
   "cell_type": "code",
   "execution_count": 38,
   "metadata": {},
   "outputs": [],
   "source": [
    "# Reflect Database into ORM class\n",
    "Base = automap_base()\n",
    "Base.prepare(engine, reflect=True)\n",
    "Dow = Base.classes.dow"
   ]
  },
  {
   "cell_type": "code",
   "execution_count": 39,
   "metadata": {},
   "outputs": [],
   "source": [
    "session = Session(engine)"
   ]
  },
  {
   "cell_type": "markdown",
   "metadata": {},
   "source": [
    "# Analysis\n",
    "Analyze the Average prices (open, high, low, close) for all stocks in the Month of May"
   ]
  },
  {
   "cell_type": "code",
   "execution_count": 40,
   "metadata": {},
   "outputs": [
    {
     "data": {
      "text/plain": [
       "[('AA', 16.8475, 17.3375, 16.4175, 16.75),\n",
       " ('AXP', 49.89750000000001, 51.07, 49.315, 50.5),\n",
       " ('BA', 78.7175, 79.2175, 76.8825, 78.21),\n",
       " ('BAC', 12.0, 12.235, 11.7325, 11.88),\n",
       " ('CAT', 108.5525, 110.5975, 104.045, 106.4),\n",
       " ('CSCO', 17.067500000000003, 17.255000000000003, 16.5925, 16.86),\n",
       " ('CVX', 103.9725, 105.72749999999999, 100.4575, 102.76),\n",
       " ('DD', 53.9625, 54.9225, 52.14, 53.21),\n",
       " ('DIS', 42.3, 42.8175, 41.11749999999999, 41.9),\n",
       " ('GE', 19.96, 20.175, 19.4875, 19.74),\n",
       " ('HD', 36.765, 37.51, 36.504999999999995, 36.76),\n",
       " ('HPQ', 39.315, 40.14, 37.8425, 38.54),\n",
       " ('IBM', 169.7025, 171.58, 166.9375, 169.12),\n",
       " ('INTC', 23.0975, 23.67, 22.652500000000003, 23.02),\n",
       " ('JNJ', 65.6575, 66.8475, 65.0575, 66.09),\n",
       " ('JPM', 44.015, 44.709999999999994, 43.019999999999996, 43.53),\n",
       " ('KO', 67.5775, 68.32499999999999, 66.75750000000001, 67.47),\n",
       " ('KRFT', 34.305, 35.0225, 33.945, 34.74),\n",
       " ('MCD', 79.95750000000001, 81.5525, 79.8025, 80.85),\n",
       " ('MMM', 95.17750000000001, 96.20750000000001, 93.2425, 94.66),\n",
       " ('MRK', 36.57, 37.184999999999995, 36.21, 36.69),\n",
       " ('MSFT', 25.2275, 25.5775, 24.677500000000002, 25.04),\n",
       " ('PFE', 20.75, 21.1125, 20.3875, 20.77),\n",
       " ('PG', 65.9075, 67.1825, 65.49249999999999, 66.42),\n",
       " ('T', 31.28, 31.7, 30.974999999999998, 31.32),\n",
       " ('TRV', 62.7625, 63.3425, 61.879999999999995, 62.38),\n",
       " ('UTX', 88.445, 89.20500000000001, 86.50249999999998, 88.0),\n",
       " ('VZ', 37.405, 37.6125, 36.7225, 37.09),\n",
       " ('WMT', 55.14, 55.9475, 54.237500000000004, 55.18),\n",
       " ('XOM', 82.8875, 84.27499999999999, 80.16999999999999, 81.94)]"
      ]
     },
     "execution_count": 40,
     "metadata": {},
     "output_type": "execute_result"
    }
   ],
   "source": [
    "# Query for the stock and average prices (open, high, low, close) for all stock in the month of May\n",
    "# Sort the result by stock name\n",
    "\n",
    "sel = [Dow.stock, \n",
    "       func.avg(Dow.open_price), \n",
    "       func.avg(Dow.high_price), \n",
    "       func.avg(Dow.low_price), \n",
    "       func.round(func.avg(Dow.close_price),2)]\n",
    "\n",
    "may_averages = session.query(*sel).\\\n",
    "    filter(func.strftime(\"%m\", Dow.date) == \"05\").\\\n",
    "    group_by(Dow.stock).\\\n",
    "    order_by(Dow.stock).all()\n",
    "\n",
    "may_averages"
   ]
  },
  {
   "cell_type": "code",
   "execution_count": 41,
   "metadata": {},
   "outputs": [
    {
     "data": {
      "image/png": "[encoded data removed]",
      "text/plain": [
       "<matplotlib.figure.Figure at 0x7eac550>"
      ]
     },
     "metadata": {},
     "output_type": "display_data"
    }
   ],
   "source": [
    "# Plot the Results in a Matplotlib bar chart\n",
    "df = pd.DataFrame(may_averages, columns = [\"stock\", \"open_avg\", \"high_avg\", \"low_avg\", \"close_avg\"])\n",
    "df.set_index(\"stock\", inplace=True)\n",
    "df.plot.bar()\n",
    "\n",
    "plt.show()"
   ]
  },
  {
   "cell_type": "markdown",
   "metadata": {},
   "source": [
    "Bonus\n",
    "Calculate the high-low peak-to-peak (PTP) values for IBM stock after 2011-05-31.\n",
    "\n",
    "Note: high-low PTP is calculated using high_price - low_price\n",
    "Use a DateTime.date object in the query filter\n",
    "Use a list comprehension or numpy's ravel method to unpack the query's list of tuples into a list of PTP values.\n",
    "Use matplotlib to plot the PTP values as a boxplot"
   ]
  },
  {
   "cell_type": "code",
   "execution_count": 42,
   "metadata": {},
   "outputs": [
    {
     "name": "stdout",
     "output_type": "stream",
     "text": [
      "[(5.759999999999991,), (3.0900000000000034,), (3.579999999999984,), (3.219999999999999,)]\n",
      "[5.76 3.09 3.58 3.22]\n"
     ]
    },
    {
     "data": {
      "image/png": "[encoded data removed]",
      "text/plain": [
       "<matplotlib.figure.Figure at 0x9a04c18>"
      ]
     },
     "metadata": {},
     "output_type": "display_data"
    }
   ],
   "source": [
    "# Design a query to calculate the PTP for stock `IBM` after May, 2011\n",
    "import datetime as dt\n",
    "import numpy as np\n",
    "\n",
    "date = dt.datetime(2011, 5, 31)\n",
    "results = session.query(Dow.high_price - Dow.low_price).\\\n",
    "    filter(Dow.date > date).filter(Dow.stock == \"IBM\").all()\n",
    "print(results)\n",
    "\n",
    "#np.ravel will flatten the data meaning [(1), (2)] = [1,2]\n",
    "print(np.ravel(results))\n",
    "ptps = list(np.ravel(results))\n",
    "#OR\n",
    "#ptps = [reluts[0] for result in results]\n",
    "\n",
    "fig, ax = plt.subplots()\n",
    "x = range(len(ptps))\n",
    "ax.boxplot(ptps, patch_artist=True)\n",
    "ax.set_title(\"IBM PTPs\")\n",
    "fig.tight_layout()\n",
    "plt.show()"
   ]
  },
  {
   "cell_type": "code",
   "execution_count": null,
   "metadata": {
    "collapsed": true
   },
   "outputs": [],
   "source": [
    "# Load the query into a dataframe, set the index to the date, and plot the ptps\n"
   ]
  },
  {
   "cell_type": "markdown",
   "metadata": {},
   "source": [
    "# Activity 4 Instructor Turn"
   ]
  },
  {
   "cell_type": "code",
   "execution_count": 43,
   "metadata": {},
   "outputs": [
    {
     "name": "stdout",
     "output_type": "stream",
     "text": [
      "Requirement already satisfied: flask in c:\\users\\laura\\anaconda3.1\\lib\\site-packages\n",
      "Requirement already satisfied: Werkzeug>=0.7 in c:\\users\\laura\\anaconda3.1\\lib\\site-packages (from flask)\n",
      "Requirement already satisfied: Jinja2>=2.4 in c:\\users\\laura\\anaconda3.1\\lib\\site-packages (from flask)\n",
      "Requirement already satisfied: itsdangerous>=0.21 in c:\\users\\laura\\anaconda3.1\\lib\\site-packages (from flask)\n",
      "Requirement already satisfied: click>=2.0 in c:\\users\\laura\\anaconda3.1\\lib\\site-packages (from flask)\n",
      "Requirement already satisfied: MarkupSafe>=0.23 in c:\\users\\laura\\anaconda3.1\\lib\\site-packages (from Jinja2>=2.4->flask)\n"
     ]
    },
    {
     "name": "stderr",
     "output_type": "stream",
     "text": [
      "You are using pip version 9.0.1, however version 10.0.1 is available.\n",
      "You should consider upgrading via the 'python -m pip install --upgrade pip' command.\n"
     ]
    }
   ],
   "source": [
    "!pip install flask"
   ]
  },
  {
   "cell_type": "code",
   "execution_count": 44,
   "metadata": {},
   "outputs": [
    {
     "name": "stderr",
     "output_type": "stream",
     "text": [
      " * Restarting with stat\n"
     ]
    },
    {
     "ename": "SystemExit",
     "evalue": "1",
     "output_type": "error",
     "traceback": [
      "An exception has occurred, use %tb to see the full traceback.\n",
      "\u001b[1;31mSystemExit\u001b[0m\u001b[1;31m:\u001b[0m 1\n"
     ]
    },
    {
     "name": "stderr",
     "output_type": "stream",
     "text": [
      "C:\\Users\\Laura\\Anaconda3.1\\lib\\site-packages\\IPython\\core\\interactiveshell.py:2918: UserWarning: To exit: use 'exit', 'quit', or Ctrl-D.\n",
      "  warn(\"To exit: use 'exit', 'quit', or Ctrl-D.\", stacklevel=1)\n"
     ]
    }
   ],
   "source": [
    "# 1. import Flask\n",
    "from flask import Flask\n",
    "\n",
    "# 2. Create an app, being sure to pass __name__\n",
    "app = Flask(__name__)\n",
    "\n",
    "\n",
    "# 3. Define what to do when a user hits the index route\n",
    "@app.route(\"/\")\n",
    "def home():\n",
    "    print(\"Server received request for 'Home' page...\")\n",
    "    return \"Welcome to my 'Home' page!\"\n",
    "\n",
    "\n",
    "# 4. Define what to do when a user hits the /about route\n",
    "@app.route(\"/about\")\n",
    "def about():\n",
    "    print(\"Server received request for 'About' page...\")\n",
    "    return \"Welcome to my 'About' page!\"\n",
    "\n",
    "\n",
    "if __name__ == \"__main__\":\n",
    "    app.run(debug=True)"
   ]
  },
  {
   "cell_type": "code",
   "execution_count": null,
   "metadata": {},
   "outputs": [],
   "source": []
  },
  {
   "cell_type": "markdown",
   "metadata": {},
   "source": [
    "# Students Turn Activity 5 Hello, Web\n",
    "\n",
    "This activity allows students to practice setting up a server and defining basic routes with Flask.\n",
    "\n",
    "## Instructions\n",
    "\n",
    "* Create an `app.py`, and make the necessary imports.\n",
    "\n",
    "* Use Flask to create an `app` instance.\n",
    "\n",
    "* Use route decorators to define the following endpoints:\n",
    "\n",
    "  * `/`, or your **index route**: This should return a simple string, such as `\"Hello, world!\"`, or `\"Welcome to my API!\"`\n",
    "\n",
    "  * `/about`, which should return a string containing your **name** and **current location**.\n",
    "\n",
    "  * `/contact`, which should return a string telling visitors where to email you.\n",
    "\n",
    "* Finally, add code at the bottom of the file that allows you to run the server from the command line with: `python app.py`.\n",
    "\n",
    "## Hints\n",
    "\n",
    "* Refer to the [Flask documentation](http://flask.pocoo.org/docs/0.12/quickstart/#a-minimal-application) as you work through this activity."
   ]
  },
  {
   "cell_type": "markdown",
   "metadata": {},
   "source": [
    "# Instructor Turn Activity 6 "
   ]
  },
  {
   "cell_type": "code",
   "execution_count": null,
   "metadata": {
    "collapsed": true
   },
   "outputs": [],
   "source": [
    "from flask import Flask, jsonify\n",
    "\n",
    "\n",
    "app = Flask(__name__)\n",
    "\n",
    "hello_dict = {\"Hello\": \"World!\"}\n",
    "\n",
    "\n",
    "@app.route(\"/\")\n",
    "def home():\n",
    "    return \"Hi\"\n",
    "\n",
    "\n",
    "@app.route(\"/normal\")\n",
    "def normal():\n",
    "    return hello_dict\n",
    "\n",
    "\n",
    "@app.route(\"/jsonified\")\n",
    "def jsonified():\n",
    "    return jsonify(hello_dict)\n",
    "\n",
    "\n",
    "if __name__ == \"__main__\":\n",
    "    app.run(debug=True)"
   ]
  },
  {
   "cell_type": "markdown",
   "metadata": {},
   "source": [
    "# Students Turn Activity 7 Justice League API\n",
    "\n",
    "* In this activity, you will create an API route that returns the superhero name and real name for every member of the DC Comics Justice League.\n",
    "\n",
    "## Instructions\n",
    "\n",
    "* Create a file called `app.py` for your Flask app.\n",
    "\n",
    "* Define a Python dictionary containing the superhero name and real name for each member of the DC Comics Justice League (Superman, Batman, Wonder Woman, Green Lantern, Flash, Aquaman, and Cyborg).\n",
    "\n",
    "  * You can gather that information here: [Justice League](https://en.wikipedia.org/wiki/Justice_League)\n",
    "\n",
    "  * Only gather the information for the 7 characters listed above.\n",
    "\n",
    "* Create a **GET** route called `/api/v1.0/justice-league`.\n",
    "\n",
    "  * Inside of your GET route, create a function called `justice_league` that will use `jsonify` to convert the dictionary of Justice League members to a JSON object and return that data as a request.\n",
    "\n",
    "* Define a root route `/` that will return the usage statement for your API.\n",
    "\n",
    "- - -\n"
   ]
  },
  {
   "cell_type": "markdown",
   "metadata": {
    "collapsed": true
   },
   "source": [
    "# Instructor Turn Activity 8 "
   ]
  },
  {
   "cell_type": "code",
   "execution_count": null,
   "metadata": {},
   "outputs": [],
   "source": [
    "from flask import Flask, jsonify\n",
    "\n",
    "justice_league_members = [\n",
    "    {\"superhero\": \"Aquaman\", \"real_name\": \"Arthur Curry\"},\n",
    "    {\"superhero\": \"Batman\", \"real_name\": \"Bruce Wayne\"},\n",
    "    {\"superhero\": \"Cyborg\", \"real_name\": \"Victor Stone\"},\n",
    "    {\"superhero\": \"Flash\", \"real_name\": \"Barry Allen\"},\n",
    "    {\"superhero\": \"Green Lantern\", \"real_name\": \"Hal Jordan\"},\n",
    "    {\"superhero\": \"Superman\", \"real_name\": \"Clark Kent/Kal-El\"},\n",
    "    {\"superhero\": \"Wonder Woman\", \"real_name\": \"Princess Diana\"}\n",
    "]\n",
    "\n",
    "#################################################\n",
    "# Flask Setup\n",
    "#################################################\n",
    "app = Flask(__name__)\n",
    "\n",
    "\n",
    "#################################################\n",
    "# Flask Routes\n",
    "#################################################\n",
    "\n",
    "@app.route(\"/api/v1.0/justice-league\")\n",
    "def justice_league():\n",
    "    \"\"\"Return the justice league data as json\"\"\"\n",
    "\n",
    "    return jsonify(justice_league_members)\n",
    "\n",
    "\n",
    "@app.route(\"/\")\n",
    "def welcome():\n",
    "    return (\n",
    "        f\"Welcome to the Justice League API!<br/>\"\n",
    "        f\"Available Routes:<br/>\"\n",
    "        f\"/api/v1.0/justice-league<br/>\"\n",
    "        f\"/api/v1.0/justice-league/Arthur%20Curry<br/>\"\n",
    "        f\"/api/v1.0/justice-league/Bruce%20Wayne<br/>\"\n",
    "        f\"/api/v1.0/justice-league/Victor%20Stone<br/>\"\n",
    "        f\"/api/v1.0/justice-league/Barry%20Allen<br/>\"\n",
    "        f\"/api/v1.0/justice-league/Hal%20Jordan<br/>\"\n",
    "        f\"/api/v1.0/justice-league/Clark%20Kent/Kal-El<br/>\"\n",
    "        f\"/api/v1.0/justice-league/Princess%20Diana\"\n",
    "    )\n",
    "\n",
    "\n",
    "@app.route(\"/api/v1.0/justice-league/<real_name>\")\n",
    "def justice_league_character(real_name):\n",
    "    \"\"\"Fetch the Justice League character whose real_name matches\n",
    "       the path variable supplied by the user, or a 404 if not.\"\"\"\n",
    "\n",
    "    canonicalized = real_name.replace(\" \", \"\").lower()\n",
    "    for character in justice_league_members:\n",
    "        search_term = character[\"real_name\"].replace(\" \", \"\").lower()\n",
    "\n",
    "        if search_term == canonicalized:\n",
    "            return jsonify(character)\n",
    "\n",
    "    return jsonify({\"error\": f\"Character with real_name {real_name} not found.\"}), 404\n",
    "\n",
    "\n",
    "if __name__ == \"__main__\":\n",
    "    app.run(debug=True)"
   ]
  },
  {
   "cell_type": "markdown",
   "metadata": {},
   "source": [
    "# Students Turn Activity 9\n",
    "# Justice League API - Continued\n",
    "\n",
    "* In this activity, you will add an additional API route that returns json for a Python Dictionary containing superhero\n",
    "* /api/v1.0/justice-league/superhero/<theirname>\n",
    "\n",
    "## Instructions\n",
    "\n",
    "* Using the last activity as a starting point, add code to allow for getting a specific hero's information based on their superhero name.\n",
    "\n",
    "- - -"
   ]
  },
  {
   "cell_type": "markdown",
   "metadata": {
    "collapsed": true
   },
   "source": [
    "# Instructor Turn Activity 10\n"
   ]
  },
  {
   "cell_type": "code",
   "execution_count": null,
   "metadata": {},
   "outputs": [],
   "source": [
    "import datetime as dt\n",
    "import numpy as np\n",
    "import pandas as pd\n",
    "\n",
    "import sqlalchemy\n",
    "from sqlalchemy.ext.automap import automap_base\n",
    "from sqlalchemy.orm import Session\n",
    "from sqlalchemy import create_engine, func\n",
    "\n",
    "from flask import Flask, jsonify\n",
    "\n",
    "\n",
    "#################################################\n",
    "# Database Setup\n",
    "#################################################\n",
    "engine = create_engine(\"sqlite:///titanic.sqlite\")\n",
    "\n",
    "# reflect an existing database into a new model\n",
    "Base = automap_base()\n",
    "# reflect the tables\n",
    "Base.prepare(engine, reflect=True)\n",
    "\n",
    "# Save reference to the table\n",
    "Passenger = Base.classes.passenger\n",
    "\n",
    "# Create our session (link) from Python to the DB\n",
    "session = Session(engine)\n",
    "\n",
    "#################################################\n",
    "# Flask Setup\n",
    "#################################################\n",
    "app = Flask(__name__)\n",
    "\n",
    "\n",
    "#################################################\n",
    "# Flask Routes\n",
    "#################################################\n",
    "\n",
    "@app.route(\"/\")\n",
    "def welcome():\n",
    "    \"\"\"List all available api routes.\"\"\"\n",
    "    return (\n",
    "            \"Available Routes:<br/>\"\n",
    "            \"/api/v1.0/names<br/>\"\n",
    "            \"/api/v1.0/passengers\"\n",
    "            )\n",
    "\n",
    "\n",
    "@app.route(\"/api/v1.0/names\")\n",
    "def names():\n",
    "    \"\"\"Return a list of all passenger names\"\"\"\n",
    "    # Query all passengers\n",
    "    results = session.query(Passenger.name).all()\n",
    "    \n",
    "    # Convert list of tuples into normal list\n",
    "    all_names = list(np.ravel(results))\n",
    "    \n",
    "    return jsonify(all_names)\n",
    "\n",
    "\n",
    "@app.route(\"/api/v1.0/passengers\")\n",
    "def passengers():\n",
    "    \"\"\"Return a list of passenger data including the name, age, and sex of each passenger\"\"\"\n",
    "    # Query all passengers\n",
    "    results = session.query(Passenger).all()\n",
    "    \n",
    "    # Create a dictionary from the row data and append to a list of all_passengers\n",
    "    all_passengers = []\n",
    "    for passenger in results:\n",
    "        passenger_dict = {}\n",
    "        passenger_dict[\"name\"] = passenger.name\n",
    "        passenger_dict[\"age\"] = passenger.age\n",
    "        passenger_dict[\"sex\"] = passenger.sex\n",
    "        all_passengers.append(passenger_dict)\n",
    "    \n",
    "    return jsonify(all_passengers)\n",
    "\n",
    "\n",
    "if __name__ == '__main__':\n",
    "    app.run(debug=True)\n"
   ]
  },
  {
   "cell_type": "markdown",
   "metadata": {},
   "source": [
    "# Students Turn Activity 11\n",
    "# Chinook Database Analysis\n",
    "\n",
    "* In this activity, you will complete some exploratory analysis of the [chinook](https://chinookdatabase.codeplex.com/wikipage?title=Chinook_Schema&referringTitle=Home) database.\n",
    "\n",
    "## Instructions\n",
    "\n",
    "* Create a Jupyter Notebook for your analysis.\n",
    "\n",
    "* Create a SQLAlchemy engine to the database `chinook.sqlite`.\n",
    "\n",
    "* Use `automap_base` to reflect the database tables.\n",
    "\n",
    "* Create references to the `invoices` and `invoice_items` tables called `Invoices` and `Items`.\n",
    "\n",
    "* Create a SQLALchemy ORM session object.\n",
    "\n",
    "* Design a query that lists all of the billing countries found in the invoices table.\n",
    "\n",
    "* Design a query that lists the invoices totals for each billing country and sort the output in descending order.\n",
    "\n",
    "  * The results tuple should contain the country name and the invoice total for that country using all records in the invoices table.\n",
    "\n",
    "* Design a query that lists all of the Billing Postal Codes for the USA.\n",
    "\n",
    "* Calculate the Item Totals **sum(UnitPrice \\* Quantity)** for the USA.\n",
    "\n",
    "  * Return the value as a scalar floating point number.\n",
    "\n",
    "* Calculate the invoice items totals **sum(UnitPrice \\* Quantity)** for each Billing Postal Code for the USA."
   ]
  },
  {
   "cell_type": "code",
   "execution_count": 45,
   "metadata": {},
   "outputs": [],
   "source": [
    "# Ignore SQLITE warnings related to Decimal numbers in the Chinook database\n",
    "import warnings\n",
    "warnings.filterwarnings('ignore')"
   ]
  },
  {
   "cell_type": "code",
   "execution_count": 46,
   "metadata": {},
   "outputs": [],
   "source": [
    "# Import Dependencies\n",
    "import datetime as dt\n",
    "import numpy as np\n",
    "import pandas as pd\n",
    "\n",
    "import sqlalchemy\n",
    "from sqlalchemy.ext.automap import automap_base\n",
    "from sqlalchemy.orm import Session\n",
    "from sqlalchemy import create_engine, func\n",
    "\n",
    "from flask import Flask, jsonify"
   ]
  },
  {
   "cell_type": "code",
   "execution_count": 57,
   "metadata": {},
   "outputs": [],
   "source": [
    "# Create an engine for the chinook.sqlite database\n",
    "engine = create_engine(\"sqlite:///./Resources/chinook.sqlite\", echo=False)"
   ]
  },
  {
   "cell_type": "code",
   "execution_count": 60,
   "metadata": {},
   "outputs": [
    {
     "data": {
      "text/plain": [
       "['albums',\n",
       " 'artists',\n",
       " 'customers',\n",
       " 'employees',\n",
       " 'genres',\n",
       " 'invoice_items',\n",
       " 'invoices',\n",
       " 'tracks',\n",
       " 'media_types',\n",
       " 'playlists']"
      ]
     },
     "execution_count": 60,
     "metadata": {},
     "output_type": "execute_result"
    }
   ],
   "source": [
    "# Reflect Database into ORM classes\n",
    "Base = automap_base()\n",
    "# reflect the tables\n",
    "Base.prepare(engine, reflect=True)\n",
    "Base.classes.keys()"
   ]
  },
  {
   "cell_type": "code",
   "execution_count": 61,
   "metadata": {},
   "outputs": [],
   "source": [
    "# Save a reference to the invoices table as `Invoices`\n",
    "Invoices = Base.classes.invoices"
   ]
  },
  {
   "cell_type": "code",
   "execution_count": 62,
   "metadata": {},
   "outputs": [],
   "source": [
    "# Create a database session object\n",
    "session = Session(engine)"
   ]
  },
  {
   "cell_type": "code",
   "execution_count": 73,
   "metadata": {},
   "outputs": [
    {
     "data": {
      "text/plain": [
       "[('Argentina'),\n",
       " ('Australia'),\n",
       " ('Austria'),\n",
       " ('Belgium'),\n",
       " ('Brazil'),\n",
       " ('Canada'),\n",
       " ('Chile'),\n",
       " ('Czech Republic'),\n",
       " ('Denmark'),\n",
       " ('Finland'),\n",
       " ('France'),\n",
       " ('Germany'),\n",
       " ('Hungary'),\n",
       " ('India'),\n",
       " ('Ireland'),\n",
       " ('Italy'),\n",
       " ('Netherlands'),\n",
       " ('Norway'),\n",
       " ('Poland'),\n",
       " ('Portugal'),\n",
       " ('Spain'),\n",
       " ('Sweden'),\n",
       " ('USA'),\n",
       " ('United Kingdom')]"
      ]
     },
     "execution_count": 73,
     "metadata": {},
     "output_type": "execute_result"
    }
   ],
   "source": [
    "# List all of the countries found in the invoices table\n",
    "session.query(Invoices.BillingCountry).group_by(Invoices.BillingCountry).all()"
   ]
  },
  {
   "cell_type": "code",
   "execution_count": 77,
   "metadata": {},
   "outputs": [
    {
     "data": {
      "text/plain": [
       "[('Belgium', Decimal('37.62')),\n",
       " ('Spain', Decimal('37.62')),\n",
       " ('Argentina', Decimal('37.62')),\n",
       " ('Australia', Decimal('37.62')),\n",
       " ('Denmark', Decimal('37.62')),\n",
       " ('Italy', Decimal('37.62')),\n",
       " ('Poland', Decimal('37.62')),\n",
       " ('Sweden', Decimal('38.62')),\n",
       " ('Norway', Decimal('39.62')),\n",
       " ('Netherlands', Decimal('40.62')),\n",
       " ('Finland', Decimal('41.62')),\n",
       " ('Austria', Decimal('42.62')),\n",
       " ('Hungary', Decimal('45.62')),\n",
       " ('Ireland', Decimal('45.62')),\n",
       " ('Chile', Decimal('46.62')),\n",
       " ('India', Decimal('75.26')),\n",
       " ('Portugal', Decimal('77.24')),\n",
       " ('Czech Republic', Decimal('90.24')),\n",
       " ('United Kingdom', Decimal('112.86')),\n",
       " ('Germany', Decimal('156.48')),\n",
       " ('Brazil', Decimal('190.10')),\n",
       " ('France', Decimal('195.10')),\n",
       " ('Canada', Decimal('303.96')),\n",
       " ('USA', Decimal('523.06'))]"
      ]
     },
     "execution_count": 77,
     "metadata": {},
     "output_type": "execute_result"
    }
   ],
   "source": [
    "# Design a query that lists the invoices totals for each billing country \n",
    "# and sort the output in descending order.\n",
    "session.query(Invoices.BillingCountry, func.sum(Invoices.Total)).\\\n",
    "    group_by(Invoices.BillingCountry).\\\n",
    "    order_by(func.sum(Invoices.Total)).all()"
   ]
  },
  {
   "cell_type": "code",
   "execution_count": 80,
   "metadata": {},
   "outputs": [],
   "source": [
    "# Save a reference to the invoice_items table as `Items`\n",
    "Items = Base.classes.invoice_items"
   ]
  },
  {
   "cell_type": "code",
   "execution_count": 82,
   "metadata": {},
   "outputs": [
    {
     "data": {
      "text/plain": [
       "[('10012-2612'),\n",
       " ('2113'),\n",
       " ('32801'),\n",
       " ('53703'),\n",
       " ('60611'),\n",
       " ('76110'),\n",
       " ('84102'),\n",
       " ('85719'),\n",
       " ('89503'),\n",
       " ('94040-111'),\n",
       " ('94043-1351'),\n",
       " ('95014'),\n",
       " ('98052-8300')]"
      ]
     },
     "execution_count": 82,
     "metadata": {},
     "output_type": "execute_result"
    }
   ],
   "source": [
    "# List all of the Billing Postal Codes for the USA.\n",
    "session.query(Invoices.BillingPostalCode).\\\n",
    "    filter(Invoices.BillingCountry == \"USA\").group_by(Invoices.BillingPostalCode).all()"
   ]
  },
  {
   "cell_type": "code",
   "execution_count": 83,
   "metadata": {},
   "outputs": [
    {
     "data": {
      "text/plain": [
       "Decimal('523.0600000000')"
      ]
     },
     "execution_count": 83,
     "metadata": {},
     "output_type": "execute_result"
    }
   ],
   "source": [
    "# Calculate the Item Totals (sum(UnitPrice * Quantity)) for the USA\n",
    "session.query(func.sum(Items.UnitPrice * Items.Quantity)).\\\n",
    "    filter(Invoices.InvoiceId == Items.InvoiceId).\\\n",
    "    filter(Invoices.BillingCountry == \"USA\").scalar() #scalar returns first column of row"
   ]
  },
  {
   "cell_type": "code",
   "execution_count": 89,
   "metadata": {},
   "outputs": [
    {
     "data": {
      "text/plain": [
       "[('76110', Decimal('47.6200000000')),\n",
       " ('60611', Decimal('43.6200000000')),\n",
       " ('84102', Decimal('43.6200000000')),\n",
       " ('53703', Decimal('42.6200000000')),\n",
       " ('94040-111', Decimal('39.6200000000')),\n",
       " ('32801', Decimal('39.6200000000')),\n",
       " ('98052-8300', Decimal('39.6200000000')),\n",
       " ('95014', Decimal('38.6200000000')),\n",
       " ('10012-2612', Decimal('37.6200000000')),\n",
       " ('2113', Decimal('37.6200000000')),\n",
       " ('85719', Decimal('37.6200000000')),\n",
       " ('89503', Decimal('37.6200000000')),\n",
       " ('94043-1351', Decimal('37.6200000000'))]"
      ]
     },
     "execution_count": 89,
     "metadata": {},
     "output_type": "execute_result"
    }
   ],
   "source": [
    "# Calculate the Item Totals `sum(UnitPrice * Quantity)` for each Billing Postal Code in the USA\n",
    "# Sort the results in descending order by Total\n",
    "session.query(Invoices.BillingPostalCode, func.sum(Items.UnitPrice * Items.Quantity)).\\\n",
    "    filter(Invoices.InvoiceId == Items.InvoiceId).\\\n",
    "    filter(Invoices.BillingCountry == \"USA\").\\\n",
    "    group_by(Invoices.BillingPostalCode).\\\n",
    "    order_by(func.sum(Items.UnitPrice * Items.Quantity).desc()).all()"
   ]
  },
  {
   "cell_type": "code",
   "execution_count": null,
   "metadata": {
    "collapsed": true
   },
   "outputs": [],
   "source": []
  }
 ],
 "metadata": {
  "kernelspec": {
   "display_name": "Python 3",
   "language": "python",
   "name": "python3"
  },
  "language_info": {
   "codemirror_mode": {
    "name": "ipython",
    "version": 3
   },
   "file_extension": ".py",
   "mimetype": "text/x-python",
   "name": "python",
   "nbconvert_exporter": "python",
   "pygments_lexer": "ipython3",
   "version": "3.6.4"
  }
 },
 "nbformat": 4,
 "nbformat_minor": 2
}
